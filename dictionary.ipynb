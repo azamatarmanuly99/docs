{
  "nbformat": 4,
  "nbformat_minor": 0,
  "metadata": {
    "colab": {
      "provenance": [],
      "authorship_tag": "ABX9TyN2pLkp/FuF6CuwnWLGAWyb",
      "include_colab_link": true
    },
    "kernelspec": {
      "name": "python3",
      "display_name": "Python 3"
    },
    "language_info": {
      "name": "python"
    }
  },
  "cells": [
    {
      "cell_type": "markdown",
      "metadata": {
        "id": "view-in-github",
        "colab_type": "text"
      },
      "source": [
        "<a href=\"https://colab.research.google.com/github/azamatarmanuly99/docs/blob/main/dictionary.ipynb\" target=\"_parent\"><img src=\"https://colab.research.google.com/assets/colab-badge.svg\" alt=\"Open In Colab\"/></a>"
      ]
    },
    {
      "cell_type": "code",
      "execution_count": null,
      "metadata": {
        "colab": {
          "base_uri": "https://localhost:8080/"
        },
        "id": "1_rx3m6n8Mjq",
        "outputId": "86095bb1-85e3-4fa3-871d-4013ce0a234d"
      },
      "outputs": [
        {
          "output_type": "execute_result",
          "data": {
            "text/plain": [
              "{'Carlsen': 2842,\n",
              " 'Caruano': 2822,\n",
              " 'Mamedyarov': 2801,\n",
              " 'Ding': 2797,\n",
              " 'Giri': 2780}"
            ]
          },
          "metadata": {},
          "execution_count": 1
        }
      ],
      "source": [
        "players = { 'Carlsen': 2842,\n",
        "           'Caruano': 2822,\n",
        "            'Mamedyarov': 2801,\n",
        "            'Ding': 2797,\n",
        "            'Giri': 2780\n",
        "            }\n",
        "players = dict(Carlsen=2842, Caruano=2822, Mamedyarov=2801, Ding=2797, Giri=2780)\n",
        "players"
      ]
    },
    {
      "cell_type": "code",
      "source": [],
      "metadata": {
        "id": "FZBU4zdiKkMi"
      },
      "execution_count": null,
      "outputs": []
    },
    {
      "cell_type": "code",
      "source": [
        "top1 = players['Carlsen']\n",
        "print(f\"top chess player's rating is {top1}\")\n"
      ],
      "metadata": {
        "colab": {
          "base_uri": "https://localhost:8080/"
        },
        "id": "f5VR6nHrDx-e",
        "outputId": "8461a443-b04f-4055-f3c1-65d70936bc8b"
      },
      "execution_count": null,
      "outputs": [
        {
          "output_type": "stream",
          "name": "stdout",
          "text": [
            "top chess player's rating is 2842\n"
          ]
        }
      ]
    },
    {
      "cell_type": "code",
      "source": [
        "players.get('Carlsen')"
      ],
      "metadata": {
        "colab": {
          "base_uri": "https://localhost:8080/"
        },
        "id": "lpFUyxdTEZHq",
        "outputId": "ff571b31-cae9-4c48-fcb7-9711eeafb16a"
      },
      "execution_count": null,
      "outputs": [
        {
          "output_type": "execute_result",
          "data": {
            "text/plain": [
              "2842"
            ]
          },
          "metadata": {},
          "execution_count": 4
        }
      ]
    },
    {
      "cell_type": "code",
      "source": [
        "players['So'] = 2780\n",
        "players"
      ],
      "metadata": {
        "colab": {
          "base_uri": "https://localhost:8080/"
        },
        "id": "j0ZtunOOEo-m",
        "outputId": "933f8ca2-f921-4d59-a712-71f95941ead4"
      },
      "execution_count": null,
      "outputs": [
        {
          "output_type": "execute_result",
          "data": {
            "text/plain": [
              "{'Carlsen': 2842,\n",
              " 'Caruano': 2822,\n",
              " 'Mamedyarov': 2801,\n",
              " 'Ding': 2797,\n",
              " 'Giri': 2780,\n",
              " 'So': 2780}"
            ]
          },
          "metadata": {},
          "execution_count": 5
        }
      ]
    },
    {
      "cell_type": "code",
      "source": [
        "players['So'] = 2781\n",
        "players"
      ],
      "metadata": {
        "colab": {
          "base_uri": "https://localhost:8080/"
        },
        "id": "ASQ9ChTuE-2p",
        "outputId": "4fa7fcc4-2676-4a87-cbbd-26d707ec3ae8"
      },
      "execution_count": null,
      "outputs": [
        {
          "output_type": "execute_result",
          "data": {
            "text/plain": [
              "{'Carlsen': 2842,\n",
              " 'Caruano': 2822,\n",
              " 'Mamedyarov': 2801,\n",
              " 'Ding': 2797,\n",
              " 'Giri': 2780,\n",
              " 'So': 2781}"
            ]
          },
          "metadata": {},
          "execution_count": 6
        }
      ]
    },
    {
      "cell_type": "code",
      "source": [
        "del players['So']\n",
        "players"
      ],
      "metadata": {
        "colab": {
          "base_uri": "https://localhost:8080/"
        },
        "id": "K0BqLpAmFOzc",
        "outputId": "6f04c561-eaac-49f7-d7e1-261aec17d5aa"
      },
      "execution_count": null,
      "outputs": [
        {
          "output_type": "execute_result",
          "data": {
            "text/plain": [
              "{'Carlsen': 2842,\n",
              " 'Caruano': 2822,\n",
              " 'Mamedyarov': 2801,\n",
              " 'Ding': 2797,\n",
              " 'Giri': 2780}"
            ]
          },
          "metadata": {},
          "execution_count": 7
        }
      ]
    },
    {
      "cell_type": "code",
      "source": [
        "key = players.keys()\n",
        "print(type(key))\n",
        "print(key)"
      ],
      "metadata": {
        "colab": {
          "base_uri": "https://localhost:8080/"
        },
        "id": "SS-OuKbaFUJ5",
        "outputId": "c13f2d0b-0bfa-4765-dbb2-f97950186c2c"
      },
      "execution_count": null,
      "outputs": [
        {
          "output_type": "stream",
          "name": "stdout",
          "text": [
            "<class 'dict_keys'>\n",
            "dict_keys(['Carlsen', 'Caruano', 'Mamedyarov', 'Ding', 'Giri'])\n"
          ]
        }
      ]
    },
    {
      "cell_type": "code",
      "source": [
        "l = list(players.keys())\n",
        "print(type(list))\n",
        "print(l)"
      ],
      "metadata": {
        "colab": {
          "base_uri": "https://localhost:8080/"
        },
        "id": "n26zjmusGjuh",
        "outputId": "8ba2c775-ed66-438b-f27f-6cb83667ff31"
      },
      "execution_count": null,
      "outputs": [
        {
          "output_type": "stream",
          "name": "stdout",
          "text": [
            "<class 'type'>\n",
            "['Carlsen', 'Caruano', 'Mamedyarov', 'Ding', 'Giri']\n"
          ]
        }
      ]
    },
    {
      "cell_type": "code",
      "source": [
        "sorted(players.keys())"
      ],
      "metadata": {
        "colab": {
          "base_uri": "https://localhost:8080/"
        },
        "id": "CWcYYr7XGtNl",
        "outputId": "fccb92cb-d4e7-4eec-f106-1a5ff23b060b"
      },
      "execution_count": null,
      "outputs": [
        {
          "output_type": "execute_result",
          "data": {
            "text/plain": [
              "['Carlsen', 'Caruano', 'Ding', 'Giri', 'Mamedyarov']"
            ]
          },
          "metadata": {},
          "execution_count": 13
        }
      ]
    },
    {
      "cell_type": "code",
      "source": [
        "print('Carlsen' in players)\n",
        "print('Kramnik' in players)"
      ],
      "metadata": {
        "colab": {
          "base_uri": "https://localhost:8080/"
        },
        "id": "wM9a2Nu-HRuL",
        "outputId": "78b0a78d-c7b2-4d28-daa6-f598c32491e0"
      },
      "execution_count": null,
      "outputs": [
        {
          "output_type": "stream",
          "name": "stdout",
          "text": [
            "True\n",
            "False\n"
          ]
        }
      ]
    },
    {
      "cell_type": "code",
      "source": [
        "vals = players.values()\n",
        "print(type(vals))\n",
        "print(vals)"
      ],
      "metadata": {
        "colab": {
          "base_uri": "https://localhost:8080/"
        },
        "id": "PTgUDqmjHpln",
        "outputId": "8e5c8c9e-7734-47b0-dad4-741907a8919a"
      },
      "execution_count": null,
      "outputs": [
        {
          "output_type": "stream",
          "name": "stdout",
          "text": [
            "<class 'dict_values'>\n",
            "dict_values([2842, 2822, 2801, 2797, 2780])\n"
          ]
        }
      ]
    },
    {
      "cell_type": "code",
      "source": [
        "vals = list(players.values())\n",
        "print(type(vals))\n",
        "print(vals)"
      ],
      "metadata": {
        "colab": {
          "base_uri": "https://localhost:8080/"
        },
        "id": "W_GIjFs-H-bW",
        "outputId": "24b47060-e67c-4ed3-ef7c-6a8237c4eebf"
      },
      "execution_count": null,
      "outputs": [
        {
          "output_type": "stream",
          "name": "stdout",
          "text": [
            "<class 'list'>\n",
            "[2842, 2822, 2801, 2797, 2780]\n"
          ]
        }
      ]
    },
    {
      "cell_type": "code",
      "source": [
        "sorted(players.values())"
      ],
      "metadata": {
        "colab": {
          "base_uri": "https://localhost:8080/"
        },
        "id": "igtOAbKyIOhj",
        "outputId": "c9c3059c-83c0-4cfa-f3f2-4a6026c2a244"
      },
      "execution_count": null,
      "outputs": [
        {
          "output_type": "execute_result",
          "data": {
            "text/plain": [
              "[2780, 2797, 2801, 2822, 2842]"
            ]
          },
          "metadata": {},
          "execution_count": 18
        }
      ]
    },
    {
      "cell_type": "code",
      "source": [
        "players_copy = players.copy()\n",
        "print(players_copy)"
      ],
      "metadata": {
        "colab": {
          "base_uri": "https://localhost:8080/"
        },
        "id": "PEDKiDMFIbo2",
        "outputId": "d7d2fac4-4d55-4f64-9f69-c4673c78bb91"
      },
      "execution_count": null,
      "outputs": [
        {
          "output_type": "stream",
          "name": "stdout",
          "text": [
            "{'Carlsen': 2842, 'Caruano': 2822, 'Mamedyarov': 2801, 'Ding': 2797, 'Giri': 2780}\n"
          ]
        }
      ]
    },
    {
      "cell_type": "code",
      "source": [
        "for k,v in players.items():\n",
        "  print(k,v)"
      ],
      "metadata": {
        "colab": {
          "base_uri": "https://localhost:8080/"
        },
        "id": "j1nygFbzI6Xu",
        "outputId": "5130f649-3aed-4a1f-d065-4ad913efa2cf"
      },
      "execution_count": null,
      "outputs": [
        {
          "output_type": "stream",
          "name": "stdout",
          "text": [
            "Carlsen 2842\n",
            "Caruano 2822\n",
            "Mamedyarov 2801\n",
            "Ding 2797\n",
            "Giri 2780\n"
          ]
        }
      ]
    },
    {
      "cell_type": "code",
      "source": [
        "items = players.items()\n",
        "print(type(items))"
      ],
      "metadata": {
        "colab": {
          "base_uri": "https://localhost:8080/"
        },
        "id": "gtL9k8nDJOoq",
        "outputId": "a107c9b0-24dd-4050-ac67-182c44e271b7"
      },
      "execution_count": null,
      "outputs": [
        {
          "output_type": "stream",
          "name": "stdout",
          "text": [
            "<class 'dict_items'>\n"
          ]
        }
      ]
    },
    {
      "cell_type": "code",
      "source": [
        "players.pop('Giri')\n",
        "print(players)"
      ],
      "metadata": {
        "colab": {
          "base_uri": "https://localhost:8080/"
        },
        "id": "fZ-F9u_fJhKn",
        "outputId": "d18c5270-f41e-49cb-cca0-e9051421d5fe"
      },
      "execution_count": null,
      "outputs": [
        {
          "output_type": "stream",
          "name": "stdout",
          "text": [
            "{'Carlsen': 2842, 'Caruano': 2822, 'Mamedyarov': 2801, 'Ding': 2797}\n"
          ]
        }
      ]
    },
    {
      "cell_type": "code",
      "source": [
        "print(players.popitem())\n",
        "print(players)"
      ],
      "metadata": {
        "colab": {
          "base_uri": "https://localhost:8080/"
        },
        "id": "i7-QWUziJ1KQ",
        "outputId": "740b4449-9b8a-4a47-d338-301876face8c"
      },
      "execution_count": null,
      "outputs": [
        {
          "output_type": "stream",
          "name": "stdout",
          "text": [
            "('Ding', 2797)\n",
            "{'Carlsen': 2842, 'Caruano': 2822, 'Mamedyarov': 2801}\n"
          ]
        }
      ]
    },
    {
      "cell_type": "code",
      "source": [
        "len(players)"
      ],
      "metadata": {
        "colab": {
          "base_uri": "https://localhost:8080/"
        },
        "id": "4U2GKxFkKBn9",
        "outputId": "4312885c-453c-4673-8c4b-d69c6b36eece"
      },
      "execution_count": null,
      "outputs": [
        {
          "output_type": "execute_result",
          "data": {
            "text/plain": [
              "3"
            ]
          },
          "metadata": {},
          "execution_count": 26
        }
      ]
    },
    {
      "cell_type": "code",
      "source": [
        "players.setdefault('Karjakin')\n",
        "players"
      ],
      "metadata": {
        "colab": {
          "base_uri": "https://localhost:8080/"
        },
        "id": "KquJyuIfKETw",
        "outputId": "9146d8e8-db4c-4ca7-ea0e-3185104a9a6a"
      },
      "execution_count": null,
      "outputs": [
        {
          "output_type": "execute_result",
          "data": {
            "text/plain": [
              "{'Carlsen': 2842, 'Caruano': 2822, 'Mamedyarov': 2801, 'Karjakin': None}"
            ]
          },
          "metadata": {},
          "execution_count": 27
        }
      ]
    },
    {
      "cell_type": "code",
      "source": [
        "dict1 = {}\n",
        "dict1['a'] = 'A'\n",
        "dict1['b'] = 'B'\n",
        "dict1['c'] = 'C'\n",
        "\n",
        "dict2 = {}\n",
        "dict2['b'] = 'B'\n",
        "dict2['a'] = 'A'\n",
        "dict2['c'] = 'C'\n",
        "\n",
        "dict3 = {}\n",
        "dict3['a'] = 'A'\n",
        "dict3['b'] = 'B'\n",
        "dict3['c'] = 'C'"
      ],
      "metadata": {
        "id": "HaA0YqiDKnpB"
      },
      "execution_count": 1,
      "outputs": []
    },
    {
      "cell_type": "code",
      "source": [
        "print(dict1==dict2)\n",
        "print(dict2==dict3)"
      ],
      "metadata": {
        "colab": {
          "base_uri": "https://localhost:8080/"
        },
        "id": "YBoeE85pLlFU",
        "outputId": "171f5efd-7d0d-48e6-cdf4-363484e1148b"
      },
      "execution_count": 3,
      "outputs": [
        {
          "output_type": "stream",
          "name": "stdout",
          "text": [
            "True\n",
            "True\n"
          ]
        }
      ]
    },
    {
      "cell_type": "code",
      "source": [
        "for k, v in dict1.items():\n",
        "  print(k,v)"
      ],
      "metadata": {
        "colab": {
          "base_uri": "https://localhost:8080/"
        },
        "id": "15T1AEHIMIdb",
        "outputId": "902b6bd8-b8c7-45d3-88d1-cc14e14c3c03"
      },
      "execution_count": 4,
      "outputs": [
        {
          "output_type": "stream",
          "name": "stdout",
          "text": [
            "a A\n",
            "b B\n",
            "c C\n"
          ]
        }
      ]
    },
    {
      "cell_type": "code",
      "source": [
        "from collections import OrderedDict"
      ],
      "metadata": {
        "id": "2bgWdpSOMnIF"
      },
      "execution_count": 6,
      "outputs": []
    },
    {
      "cell_type": "code",
      "source": [
        "dict1 = OrderedDict()\n",
        "dict1['a'] = 'A'\n",
        "dict1['b'] = 'B'\n",
        "dict1['c'] = 'C'\n",
        "\n",
        "dict2 = OrderedDict()\n",
        "dict2['b'] = 'B'\n",
        "dict2['a'] = 'A'\n",
        "dict2['c'] = 'C'\n",
        "\n",
        "dict3 = OrderedDict()\n",
        "dict3['a'] = 'A'\n",
        "dict3['b'] = 'B'\n",
        "dict3['c'] = 'C'"
      ],
      "metadata": {
        "id": "YM59f-yIM55l"
      },
      "execution_count": 7,
      "outputs": []
    },
    {
      "cell_type": "code",
      "source": [
        "print(dict1==dict2)\n",
        "print(dict2==dict3)"
      ],
      "metadata": {
        "colab": {
          "base_uri": "https://localhost:8080/"
        },
        "id": "BrGzLOtgNNWN",
        "outputId": "9937ea82-6071-433a-d60e-2b25f781fcf9"
      },
      "execution_count": 8,
      "outputs": [
        {
          "output_type": "stream",
          "name": "stdout",
          "text": [
            "False\n",
            "False\n"
          ]
        }
      ]
    },
    {
      "cell_type": "code",
      "source": [
        "person = ('John', 'Silver', 22)\n",
        "type(person)"
      ],
      "metadata": {
        "colab": {
          "base_uri": "https://localhost:8080/"
        },
        "id": "QBqe8tTOOC75",
        "outputId": "01d9f914-fa69-4e1c-c3c3-c9986433746a"
      },
      "execution_count": 10,
      "outputs": [
        {
          "output_type": "execute_result",
          "data": {
            "text/plain": [
              "tuple"
            ]
          },
          "metadata": {},
          "execution_count": 10
        }
      ]
    },
    {
      "cell_type": "code",
      "source": [
        "person_info = ['John', 'Silver', 22]\n",
        "type(person_info)"
      ],
      "metadata": {
        "colab": {
          "base_uri": "https://localhost:8080/"
        },
        "id": "RYfLpTM-OYG3",
        "outputId": "7ea8fe24-2402-4db0-e84e-17e79d0cc943"
      },
      "execution_count": 11,
      "outputs": [
        {
          "output_type": "execute_result",
          "data": {
            "text/plain": [
              "list"
            ]
          },
          "metadata": {},
          "execution_count": 11
        }
      ]
    },
    {
      "cell_type": "code",
      "source": [
        "len(person)"
      ],
      "metadata": {
        "colab": {
          "base_uri": "https://localhost:8080/"
        },
        "id": "TsoMLkO7O3Is",
        "outputId": "176e7d89-d4ee-4550-c41c-676833e812db"
      },
      "execution_count": 12,
      "outputs": [
        {
          "output_type": "execute_result",
          "data": {
            "text/plain": [
              "3"
            ]
          },
          "metadata": {},
          "execution_count": 12
        }
      ]
    },
    {
      "cell_type": "code",
      "source": [
        "print(person[0])\n",
        "print(person[-1])"
      ],
      "metadata": {
        "colab": {
          "base_uri": "https://localhost:8080/"
        },
        "id": "8JXEDHgyPHYV",
        "outputId": "f995bfb6-d943-4a25-cd32-cd1ccfc23eca"
      },
      "execution_count": 13,
      "outputs": [
        {
          "output_type": "stream",
          "name": "stdout",
          "text": [
            "John\n",
            "22\n"
          ]
        }
      ]
    },
    {
      "cell_type": "code",
      "source": [
        "person_info[0] = 'Bob'\n",
        "person_info"
      ],
      "metadata": {
        "colab": {
          "base_uri": "https://localhost:8080/"
        },
        "id": "LRD1OH8MPbYD",
        "outputId": "80def173-1a43-4b87-c9c7-1e756ab8194c"
      },
      "execution_count": 14,
      "outputs": [
        {
          "output_type": "execute_result",
          "data": {
            "text/plain": [
              "['Bob', 'Silver', 22]"
            ]
          },
          "metadata": {},
          "execution_count": 14
        }
      ]
    },
    {
      "cell_type": "code",
      "source": [
        "person.count('John')"
      ],
      "metadata": {
        "colab": {
          "base_uri": "https://localhost:8080/"
        },
        "id": "qXdkYmfFP1g9",
        "outputId": "df45f1b0-3dc7-45ab-a5a0-c018174e2583"
      },
      "execution_count": 15,
      "outputs": [
        {
          "output_type": "execute_result",
          "data": {
            "text/plain": [
              "1"
            ]
          },
          "metadata": {},
          "execution_count": 15
        }
      ]
    },
    {
      "cell_type": "code",
      "source": [
        "person.index('John')"
      ],
      "metadata": {
        "colab": {
          "base_uri": "https://localhost:8080/"
        },
        "id": "DVmstRAUP-iZ",
        "outputId": "2c75a8b1-d1a5-4b3f-b3e8-767269d6547f"
      },
      "execution_count": 16,
      "outputs": [
        {
          "output_type": "execute_result",
          "data": {
            "text/plain": [
              "0"
            ]
          },
          "metadata": {},
          "execution_count": 16
        }
      ]
    },
    {
      "cell_type": "code",
      "source": [
        "players = [('Carlsen', 1990, 2842), ('Caruana', 1992, 2822), ('Mamedyarov', 1985, 2801)]\n",
        "print(players[0])"
      ],
      "metadata": {
        "colab": {
          "base_uri": "https://localhost:8080/"
        },
        "id": "beqnebmLQZlt",
        "outputId": "c46ba229-33f6-432f-dc5b-61f6887c4a8c"
      },
      "execution_count": 17,
      "outputs": [
        {
          "output_type": "stream",
          "name": "stdout",
          "text": [
            "('Carlsen', 1990, 2842)\n"
          ]
        }
      ]
    },
    {
      "cell_type": "code",
      "source": [
        "from collections import namedtuple"
      ],
      "metadata": {
        "id": "BiFMpNWkRDWF"
      },
      "execution_count": 18,
      "outputs": []
    },
    {
      "cell_type": "code",
      "source": [
        "Player = namedtuple('Player', 'name age rating')"
      ],
      "metadata": {
        "id": "MdqhCLPLRZ9z"
      },
      "execution_count": 20,
      "outputs": []
    },
    {
      "cell_type": "code",
      "source": [
        "players = [Player('Carlsen', 1990, 2842), Player('Caruana', 1992, 2822), Player('Mamedyarov', 1985, 2801)]"
      ],
      "metadata": {
        "id": "g6QlY5doSFQn"
      },
      "execution_count": 21,
      "outputs": []
    },
    {
      "cell_type": "code",
      "source": [
        "players[0]"
      ],
      "metadata": {
        "colab": {
          "base_uri": "https://localhost:8080/"
        },
        "id": "mv27z2O1STgC",
        "outputId": "f57bbcaa-3251-4056-d178-a6309425d3ba"
      },
      "execution_count": 23,
      "outputs": [
        {
          "output_type": "execute_result",
          "data": {
            "text/plain": [
              "Player(name='Carlsen', age=1990, rating=2842)"
            ]
          },
          "metadata": {},
          "execution_count": 23
        }
      ]
    },
    {
      "cell_type": "code",
      "source": [
        "players[-1]"
      ],
      "metadata": {
        "colab": {
          "base_uri": "https://localhost:8080/"
        },
        "id": "DEn7AZPuScP7",
        "outputId": "ce2e0205-d83e-433a-bd7b-3cdc7abc14f0"
      },
      "execution_count": 24,
      "outputs": [
        {
          "output_type": "execute_result",
          "data": {
            "text/plain": [
              "Player(name='Mamedyarov', age=1985, rating=2801)"
            ]
          },
          "metadata": {},
          "execution_count": 24
        }
      ]
    },
    {
      "cell_type": "code",
      "source": [
        "players[0].name"
      ],
      "metadata": {
        "colab": {
          "base_uri": "https://localhost:8080/",
          "height": 36
        },
        "id": "MONpi7CeSpkn",
        "outputId": "4e03522a-07ef-47cb-be2d-5475ac3b3859"
      },
      "execution_count": 25,
      "outputs": [
        {
          "output_type": "execute_result",
          "data": {
            "text/plain": [
              "'Carlsen'"
            ],
            "application/vnd.google.colaboratory.intrinsic+json": {
              "type": "string"
            }
          },
          "metadata": {},
          "execution_count": 25
        }
      ]
    },
    {
      "cell_type": "code",
      "source": [
        "p1 = Player('Carlsen', 1990, 2842)\n",
        "print(p1.name)\n",
        "print(p1.age)\n",
        "print(p1.rating)"
      ],
      "metadata": {
        "colab": {
          "base_uri": "https://localhost:8080/"
        },
        "id": "_a96AwEuTEJS",
        "outputId": "2a9e02fe-4427-4499-ae01-215a0ae220b9"
      },
      "execution_count": 27,
      "outputs": [
        {
          "output_type": "stream",
          "name": "stdout",
          "text": [
            "Carlsen\n",
            "1990\n",
            "2842\n"
          ]
        }
      ]
    },
    {
      "cell_type": "code",
      "source": [],
      "metadata": {
        "id": "No5Qs9glTdf-"
      },
      "execution_count": null,
      "outputs": []
    }
  ]
}