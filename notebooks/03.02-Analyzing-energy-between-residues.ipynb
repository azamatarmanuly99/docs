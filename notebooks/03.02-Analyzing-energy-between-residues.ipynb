{
  "cells": [
    {
      "cell_type": "markdown",
      "metadata": {
        "id": "view-in-github",
        "colab_type": "text"
      },
      "source": [
        "<a href=\"https://colab.research.google.com/github/azamatarmanuly99/docs/blob/main/notebooks/03.02-Analyzing-energy-between-residues.ipynb\" target=\"_parent\"><img src=\"https://colab.research.google.com/assets/colab-badge.svg\" alt=\"Open In Colab\"/></a>"
      ]
    },
    {
      "cell_type": "markdown",
      "metadata": {
        "id": "0l_Q6SWwo7gI"
      },
      "source": [
        "<!--NOTEBOOK_HEADER-->\n",
        "*This notebook contains material from [PyRosetta](https://RosettaCommons.github.io/PyRosetta.notebooks);\n",
        "content is available [on Github](https://github.com/RosettaCommons/PyRosetta.notebooks.git).*"
      ]
    },
    {
      "cell_type": "markdown",
      "metadata": {
        "id": "hqY3NyXHo7gN"
      },
      "source": [
        "<!--NAVIGATION-->\n",
        "< [Score Function Basics](http://nbviewer.jupyter.org/github/RosettaCommons/PyRosetta.notebooks/blob/master/notebooks/03.01-Score-Function-Basics.ipynb) | [Contents](toc.ipynb) | [Index](index.ipynb) | [Energies and the PyMOL Mover](http://nbviewer.jupyter.org/github/RosettaCommons/PyRosetta.notebooks/blob/master/notebooks/03.03-Energies-and-the-PyMOLMover.ipynb) ><p><a href=\"https://colab.research.google.com/github/RosettaCommons/PyRosetta.notebooks/blob/master/notebooks/03.02-Analyzing-energy-between-residues.ipynb\"><img align=\"left\" src=\"https://colab.research.google.com/assets/colab-badge.svg\" alt=\"Open in Colab\" title=\"Open in Google Colaboratory\"></a>"
      ]
    },
    {
      "cell_type": "markdown",
      "metadata": {
        "nbgrader": {
          "grade": false,
          "grade_id": "cell-c32668370dae07d5",
          "locked": true,
          "schema_version": 3,
          "solution": false
        },
        "id": "hVaTZeJXo7gO"
      },
      "source": [
        "# Practice: Analyzing energy between residues\n",
        "Keywords: pose_from_rcsb(), pdb2pose(), EMapVector()"
      ]
    },
    {
      "cell_type": "code",
      "execution_count": 1,
      "metadata": {
        "id": "qaLmzXc_o7gP",
        "outputId": "322fcf06-adea-48ab-f027-e11d50ad43e4",
        "colab": {
          "base_uri": "https://localhost:8080/"
        }
      },
      "outputs": [
        {
          "output_type": "stream",
          "name": "stdout",
          "text": [
            "Collecting pyrosettacolabsetup\n",
            "  Downloading pyrosettacolabsetup-1.0.7-py3-none-any.whl (4.8 kB)\n",
            "Installing collected packages: pyrosettacolabsetup\n",
            "Successfully installed pyrosettacolabsetup-1.0.7\n",
            "Mounted at /content/google_drive\n",
            "Looking for compatible PyRosetta wheel file at google-drive/PyRosetta/colab.bin//wheels...\n",
            "Found compatible wheel: /content/google_drive/MyDrive/PyRosetta/colab.bin/wheels//content/google_drive/MyDrive/PyRosetta/colab.bin/wheels/pyrosetta-2024.1+release.00b79147e63-cp310-cp310-linux_x86_64.whl\n",
            "\n",
            "\n",
            "PyRosetta-4 2023 [Rosetta PyRosetta4.MinSizeRel.python310.ubuntu 2024.01+release.00b79147e63be743438188f93a3f069ca75106d6 2023-12-25T16:35:48] retrieved from: http://www.pyrosetta.org\n",
            "(C) Copyright Rosetta Commons Member Institutions. Created in JHU by Sergey Lyskov and PyRosetta Team.\n",
            "core.init: Checking for fconfig files in pwd and ./rosetta/flags\n",
            "core.init: Rosetta version: PyRosetta4.MinSizeRel.python310.ubuntu r366 2024.01+release.00b79147e63 00b79147e63be743438188f93a3f069ca75106d6 http://www.pyrosetta.org 2023-12-25T16:35:48\n",
            "core.init: command: PyRosetta -ex1 -ex2aro -database /usr/local/lib/python3.10/dist-packages/pyrosetta/database\n",
            "basic.random.init_random_generator: 'RNG device' seed mode, using '/dev/urandom', seed=236861565 seed_offset=0 real_seed=236861565\n",
            "basic.random.init_random_generator: RandomGenerator:init: Normal mode, seed=236861565 RG_type=mt19937\n",
            "PyRosetta-4 2023 [Rosetta PyRosetta4.MinSizeRel.python310.ubuntu 2024.01+release.00b79147e63be743438188f93a3f069ca75106d6 2023-12-25T16:35:48] retrieved from: http://www.pyrosetta.org\n",
            "(C) Copyright Rosetta Commons Member Institutions. Created in JHU by Sergey Lyskov and PyRosetta Team.\n",
            "core.init: Checking for fconfig files in pwd and ./rosetta/flags\n",
            "core.init: Rosetta version: PyRosetta4.MinSizeRel.python310.ubuntu r366 2024.01+release.00b79147e63 00b79147e63be743438188f93a3f069ca75106d6 http://www.pyrosetta.org 2023-12-25T16:35:48\n",
            "core.init: command: PyRosetta -ex1 -ex2aro -database /usr/local/lib/python3.10/dist-packages/pyrosetta/database\n",
            "basic.random.init_random_generator: 'RNG device' seed mode, using '/dev/urandom', seed=374427659 seed_offset=0 real_seed=374427659\n",
            "basic.random.init_random_generator: RandomGenerator:init: Normal mode, seed=374427659 RG_type=mt19937\n"
          ]
        }
      ],
      "source": [
        "!pip install pyrosettacolabsetup\n",
        "import pyrosettacolabsetup; pyrosettacolabsetup.install_pyrosetta()\n",
        "import pyrosetta; pyrosetta.init()\n",
        "from pyrosetta import *\n",
        "from pyrosetta.teaching import *\n",
        "init()"
      ]
    },
    {
      "cell_type": "code",
      "execution_count": 2,
      "metadata": {
        "id": "jp9XRsrpo7gR",
        "outputId": "06f7459b-7505-4fa0-abf4-f51af8a2c2e4",
        "colab": {
          "base_uri": "https://localhost:8080/"
        }
      },
      "outputs": [
        {
          "output_type": "stream",
          "name": "stdout",
          "text": [
            "core.scoring.ScoreFunctionFactory: SCOREFUNCTION: ref2015\n",
            "core.scoring.etable: Starting energy table calculation\n",
            "core.scoring.etable: smooth_etable: changing atr/rep split to bottom of energy well\n",
            "core.scoring.etable: smooth_etable: spline smoothing lj etables (maxdis = 6)\n",
            "core.scoring.etable: smooth_etable: spline smoothing solvation etables (max_dis = 6)\n",
            "core.scoring.etable: Finished calculating energy tables.\n",
            "basic.io.database: Database file opened: scoring/score_functions/hbonds/ref2015_params/HBPoly1D.csv\n",
            "basic.io.database: Database file opened: scoring/score_functions/hbonds/ref2015_params/HBFadeIntervals.csv\n",
            "basic.io.database: Database file opened: scoring/score_functions/hbonds/ref2015_params/HBEval.csv\n",
            "basic.io.database: Database file opened: scoring/score_functions/hbonds/ref2015_params/DonStrength.csv\n",
            "basic.io.database: Database file opened: scoring/score_functions/hbonds/ref2015_params/AccStrength.csv\n",
            "core.chemical.GlobalResidueTypeSet: Finished initializing fa_standard residue type set.  Created 985 residue types\n",
            "core.chemical.GlobalResidueTypeSet: Total time to initialize 1.00816 seconds.\n",
            "basic.io.database: Database file opened: scoring/score_functions/rama/fd/all.ramaProb\n",
            "basic.io.database: Database file opened: scoring/score_functions/rama/fd/prepro.ramaProb\n",
            "basic.io.database: Database file opened: scoring/score_functions/omega/omega_ppdep.all.txt\n",
            "basic.io.database: Database file opened: scoring/score_functions/omega/omega_ppdep.gly.txt\n",
            "basic.io.database: Database file opened: scoring/score_functions/omega/omega_ppdep.pro.txt\n",
            "basic.io.database: Database file opened: scoring/score_functions/omega/omega_ppdep.valile.txt\n",
            "basic.io.database: Database file opened: scoring/score_functions/P_AA_pp/P_AA\n",
            "basic.io.database: Database file opened: scoring/score_functions/P_AA_pp/P_AA_n\n",
            "core.scoring.P_AA: shapovalov_lib::shap_p_aa_pp_smooth_level of 1( aka low_smooth ) got activated.\n",
            "basic.io.database: Database file opened: scoring/score_functions/P_AA_pp/shapovalov/10deg/kappa131/a20.prop\n"
          ]
        }
      ],
      "source": [
        "# From previous section:\n",
        "sfxn = get_score_function(True)"
      ]
    },
    {
      "cell_type": "markdown",
      "metadata": {
        "id": "Yaz0LBYoo7gR"
      },
      "source": [
        "Analyze the energy between residues Y102 and Q408 in cetuximab (PDB code 1YY9, use the `pyrosetta.toolbox.pose_from_rcsb` function to download it and load it into a new `Pose` object) by following the steps below.\n",
        "\n",
        "A. Internally, a Pose object has a list of residues, numbered starting from 1. To find the residue numbers of Y102 of chain D and Q408 of chain A, use the residue chain identifier and the PDB residue number to convert to the pose numbering using the `pose2pdb()` method:\n",
        "\n",
        "```\n",
        "pose = pyrosetta.toolbox.pose_from_rcsb(\"1YY9\")\n",
        "res102 = pose.pdb_info().pdb2pose(\"D\", 102)\n",
        "res408 = pose.pdb_info().pdb2pose(\"A\", 408)\n",
        "```"
      ]
    },
    {
      "cell_type": "code",
      "execution_count": 3,
      "metadata": {
        "id": "IpYwrYRoo7gS"
      },
      "outputs": [],
      "source": [
        "# get the pose numbers for Y102 (chain D) and Q408 (chain A)"
      ]
    },
    {
      "cell_type": "code",
      "execution_count": 4,
      "metadata": {
        "nbgrader": {
          "grade": true,
          "grade_id": "cell-870a6043eeeae1de",
          "locked": false,
          "points": 0,
          "schema_version": 3,
          "solution": true
        },
        "id": "7eqMOIzRo7gT",
        "outputId": "a1441a9e-a461-4edc-d9f0-9eb3914fcff9",
        "colab": {
          "base_uri": "https://localhost:8080/"
        }
      },
      "outputs": [
        {
          "output_type": "stream",
          "name": "stdout",
          "text": [
            "core.import_pose.import_pose: File '1YY9.clean.pdb' automatically determined to be of type PDB\n",
            "core.conformation.Conformation: [ WARNING ] missing heavyatom:  CG  on residue GLU:NtermProteinFull 1\n",
            "core.conformation.Conformation: [ WARNING ] missing heavyatom:  CD  on residue GLU:NtermProteinFull 1\n",
            "core.conformation.Conformation: [ WARNING ] missing heavyatom:  OE1 on residue GLU:NtermProteinFull 1\n",
            "core.conformation.Conformation: [ WARNING ] missing heavyatom:  OE2 on residue GLU:NtermProteinFull 1\n",
            "core.conformation.Conformation: [ WARNING ] missing heavyatom:  CG  on residue GLU 2\n",
            "core.conformation.Conformation: [ WARNING ] missing heavyatom:  CD  on residue GLU 2\n",
            "core.conformation.Conformation: [ WARNING ] missing heavyatom:  OE1 on residue GLU 2\n",
            "core.conformation.Conformation: [ WARNING ] missing heavyatom:  OE2 on residue GLU 2\n",
            "core.conformation.Conformation: [ WARNING ] missing heavyatom:  CG  on residue LYS 3\n",
            "core.conformation.Conformation: [ WARNING ] missing heavyatom:  CD  on residue LYS 3\n",
            "core.conformation.Conformation: [ WARNING ] missing heavyatom:  CE  on residue LYS 3\n",
            "core.conformation.Conformation: [ WARNING ] missing heavyatom:  NZ  on residue LYS 3\n",
            "core.conformation.Conformation: [ WARNING ] missing heavyatom:  CG  on residue GLN 138\n",
            "core.conformation.Conformation: [ WARNING ] missing heavyatom:  CD  on residue GLN 138\n",
            "core.conformation.Conformation: [ WARNING ] missing heavyatom:  OE1 on residue GLN 138\n",
            "core.conformation.Conformation: [ WARNING ] missing heavyatom:  NE2 on residue GLN 138\n",
            "core.conformation.Conformation: [ WARNING ] missing heavyatom:  CG  on residue GLU 179\n",
            "core.conformation.Conformation: [ WARNING ] missing heavyatom:  CD  on residue GLU 179\n",
            "core.conformation.Conformation: [ WARNING ] missing heavyatom:  OE1 on residue GLU 179\n",
            "core.conformation.Conformation: [ WARNING ] missing heavyatom:  OE2 on residue GLU 179\n",
            "core.conformation.Conformation: [ WARNING ] missing heavyatom:  CG  on residue GLN 192\n",
            "core.conformation.Conformation: [ WARNING ] missing heavyatom:  CD  on residue GLN 192\n",
            "core.conformation.Conformation: [ WARNING ] missing heavyatom:  OE1 on residue GLN 192\n",
            "core.conformation.Conformation: [ WARNING ] missing heavyatom:  NE2 on residue GLN 192\n",
            "core.conformation.Conformation: [ WARNING ] missing heavyatom:  CG  on residue GLN 193\n",
            "core.conformation.Conformation: [ WARNING ] missing heavyatom:  CD  on residue GLN 193\n",
            "core.conformation.Conformation: [ WARNING ] missing heavyatom:  OE1 on residue GLN 193\n",
            "core.conformation.Conformation: [ WARNING ] missing heavyatom:  NE2 on residue GLN 193\n",
            "core.conformation.Conformation: [ WARNING ] missing heavyatom:  CG  on residue GLU 220\n",
            "core.conformation.Conformation: [ WARNING ] missing heavyatom:  CD  on residue GLU 220\n",
            "core.conformation.Conformation: [ WARNING ] missing heavyatom:  OE1 on residue GLU 220\n",
            "core.conformation.Conformation: [ WARNING ] missing heavyatom:  OE2 on residue GLU 220\n",
            "core.conformation.Conformation: [ WARNING ] missing heavyatom:  CG  on residue GLU 257\n",
            "core.conformation.Conformation: [ WARNING ] missing heavyatom:  CD  on residue GLU 257\n",
            "core.conformation.Conformation: [ WARNING ] missing heavyatom:  OE1 on residue GLU 257\n",
            "core.conformation.Conformation: [ WARNING ] missing heavyatom:  OE2 on residue GLU 257\n",
            "core.conformation.Conformation: [ WARNING ] missing heavyatom:  CG  on residue ARG 272\n",
            "core.conformation.Conformation: [ WARNING ] missing heavyatom:  CD  on residue ARG 272\n",
            "core.conformation.Conformation: [ WARNING ] missing heavyatom:  NE  on residue ARG 272\n",
            "core.conformation.Conformation: [ WARNING ] missing heavyatom:  CZ  on residue ARG 272\n",
            "core.conformation.Conformation: [ WARNING ] missing heavyatom:  NH1 on residue ARG 272\n",
            "core.conformation.Conformation: [ WARNING ] missing heavyatom:  NH2 on residue ARG 272\n",
            "core.conformation.Conformation: [ WARNING ] missing heavyatom:  CG  on residue ARG 299\n",
            "core.conformation.Conformation: [ WARNING ] missing heavyatom:  CD  on residue ARG 299\n",
            "core.conformation.Conformation: [ WARNING ] missing heavyatom:  NE  on residue ARG 299\n",
            "core.conformation.Conformation: [ WARNING ] missing heavyatom:  CZ  on residue ARG 299\n",
            "core.conformation.Conformation: [ WARNING ] missing heavyatom:  NH1 on residue ARG 299\n",
            "core.conformation.Conformation: [ WARNING ] missing heavyatom:  NH2 on residue ARG 299\n",
            "core.conformation.Conformation: [ WARNING ] missing heavyatom:  CG  on residue ARG 502\n",
            "core.conformation.Conformation: [ WARNING ] missing heavyatom:  CD  on residue ARG 502\n",
            "core.conformation.Conformation: [ WARNING ] missing heavyatom:  NE  on residue ARG 502\n",
            "core.conformation.Conformation: [ WARNING ] missing heavyatom:  CZ  on residue ARG 502\n",
            "core.conformation.Conformation: [ WARNING ] missing heavyatom:  NH1 on residue ARG 502\n",
            "core.conformation.Conformation: [ WARNING ] missing heavyatom:  NH2 on residue ARG 502\n",
            "core.conformation.Conformation: [ WARNING ] missing heavyatom:  CG  on residue GLU 518\n",
            "core.conformation.Conformation: [ WARNING ] missing heavyatom:  CD  on residue GLU 518\n",
            "core.conformation.Conformation: [ WARNING ] missing heavyatom:  OE1 on residue GLU 518\n",
            "core.conformation.Conformation: [ WARNING ] missing heavyatom:  OE2 on residue GLU 518\n",
            "core.conformation.Conformation: [ WARNING ] missing heavyatom:  CG  on residue GLU 520\n",
            "core.conformation.Conformation: [ WARNING ] missing heavyatom:  CD  on residue GLU 520\n",
            "core.conformation.Conformation: [ WARNING ] missing heavyatom:  OE1 on residue GLU 520\n",
            "core.conformation.Conformation: [ WARNING ] missing heavyatom:  OE2 on residue GLU 520\n",
            "core.conformation.Conformation: [ WARNING ] missing heavyatom:  CG  on residue ARG 522\n",
            "core.conformation.Conformation: [ WARNING ] missing heavyatom:  CD  on residue ARG 522\n",
            "core.conformation.Conformation: [ WARNING ] missing heavyatom:  NE  on residue ARG 522\n",
            "core.conformation.Conformation: [ WARNING ] missing heavyatom:  CZ  on residue ARG 522\n",
            "core.conformation.Conformation: [ WARNING ] missing heavyatom:  NH1 on residue ARG 522\n",
            "core.conformation.Conformation: [ WARNING ] missing heavyatom:  NH2 on residue ARG 522\n",
            "core.conformation.Conformation: [ WARNING ] missing heavyatom:  OXT on residue THR:CtermProteinFull 613\n",
            "core.conformation.Conformation: [ WARNING ] missing heavyatom:  CG  on residue ARG 631\n",
            "core.conformation.Conformation: [ WARNING ] missing heavyatom:  CD  on residue ARG 631\n",
            "core.conformation.Conformation: [ WARNING ] missing heavyatom:  NE  on residue ARG 631\n",
            "core.conformation.Conformation: [ WARNING ] missing heavyatom:  CZ  on residue ARG 631\n",
            "core.conformation.Conformation: [ WARNING ] missing heavyatom:  NH1 on residue ARG 631\n",
            "core.conformation.Conformation: [ WARNING ] missing heavyatom:  NH2 on residue ARG 631\n",
            "core.conformation.Conformation: [ WARNING ] missing heavyatom:  CG  on residue LYS 739\n",
            "core.conformation.Conformation: [ WARNING ] missing heavyatom:  CD  on residue LYS 739\n",
            "core.conformation.Conformation: [ WARNING ] missing heavyatom:  CE  on residue LYS 739\n",
            "core.conformation.Conformation: [ WARNING ] missing heavyatom:  NZ  on residue LYS 739\n",
            "core.conformation.Conformation: [ WARNING ] missing heavyatom:  CG  on residue LYS 801\n",
            "core.conformation.Conformation: [ WARNING ] missing heavyatom:  CD  on residue LYS 801\n",
            "core.conformation.Conformation: [ WARNING ] missing heavyatom:  CE  on residue LYS 801\n",
            "core.conformation.Conformation: [ WARNING ] missing heavyatom:  NZ  on residue LYS 801\n",
            "core.conformation.Conformation: [ WARNING ] missing heavyatom:  OXT on residue ARG:CtermProteinFull 824\n",
            "core.conformation.Conformation: [ WARNING ] missing heavyatom:  CG  on residue ARG:CtermProteinFull 824\n",
            "core.conformation.Conformation: [ WARNING ] missing heavyatom:  CD  on residue ARG:CtermProteinFull 824\n",
            "core.conformation.Conformation: [ WARNING ] missing heavyatom:  NE  on residue ARG:CtermProteinFull 824\n",
            "core.conformation.Conformation: [ WARNING ] missing heavyatom:  CZ  on residue ARG:CtermProteinFull 824\n",
            "core.conformation.Conformation: [ WARNING ] missing heavyatom:  NH1 on residue ARG:CtermProteinFull 824\n",
            "core.conformation.Conformation: [ WARNING ] missing heavyatom:  NH2 on residue ARG:CtermProteinFull 824\n",
            "core.conformation.Conformation: [ WARNING ] missing heavyatom:  CG  on residue LYS 959\n",
            "core.conformation.Conformation: [ WARNING ] missing heavyatom:  CD  on residue LYS 959\n",
            "core.conformation.Conformation: [ WARNING ] missing heavyatom:  CE  on residue LYS 959\n",
            "core.conformation.Conformation: [ WARNING ] missing heavyatom:  NZ  on residue LYS 959\n",
            "core.conformation.Conformation: [ WARNING ] missing heavyatom:  CG  on residue LYS 1039\n",
            "core.conformation.Conformation: [ WARNING ] missing heavyatom:  CD  on residue LYS 1039\n",
            "core.conformation.Conformation: [ WARNING ] missing heavyatom:  CE  on residue LYS 1039\n",
            "core.conformation.Conformation: [ WARNING ] missing heavyatom:  NZ  on residue LYS 1039\n",
            "core.conformation.Conformation: [ WARNING ] missing heavyatom:  CG  on residue ARG 1040\n",
            "core.conformation.Conformation: [ WARNING ] missing heavyatom:  CD  on residue ARG 1040\n",
            "core.conformation.Conformation: [ WARNING ] missing heavyatom:  NE  on residue ARG 1040\n",
            "core.conformation.Conformation: [ WARNING ] missing heavyatom:  CZ  on residue ARG 1040\n",
            "core.conformation.Conformation: [ WARNING ] missing heavyatom:  NH1 on residue ARG 1040\n",
            "core.conformation.Conformation: [ WARNING ] missing heavyatom:  NH2 on residue ARG 1040\n",
            "core.conformation.Conformation: [ WARNING ] missing heavyatom:  OXT on residue LYS:CtermProteinFull 1044\n",
            "core.conformation.Conformation: [ WARNING ] missing heavyatom:  CG  on residue LYS:CtermProteinFull 1044\n",
            "core.conformation.Conformation: [ WARNING ] missing heavyatom:  CD  on residue LYS:CtermProteinFull 1044\n",
            "core.conformation.Conformation: [ WARNING ] missing heavyatom:  CE  on residue LYS:CtermProteinFull 1044\n",
            "core.conformation.Conformation: [ WARNING ] missing heavyatom:  NZ  on residue LYS:CtermProteinFull 1044\n",
            "core.conformation.Conformation: Found disulfide between residues 6 33\n",
            "core.conformation.Conformation: Found disulfide between residues 132 162\n",
            "core.conformation.Conformation: Found disulfide between residues 165 174\n",
            "core.conformation.Conformation: Found disulfide between residues 169 182\n",
            "core.conformation.Conformation: Found disulfide between residues 190 198\n",
            "core.conformation.Conformation: Found disulfide between residues 194 206\n",
            "core.conformation.Conformation: Found disulfide between residues 207 215\n",
            "core.conformation.Conformation: Found disulfide between residues 211 223\n",
            "core.conformation.Conformation: Found disulfide between residues 226 235\n",
            "core.conformation.Conformation: Found disulfide between residues 239 266\n",
            "core.conformation.Conformation: Found disulfide between residues 270 282\n",
            "core.conformation.Conformation: Found disulfide between residues 286 301\n",
            "core.conformation.Conformation: Found disulfide between residues 304 308\n",
            "core.conformation.Conformation: Found disulfide between residues 312 337\n",
            "core.conformation.Conformation: Found disulfide between residues 445 474\n",
            "core.conformation.Conformation: Found disulfide between residues 481 490\n",
            "core.conformation.Conformation: Found disulfide between residues 485 498\n",
            "core.conformation.Conformation: Found disulfide between residues 501 510\n",
            "core.conformation.Conformation: Found disulfide between residues 514 530\n",
            "core.conformation.Conformation: Found disulfide between residues 533 546\n",
            "core.conformation.Conformation: Found disulfide between residues 537 554\n",
            "core.conformation.Conformation: Found disulfide between residues 557 566\n",
            "core.conformation.Conformation: Found disulfide between residues 570 592\n",
            "core.conformation.Conformation: Found disulfide between residues 595 603\n",
            "core.conformation.Conformation: Found disulfide between residues 599 611\n",
            "core.conformation.Conformation: Found disulfide between residues 636 701\n",
            "core.conformation.Conformation: Found disulfide between residues 747 807\n",
            "core.conformation.Conformation: Found disulfide between residues 846 919\n",
            "core.conformation.Conformation: Found disulfide between residues 970 1026\n",
            "core.pack.pack_missing_sidechains: packing residue number 1 because of missing atom number 6 atom name  CG\n",
            "core.pack.pack_missing_sidechains: packing residue number 2 because of missing atom number 6 atom name  CG\n",
            "core.pack.pack_missing_sidechains: packing residue number 3 because of missing atom number 6 atom name  CG\n",
            "core.pack.pack_missing_sidechains: packing residue number 138 because of missing atom number 6 atom name  CG\n",
            "core.pack.pack_missing_sidechains: packing residue number 179 because of missing atom number 6 atom name  CG\n",
            "core.pack.pack_missing_sidechains: packing residue number 192 because of missing atom number 6 atom name  CG\n",
            "core.pack.pack_missing_sidechains: packing residue number 193 because of missing atom number 6 atom name  CG\n",
            "core.pack.pack_missing_sidechains: packing residue number 220 because of missing atom number 6 atom name  CG\n",
            "core.pack.pack_missing_sidechains: packing residue number 257 because of missing atom number 6 atom name  CG\n",
            "core.pack.pack_missing_sidechains: packing residue number 272 because of missing atom number 6 atom name  CG\n",
            "core.pack.pack_missing_sidechains: packing residue number 299 because of missing atom number 6 atom name  CG\n",
            "core.pack.pack_missing_sidechains: packing residue number 502 because of missing atom number 6 atom name  CG\n",
            "core.pack.pack_missing_sidechains: packing residue number 518 because of missing atom number 6 atom name  CG\n",
            "core.pack.pack_missing_sidechains: packing residue number 520 because of missing atom number 6 atom name  CG\n",
            "core.pack.pack_missing_sidechains: packing residue number 522 because of missing atom number 6 atom name  CG\n",
            "core.pack.pack_missing_sidechains: packing residue number 631 because of missing atom number 6 atom name  CG\n",
            "core.pack.pack_missing_sidechains: packing residue number 739 because of missing atom number 6 atom name  CG\n",
            "core.pack.pack_missing_sidechains: packing residue number 801 because of missing atom number 6 atom name  CG\n",
            "core.pack.pack_missing_sidechains: packing residue number 824 because of missing atom number 7 atom name  CG\n",
            "core.pack.pack_missing_sidechains: packing residue number 959 because of missing atom number 6 atom name  CG\n",
            "core.pack.pack_missing_sidechains: packing residue number 1039 because of missing atom number 6 atom name  CG\n",
            "core.pack.pack_missing_sidechains: packing residue number 1040 because of missing atom number 6 atom name  CG\n",
            "core.pack.pack_missing_sidechains: packing residue number 1044 because of missing atom number 7 atom name  CG\n",
            "core.pack.task: Packer task: initialize from command line()\n",
            "core.scoring.ScoreFunctionFactory: SCOREFUNCTION: ref2015\n",
            "basic.io.database: Database file opened: scoring/score_functions/elec_cp_reps.dat\n",
            "core.scoring.elec.util: Read 40 countpair representative atoms\n",
            "core.pack.dunbrack.RotamerLibrary: shapovalov_lib_fixes_enable option is true.\n",
            "core.pack.dunbrack.RotamerLibrary: shapovalov_lib::shap_dun10_smooth_level of 1( aka lowest_smooth ) got activated.\n",
            "core.pack.dunbrack.RotamerLibrary: Binary rotamer library selected: /usr/local/lib/python3.10/dist-packages/pyrosetta/database/rotamer/shapovalov/StpDwn_0-0-0/Dunbrack10.lib.bin\n",
            "core.pack.dunbrack.RotamerLibrary: Using Dunbrack library binary file '/usr/local/lib/python3.10/dist-packages/pyrosetta/database/rotamer/shapovalov/StpDwn_0-0-0/Dunbrack10.lib.bin'.\n",
            "core.pack.dunbrack.RotamerLibrary: Dunbrack 2010 library took 0.260127 seconds to load from binary\n",
            "core.pack.pack_rotamers: built 313 rotamers at 23 positions.\n",
            "core.pack.interaction_graph.interaction_graph_factory: Instantiating DensePDInteractionGraph\n"
          ]
        }
      ],
      "source": [
        "### BEGIN SOLUTION\n",
        "pose = pyrosetta.toolbox.pose_from_rcsb(\"1YY9\")\n",
        "res102 = pose.pdb_info().pdb2pose(\"D\", 102)\n",
        "res408 = pose.pdb_info().pdb2pose(\"A\", 408)\n",
        "### END SOLUTION"
      ]
    },
    {
      "cell_type": "markdown",
      "metadata": {
        "id": "6OH12P5So7gT"
      },
      "source": [
        "B. Score the pose and determine the van der Waals energies and solvation energy between these two residues. Use the following commands to isolate contributions from particular pairs of residues, where `rsd102` and `rsd408` are the two residue objects of interest from above (not the residue number -- use `pose.residue(res_num)` to access the objects):\n",
        "\n",
        "```\n",
        "emap = EMapVector()\n",
        "sfxn.eval_ci_2b(pose.residue(res102), pose.residue(res408), pose, emap)\n",
        "print(emap[fa_atr])\n",
        "print(emap[fa_rep])\n",
        "print(emap[fa_sol])\n",
        "```"
      ]
    },
    {
      "cell_type": "code",
      "execution_count": 5,
      "metadata": {
        "code_folding": [],
        "nbgrader": {
          "grade": true,
          "grade_id": "cell-1ffc5699ad9c088b",
          "locked": false,
          "points": 0,
          "schema_version": 3,
          "solution": true
        },
        "id": "7nL9ah0Jo7gU",
        "outputId": "2c441df0-a013-4f4a-f715-7a22b733918e",
        "colab": {
          "base_uri": "https://localhost:8080/"
        }
      },
      "outputs": [
        {
          "output_type": "stream",
          "name": "stdout",
          "text": [
            "-1.2098840439684349\n",
            "0.10835353848860374\n",
            "1.5729435146961963\n"
          ]
        }
      ],
      "source": [
        "### BEGIN SOLUTION\n",
        "emap = EMapVector()\n",
        "sfxn.eval_ci_2b(pose.residue(res102), pose.residue(res408), pose, emap)\n",
        "print(emap[fa_atr])\n",
        "print(emap[fa_rep])\n",
        "print(emap[fa_sol])\n",
        "### END SOLUTION"
      ]
    },
    {
      "cell_type": "code",
      "execution_count": null,
      "metadata": {
        "id": "Tx3iVv2Ao7gV"
      },
      "outputs": [],
      "source": []
    },
    {
      "cell_type": "markdown",
      "metadata": {
        "id": "2vjN21Eqo7gV"
      },
      "source": [
        "<!--NAVIGATION-->\n",
        "< [Score Function Basics](http://nbviewer.jupyter.org/github/RosettaCommons/PyRosetta.notebooks/blob/master/notebooks/03.01-Score-Function-Basics.ipynb) | [Contents](toc.ipynb) | [Index](index.ipynb) | [Energies and the PyMOL Mover](http://nbviewer.jupyter.org/github/RosettaCommons/PyRosetta.notebooks/blob/master/notebooks/03.03-Energies-and-the-PyMOLMover.ipynb) ><p><a href=\"https://colab.research.google.com/github/RosettaCommons/PyRosetta.notebooks/blob/master/notebooks/03.02-Analyzing-energy-between-residues.ipynb\"><img align=\"left\" src=\"https://colab.research.google.com/assets/colab-badge.svg\" alt=\"Open in Colab\" title=\"Open in Google Colaboratory\"></a>"
      ]
    }
  ],
  "metadata": {
    "celltoolbar": "Create Assignment",
    "kernelspec": {
      "display_name": "Python 3",
      "language": "python",
      "name": "python3"
    },
    "language_info": {
      "codemirror_mode": {
        "name": "ipython",
        "version": 3
      },
      "file_extension": ".py",
      "mimetype": "text/x-python",
      "name": "python",
      "nbconvert_exporter": "python",
      "pygments_lexer": "ipython3",
      "version": "3.6.0"
    },
    "toc": {
      "base_numbering": 1,
      "nav_menu": {},
      "number_sections": true,
      "sideBar": true,
      "skip_h1_title": false,
      "title_cell": "Table of Contents",
      "title_sidebar": "Contents",
      "toc_cell": false,
      "toc_position": {},
      "toc_section_display": true,
      "toc_window_display": true
    },
    "colab": {
      "provenance": [],
      "include_colab_link": true
    }
  },
  "nbformat": 4,
  "nbformat_minor": 0
}