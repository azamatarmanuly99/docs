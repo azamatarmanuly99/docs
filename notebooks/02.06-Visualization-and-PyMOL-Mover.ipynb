{
  "cells": [
    {
      "cell_type": "markdown",
      "metadata": {
        "id": "view-in-github",
        "colab_type": "text"
      },
      "source": [
        "<a href=\"https://colab.research.google.com/github/azamatarmanuly99/docs/blob/main/notebooks/02.06-Visualization-and-PyMOL-Mover.ipynb\" target=\"_parent\"><img src=\"https://colab.research.google.com/assets/colab-badge.svg\" alt=\"Open In Colab\"/></a>"
      ]
    },
    {
      "cell_type": "markdown",
      "metadata": {
        "id": "JpmEnsK1YTrm"
      },
      "source": [
        "<!--NOTEBOOK_HEADER-->\n",
        "*This notebook contains material from [PyRosetta](https://RosettaCommons.github.io/PyRosetta.notebooks);\n",
        "content is available [on Github](https://github.com/RosettaCommons/PyRosetta.notebooks.git).*"
      ]
    },
    {
      "cell_type": "markdown",
      "metadata": {
        "id": "5hmX7QrpYTry"
      },
      "source": [
        "<!--NAVIGATION-->\n",
        "< [None](http://nbviewer.jupyter.org/github/RosettaCommons/PyRosetta.notebooks/blob/master/notebooks/02.06-Visualization-and-PyMOL-Mover.PyRosetta-ColabPyMOL-integration.ipynb) | [Contents](toc.ipynb) | [Index](index.ipynb) | [RosettaScripts in PyRosetta](http://nbviewer.jupyter.org/github/RosettaCommons/PyRosetta.notebooks/blob/master/notebooks/02.07-RosettaScripts-in-PyRosetta.ipynb) ><p><a href=\"https://colab.research.google.com/github/RosettaCommons/PyRosetta.notebooks/blob/master/notebooks/02.06-Visualization-and-PyMOL-Mover.ipynb\"><img align=\"left\" src=\"https://colab.research.google.com/assets/colab-badge.svg\" alt=\"Open in Colab\" title=\"Open in Google Colaboratory\"></a>"
      ]
    },
    {
      "cell_type": "markdown",
      "metadata": {
        "id": "FI9PspbYYTr0"
      },
      "source": [
        "# Visualization with the `PyMOLMover`\n",
        "Keywords: PyMOLMover, send_hbonds()"
      ]
    },
    {
      "cell_type": "markdown",
      "metadata": {
        "id": "bJEsvhXRYTr2"
      },
      "source": [
        "**If you are using Google Colab:** Currently, we do not have a way to connect to the local machine's PyMOL, but you can always dump any pose into a pdb file and open that on your own computer.\n",
        "```\n",
        "pose.dump_pdb(\"output_file.pdb\")\n",
        "```"
      ]
    },
    {
      "cell_type": "code",
      "execution_count": 1,
      "metadata": {
        "id": "ZWi05TWkYTr4",
        "outputId": "b9e48491-b7e8-4a26-8f70-4a470f15ec63",
        "colab": {
          "base_uri": "https://localhost:8080/"
        }
      },
      "outputs": [
        {
          "output_type": "stream",
          "name": "stdout",
          "text": [
            "Collecting pyrosettacolabsetup\n",
            "  Downloading pyrosettacolabsetup-1.0.7-py3-none-any.whl (4.8 kB)\n",
            "Installing collected packages: pyrosettacolabsetup\n",
            "Successfully installed pyrosettacolabsetup-1.0.7\n",
            "Mounted at /content/google_drive\n",
            "Looking for compatible PyRosetta wheel file at google-drive/PyRosetta/colab.bin//wheels...\n",
            "Found compatible wheel: /content/google_drive/MyDrive/PyRosetta/colab.bin/wheels//content/google_drive/MyDrive/PyRosetta/colab.bin/wheels/pyrosetta-2024.1+release.00b79147e63-cp310-cp310-linux_x86_64.whl\n",
            "\n",
            "\n",
            "PyRosetta-4 2023 [Rosetta PyRosetta4.MinSizeRel.python310.ubuntu 2024.01+release.00b79147e63be743438188f93a3f069ca75106d6 2023-12-25T16:35:48] retrieved from: http://www.pyrosetta.org\n",
            "(C) Copyright Rosetta Commons Member Institutions. Created in JHU by Sergey Lyskov and PyRosetta Team.\n",
            "core.init: Checking for fconfig files in pwd and ./rosetta/flags\n",
            "core.init: Rosetta version: PyRosetta4.MinSizeRel.python310.ubuntu r366 2024.01+release.00b79147e63 00b79147e63be743438188f93a3f069ca75106d6 http://www.pyrosetta.org 2023-12-25T16:35:48\n",
            "core.init: command: PyRosetta -ex1 -ex2aro -database /usr/local/lib/python3.10/dist-packages/pyrosetta/database\n",
            "basic.random.init_random_generator: 'RNG device' seed mode, using '/dev/urandom', seed=716861689 seed_offset=0 real_seed=716861689\n",
            "basic.random.init_random_generator: RandomGenerator:init: Normal mode, seed=716861689 RG_type=mt19937\n"
          ]
        }
      ],
      "source": [
        "!pip install pyrosettacolabsetup\n",
        "import pyrosettacolabsetup; pyrosettacolabsetup.install_pyrosetta()\n",
        "import pyrosetta; pyrosetta.init()\n"
      ]
    },
    {
      "cell_type": "code",
      "execution_count": 2,
      "metadata": {
        "id": "ePO80UR3YTr8",
        "outputId": "3cdbae4f-d36b-407e-f512-fb2b66c972b3",
        "colab": {
          "base_uri": "https://localhost:8080/"
        }
      },
      "outputs": [
        {
          "output_type": "stream",
          "name": "stdout",
          "text": [
            "PyRosetta-4 2023 [Rosetta PyRosetta4.MinSizeRel.python310.ubuntu 2024.01+release.00b79147e63be743438188f93a3f069ca75106d6 2023-12-25T16:35:48] retrieved from: http://www.pyrosetta.org\n",
            "(C) Copyright Rosetta Commons Member Institutions. Created in JHU by Sergey Lyskov and PyRosetta Team.\n",
            "core.init: Checking for fconfig files in pwd and ./rosetta/flags\n",
            "core.init: Rosetta version: PyRosetta4.MinSizeRel.python310.ubuntu r366 2024.01+release.00b79147e63 00b79147e63be743438188f93a3f069ca75106d6 http://www.pyrosetta.org 2023-12-25T16:35:48\n",
            "core.init: command: PyRosetta -ex1 -ex2aro -database /usr/local/lib/python3.10/dist-packages/pyrosetta/database\n",
            "basic.random.init_random_generator: 'RNG device' seed mode, using '/dev/urandom', seed=2063189802 seed_offset=0 real_seed=2063189802\n",
            "basic.random.init_random_generator: RandomGenerator:init: Normal mode, seed=2063189802 RG_type=mt19937\n"
          ]
        }
      ],
      "source": [
        "from pyrosetta import *\n",
        "init()"
      ]
    },
    {
      "cell_type": "markdown",
      "metadata": {
        "id": "dlqW_ISjYTr9"
      },
      "source": [
        "**From previous section:**\n",
        "Make sure you are in the right directory for accessing the `.pdb` files:\n",
        "\n",
        "`cd google_drive/My\\ Drive/student-notebooks/`"
      ]
    },
    {
      "cell_type": "code",
      "execution_count": 3,
      "metadata": {
        "id": "4UzXGaISYTr-",
        "outputId": "39de3c25-d559-441e-8017-f1f122f2e893",
        "colab": {
          "base_uri": "https://localhost:8080/"
        }
      },
      "outputs": [
        {
          "output_type": "stream",
          "name": "stdout",
          "text": [
            "core.chemical.GlobalResidueTypeSet: Finished initializing fa_standard residue type set.  Created 985 residue types\n",
            "core.chemical.GlobalResidueTypeSet: Total time to initialize 0.993476 seconds.\n",
            "core.import_pose.import_pose: File '5tj3.pdb' automatically determined to be of type PDB\n",
            "core.conformation.Conformation: [ WARNING ] missing heavyatom:  CG  on residue LYS 233\n",
            "core.conformation.Conformation: [ WARNING ] missing heavyatom:  CD  on residue LYS 233\n",
            "core.conformation.Conformation: [ WARNING ] missing heavyatom:  CE  on residue LYS 233\n",
            "core.conformation.Conformation: [ WARNING ] missing heavyatom:  NZ  on residue LYS 233\n",
            "core.conformation.Conformation: [ WARNING ] missing heavyatom:  CG  on residue ASP 350\n",
            "core.conformation.Conformation: [ WARNING ] missing heavyatom:  OD1 on residue ASP 350\n",
            "core.conformation.Conformation: [ WARNING ] missing heavyatom:  OD2 on residue ASP 350\n",
            "core.conformation.Conformation: [ WARNING ] missing heavyatom:  CG  on residue LYS 353\n",
            "core.conformation.Conformation: [ WARNING ] missing heavyatom:  CD  on residue LYS 353\n",
            "core.conformation.Conformation: [ WARNING ] missing heavyatom:  CE  on residue LYS 353\n",
            "core.conformation.Conformation: [ WARNING ] missing heavyatom:  NZ  on residue LYS 353\n",
            "core.conformation.Conformation: [ WARNING ] missing heavyatom:  CG  on residue GLU 354\n",
            "core.conformation.Conformation: [ WARNING ] missing heavyatom:  CD  on residue GLU 354\n",
            "core.conformation.Conformation: [ WARNING ] missing heavyatom:  OE1 on residue GLU 354\n",
            "core.conformation.Conformation: [ WARNING ] missing heavyatom:  OE2 on residue GLU 354\n",
            "core.conformation.Conformation: [ WARNING ] missing heavyatom:  CG  on residue LYS 382\n",
            "core.conformation.Conformation: [ WARNING ] missing heavyatom:  CD  on residue LYS 382\n",
            "core.conformation.Conformation: [ WARNING ] missing heavyatom:  CE  on residue LYS 382\n",
            "core.conformation.Conformation: [ WARNING ] missing heavyatom:  NZ  on residue LYS 382\n",
            "core.conformation.Conformation: [ WARNING ] missing heavyatom:  CG  on residue TYR 454\n",
            "core.conformation.Conformation: [ WARNING ] missing heavyatom:  CD1 on residue TYR 454\n",
            "core.conformation.Conformation: [ WARNING ] missing heavyatom:  CD2 on residue TYR 454\n",
            "core.conformation.Conformation: [ WARNING ] missing heavyatom:  CE1 on residue TYR 454\n",
            "core.conformation.Conformation: [ WARNING ] missing heavyatom:  CE2 on residue TYR 454\n",
            "core.conformation.Conformation: [ WARNING ] missing heavyatom:  CZ  on residue TYR 454\n",
            "core.conformation.Conformation: [ WARNING ] missing heavyatom:  OH  on residue TYR 454\n",
            "core.conformation.Conformation: [ WARNING ] missing heavyatom:  OXT on residue GLY:CtermProteinFull 520\n",
            "core.pack.pack_missing_sidechains: packing residue number 233 because of missing atom number 6 atom name  CG\n",
            "core.pack.pack_missing_sidechains: packing residue number 350 because of missing atom number 6 atom name  CG\n",
            "core.pack.pack_missing_sidechains: packing residue number 353 because of missing atom number 6 atom name  CG\n",
            "core.pack.pack_missing_sidechains: packing residue number 354 because of missing atom number 6 atom name  CG\n",
            "core.pack.pack_missing_sidechains: packing residue number 382 because of missing atom number 6 atom name  CG\n",
            "core.pack.pack_missing_sidechains: packing residue number 454 because of missing atom number 6 atom name  CG\n",
            "core.pack.task: Packer task: initialize from command line()\n",
            "core.scoring.ScoreFunctionFactory: SCOREFUNCTION: ref2015\n",
            "core.scoring.etable: Starting energy table calculation\n",
            "core.scoring.etable: smooth_etable: changing atr/rep split to bottom of energy well\n",
            "core.scoring.etable: smooth_etable: spline smoothing lj etables (maxdis = 6)\n",
            "core.scoring.etable: smooth_etable: spline smoothing solvation etables (max_dis = 6)\n",
            "core.scoring.etable: Finished calculating energy tables.\n",
            "basic.io.database: Database file opened: scoring/score_functions/hbonds/ref2015_params/HBPoly1D.csv\n",
            "basic.io.database: Database file opened: scoring/score_functions/hbonds/ref2015_params/HBFadeIntervals.csv\n",
            "basic.io.database: Database file opened: scoring/score_functions/hbonds/ref2015_params/HBEval.csv\n",
            "basic.io.database: Database file opened: scoring/score_functions/hbonds/ref2015_params/DonStrength.csv\n",
            "basic.io.database: Database file opened: scoring/score_functions/hbonds/ref2015_params/AccStrength.csv\n",
            "basic.io.database: Database file opened: scoring/score_functions/rama/fd/all.ramaProb\n",
            "basic.io.database: Database file opened: scoring/score_functions/rama/fd/prepro.ramaProb\n",
            "basic.io.database: Database file opened: scoring/score_functions/omega/omega_ppdep.all.txt\n",
            "basic.io.database: Database file opened: scoring/score_functions/omega/omega_ppdep.gly.txt\n",
            "basic.io.database: Database file opened: scoring/score_functions/omega/omega_ppdep.pro.txt\n",
            "basic.io.database: Database file opened: scoring/score_functions/omega/omega_ppdep.valile.txt\n",
            "basic.io.database: Database file opened: scoring/score_functions/P_AA_pp/P_AA\n",
            "basic.io.database: Database file opened: scoring/score_functions/P_AA_pp/P_AA_n\n",
            "core.scoring.P_AA: shapovalov_lib::shap_p_aa_pp_smooth_level of 1( aka low_smooth ) got activated.\n",
            "basic.io.database: Database file opened: scoring/score_functions/P_AA_pp/shapovalov/10deg/kappa131/a20.prop\n",
            "basic.io.database: Database file opened: scoring/score_functions/elec_cp_reps.dat\n",
            "core.scoring.elec.util: Read 40 countpair representative atoms\n",
            "core.pack.dunbrack.RotamerLibrary: shapovalov_lib_fixes_enable option is true.\n",
            "core.pack.dunbrack.RotamerLibrary: shapovalov_lib::shap_dun10_smooth_level of 1( aka lowest_smooth ) got activated.\n",
            "core.pack.dunbrack.RotamerLibrary: Binary rotamer library selected: /usr/local/lib/python3.10/dist-packages/pyrosetta/database/rotamer/shapovalov/StpDwn_0-0-0/Dunbrack10.lib.bin\n",
            "core.pack.dunbrack.RotamerLibrary: Using Dunbrack library binary file '/usr/local/lib/python3.10/dist-packages/pyrosetta/database/rotamer/shapovalov/StpDwn_0-0-0/Dunbrack10.lib.bin'.\n",
            "core.pack.dunbrack.RotamerLibrary: Dunbrack 2010 library took 0.242807 seconds to load from binary\n",
            "core.pack.pack_rotamers: built 90 rotamers at 6 positions.\n",
            "core.pack.interaction_graph.interaction_graph_factory: Instantiating DensePDInteractionGraph\n"
          ]
        }
      ],
      "source": [
        "pose = pose_from_pdb(\"5tj3.pdb\")"
      ]
    },
    {
      "cell_type": "markdown",
      "metadata": {
        "id": "quiRKevDYTsA"
      },
      "source": [
        "To check that the necessary PyRosetta commands are run by PyMOL, open up PyMOL on Polander and check for a message like `PyMOL <--> PyRosetta link started!` in the dialog box. PyMOL is now listening for updates from PyRosetta on port 127.0.0.1 by default."
      ]
    },
    {
      "cell_type": "markdown",
      "metadata": {
        "id": "8nJ71yx3YTsC"
      },
      "source": [
        "**Note:** this may not work if many people are trying to do this at the same time, so you may need to specify a different port number by (1) typing `pmm = PyMOLMover('127.0.0.1', some number between 10000 and 65536)` in PyRosetta, (2) `run PyMOL-RosettaServer.py` in PyMOL command line, and (3) `start_rosetta_server('127.0.0.1', that number you used in step 1)` in PyMOL command line."
      ]
    },
    {
      "cell_type": "markdown",
      "metadata": {
        "id": "noBDZGA6YTsD"
      },
      "source": [
        "**If you are using your own computer (not Polander):** either use the PyMOL command line to run the PyMOL-RosettaServer.py file or drag and drop the PyMOL-RosettaServer.py file onto the PyMOL window to start the PyMOL-PyRosetta link."
      ]
    },
    {
      "cell_type": "markdown",
      "metadata": {
        "id": "tgNEN3dwYTsE"
      },
      "source": [
        "The `PyMOLMover` class will let us send information from PyRosetta to PyMOL for quick visualization. We are creating an instance of PyMOLMover called `pmm`."
      ]
    },
    {
      "cell_type": "code",
      "execution_count": 4,
      "metadata": {
        "id": "aZZIkvS_YTsE"
      },
      "outputs": [],
      "source": [
        "from pyrosetta import PyMOLMover"
      ]
    },
    {
      "cell_type": "markdown",
      "metadata": {
        "id": "2EQaIJzBYTsG"
      },
      "source": [
        "(Skip this if you already initialized pmm.)"
      ]
    },
    {
      "cell_type": "code",
      "execution_count": 5,
      "metadata": {
        "id": "Az_l5TyqYTsG"
      },
      "outputs": [],
      "source": [
        "pmm = PyMOLMover() #go here for additional help: https://www.pyrosetta.org/documentation/pymol_mover-tutorial"
      ]
    },
    {
      "cell_type": "markdown",
      "metadata": {
        "id": "sr1r9PUYYTsH"
      },
      "source": [
        "To view the pose, you can use the apply method on your pose."
      ]
    },
    {
      "cell_type": "code",
      "execution_count": 6,
      "metadata": {
        "id": "cdRqSh01YTsH"
      },
      "outputs": [],
      "source": [
        "clone_pose = Pose()\n",
        "clone_pose.assign(pose)\n",
        "pmm.apply(clone_pose)"
      ]
    },
    {
      "cell_type": "markdown",
      "metadata": {
        "id": "sCKyqYJnYTsI"
      },
      "source": [
        "The PyMOLMover has useful helper functions. For example, you can visualize all the hydrogen bonds in your protein with the following:"
      ]
    },
    {
      "cell_type": "code",
      "execution_count": 7,
      "metadata": {
        "id": "S38ke9eHYTsI"
      },
      "outputs": [],
      "source": [
        "pmm.send_hbonds(clone_pose)"
      ]
    },
    {
      "cell_type": "markdown",
      "metadata": {
        "id": "4MHfVo-gYTsI"
      },
      "source": [
        "Just deselect the hydrogen bonds in PyMOL if you want to hide them temporarily.\n",
        "\n",
        "What other send methods does the PyMOLMover have?"
      ]
    },
    {
      "cell_type": "markdown",
      "metadata": {
        "id": "bhsw-IfMYTsJ"
      },
      "source": [
        "The method `keep_history`, if set to True, allows you to load in structures with the same name into states of the same object in PyMOL. This is the starting point for creating a PyMOL movie of your structure, and allows you to loop through structures in different geometries efficiently (try clicking the arrows that are shown below in the red box)."
      ]
    },
    {
      "cell_type": "code",
      "execution_count": 8,
      "metadata": {
        "id": "DFujY1BpYTsK"
      },
      "outputs": [],
      "source": [
        "pmm.keep_history(True)\n",
        "pmm.apply(clone_pose)\n",
        "clone_pose.set_phi(5, -90)\n",
        "pmm.apply(clone_pose)"
      ]
    },
    {
      "cell_type": "markdown",
      "metadata": {
        "id": "TX6c68aaYTsL"
      },
      "source": [
        "This is what it should look like (assuming you are able to establish the PyMOL <--> PyRosetta link):"
      ]
    },
    {
      "cell_type": "code",
      "execution_count": 9,
      "metadata": {
        "id": "62WhAz5lYTsL"
      },
      "outputs": [],
      "source": [
        "from IPython.core.interactiveshell import InteractiveShell\n",
        "InteractiveShell.ast_node_interactivity = \"all\"\n",
        "from IPython import display"
      ]
    },
    {
      "cell_type": "code",
      "execution_count": 10,
      "metadata": {
        "id": "x-0xhlRuYTsM",
        "outputId": "298017e4-8eb2-45db-8520-7db1c38dc899",
        "colab": {
          "base_uri": "https://localhost:8080/",
          "height": 227
        }
      },
      "outputs": [
        {
          "output_type": "error",
          "ename": "FileNotFoundError",
          "evalue": "[Errno 2] No such file or directory: 'Media/PyMOL-tutorial.gif'",
          "traceback": [
            "\u001b[0;31m---------------------------------------------------------------------------\u001b[0m",
            "\u001b[0;31mFileNotFoundError\u001b[0m                         Traceback (most recent call last)",
            "\u001b[0;32m<ipython-input-10-ffce59ab2544>\u001b[0m in \u001b[0;36m<cell line: 4>\u001b[0;34m()\u001b[0m\n\u001b[1;32m      2\u001b[0m \u001b[0mgifPath\u001b[0m \u001b[0;34m=\u001b[0m \u001b[0mPath\u001b[0m\u001b[0;34m(\u001b[0m\u001b[0;34m\"./Media/PyMOL-tutorial.gif\"\u001b[0m\u001b[0;34m)\u001b[0m\u001b[0;34m\u001b[0m\u001b[0;34m\u001b[0m\u001b[0m\n\u001b[1;32m      3\u001b[0m \u001b[0;31m# Display GIF in Jupyter, CoLab, IPython\u001b[0m\u001b[0;34m\u001b[0m\u001b[0;34m\u001b[0m\u001b[0m\n\u001b[0;32m----> 4\u001b[0;31m \u001b[0;32mwith\u001b[0m \u001b[0mopen\u001b[0m\u001b[0;34m(\u001b[0m\u001b[0mgifPath\u001b[0m\u001b[0;34m,\u001b[0m\u001b[0;34m'rb'\u001b[0m\u001b[0;34m)\u001b[0m \u001b[0;32mas\u001b[0m \u001b[0mf\u001b[0m\u001b[0;34m:\u001b[0m\u001b[0;34m\u001b[0m\u001b[0;34m\u001b[0m\u001b[0m\n\u001b[0m\u001b[1;32m      5\u001b[0m     \u001b[0mdisplay\u001b[0m\u001b[0;34m.\u001b[0m\u001b[0mImage\u001b[0m\u001b[0;34m(\u001b[0m\u001b[0mdata\u001b[0m\u001b[0;34m=\u001b[0m\u001b[0mf\u001b[0m\u001b[0;34m.\u001b[0m\u001b[0mread\u001b[0m\u001b[0;34m(\u001b[0m\u001b[0;34m)\u001b[0m\u001b[0;34m,\u001b[0m \u001b[0mformat\u001b[0m\u001b[0;34m=\u001b[0m\u001b[0;34m'png'\u001b[0m\u001b[0;34m,\u001b[0m\u001b[0mwidth\u001b[0m\u001b[0;34m=\u001b[0m\u001b[0;34m'800'\u001b[0m\u001b[0;34m)\u001b[0m\u001b[0;34m\u001b[0m\u001b[0;34m\u001b[0m\u001b[0m\n",
            "\u001b[0;31mFileNotFoundError\u001b[0m: [Errno 2] No such file or directory: 'Media/PyMOL-tutorial.gif'"
          ]
        }
      ],
      "source": [
        "from pathlib import Path\n",
        "gifPath = Path(\"./Media/PyMOL-tutorial.gif\")\n",
        "# Display GIF in Jupyter, CoLab, IPython\n",
        "with open(gifPath,'rb') as f:\n",
        "    display.Image(data=f.read(), format='png',width='800')"
      ]
    },
    {
      "cell_type": "markdown",
      "metadata": {
        "id": "rzDyzSIzYTsO"
      },
      "source": [
        "## Exercise 7: Visualizing changes in backbone angles"
      ]
    },
    {
      "cell_type": "markdown",
      "metadata": {
        "id": "lp4xyvLGYTsP"
      },
      "source": [
        "Use a `for` loop to change some backbone torsions (phi and psi) of `test_pose`. Be sure to `keep_history` and send to PyMOL. Try printing the $\\phi$ and $\\psi$ before and after you set it to make sure it is working as you expect."
      ]
    },
    {
      "cell_type": "code",
      "execution_count": 11,
      "metadata": {
        "id": "zytbJGcvYTsP",
        "outputId": "eb2d7600-77c0-41b5-b4a5-ff0ed1991421",
        "colab": {
          "base_uri": "https://localhost:8080/"
        }
      },
      "outputs": [
        {
          "output_type": "execute_result",
          "data": {
            "text/plain": [
              "<pyrosetta.rosetta.core.pose.Pose at 0x7be61e217870>"
            ]
          },
          "metadata": {},
          "execution_count": 11
        }
      ],
      "source": [
        "test_pose = Pose()\n",
        "test_pose.assign(pose)\n",
        "\n",
        "# use a for loop here\n",
        "# set some phi and psi values\n",
        "# send the structure to PyMOL"
      ]
    },
    {
      "cell_type": "markdown",
      "metadata": {
        "id": "oXO2n_LeYTsQ"
      },
      "source": [
        "## Additional Exercises ##"
      ]
    },
    {
      "cell_type": "markdown",
      "metadata": {
        "id": "UceTRIsoYTsQ"
      },
      "source": [
        "The following exercises are meant to get you more comfortable with `Pose` methods and python coding. Many will require looping through the residues in a pose. As you find residues that answer these questions, view them in the PyMOL structure to check your work.\n",
        "\n",
        "**PyMOL Instructios:** View the original protein (5tj3) in PyMOL, view as cartoon, view Zn2+ atoms as spheres, and color the substrate mimic residue TPO distinctly (in PyMOL, try `select resn TPO`)."
      ]
    },
    {
      "cell_type": "markdown",
      "metadata": {
        "id": "qs7GDiO6YTsQ"
      },
      "source": [
        "- Create the Ramachandran plot for the protein and compare with the [Ramachandran plot](http://kinemage.biochem.duke.edu/teaching/anatax/html/anatax.1b.html)\n",
        "from  [Richardson's Anatomy and Taxonomy of Protein Structure](http://kinemage.biochem.duke.edu/teaching/anatax/).\n",
        "\n",
        "Don't forget to label your axes!"
      ]
    },
    {
      "cell_type": "code",
      "execution_count": 12,
      "metadata": {
        "id": "ux2o0uEaYTsR"
      },
      "outputs": [],
      "source": [
        "import matplotlib\n",
        "# this inline command gets plots to appear within the notebook\n",
        "# %matplotlib inline (Uncomment this)\n",
        "import matplotlib.pyplot as plt\n",
        "\n",
        "# example of how to make a scatter plot from a list\n",
        "# uncomment to see how it works and pops up in the notebook\n",
        "#x_coords = list(range(10))\n",
        "#y_coords = list(range(10))\n",
        "#plt.scatter(x_coords, y_coords)\n",
        "#plt.xlabel(\"X axis\")\n",
        "#plt.ylabel(\"Y axis\")\n",
        "\n",
        "# A Ramachandran plot is psi vs phi. Collect these values from the pose and plot them"
      ]
    },
    {
      "cell_type": "markdown",
      "metadata": {
        "id": "1XJI2E_WYTsR"
      },
      "source": [
        "### Analyzing Amino Acid Patterns"
      ]
    },
    {
      "cell_type": "markdown",
      "metadata": {
        "id": "oIcsa0y8YTsS"
      },
      "source": [
        "- Find all the polar amino acids in the protein. Using PyMOL, figure out where they are they located in the protein. Are there any patterns here?\n",
        "\n",
        "Hint, don't type in a residue number one-by-one. Try `select resn XXX` and replace XXX with polar residue names in PyMOL"
      ]
    },
    {
      "cell_type": "code",
      "execution_count": 13,
      "metadata": {
        "id": "eRof-6flYTsS"
      },
      "outputs": [],
      "source": [
        "# prompt: Find all the polar amino acids in the protein. Using PyMOL, figure out where they are they located in the protein. Are there any patterns here? Hint, don't type in a residue number one-by-one. Try select resn XXX and replace XXX with polar residue names in PyMOL\n",
        "\n",
        "polar_aa = ['N', 'D', 'E', 'Q', 'S', 'T', 'Y', 'C', 'K', 'R', 'H']\n",
        "for res in pose.residues:\n",
        "  if res.name in polar_aa:\n",
        "    print(res.seqpos, res.name)\n"
      ]
    },
    {
      "cell_type": "markdown",
      "metadata": {
        "id": "52LSR9JtYTsS"
      },
      "source": [
        "### Active Site Residues"
      ]
    },
    {
      "cell_type": "markdown",
      "metadata": {
        "id": "3_KMKYHEYTsT"
      },
      "source": [
        "- Find all residues that coordinate with the Zn2+ atoms around TPO (have any side-chain atoms within < 2.3 Angstroms). These residues may have a role in catalysis.\n",
        "\n",
        "Consider how you could loop through every atom index in a residue"
      ]
    },
    {
      "cell_type": "markdown",
      "metadata": {
        "id": "n8V-tZaaYTsT"
      },
      "source": [
        "- Get all residue types within 8 Angstroms of the active site. Are there any patterns in terms of residue types here?\n",
        "\n",
        "Perhaps residues with backbone atoms within 8-9 Angstroms to the Zn atoms are within the active site"
      ]
    },
    {
      "cell_type": "markdown",
      "metadata": {
        "id": "pUnjrbY9YTsU"
      },
      "source": [
        "## Answers"
      ]
    },
    {
      "cell_type": "markdown",
      "metadata": {
        "id": "ZsHA3JFoYTsu"
      },
      "source": [
        "### Exercise 6"
      ]
    },
    {
      "cell_type": "code",
      "execution_count": 14,
      "metadata": {
        "id": "mHqsJjsfYTsu",
        "outputId": "240a991d-84a6-4590-f8c8-2106b5cd9e59",
        "colab": {
          "base_uri": "https://localhost:8080/"
        }
      },
      "outputs": [
        {
          "output_type": "stream",
          "name": "stdout",
          "text": [
            "original phi: 180.0\n",
            "original psi: 180.0\n",
            "xyz coordinates: 3.53527,3.65904,1.19909\n",
            "new phi: -60.0\n",
            "new psi: -43.0\n",
            "xyz coordinates: 5.49854,2.67162,0.0696857\n"
          ]
        }
      ],
      "source": [
        "# three alanines\n",
        "tripeptide = pose_from_sequence(\"AAA\")\n",
        "\n",
        "orig_phi = tripeptide.phi(2)\n",
        "orig_psi = tripeptide.psi(2)\n",
        "print(\"original phi:\", orig_phi)\n",
        "print(\"original psi:\", orig_psi)\n",
        "\n",
        "# print the xyz coordinates of the CB atom of residue 2 here BEFORE setting\n",
        "print(\"xyz coordinates:\", tripeptide.residue(2).xyz(\"CB\"))\n",
        "\n",
        "# set the phi and psi here\n",
        "tripeptide.set_phi(2, -60)\n",
        "tripeptide.set_psi(2, -43)\n",
        "\n",
        "print(\"new phi:\", tripeptide.phi(2))\n",
        "print(\"new psi:\", tripeptide.psi(2))\n",
        "\n",
        "# print the xyz coordinates of the CB atom of residue 2 here AFTER setting\n",
        "print(\"xyz coordinates:\", tripeptide.residue(2).xyz(\"CB\"))\n",
        "# did changing the phi and psi angle change the xyz coordinates of the CB atom of alanine 2?\n"
      ]
    },
    {
      "cell_type": "markdown",
      "metadata": {
        "id": "O1Kh5WavYTsv"
      },
      "source": [
        "## References\n",
        "This notebook includes some concepts and exercises from:\n",
        "\n",
        "\"Workshop #2: PyRosetta\" in the PyRosetta workbook: https://graylab.jhu.edu/pyrosetta/downloads/documentation/pyrosetta4_online_format/PyRosetta4_Workshop2_PyRosetta.pdf\n",
        "\n",
        "\"Workshop #4.1: PyMOL_Mover\" in the PyRosetta workbook:\n",
        "https://www.pyrosetta.org/documentation/pymol_mover-tutorial"
      ]
    },
    {
      "cell_type": "markdown",
      "metadata": {
        "id": "qvZD3mVnYTsw"
      },
      "source": [
        "<!--NAVIGATION-->\n",
        "< [None](http://nbviewer.jupyter.org/github/RosettaCommons/PyRosetta.notebooks/blob/master/notebooks/02.06-Visualization-and-PyMOL-Mover.PyRosetta-ColabPyMOL-integration.ipynb) | [Contents](toc.ipynb) | [Index](index.ipynb) | [RosettaScripts in PyRosetta](http://nbviewer.jupyter.org/github/RosettaCommons/PyRosetta.notebooks/blob/master/notebooks/02.07-RosettaScripts-in-PyRosetta.ipynb) ><p><a href=\"https://colab.research.google.com/github/RosettaCommons/PyRosetta.notebooks/blob/master/notebooks/02.06-Visualization-and-PyMOL-Mover.ipynb\"><img align=\"left\" src=\"https://colab.research.google.com/assets/colab-badge.svg\" alt=\"Open in Colab\" title=\"Open in Google Colaboratory\"></a>"
      ]
    }
  ],
  "metadata": {
    "kernelspec": {
      "display_name": "Python 3",
      "language": "python",
      "name": "python3"
    },
    "language_info": {
      "codemirror_mode": {
        "name": "ipython",
        "version": 3
      },
      "file_extension": ".py",
      "mimetype": "text/x-python",
      "name": "python",
      "nbconvert_exporter": "python",
      "pygments_lexer": "ipython3",
      "version": "3.6.0"
    },
    "toc": {
      "base_numbering": 1,
      "nav_menu": {},
      "number_sections": true,
      "sideBar": true,
      "skip_h1_title": false,
      "title_cell": "Table of Contents",
      "title_sidebar": "Contents",
      "toc_cell": false,
      "toc_position": {},
      "toc_section_display": true,
      "toc_window_display": true
    },
    "colab": {
      "provenance": [],
      "include_colab_link": true
    }
  },
  "nbformat": 4,
  "nbformat_minor": 0
}