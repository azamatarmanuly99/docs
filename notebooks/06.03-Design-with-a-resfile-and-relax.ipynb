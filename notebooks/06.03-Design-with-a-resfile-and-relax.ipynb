{
  "cells": [
    {
      "cell_type": "markdown",
      "metadata": {
        "id": "view-in-github",
        "colab_type": "text"
      },
      "source": [
        "<a href=\"https://colab.research.google.com/github/azamatarmanuly99/docs/blob/main/notebooks/06.03-Design-with-a-resfile-and-relax.ipynb\" target=\"_parent\"><img src=\"https://colab.research.google.com/assets/colab-badge.svg\" alt=\"Open In Colab\"/></a>"
      ]
    },
    {
      "cell_type": "markdown",
      "metadata": {
        "id": "nvk1ZNxQXzt1"
      },
      "source": [
        "<!--NOTEBOOK_HEADER-->\n",
        "*This notebook contains material from [PyRosetta](https://RosettaCommons.github.io/PyRosetta.notebooks);\n",
        "content is available [on Github](https://github.com/RosettaCommons/PyRosetta.notebooks.git).*"
      ]
    },
    {
      "cell_type": "markdown",
      "metadata": {
        "id": "ctzFzsb3Xzt5"
      },
      "source": [
        "<!--NAVIGATION-->\n",
        "< [Packing and Relax](http://nbviewer.jupyter.org/github/RosettaCommons/PyRosetta.notebooks/blob/master/notebooks/06.02-Packing-design-and-regional-relax.ipynb) | [Contents](toc.ipynb) | [Index](index.ipynb) | [Protein Design 2](http://nbviewer.jupyter.org/github/RosettaCommons/PyRosetta.notebooks/blob/master/notebooks/06.04-Protein-Design-2.ipynb) ><p><a href=\"https://colab.research.google.com/github/RosettaCommons/PyRosetta.notebooks/blob/master/notebooks/06.03-Design-with-a-resfile-and-relax.ipynb\"><img align=\"left\" src=\"https://colab.research.google.com/assets/colab-badge.svg\" alt=\"Open in Colab\" title=\"Open in Google Colaboratory\"></a>"
      ]
    },
    {
      "cell_type": "markdown",
      "metadata": {
        "id": "kriHzCIkXzt7"
      },
      "source": [
        "# Protein Design with a Resfile and FastRelax\n",
        "\n",
        "Keywords: FastDesign, FastRelax, ResfileCommandOperation, Resfile, ResidueSelector, MoveMapFactory, TaskFactory, TaskOperation, NoRepackDisulfides, IncludeCurrent, ReadResfile, conf2pdb_chain(), pose_from_rcsb(), create_score_function(), CA_rmsd()"
      ]
    },
    {
      "cell_type": "markdown",
      "metadata": {
        "id": "v_deAob2Xzt7"
      },
      "source": [
        "## Overview\n",
        "\n",
        "In this Workshop, we will learn the classic way to design proteins, but in the same breath introduce the concept of design using a flexible backbone protocol.  \n",
        "\n",
        "This protocol, is essentially design during FastRelax.  A separate class, FastDesign, has a bit more options for design, but essentially, they are the same.  \n",
        "\n",
        "Many modern designs have used this FastDesign/RelaxedDesign protocol - including many Science papers from the Baker lab and the RosettaAntibodyDesign (RAbD) protocol that we will cover in another tutorial.\n",
        "\n",
        "Before this workshop, you should read about the resfile syntax here: https://www.rosettacommons.org/docs/latest/rosetta_basics/file_types/resfiles"
      ]
    },
    {
      "cell_type": "markdown",
      "metadata": {
        "id": "s5QeXwKRXzt8"
      },
      "source": [
        "*Warning*: This notebook uses `pyrosetta.distributed.viewer` code, which runs in `jupyter notebook` and might not run if you're using `jupyterlab`."
      ]
    },
    {
      "cell_type": "code",
      "execution_count": 1,
      "metadata": {
        "id": "Ug5Wj9rBXzt8",
        "outputId": "48198846-1763-44ec-e503-69993042df56",
        "colab": {
          "base_uri": "https://localhost:8080/"
        }
      },
      "outputs": [
        {
          "output_type": "stream",
          "name": "stdout",
          "text": [
            "Collecting pyrosettacolabsetup\n",
            "  Downloading pyrosettacolabsetup-1.0.7-py3-none-any.whl (4.8 kB)\n",
            "Installing collected packages: pyrosettacolabsetup\n",
            "Successfully installed pyrosettacolabsetup-1.0.7\n",
            "Mounted at /content/google_drive\n",
            "Looking for compatible PyRosetta wheel file at google-drive/PyRosetta/colab.bin//wheels...\n",
            "Found compatible wheel: /content/google_drive/MyDrive/PyRosetta/colab.bin/wheels//content/google_drive/MyDrive/PyRosetta/colab.bin/wheels/pyrosetta-2024.1+release.00b79147e63-cp310-cp310-linux_x86_64.whl\n",
            "\n",
            "\n",
            "PyRosetta-4 2023 [Rosetta PyRosetta4.MinSizeRel.python310.ubuntu 2024.01+release.00b79147e63be743438188f93a3f069ca75106d6 2023-12-25T16:35:48] retrieved from: http://www.pyrosetta.org\n",
            "(C) Copyright Rosetta Commons Member Institutions. Created in JHU by Sergey Lyskov and PyRosetta Team.\n",
            "core.init: Checking for fconfig files in pwd and ./rosetta/flags\n",
            "core.init: Rosetta version: PyRosetta4.MinSizeRel.python310.ubuntu r366 2024.01+release.00b79147e63 00b79147e63be743438188f93a3f069ca75106d6 http://www.pyrosetta.org 2023-12-25T16:35:48\n",
            "core.init: command: PyRosetta -ex1 -ex2aro -database /usr/local/lib/python3.10/dist-packages/pyrosetta/database\n",
            "basic.random.init_random_generator: 'RNG device' seed mode, using '/dev/urandom', seed=512356883 seed_offset=0 real_seed=512356883\n",
            "basic.random.init_random_generator: RandomGenerator:init: Normal mode, seed=512356883 RG_type=mt19937\n"
          ]
        }
      ],
      "source": [
        "!pip install pyrosettacolabsetup\n",
        "import pyrosettacolabsetup; pyrosettacolabsetup.install_pyrosetta()\n",
        "import pyrosetta; pyrosetta.init()\n"
      ]
    },
    {
      "cell_type": "markdown",
      "metadata": {
        "id": "JgwBI-jzXzt9"
      },
      "source": [
        "**Make sure you are in the directory with the pdb files:**\n",
        "\n",
        "`cd google_drive/My\\ Drive/student-notebooks/`"
      ]
    },
    {
      "cell_type": "code",
      "execution_count": 2,
      "metadata": {
        "id": "e6Tch-7AXzt-",
        "outputId": "51785d1b-c9f1-4d9b-fcc5-9b1c18c4ab05",
        "colab": {
          "base_uri": "https://localhost:8080/",
          "height": 17
        }
      },
      "outputs": [
        {
          "output_type": "display_data",
          "data": {
            "text/plain": [
              "<IPython.core.display.HTML object>"
            ],
            "text/html": [
              "<style>.container { width:100% !important; }</style>"
            ]
          },
          "metadata": {}
        }
      ],
      "source": [
        "import logging\n",
        "logging.basicConfig(level=logging.INFO)\n",
        "import pyrosetta\n",
        "import pyrosetta.toolbox\n",
        "\n",
        "from IPython.core.display import display, HTML\n",
        "display(HTML(\"<style>.container { width:100% !important; }</style>\"))"
      ]
    },
    {
      "cell_type": "markdown",
      "metadata": {
        "id": "lmLF2cKUXzt_"
      },
      "source": [
        "### Initialize PyRosetta"
      ]
    },
    {
      "cell_type": "code",
      "execution_count": 3,
      "metadata": {
        "id": "8haBzHAvXzt_",
        "outputId": "5c786cbc-d455-405b-de01-93b27bfdeafc",
        "colab": {
          "base_uri": "https://localhost:8080/"
        }
      },
      "outputs": [
        {
          "output_type": "stream",
          "name": "stdout",
          "text": [
            "PyRosetta-4 2023 [Rosetta PyRosetta4.MinSizeRel.python310.ubuntu 2024.01+release.00b79147e63be743438188f93a3f069ca75106d6 2023-12-25T16:35:48] retrieved from: http://www.pyrosetta.org\n",
            "(C) Copyright Rosetta Commons Member Institutions. Created in JHU by Sergey Lyskov and PyRosetta Team.\n",
            "core.init: Checking for fconfig files in pwd and ./rosetta/flags\n",
            "core.init: Rosetta version: PyRosetta4.MinSizeRel.python310.ubuntu r366 2024.01+release.00b79147e63 00b79147e63be743438188f93a3f069ca75106d6 http://www.pyrosetta.org 2023-12-25T16:35:48\n",
            "core.init: command: PyRosetta -ignore_unrecognized_res 1 -ex1 -ex2aro -detect_disulf 0 -database /usr/local/lib/python3.10/dist-packages/pyrosetta/database\n",
            "basic.random.init_random_generator: 'RNG device' seed mode, using '/dev/urandom', seed=2036322932 seed_offset=0 real_seed=2036322932\n",
            "basic.random.init_random_generator: RandomGenerator:init: Normal mode, seed=2036322932 RG_type=mt19937\n"
          ]
        }
      ],
      "source": [
        "pyrosetta.init(\"-ignore_unrecognized_res 1 -ex1 -ex2aro -detect_disulf 0\")"
      ]
    },
    {
      "cell_type": "markdown",
      "metadata": {
        "id": "0LUSGUjfXzuA"
      },
      "source": [
        " For this tutorial, let's use the well-studied native protein crambin from PDB ID 1AB1 (http://www.rcsb.org/structure/1AB1).\n",
        "\n",
        " Setup the input pose and scorefunction:"
      ]
    },
    {
      "cell_type": "code",
      "execution_count": 4,
      "metadata": {
        "id": "bVNhfwY4XzuA",
        "outputId": "e6e2c088-549e-455e-f89f-1f08900b2b1c",
        "colab": {
          "base_uri": "https://localhost:8080/"
        }
      },
      "outputs": [
        {
          "output_type": "stream",
          "name": "stdout",
          "text": [
            "core.chemical.GlobalResidueTypeSet: Finished initializing fa_standard residue type set.  Created 985 residue types\n",
            "core.chemical.GlobalResidueTypeSet: Total time to initialize 1.80442 seconds.\n",
            "core.import_pose.import_pose: File '1AB1.clean.pdb' automatically determined to be of type PDB\n",
            "core.io.pose_from_sfr.PoseFromSFRBuilder: [ WARNING ] discarding 3 atoms at position 1 in file 1AB1.clean.pdb. Best match rsd_type:  THR:NtermProteinFull\n",
            "core.scoring.etable: Starting energy table calculation\n",
            "core.scoring.etable: smooth_etable: changing atr/rep split to bottom of energy well\n",
            "core.scoring.etable: smooth_etable: spline smoothing lj etables (maxdis = 6)\n",
            "core.scoring.etable: smooth_etable: spline smoothing solvation etables (max_dis = 6)\n",
            "core.scoring.etable: Finished calculating energy tables.\n",
            "basic.io.database: Database file opened: scoring/score_functions/hbonds/ref2015_params/HBPoly1D.csv\n",
            "basic.io.database: Database file opened: scoring/score_functions/hbonds/ref2015_params/HBFadeIntervals.csv\n",
            "basic.io.database: Database file opened: scoring/score_functions/hbonds/ref2015_params/HBEval.csv\n",
            "basic.io.database: Database file opened: scoring/score_functions/hbonds/ref2015_params/DonStrength.csv\n",
            "basic.io.database: Database file opened: scoring/score_functions/hbonds/ref2015_params/AccStrength.csv\n",
            "basic.io.database: Database file opened: scoring/score_functions/rama/fd/all.ramaProb\n",
            "basic.io.database: Database file opened: scoring/score_functions/rama/fd/prepro.ramaProb\n",
            "basic.io.database: Database file opened: scoring/score_functions/omega/omega_ppdep.all.txt\n",
            "basic.io.database: Database file opened: scoring/score_functions/omega/omega_ppdep.gly.txt\n",
            "basic.io.database: Database file opened: scoring/score_functions/omega/omega_ppdep.pro.txt\n",
            "basic.io.database: Database file opened: scoring/score_functions/omega/omega_ppdep.valile.txt\n",
            "basic.io.database: Database file opened: scoring/score_functions/P_AA_pp/P_AA\n",
            "basic.io.database: Database file opened: scoring/score_functions/P_AA_pp/P_AA_n\n",
            "core.scoring.P_AA: shapovalov_lib::shap_p_aa_pp_smooth_level of 1( aka low_smooth ) got activated.\n",
            "basic.io.database: Database file opened: scoring/score_functions/P_AA_pp/shapovalov/10deg/kappa131/a20.prop\n",
            "core.energy_methods.CartesianBondedEnergy: Initializing IdealParametersDatabase with default Ks=300 , 80 , 80 , 10 , 80\n",
            "basic.io.database: Database file opened: scoring/score_functions/bondlength_bondangle/default-lengths.txt\n",
            "core.energy_methods.CartesianBondedEnergy: Read 759 bb-independent lengths.\n",
            "basic.io.database: Database file opened: scoring/score_functions/bondlength_bondangle/default-angles.txt\n",
            "core.energy_methods.CartesianBondedEnergy: Read 1434 bb-independent angles.\n",
            "basic.io.database: Database file opened: scoring/score_functions/bondlength_bondangle/default-torsions.txt\n",
            "core.energy_methods.CartesianBondedEnergy: Read 1 bb-independent torsions.\n",
            "basic.io.database: Database file opened: scoring/score_functions/bondlength_bondangle/default-improper.txt\n",
            "core.energy_methods.CartesianBondedEnergy: Read 529 bb-independent improper tors.\n"
          ]
        }
      ],
      "source": [
        "start_pose = pyrosetta.toolbox.rcsb.pose_from_rcsb(\"1AB1\", ATOM=True, CRYS=False)\n",
        "pose = start_pose.clone()\n",
        "scorefxn = pyrosetta.create_score_function(\"ref2015_cart.wts\")"
      ]
    },
    {
      "cell_type": "markdown",
      "metadata": {
        "id": "h56YzZbiXzuA"
      },
      "source": [
        " Make of list of which residues are cysteine:"
      ]
    },
    {
      "cell_type": "code",
      "execution_count": 5,
      "metadata": {
        "id": "YvOE9ie3XzuB",
        "outputId": "1b4e00e9-7d57-4950-9aa0-85851e75c812",
        "colab": {
          "base_uri": "https://localhost:8080/"
        }
      },
      "outputs": [
        {
          "output_type": "stream",
          "name": "stdout",
          "text": [
            "[3, 4, 16, 26, 32, 40]\n"
          ]
        }
      ],
      "source": [
        "cys_res = []\n",
        "for i, aa in enumerate(start_pose.sequence(), start=1):\n",
        "    if aa == \"C\":\n",
        "        cys_res.append(i)\n",
        "print(cys_res)"
      ]
    },
    {
      "cell_type": "markdown",
      "metadata": {
        "id": "cRCflBJYXzuB"
      },
      "source": [
        "Inspect `start_pose` using the `PyMolMover` or `dump_pdb()`"
      ]
    },
    {
      "cell_type": "markdown",
      "metadata": {
        "id": "AXGMyL1jXzuB"
      },
      "source": [
        "## Design strategy:\n",
        "\n",
        "Design away the cysteine residues (i.e. disulfide bonds) using a resfile, allowing all side-chains to re-pack and all backbone and side-chain torsions to minimize using the `FastRelax` mover.\n",
        "\n",
        " Read more about resfile file structure at https://www.rosettacommons.org/docs/latest/rosetta_basics/file_types/resfiles"
      ]
    },
    {
      "cell_type": "markdown",
      "metadata": {
        "id": "J2QKJCfCXzuB"
      },
      "source": [
        "To write a resfile, we need to know which chain to mutate.\n",
        "\n",
        "We can see that the pose consists of only chain \"A\" by printing the `pose.pdb_info()` object:"
      ]
    },
    {
      "cell_type": "code",
      "execution_count": 6,
      "metadata": {
        "id": "L9gf8E8gXzuB",
        "outputId": "c4e6981e-2ec9-4994-a4bd-0b3139758e02",
        "colab": {
          "base_uri": "https://localhost:8080/"
        }
      },
      "outputs": [
        {
          "output_type": "stream",
          "name": "stdout",
          "text": [
            "PDB file name: 1AB1.clean.pdb\n",
            " Pose Range  Chain    PDB Range  |   #Residues         #Atoms\n",
            "\n",
            "0001 -- 0046    A 0001  -- 0046  |   0046 residues;    00649 atoms\n",
            "                           TOTAL |   0046 residues;    00649 atoms\n",
            "\n"
          ]
        }
      ],
      "source": [
        "print(pose.pdb_info())"
      ]
    },
    {
      "cell_type": "markdown",
      "metadata": {
        "id": "9DklPtz0XzuC"
      },
      "source": [
        " More programmatically, we could find which chains are in the `pose` using `pyrosetta.rosetta.core.pose.conf2pdb_chain(pose)` which returns a `pyrosetta.rosetta.std.map_unsigned_long_char` object which is iterable."
      ]
    },
    {
      "cell_type": "code",
      "execution_count": 7,
      "metadata": {
        "id": "3b5X3EpYXzuC",
        "outputId": "80f46234-a076-4989-a89c-2fed8633a352",
        "colab": {
          "base_uri": "https://localhost:8080/"
        }
      },
      "outputs": [
        {
          "output_type": "stream",
          "name": "stdout",
          "text": [
            "map_unsigned_long_char{1: A}\n"
          ]
        }
      ],
      "source": [
        "print(pyrosetta.rosetta.core.pose.conf2pdb_chain(pose))"
      ]
    },
    {
      "cell_type": "code",
      "execution_count": 8,
      "metadata": {
        "id": "YZv50SmrXzuC",
        "outputId": "9f78a22a-3960-441d-a6ae-30597a209f6a",
        "colab": {
          "base_uri": "https://localhost:8080/"
        }
      },
      "outputs": [
        {
          "output_type": "stream",
          "name": "stdout",
          "text": [
            "A\n"
          ]
        }
      ],
      "source": [
        "for k, v in pyrosetta.rosetta.core.pose.conf2pdb_chain(pose).items():\n",
        "    print(v)"
      ]
    },
    {
      "cell_type": "markdown",
      "metadata": {
        "id": "zKegZcKsXzuC"
      },
      "source": [
        " So we could write a resfile to disc indicating design specifications to mutate only the cysteine residues in chain \"A\".  Use the syntax described below, and save your resfile in this directory as `resfile`.\n",
        "\n",
        " https://www.rosettacommons.org/docs/latest/rosetta_basics/file_types/resfiles"
      ]
    },
    {
      "cell_type": "code",
      "execution_count": 10,
      "metadata": {
        "nbgrader": {
          "grade": true,
          "grade_id": "cell-4dfc4f43e2031e10",
          "locked": false,
          "points": 0,
          "schema_version": 3,
          "solution": true
        },
        "id": "c1AhY1iAXzuD",
        "outputId": "2122d6f3-212e-4c41-b585-6afff3ab9d0e",
        "colab": {
          "base_uri": "https://localhost:8080/"
        }
      },
      "outputs": [
        {
          "output_type": "stream",
          "name": "stdout",
          "text": [
            "NATAA\n",
            "start\n",
            "3 A ALLAAxc\n",
            "4 A ALLAAxc\n",
            "16 A ALLAAxc\n",
            "26 A ALLAAxc\n",
            "32 A ALLAAxc\n",
            "40 A ALLAAxc\n"
          ]
        }
      ],
      "source": [
        "### BEGIN SOLUTION\n",
        "resfile = \".resfile\"\n",
        "with open(resfile, \"w\") as f:\n",
        "    f.write(\"NATAA\\n\")\n",
        "    f.write(\"start\\n\")\n",
        "    for i in cys_res:\n",
        "        f.write(\"{0} {1} ALLAAxc\\n\".format(i, pyrosetta.rosetta.core.pose.conf2pdb_chain(pose)[1]))\n",
        "!cat {resfile}\n",
        "\n",
        "### END SOLUTION"
      ]
    },
    {
      "cell_type": "markdown",
      "metadata": {
        "id": "i8R0NR1qXzuD"
      },
      "source": [
        "Note that we don't necessarily need a resfile to use resfile commands.  We can now do this in an intuitive way through code and `ResidueSelectors` using the `ResfileCommandOperation`.  The main docs for the XML interface are available below, however the code-level interface is extremely similar.  Use the ? to get more info on this.  The operation is located in `pyrosetta.rosetta.core.pack.task.operation` as we saw this location in the previous tutorial.\n",
        "\n",
        "https://www.rosettacommons.org/docs/latest/scripting_documentation/RosettaScripts/TaskOperations/taskoperations_pages/ResfileCommandOperation"
      ]
    },
    {
      "cell_type": "markdown",
      "metadata": {
        "id": "jqRHYmiMXzuD"
      },
      "source": [
        " Now we can setup the TaskOperations for the `FastRelax` mover. These tell `FastRelax` which residues to design or repack during the packer steps in `FastRelax`.  You should be familiar with this from the previous tutorial\n",
        "\n",
        "We use the `IncludeCurrent` to include the current rotamer of from the crystal structure during packing."
      ]
    },
    {
      "cell_type": "code",
      "execution_count": 11,
      "metadata": {
        "id": "C76NhDazXzuD",
        "outputId": "dedf2b4d-f6cf-4bf5-f2e1-cf234b3b3bd8",
        "colab": {
          "base_uri": "https://localhost:8080/"
        }
      },
      "outputs": [
        {
          "output_type": "stream",
          "name": "stdout",
          "text": [
            "core.pack.task: Packer task: initialize from command line()\n",
            "#Packer_Task\n",
            "\n",
            "Threads to request: ALL AVAILABLE\n",
            "\n",
            "resid\tpack?\tdesign?\tallowed_aas\n",
            "1\tTRUE\tFALSE\tTHR:NtermProteinFull\n",
            "2\tTRUE\tFALSE\tTHR\n",
            "3\tTRUE\tTRUE\tALA,ASP,GLU,PHE,GLY,HIS,HIS_D,ILE,LYS,LEU,MET,ASN,PRO,GLN,ARG,SER,THR,VAL,TRP,TYR\n",
            "4\tTRUE\tTRUE\tALA,ASP,GLU,PHE,GLY,HIS,HIS_D,ILE,LYS,LEU,MET,ASN,PRO,GLN,ARG,SER,THR,VAL,TRP,TYR\n",
            "5\tTRUE\tFALSE\tPRO\n",
            "6\tTRUE\tFALSE\tSER\n",
            "7\tTRUE\tFALSE\tILE\n",
            "8\tTRUE\tFALSE\tVAL\n",
            "9\tTRUE\tFALSE\tALA\n",
            "10\tTRUE\tFALSE\tARG\n",
            "11\tTRUE\tFALSE\tSER\n",
            "12\tTRUE\tFALSE\tASN\n",
            "13\tTRUE\tFALSE\tPHE\n",
            "14\tTRUE\tFALSE\tASN\n",
            "15\tTRUE\tFALSE\tVAL\n",
            "16\tTRUE\tTRUE\tALA,ASP,GLU,PHE,GLY,HIS,HIS_D,ILE,LYS,LEU,MET,ASN,PRO,GLN,ARG,SER,THR,VAL,TRP,TYR\n",
            "17\tTRUE\tFALSE\tARG\n",
            "18\tTRUE\tFALSE\tLEU\n",
            "19\tTRUE\tFALSE\tPRO\n",
            "20\tTRUE\tFALSE\tGLY\n",
            "21\tTRUE\tFALSE\tTHR\n",
            "22\tTRUE\tFALSE\tSER\n",
            "23\tTRUE\tFALSE\tGLU\n",
            "24\tTRUE\tFALSE\tALA\n",
            "25\tTRUE\tFALSE\tILE\n",
            "26\tTRUE\tTRUE\tALA,ASP,GLU,PHE,GLY,HIS,HIS_D,ILE,LYS,LEU,MET,ASN,PRO,GLN,ARG,SER,THR,VAL,TRP,TYR\n",
            "27\tTRUE\tFALSE\tALA\n",
            "28\tTRUE\tFALSE\tTHR\n",
            "29\tTRUE\tFALSE\tTYR\n",
            "30\tTRUE\tFALSE\tTHR\n",
            "31\tTRUE\tFALSE\tGLY\n",
            "32\tTRUE\tTRUE\tALA,ASP,GLU,PHE,GLY,HIS,HIS_D,ILE,LYS,LEU,MET,ASN,PRO,GLN,ARG,SER,THR,VAL,TRP,TYR\n",
            "33\tTRUE\tFALSE\tILE\n",
            "34\tTRUE\tFALSE\tILE\n",
            "35\tTRUE\tFALSE\tILE\n",
            "36\tTRUE\tFALSE\tPRO\n",
            "37\tTRUE\tFALSE\tGLY\n",
            "38\tTRUE\tFALSE\tALA\n",
            "39\tTRUE\tFALSE\tTHR\n",
            "40\tTRUE\tTRUE\tALA,ASP,GLU,PHE,GLY,HIS,HIS_D,ILE,LYS,LEU,MET,ASN,PRO,GLN,ARG,SER,THR,VAL,TRP,TYR\n",
            "41\tTRUE\tFALSE\tPRO\n",
            "42\tTRUE\tFALSE\tGLY\n",
            "43\tTRUE\tFALSE\tASP\n",
            "44\tTRUE\tFALSE\tTYR\n",
            "45\tTRUE\tFALSE\tALA\n",
            "46\tTRUE\tFALSE\tASN:CtermProteinFull\n",
            "\n"
          ]
        }
      ],
      "source": [
        "# The task factory accepts all the task operations\n",
        "tf = pyrosetta.rosetta.core.pack.task.TaskFactory()\n",
        "\n",
        "# These are pretty standard\n",
        "tf.push_back(pyrosetta.rosetta.core.pack.task.operation.InitializeFromCommandline())\n",
        "tf.push_back(pyrosetta.rosetta.core.pack.task.operation.IncludeCurrent())\n",
        "tf.push_back(pyrosetta.rosetta.core.pack.task.operation.NoRepackDisulfides())\n",
        "\n",
        "# Include the resfile\n",
        "tf.push_back(pyrosetta.rosetta.core.pack.task.operation.ReadResfile(resfile))\n",
        "\n",
        "# Convert the task factory into a PackerTask to take a look at it\n",
        "packer_task = tf.create_task_and_apply_taskoperations(pose)\n",
        "# View the PackerTask\n",
        "print(packer_task)"
      ]
    },
    {
      "cell_type": "markdown",
      "metadata": {
        "id": "6Z7rHn-IXzuD"
      },
      "source": [
        " The PackerTask looks as intended!\n",
        "\n",
        " Now we can set up a `MoveMap` or a `MoveMapFactory` to specify which torsions are free to minimize during the minimization steps of the `FastDesign` mover"
      ]
    },
    {
      "cell_type": "code",
      "execution_count": 12,
      "metadata": {
        "id": "jTAqcso0XzuD"
      },
      "outputs": [],
      "source": [
        "# Set up a MoveMapFactory\n",
        "mmf = pyrosetta.rosetta.core.select.movemap.MoveMapFactory()\n",
        "mmf.all_bb(setting=True)\n",
        "mmf.all_bondangles(setting=True)\n",
        "mmf.all_bondlengths(setting=True)\n",
        "mmf.all_chi(setting=True)\n",
        "mmf.all_jumps(setting=True)\n",
        "mmf.set_cartesian(setting=True)"
      ]
    },
    {
      "cell_type": "code",
      "execution_count": 13,
      "metadata": {
        "id": "Sgfo0n9dXzuE"
      },
      "outputs": [],
      "source": [
        "# Set up a MoveMap\n",
        "# mm = pyrosetta.rosetta.core.kinematics.MoveMap()\n",
        "# mm.set_bb(True)\n",
        "# mm.set_chi(True)\n",
        "# mm.set_jump(True)\n",
        "\n",
        "# If needed, you could turn off bb and chi torsions for individual residues like this:\n",
        "\n",
        "# vector1 of true/false for each residue in the pose\n",
        "# subset_to_minimize = do_something_set.apply(pose)\n",
        "\n",
        "# for i in range(1, pose.size() + 1):\n",
        "#     if (not subset_to_minimize[i]):\n",
        "#         mm.set_bb(i, False)\n",
        "#         mm.set_chi(i, False)"
      ]
    },
    {
      "cell_type": "markdown",
      "metadata": {
        "id": "BucYVJJTXzuE"
      },
      "source": [
        " Because some Movers only take as input a `MoveMap`, for backwards-compatibility one could generate a `MoveMap` from a `MoveMapFactory` using the `MoveMapFactory` function `create_movemap_from_pose(pose)`"
      ]
    },
    {
      "cell_type": "markdown",
      "metadata": {
        "id": "8UcaKA_mXzuE"
      },
      "source": [
        " Now let's double-check some more `pose` information to verify that we are ready for `FastRelax`:"
      ]
    },
    {
      "cell_type": "code",
      "execution_count": 14,
      "metadata": {
        "id": "YKDHM6yrXzuE",
        "outputId": "8bd0ac4e-e2ed-4c58-f974-1324f46a5f22",
        "colab": {
          "base_uri": "https://localhost:8080/"
        }
      },
      "outputs": [
        {
          "output_type": "stream",
          "name": "stdout",
          "text": [
            "protocols.DsspMover: LEELLLHHHHHHHHHHHLLLLLHHHHHHHHLLEELLLLLLLLLLLL\n",
            "protocols.fold_from_loops.DisplayPoseLabelsMover: SEQUENCE       TTCCPSIVARSNFNVCRLPGTSEAICATYTGCIIIPGATCPGDYAN\n",
            "protocols.fold_from_loops.DisplayPoseLabelsMover: STRUCTURE      LEELLLHHHHHHHHHHHLLLLLHHHHHHHHLLEELLLLLLLLLLLL\n",
            "protocols.fold_from_loops.DisplayPoseLabelsMover: MVMP_BB        **********************************************\n",
            "protocols.fold_from_loops.DisplayPoseLabelsMover: MVMP_CHI       **********************************************\n",
            "core.pack.task: Packer task: initialize from command line()\n",
            "protocols.fold_from_loops.DisplayPoseLabelsMover: DESIGN         --**-----------*---------*-----*-------*------\n",
            "protocols.fold_from_loops.DisplayPoseLabelsMover: REPACK         **********************************************\n",
            "protocols.fold_from_loops.DisplayPoseLabelsMover: FOLDTREE       *********************************************C\n",
            "protocols.fold_from_loops.DisplayPoseLabelsMover:\n",
            "protocols.fold_from_loops.DisplayPoseLabelsMover: FOLD_TREE  EDGE 1 46 -1\n",
            "protocols.fold_from_loops.DisplayPoseLabelsMover: T[THR:NtermProteinFull]TCCPSIVARSNFNVCRLPGTSEAICATYTGCIIIPGATCPGDYAN[ASN:CtermProteinFull]\n",
            "protocols.fold_from_loops.DisplayPoseLabelsMover: PDB file name: 1AB1.clean.pdb\n",
            "protocols.fold_from_loops.DisplayPoseLabelsMover:  Pose Range  Chain    PDB Range  |   #Residues         #Atoms\n",
            "protocols.fold_from_loops.DisplayPoseLabelsMover: 0001 -- 0046    A 0001  -- 0046  |   0046 residues;    00649 atoms\n",
            "protocols.fold_from_loops.DisplayPoseLabelsMover:                            TOTAL |   0046 residues;    00649 atoms\n"
          ]
        }
      ],
      "source": [
        "display_pose = pyrosetta.rosetta.protocols.fold_from_loops.movers.DisplayPoseLabelsMover()\n",
        "display_pose.tasks(tf)\n",
        "display_pose.movemap_factory(mmf)\n",
        "display_pose.apply(pose)"
      ]
    },
    {
      "cell_type": "markdown",
      "metadata": {
        "id": "9MoSc26bXzuE"
      },
      "source": [
        " Setting up `FastRelax` prints the default `relaxscript`, showing the `ramp_repack_min` settings with the following assignments:\n",
        ">ramp_repack_min [scale:fa_rep] [min_tolerance] [coord_cst_weight]"
      ]
    },
    {
      "cell_type": "code",
      "execution_count": 15,
      "metadata": {
        "id": "3XMrC_eDXzuE",
        "outputId": "b00d3755-62c8-4511-923d-fc49c23bc849",
        "colab": {
          "base_uri": "https://localhost:8080/"
        }
      },
      "outputs": [
        {
          "output_type": "stream",
          "name": "stdout",
          "text": [
            "protocols.relax.RelaxScriptManager: Reading relax scripts list from database.\n",
            "protocols.relax.RelaxScriptManager: Looking for MonomerRelax2019.txt\n",
            "protocols.relax.RelaxScriptManager: ================== Reading script file: /usr/local/lib/python3.10/dist-packages/pyrosetta/database/sampling/relax_scripts/MonomerRelax2019.txt ==================\n",
            "protocols.relax.RelaxScriptManager: repeat %%nrepeats%%\n",
            "protocols.relax.RelaxScriptManager: coord_cst_weight 1.0\n",
            "protocols.relax.RelaxScriptManager: scale:fa_rep 0.040\n",
            "protocols.relax.RelaxScriptManager: repack\n",
            "protocols.relax.RelaxScriptManager: scale:fa_rep 0.051\n",
            "protocols.relax.RelaxScriptManager: min 0.01\n",
            "protocols.relax.RelaxScriptManager: coord_cst_weight 0.5\n",
            "protocols.relax.RelaxScriptManager: scale:fa_rep 0.265\n",
            "protocols.relax.RelaxScriptManager: repack\n",
            "protocols.relax.RelaxScriptManager: scale:fa_rep 0.280\n",
            "protocols.relax.RelaxScriptManager: min 0.01\n",
            "protocols.relax.RelaxScriptManager: coord_cst_weight 0.0\n",
            "protocols.relax.RelaxScriptManager: scale:fa_rep 0.559\n",
            "protocols.relax.RelaxScriptManager: repack\n",
            "protocols.relax.RelaxScriptManager: scale:fa_rep 0.581\n",
            "protocols.relax.RelaxScriptManager: min 0.01\n",
            "protocols.relax.RelaxScriptManager: coord_cst_weight 0.0\n",
            "protocols.relax.RelaxScriptManager: scale:fa_rep 1\n",
            "protocols.relax.RelaxScriptManager: repack\n",
            "protocols.relax.RelaxScriptManager: min 0.00001\n",
            "protocols.relax.RelaxScriptManager: accept_to_best\n",
            "protocols.relax.RelaxScriptManager: endrepeat\n"
          ]
        }
      ],
      "source": [
        "fr = pyrosetta.rosetta.protocols.relax.FastRelax(scorefxn_in=scorefxn, standard_repeats=1)\n",
        "fr.cartesian(True)\n",
        "fr.set_task_factory(tf)\n",
        "fr.set_movemap_factory(mmf)\n",
        "fr.min_type(\"lbfgs_armijo_nonmonotone\") # For non-Cartesian scorefunctions, use \"dfpmin_armijo_nonmonotone\"\n",
        "\n",
        "#Note that this min_type is automatically set when you set the cartesian option.\n",
        "#  But it is good to be aware of this - as not all protocols will do this for you.\n",
        "\n",
        "#fr.set_movemap(mm) # Could have optionally specified a MoveMap instead of MoveMapFactory\n",
        "#fr.minimize_bond_angles(True) # If not using MoveMapFactory, could specify bond angle minimization here\n",
        "#fr.minimize_bond_lengths(True) # If not using MoveMapFactory, could specify bond length minimization here"
      ]
    },
    {
      "cell_type": "markdown",
      "metadata": {
        "id": "F0MB5sCoXzuF"
      },
      "source": [
        "For recommendations on setting `fr.min_type()` for the scorefunction being used, see: https://www.rosettacommons.org/docs/latest/rosetta_basics/structural_concepts/minimization-overview#recommendations"
      ]
    },
    {
      "cell_type": "markdown",
      "metadata": {
        "id": "E8SADsrhXzuF"
      },
      "source": [
        " Run Fast(Design)! Note: this takes ~1min 31s"
      ]
    },
    {
      "cell_type": "code",
      "execution_count": 16,
      "metadata": {
        "nbgrader": {
          "grade": true,
          "grade_id": "cell-5bcc2bfb4357035d",
          "locked": false,
          "points": 0,
          "schema_version": 3,
          "solution": true
        },
        "id": "NF6vC0ZFXzuF",
        "outputId": "9625fd78-cef8-4060-c194-f7de3f66528e",
        "colab": {
          "base_uri": "https://localhost:8080/"
        }
      },
      "outputs": [
        {
          "output_type": "stream",
          "name": "stdout",
          "text": [
            "core.energy_methods.CartesianBondedEnergy: Creating new peptide-bonded energy container (46)\n",
            "basic.io.database: Database file opened: scoring/score_functions/elec_cp_reps.dat\n",
            "core.scoring.elec.util: Read 40 countpair representative atoms\n",
            "core.pack.dunbrack.RotamerLibrary: shapovalov_lib_fixes_enable option is true.\n",
            "core.pack.dunbrack.RotamerLibrary: shapovalov_lib::shap_dun10_smooth_level of 1( aka lowest_smooth ) got activated.\n",
            "core.pack.dunbrack.RotamerLibrary: Binary rotamer library selected: /usr/local/lib/python3.10/dist-packages/pyrosetta/database/rotamer/shapovalov/StpDwn_0-0-0/Dunbrack10.lib.bin\n",
            "core.pack.dunbrack.RotamerLibrary: Using Dunbrack library binary file '/usr/local/lib/python3.10/dist-packages/pyrosetta/database/rotamer/shapovalov/StpDwn_0-0-0/Dunbrack10.lib.bin'.\n",
            "core.pack.dunbrack.RotamerLibrary: Dunbrack 2010 library took 0.585612 seconds to load from binary\n",
            "protocols.relax.FastRelax: CMD: repeat  2280.6  0  0  0.55\n",
            "protocols.relax.FastRelax: CMD: coord_cst_weight  2280.6  0  0  0.55\n",
            "protocols.relax.FastRelax: CMD: scale:fa_rep  1412.02  0  0  0.022\n",
            "core.pack.task: Packer task: initialize from command line()\n",
            "core.pack.pack_rotamers: built 5671 rotamers at 46 positions.\n",
            "core.pack.interaction_graph.interaction_graph_factory: Instantiating PDInteractionGraph\n",
            "protocols.relax.FastRelax: CMD: repack  75.0546  0  0  0.022\n",
            "protocols.relax.FastRelax: CMD: scale:fa_rep  80.5996  0  0  0.02805\n",
            "protocols.relax.FastRelax: CMD: min  -174.362  0.847024  0.847024  0.02805\n",
            "protocols.relax.FastRelax: CMD: coord_cst_weight  -174.362  0.847024  0.847024  0.02805\n",
            "protocols.relax.FastRelax: CMD: scale:fa_rep  -70.5465  0.847024  0.847024  0.14575\n",
            "core.pack.task: Packer task: initialize from command line()\n",
            "core.pack.pack_rotamers: built 3239 rotamers at 46 positions.\n",
            "core.pack.interaction_graph.interaction_graph_factory: Instantiating PDInteractionGraph\n",
            "protocols.relax.FastRelax: CMD: repack  -92.5806  0.847024  0.847024  0.14575\n",
            "protocols.relax.FastRelax: CMD: scale:fa_rep  -88.3102  0.847024  0.847024  0.154\n",
            "protocols.relax.FastRelax: CMD: min  -135.922  0.720566  0.720566  0.154\n",
            "protocols.relax.FastRelax: CMD: coord_cst_weight  -135.922  0.720566  0.720566  0.154\n",
            "protocols.relax.FastRelax: CMD: scale:fa_rep  -112.627  0.720566  0.720566  0.30745\n",
            "core.pack.task: Packer task: initialize from command line()\n",
            "core.pack.pack_rotamers: built 2876 rotamers at 46 positions.\n",
            "core.pack.interaction_graph.interaction_graph_factory: Instantiating PDInteractionGraph\n",
            "protocols.relax.FastRelax: CMD: repack  -112.748  0.720566  0.720566  0.30745\n",
            "protocols.relax.FastRelax: CMD: scale:fa_rep  -110.934  0.720566  0.720566  0.31955\n",
            "protocols.relax.FastRelax: CMD: min  -119.694  0.700685  0.700685  0.31955\n",
            "protocols.relax.FastRelax: CMD: coord_cst_weight  -119.694  0.700685  0.700685  0.31955\n",
            "protocols.relax.FastRelax: CMD: scale:fa_rep  -101.375  0.700685  0.700685  0.55\n",
            "core.pack.task: Packer task: initialize from command line()\n",
            "core.pack.pack_rotamers: built 2942 rotamers at 46 positions.\n",
            "core.pack.interaction_graph.interaction_graph_factory: Instantiating PDInteractionGraph\n",
            "protocols.relax.FastRelax: CMD: repack  -101.375  0.700685  0.700685  0.55\n",
            "protocols.relax.FastRelax: CMD: min  -105.309  0.693861  0.693861  0.55\n",
            "protocols.relax.FastRelax: MRP: 0  -105.309  -105.309  0.693861  0.693861\n",
            "protocols.relax.FastRelax: CMD: accept_to_best  -105.309  0.693861  0.693861  0.55\n",
            "protocols.relax.FastRelax: CMD: endrepeat  -105.309  0.693861  0.693861  0.55\n",
            "protocols::checkpoint: Deleting checkpoints of FastRelax\n",
            "CPU times: user 1min 30s, sys: 1.07 s, total: 1min 31s\n",
            "Wall time: 1min 35s\n"
          ]
        }
      ],
      "source": [
        "### BEGIN SOLUTION\n",
        "%time fr.apply(pose)\n",
        "### END SOLUTION"
      ]
    },
    {
      "cell_type": "markdown",
      "metadata": {
        "id": "AbwUaJxXXzuF"
      },
      "source": [
        "### Analysis\n",
        "\n",
        "Inspect the resulting design!"
      ]
    },
    {
      "cell_type": "markdown",
      "metadata": {
        "id": "aSw4yEb_XzuF"
      },
      "source": [
        " By how many Angstroms RMSD did the backbone Cα atoms move?"
      ]
    },
    {
      "cell_type": "code",
      "execution_count": 17,
      "metadata": {
        "id": "MeQWJCHWXzuQ",
        "outputId": "33a6523d-ff9f-4875-9016-28d29cdfd687",
        "colab": {
          "base_uri": "https://localhost:8080/"
        }
      },
      "outputs": [
        {
          "output_type": "execute_result",
          "data": {
            "text/plain": [
              "0.6938614845275879"
            ]
          },
          "metadata": {},
          "execution_count": 17
        }
      ],
      "source": [
        "pyrosetta.rosetta.core.scoring.CA_rmsd(start_pose, pose)"
      ]
    },
    {
      "cell_type": "markdown",
      "metadata": {
        "id": "g98ashmBXzuQ"
      },
      "source": [
        "What is the delta `total_score` from `start_pose` to `pose`? Why is it large?"
      ]
    },
    {
      "cell_type": "code",
      "execution_count": 18,
      "metadata": {
        "id": "39NXPhLqXzuR",
        "outputId": "e762c5d2-18dd-42ce-dc67-d335f5da99a7",
        "colab": {
          "base_uri": "https://localhost:8080/"
        }
      },
      "outputs": [
        {
          "output_type": "stream",
          "name": "stdout",
          "text": [
            "core.energy_methods.CartesianBondedEnergy: Creating new peptide-bonded energy container (46)\n",
            "-2385.912183259604\n"
          ]
        }
      ],
      "source": [
        "delta_total_score = scorefxn(pose) - scorefxn(start_pose)\n",
        "print(delta_total_score)"
      ]
    },
    {
      "cell_type": "markdown",
      "metadata": {
        "id": "zwFxiMVAXzuR"
      },
      "source": [
        " What is the per-residue energy difference for each mutated position between `start_pose` and `pose`?"
      ]
    },
    {
      "cell_type": "code",
      "execution_count": 19,
      "metadata": {
        "nbgrader": {
          "grade": true,
          "grade_id": "cell-32cfb702cb53c564",
          "locked": false,
          "points": 0,
          "schema_version": 3,
          "solution": true
        },
        "id": "A1FdO4I7XzuR",
        "outputId": "99d85ab3-c1ad-4610-a6fe-d87644a973f4",
        "colab": {
          "base_uri": "https://localhost:8080/"
        }
      },
      "outputs": [
        {
          "output_type": "stream",
          "name": "stdout",
          "text": [
            "The delta total_score for residue 3 between start_pose and pose is -13.739342934429018\n",
            "The delta total_score for residue 4 between start_pose and pose is -164.8289645911436\n",
            "The delta total_score for residue 16 between start_pose and pose is -204.15978528941434\n",
            "The delta total_score for residue 26 between start_pose and pose is -7.286949744680029\n",
            "The delta total_score for residue 32 between start_pose and pose is -6.705718665840315\n",
            "The delta total_score for residue 40 between start_pose and pose is -6.1238846315962245\n"
          ]
        }
      ],
      "source": [
        "### BEGIN SOLUTION\n",
        "\n",
        "for i in cys_res:\n",
        "    pose_total_score = pyrosetta.rosetta.protocols.relax.get_per_residue_scores(pose, pyrosetta.rosetta.core.scoring.ScoreType.total_score)[i - 1]\n",
        "    start_pose_total_score = pyrosetta.rosetta.protocols.relax.get_per_residue_scores(start_pose, pyrosetta.rosetta.core.scoring.ScoreType.total_score)[i - 1]\n",
        "    print(\"The delta total_score for residue {} between start_pose and pose is {}\".format(i, pose_total_score - start_pose_total_score))\n",
        "\n",
        "### END SOLUTION"
      ]
    },
    {
      "cell_type": "code",
      "execution_count": null,
      "metadata": {
        "id": "hJmYlHmoXzuR"
      },
      "outputs": [],
      "source": []
    },
    {
      "cell_type": "markdown",
      "metadata": {
        "id": "XTNQwUuBXzuR"
      },
      "source": [
        "<!--NAVIGATION-->\n",
        "< [Packing and Relax](http://nbviewer.jupyter.org/github/RosettaCommons/PyRosetta.notebooks/blob/master/notebooks/06.02-Packing-design-and-regional-relax.ipynb) | [Contents](toc.ipynb) | [Index](index.ipynb) | [Protein Design 2](http://nbviewer.jupyter.org/github/RosettaCommons/PyRosetta.notebooks/blob/master/notebooks/06.04-Protein-Design-2.ipynb) ><p><a href=\"https://colab.research.google.com/github/RosettaCommons/PyRosetta.notebooks/blob/master/notebooks/06.03-Design-with-a-resfile-and-relax.ipynb\"><img align=\"left\" src=\"https://colab.research.google.com/assets/colab-badge.svg\" alt=\"Open in Colab\" title=\"Open in Google Colaboratory\"></a>"
      ]
    }
  ],
  "metadata": {
    "celltoolbar": "Create Assignment",
    "kernelspec": {
      "display_name": "Python 3",
      "language": "python",
      "name": "python3"
    },
    "language_info": {
      "codemirror_mode": {
        "name": "ipython",
        "version": 3
      },
      "file_extension": ".py",
      "mimetype": "text/x-python",
      "name": "python",
      "nbconvert_exporter": "python",
      "pygments_lexer": "ipython3",
      "version": "3.6.0"
    },
    "toc": {
      "base_numbering": 1,
      "nav_menu": {},
      "number_sections": true,
      "sideBar": true,
      "skip_h1_title": false,
      "title_cell": "Table of Contents",
      "title_sidebar": "Contents",
      "toc_cell": false,
      "toc_position": {},
      "toc_section_display": true,
      "toc_window_display": false
    },
    "colab": {
      "provenance": [],
      "include_colab_link": true
    }
  },
  "nbformat": 4,
  "nbformat_minor": 0
}