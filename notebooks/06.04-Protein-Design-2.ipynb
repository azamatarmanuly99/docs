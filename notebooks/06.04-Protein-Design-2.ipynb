{
  "cells": [
    {
      "cell_type": "markdown",
      "metadata": {
        "id": "view-in-github",
        "colab_type": "text"
      },
      "source": [
        "<a href=\"https://colab.research.google.com/github/azamatarmanuly99/docs/blob/main/notebooks/06.04-Protein-Design-2.ipynb\" target=\"_parent\"><img src=\"https://colab.research.google.com/assets/colab-badge.svg\" alt=\"Open In Colab\"/></a>"
      ]
    },
    {
      "cell_type": "markdown",
      "metadata": {
        "id": "6AGDG1BWFMvt"
      },
      "source": [
        "<!--NOTEBOOK_HEADER-->\n",
        "*This notebook contains material from [PyRosetta](https://RosettaCommons.github.io/PyRosetta.notebooks);\n",
        "content is available [on Github](https://github.com/RosettaCommons/PyRosetta.notebooks.git).*"
      ]
    },
    {
      "cell_type": "markdown",
      "metadata": {
        "id": "5tvUltycFMv4"
      },
      "source": [
        "<!--NAVIGATION-->\n",
        "< [Protein Design with a Resfile and FastRelax](http://nbviewer.jupyter.org/github/RosettaCommons/PyRosetta.notebooks/blob/master/notebooks/06.03-Design-with-a-resfile-and-relax.ipynb) | [Contents](toc.ipynb) | [Index](index.ipynb) | [HBNet Before Design](http://nbviewer.jupyter.org/github/RosettaCommons/PyRosetta.notebooks/blob/master/notebooks/06.05-HBNet-Before-Design.ipynb) ><p><a href=\"https://colab.research.google.com/github/RosettaCommons/PyRosetta.notebooks/blob/master/notebooks/06.04-Protein-Design-2.ipynb\"><img align=\"left\" src=\"https://colab.research.google.com/assets/colab-badge.svg\" alt=\"Open in Colab\" title=\"Open in Google Colaboratory\"></a>"
      ]
    },
    {
      "cell_type": "markdown",
      "metadata": {
        "id": "jqrXdNG-FMv6"
      },
      "source": [
        "# Protein Design 2\n",
        "\n",
        "Keywords: FastDesign, FastRelax, ResidueSelector, TaskFactory, TaskOperation, pose_from_rcsb, get_residues_from_subset, ResidueNameSelector, ChainSelector, ResiduePropertySelector, NotResidueSelector, AndResidueSelector, RestrictToRepackingRLT, RestrictAbsentCanonicalAASRLT, NoRepackDisulfides, OperateOnResidueSubset\n",
        "\n",
        "## Overview\n",
        "\n",
        "Here, we will expand upon our knowledge of ResidueSelectors and TaskOperations and how to use them.  We can once again use FastRelax or FastDesign to do design.  Since we don't need any additional tools offered by FastDesign, we will use FastRelax.  I like to call it RelaxedDesign. :)"
      ]
    },
    {
      "cell_type": "markdown",
      "metadata": {
        "id": "nmJfrTgTFMv8"
      },
      "source": [
        "*Warning*: This notebook uses `pyrosetta.distributed.viewer` code, which runs in `jupyter notebook` and might not run if you're using `jupyterlab`."
      ]
    },
    {
      "cell_type": "code",
      "execution_count": 1,
      "metadata": {
        "colab": {
          "base_uri": "https://localhost:8080/"
        },
        "id": "LyYitV9eFMv-",
        "outputId": "939fd3ae-f866-444f-95c4-8ba4c4507867"
      },
      "outputs": [
        {
          "output_type": "stream",
          "name": "stdout",
          "text": [
            "Collecting pyrosettacolabsetup\n",
            "  Downloading pyrosettacolabsetup-1.0.7-py3-none-any.whl (4.8 kB)\n",
            "Installing collected packages: pyrosettacolabsetup\n",
            "Successfully installed pyrosettacolabsetup-1.0.7\n",
            "Mounted at /content/google_drive\n",
            "Looking for compatible PyRosetta wheel file at google-drive/PyRosetta/colab.bin//wheels...\n",
            "Found compatible wheel: /content/google_drive/MyDrive/PyRosetta/colab.bin/wheels//content/google_drive/MyDrive/PyRosetta/colab.bin/wheels/pyrosetta-2024.1+release.00b79147e63-cp310-cp310-linux_x86_64.whl\n",
            "\n",
            "\n",
            "PyRosetta-4 2023 [Rosetta PyRosetta4.MinSizeRel.python310.ubuntu 2024.01+release.00b79147e63be743438188f93a3f069ca75106d6 2023-12-25T16:35:48] retrieved from: http://www.pyrosetta.org\n",
            "(C) Copyright Rosetta Commons Member Institutions. Created in JHU by Sergey Lyskov and PyRosetta Team.\n",
            "core.init: Checking for fconfig files in pwd and ./rosetta/flags\n",
            "core.init: Rosetta version: PyRosetta4.MinSizeRel.python310.ubuntu r366 2024.01+release.00b79147e63 00b79147e63be743438188f93a3f069ca75106d6 http://www.pyrosetta.org 2023-12-25T16:35:48\n",
            "core.init: command: PyRosetta -ex1 -ex2aro -database /usr/local/lib/python3.10/dist-packages/pyrosetta/database\n",
            "basic.random.init_random_generator: 'RNG device' seed mode, using '/dev/urandom', seed=1304962464 seed_offset=0 real_seed=1304962464\n",
            "basic.random.init_random_generator: RandomGenerator:init: Normal mode, seed=1304962464 RG_type=mt19937\n"
          ]
        }
      ],
      "source": [
        "!pip install pyrosettacolabsetup\n",
        "import pyrosettacolabsetup; pyrosettacolabsetup.install_pyrosetta()\n",
        "import pyrosetta; pyrosetta.init()\n"
      ]
    },
    {
      "cell_type": "markdown",
      "metadata": {
        "id": "vJk-HoepFMwC"
      },
      "source": [
        "**Make sure you are in the directory with the pdb files:**\n",
        "\n",
        "`cd google_drive/My\\ Drive/student-notebooks/`"
      ]
    },
    {
      "cell_type": "code",
      "execution_count": 2,
      "metadata": {
        "colab": {
          "base_uri": "https://localhost:8080/",
          "height": 17
        },
        "id": "IO2v3b6AFMwD",
        "outputId": "1deaee16-d405-4b0c-d032-76969bf38695"
      },
      "outputs": [
        {
          "output_type": "display_data",
          "data": {
            "text/plain": [
              "<IPython.core.display.HTML object>"
            ],
            "text/html": [
              "<style>.container { width:100% !important; }</style>"
            ]
          },
          "metadata": {}
        }
      ],
      "source": [
        "import logging\n",
        "logging.basicConfig(level=logging.INFO)\n",
        "import os\n",
        "import pyrosetta\n",
        "import pyrosetta.toolbox\n",
        "import site\n",
        "\n",
        "from IPython.core.display import display, HTML\n",
        "display(HTML(\"<style>.container { width:100% !important; }</style>\"))"
      ]
    },
    {
      "cell_type": "markdown",
      "metadata": {
        "id": "aeaCUxnVFMwH"
      },
      "source": [
        "## Initialize PyRosetta"
      ]
    },
    {
      "cell_type": "code",
      "execution_count": 3,
      "metadata": {
        "colab": {
          "base_uri": "https://localhost:8080/"
        },
        "id": "cpY7HGphFMwJ",
        "outputId": "250fd16a-d49a-45b6-a662-8f09fa120faf"
      },
      "outputs": [
        {
          "output_type": "stream",
          "name": "stdout",
          "text": [
            "PyRosetta-4 2023 [Rosetta PyRosetta4.MinSizeRel.python310.ubuntu 2024.01+release.00b79147e63be743438188f93a3f069ca75106d6 2023-12-25T16:35:48] retrieved from: http://www.pyrosetta.org\n",
            "(C) Copyright Rosetta Commons Member Institutions. Created in JHU by Sergey Lyskov and PyRosetta Team.\n",
            "core.init: Checking for fconfig files in pwd and ./rosetta/flags\n",
            "core.init: Rosetta version: PyRosetta4.MinSizeRel.python310.ubuntu r366 2024.01+release.00b79147e63 00b79147e63be743438188f93a3f069ca75106d6 http://www.pyrosetta.org 2023-12-25T16:35:48\n",
            "core.init: command: PyRosetta -ignore_unrecognized_res 1 -ex1 -ex2aro -database /usr/local/lib/python3.10/dist-packages/pyrosetta/database\n",
            "basic.random.init_random_generator: 'RNG device' seed mode, using '/dev/urandom', seed=1810679065 seed_offset=0 real_seed=1810679065\n",
            "basic.random.init_random_generator: RandomGenerator:init: Normal mode, seed=1810679065 RG_type=mt19937\n"
          ]
        }
      ],
      "source": [
        "pyrosetta.init(\"-ignore_unrecognized_res 1 -ex1 -ex2aro\")"
      ]
    },
    {
      "cell_type": "markdown",
      "metadata": {
        "id": "sgkSkbiTFMwL"
      },
      "source": [
        " For this tutorial, let's again use the native protein crambin from PDB ID 1AB1 (http://www.rcsb.org/structure/1AB1)\n",
        " Setup the input pose and scorefunction:"
      ]
    },
    {
      "cell_type": "code",
      "execution_count": 4,
      "metadata": {
        "colab": {
          "base_uri": "https://localhost:8080/"
        },
        "id": "V4HOmYFQFMwM",
        "outputId": "cba532f7-b81c-4a91-eace-199dcda180d3"
      },
      "outputs": [
        {
          "output_type": "stream",
          "name": "stdout",
          "text": [
            "core.chemical.GlobalResidueTypeSet: Finished initializing fa_standard residue type set.  Created 985 residue types\n",
            "core.chemical.GlobalResidueTypeSet: Total time to initialize 1.18675 seconds.\n",
            "core.import_pose.import_pose: File '1AB1.clean.pdb' automatically determined to be of type PDB\n",
            "core.io.pose_from_sfr.PoseFromSFRBuilder: [ WARNING ] discarding 3 atoms at position 1 in file 1AB1.clean.pdb. Best match rsd_type:  THR:NtermProteinFull\n",
            "core.conformation.Conformation: Found disulfide between residues 3 40\n",
            "core.conformation.Conformation: Found disulfide between residues 4 32\n",
            "core.conformation.Conformation: Found disulfide between residues 16 26\n",
            "core.scoring.etable: Starting energy table calculation\n",
            "core.scoring.etable: smooth_etable: changing atr/rep split to bottom of energy well\n",
            "core.scoring.etable: smooth_etable: spline smoothing lj etables (maxdis = 6)\n",
            "core.scoring.etable: smooth_etable: spline smoothing solvation etables (max_dis = 6)\n",
            "core.scoring.etable: Finished calculating energy tables.\n",
            "basic.io.database: Database file opened: scoring/score_functions/hbonds/ref2015_params/HBPoly1D.csv\n",
            "basic.io.database: Database file opened: scoring/score_functions/hbonds/ref2015_params/HBFadeIntervals.csv\n",
            "basic.io.database: Database file opened: scoring/score_functions/hbonds/ref2015_params/HBEval.csv\n",
            "basic.io.database: Database file opened: scoring/score_functions/hbonds/ref2015_params/DonStrength.csv\n",
            "basic.io.database: Database file opened: scoring/score_functions/hbonds/ref2015_params/AccStrength.csv\n",
            "basic.io.database: Database file opened: scoring/score_functions/rama/fd/all.ramaProb\n",
            "basic.io.database: Database file opened: scoring/score_functions/rama/fd/prepro.ramaProb\n",
            "basic.io.database: Database file opened: scoring/score_functions/omega/omega_ppdep.all.txt\n",
            "basic.io.database: Database file opened: scoring/score_functions/omega/omega_ppdep.gly.txt\n",
            "basic.io.database: Database file opened: scoring/score_functions/omega/omega_ppdep.pro.txt\n",
            "basic.io.database: Database file opened: scoring/score_functions/omega/omega_ppdep.valile.txt\n",
            "basic.io.database: Database file opened: scoring/score_functions/P_AA_pp/P_AA\n",
            "basic.io.database: Database file opened: scoring/score_functions/P_AA_pp/P_AA_n\n",
            "core.scoring.P_AA: shapovalov_lib::shap_p_aa_pp_smooth_level of 1( aka low_smooth ) got activated.\n",
            "basic.io.database: Database file opened: scoring/score_functions/P_AA_pp/shapovalov/10deg/kappa131/a20.prop\n",
            "core.energy_methods.CartesianBondedEnergy: Initializing IdealParametersDatabase with default Ks=300 , 80 , 80 , 10 , 80\n",
            "basic.io.database: Database file opened: scoring/score_functions/bondlength_bondangle/default-lengths.txt\n",
            "core.energy_methods.CartesianBondedEnergy: Read 759 bb-independent lengths.\n",
            "basic.io.database: Database file opened: scoring/score_functions/bondlength_bondangle/default-angles.txt\n",
            "core.energy_methods.CartesianBondedEnergy: Read 1434 bb-independent angles.\n",
            "basic.io.database: Database file opened: scoring/score_functions/bondlength_bondangle/default-torsions.txt\n",
            "core.energy_methods.CartesianBondedEnergy: Read 1 bb-independent torsions.\n",
            "basic.io.database: Database file opened: scoring/score_functions/bondlength_bondangle/default-improper.txt\n",
            "core.energy_methods.CartesianBondedEnergy: Read 529 bb-independent improper tors.\n"
          ]
        }
      ],
      "source": [
        "start_pose = pyrosetta.toolbox.rcsb.pose_from_rcsb(\"1AB1\", ATOM=True, CRYS=False)\n",
        "pose = start_pose.clone()\n",
        "scorefxn = pyrosetta.create_score_function(\"ref2015_cart.wts\")"
      ]
    },
    {
      "cell_type": "markdown",
      "metadata": {
        "id": "wxm4_k9oFMwN"
      },
      "source": [
        " To list the cysteine residues in crambin, now we use ResidueSelectors:\n",
        " Note difference in residue names \"CYS:disulfide\" vs. \"CYS\"\n",
        "\n",
        " Note that we could also use the `ResiduePropertySelector` and use the `DISULFIDE_BONDED` property to grab these."
      ]
    },
    {
      "cell_type": "code",
      "execution_count": 5,
      "metadata": {
        "colab": {
          "base_uri": "https://localhost:8080/"
        },
        "id": "M41Usv44FMwO",
        "outputId": "9e3371be-ef16-4986-e80f-44424ccd7891"
      },
      "outputs": [
        {
          "output_type": "stream",
          "name": "stdout",
          "text": [
            "vector1_unsigned_long[3, 4, 16, 26, 32, 40]\n"
          ]
        }
      ],
      "source": [
        "disulfide_res = pyrosetta.rosetta.core.select.residue_selector.ResidueNameSelector(\"CYS:disulfide\")\n",
        "print(pyrosetta.rosetta.core.select.get_residues_from_subset(disulfide_res.apply(pose)))"
      ]
    },
    {
      "cell_type": "markdown",
      "metadata": {
        "id": "tKDaPHK5FMwP"
      },
      "source": [
        " Inspect the starting pose using the `PyMolMover` or `dump_pdb()`. By default, disulfide bonds are not drawn even if they exist in PyRosetta:"
      ]
    },
    {
      "cell_type": "markdown",
      "metadata": {
        "id": "lMKxSsvzFMwQ"
      },
      "source": [
        " You can also use this shortcut to view a pose in `py3Dmol` which recognizes disulfide bonds in PyRosetta:\n",
        "\n",
        "Run one of the following, whether you git cloned the pyrosetta_scripts repository or downloaded visualization.py from the Google Drive\n",
        "\n",
        "`%run ~/pyrosetta_scripts/pilot/apps/klimaj/py3Dmol/visualization.py`\n",
        "`%run ./visualization.py`"
      ]
    },
    {
      "cell_type": "markdown",
      "metadata": {
        "id": "QM-FVqbXFMwQ"
      },
      "source": [
        "## Design strategy\n",
        "\n",
        "Design away the cysteine residues (i.e. disulfide bonds) using ResidueSelectors and TaskOperations, allowing all side-chains to re-pack and all backbone and side-chain torsions to minimize using the `FastDesign` mover."
      ]
    },
    {
      "cell_type": "markdown",
      "metadata": {
        "id": "Uxzuob2hFMwR"
      },
      "source": [
        " Note: because we did not include the `-detect_disulfide 0` command line flag in `pyrosetta.init()`, in order to mutate disulfide bonded cysteine residues using packing steps in the `FastDesign` mover, first we need to break the disulfide bonds:"
      ]
    },
    {
      "cell_type": "code",
      "execution_count": 6,
      "metadata": {
        "id": "2WLF8FxRFMwR"
      },
      "outputs": [],
      "source": [
        "for i in pyrosetta.rosetta.core.select.get_residues_from_subset(disulfide_res.apply(pose)):\n",
        "    for j in pyrosetta.rosetta.core.select.get_residues_from_subset(disulfide_res.apply(pose)):\n",
        "        if pyrosetta.rosetta.core.conformation.is_disulfide_bond(pose.conformation(), i, j):\n",
        "            pyrosetta.rosetta.core.conformation.break_disulfide(pose.conformation(), i, j)"
      ]
    },
    {
      "cell_type": "markdown",
      "metadata": {
        "id": "mzPnMhVDFMwR"
      },
      "source": [
        " Now we can declare a `ResidueSelector` for cysteine residues:"
      ]
    },
    {
      "cell_type": "code",
      "execution_count": 7,
      "metadata": {
        "colab": {
          "base_uri": "https://localhost:8080/"
        },
        "id": "fm4Ep_cDFMwS",
        "outputId": "a7ec33ef-fa10-480f-cb88-fe57ad2bc49c"
      },
      "outputs": [
        {
          "output_type": "stream",
          "name": "stdout",
          "text": [
            "vector1_unsigned_long[3, 4, 16, 26, 32, 40]\n"
          ]
        }
      ],
      "source": [
        "cys_res = pyrosetta.rosetta.core.select.residue_selector.ResidueNameSelector(\"CYS\")\n",
        "print(pyrosetta.rosetta.core.select.get_residues_from_subset(cys_res.apply(pose)))"
      ]
    },
    {
      "cell_type": "markdown",
      "metadata": {
        "id": "7cQy2QDIFMwT"
      },
      "source": [
        " Note: the pose consists of only chain \"A\""
      ]
    },
    {
      "cell_type": "code",
      "execution_count": 8,
      "metadata": {
        "colab": {
          "base_uri": "https://localhost:8080/"
        },
        "id": "VJDUuobrFMwT",
        "outputId": "256751c9-a75a-49a1-8246-2e78769bcc66"
      },
      "outputs": [
        {
          "output_type": "stream",
          "name": "stdout",
          "text": [
            "PDB file name: 1AB1.clean.pdb\n",
            " Pose Range  Chain    PDB Range  |   #Residues         #Atoms\n",
            "\n",
            "0001 -- 0046    A 0001  -- 0046  |   0046 residues;    00649 atoms\n",
            "                           TOTAL |   0046 residues;    00649 atoms\n",
            "\n"
          ]
        }
      ],
      "source": [
        "print(pose.pdb_info())"
      ]
    },
    {
      "cell_type": "markdown",
      "metadata": {
        "id": "5D2BJ4yCFMwU"
      },
      "source": [
        " Although the pose contains only chain A, if the pose contained other chains we could make the selection to only select chain A and cysteine residues using an `AndResidueSelector`. We will use this ResidueSelector with `RestrictAbsentCanonicalAASRLT` (restrict absent canonical amino acids residue level task operation)."
      ]
    },
    {
      "cell_type": "code",
      "execution_count": 9,
      "metadata": {
        "colab": {
          "base_uri": "https://localhost:8080/"
        },
        "id": "bL9-76zGFMwV",
        "outputId": "2f773739-87ae-48a0-a2ca-e668b40de5e9"
      },
      "outputs": [
        {
          "output_type": "stream",
          "name": "stdout",
          "text": [
            "vector1_unsigned_long[1, 2, 3, 4, 5, 6, 7, 8, 9, 10, 11, 12, 13, 14, 15, 16, 17, 18, 19, 20, 21, 22, 23, 24, 25, 26, 27, 28, 29, 30, 31, 32, 33, 34, 35, 36, 37, 38, 39, 40, 41, 42, 43, 44, 45, 46]\n",
            "vector1_unsigned_long[3, 4, 16, 26, 32, 40]\n"
          ]
        }
      ],
      "source": [
        "chain_A = pyrosetta.rosetta.core.select.residue_selector.ChainSelector(\"A\")\n",
        "print(pyrosetta.rosetta.core.select.get_residues_from_subset(chain_A.apply(pose)))\n",
        "chain_A_cys_res = pyrosetta.rosetta.core.select.residue_selector.AndResidueSelector(selector1=cys_res, selector2=chain_A)\n",
        "print(pyrosetta.rosetta.core.select.get_residues_from_subset(chain_A_cys_res.apply(pose)))"
      ]
    },
    {
      "cell_type": "markdown",
      "metadata": {
        "id": "ujDzBu0vFMwW"
      },
      "source": [
        " Specify a `NotResidueSelector` selecting everything except the `chain_A_cys_res` ResidueSelector to use with a `RestrictToRepackingRLT` (restrict to repacking residue level task operation):"
      ]
    },
    {
      "cell_type": "code",
      "execution_count": 10,
      "metadata": {
        "colab": {
          "base_uri": "https://localhost:8080/"
        },
        "id": "t_yKxsklFMwW",
        "outputId": "69957a32-73f4-452e-f8a5-f8708502937e"
      },
      "outputs": [
        {
          "output_type": "stream",
          "name": "stdout",
          "text": [
            "vector1_unsigned_long[1, 2, 5, 6, 7, 8, 9, 10, 11, 12, 13, 14, 15, 17, 18, 19, 20, 21, 22, 23, 24, 25, 27, 28, 29, 30, 31, 33, 34, 35, 36, 37, 38, 39, 41, 42, 43, 44, 45, 46]\n"
          ]
        }
      ],
      "source": [
        "not_chain_A_cys_res = pyrosetta.rosetta.core.select.residue_selector.NotResidueSelector(chain_A_cys_res)\n",
        "print(pyrosetta.rosetta.core.select.get_residues_from_subset(not_chain_A_cys_res.apply(pose)))"
      ]
    },
    {
      "cell_type": "markdown",
      "metadata": {
        "id": "DtnJUxgrFMwX"
      },
      "source": [
        " Quickly view the `not_chain_A_cys_res` ResidueSelector:"
      ]
    },
    {
      "cell_type": "markdown",
      "metadata": {
        "id": "8VsBrhBbFMwX"
      },
      "source": [
        " Now we can set up the TaskOperations for `FastDesign`:"
      ]
    },
    {
      "cell_type": "code",
      "execution_count": 11,
      "metadata": {
        "colab": {
          "base_uri": "https://localhost:8080/"
        },
        "id": "sMm__IegFMwY",
        "outputId": "94269837-77b5-4251-9fb4-77cec65f1511"
      },
      "outputs": [
        {
          "output_type": "stream",
          "name": "stdout",
          "text": [
            "core.pack.task: Packer task: initialize from command line()\n",
            "#Packer_Task\n",
            "\n",
            "Threads to request: ALL AVAILABLE\n",
            "\n",
            "resid\tpack?\tdesign?\tallowed_aas\n",
            "1\tTRUE\tFALSE\tTHR:NtermProteinFull\n",
            "2\tTRUE\tFALSE\tTHR\n",
            "3\tTRUE\tTRUE\tALA,ASP,GLU,PHE,GLY,HIS,HIS_D,ILE,LYS,LEU,MET,ASN,PRO,GLN,ARG,SER,THR,VAL,TRP,TYR\n",
            "4\tTRUE\tTRUE\tALA,ASP,GLU,PHE,GLY,HIS,HIS_D,ILE,LYS,LEU,MET,ASN,PRO,GLN,ARG,SER,THR,VAL,TRP,TYR\n",
            "5\tTRUE\tFALSE\tPRO\n",
            "6\tTRUE\tFALSE\tSER\n",
            "7\tTRUE\tFALSE\tILE\n",
            "8\tTRUE\tFALSE\tVAL\n",
            "9\tTRUE\tFALSE\tALA\n",
            "10\tTRUE\tFALSE\tARG\n",
            "11\tTRUE\tFALSE\tSER\n",
            "12\tTRUE\tFALSE\tASN\n",
            "13\tTRUE\tFALSE\tPHE\n",
            "14\tTRUE\tFALSE\tASN\n",
            "15\tTRUE\tFALSE\tVAL\n",
            "16\tTRUE\tTRUE\tALA,ASP,GLU,PHE,GLY,HIS,HIS_D,ILE,LYS,LEU,MET,ASN,PRO,GLN,ARG,SER,THR,VAL,TRP,TYR\n",
            "17\tTRUE\tFALSE\tARG\n",
            "18\tTRUE\tFALSE\tLEU\n",
            "19\tTRUE\tFALSE\tPRO\n",
            "20\tTRUE\tFALSE\tGLY\n",
            "21\tTRUE\tFALSE\tTHR\n",
            "22\tTRUE\tFALSE\tSER\n",
            "23\tTRUE\tFALSE\tGLU\n",
            "24\tTRUE\tFALSE\tALA\n",
            "25\tTRUE\tFALSE\tILE\n",
            "26\tTRUE\tTRUE\tALA,ASP,GLU,PHE,GLY,HIS,HIS_D,ILE,LYS,LEU,MET,ASN,PRO,GLN,ARG,SER,THR,VAL,TRP,TYR\n",
            "27\tTRUE\tFALSE\tALA\n",
            "28\tTRUE\tFALSE\tTHR\n",
            "29\tTRUE\tFALSE\tTYR\n",
            "30\tTRUE\tFALSE\tTHR\n",
            "31\tTRUE\tFALSE\tGLY\n",
            "32\tTRUE\tTRUE\tALA,ASP,GLU,PHE,GLY,HIS,HIS_D,ILE,LYS,LEU,MET,ASN,PRO,GLN,ARG,SER,THR,VAL,TRP,TYR\n",
            "33\tTRUE\tFALSE\tILE\n",
            "34\tTRUE\tFALSE\tILE\n",
            "35\tTRUE\tFALSE\tILE\n",
            "36\tTRUE\tFALSE\tPRO\n",
            "37\tTRUE\tFALSE\tGLY\n",
            "38\tTRUE\tFALSE\tALA\n",
            "39\tTRUE\tFALSE\tTHR\n",
            "40\tTRUE\tTRUE\tALA,ASP,GLU,PHE,GLY,HIS,HIS_D,ILE,LYS,LEU,MET,ASN,PRO,GLN,ARG,SER,THR,VAL,TRP,TYR\n",
            "41\tTRUE\tFALSE\tPRO\n",
            "42\tTRUE\tFALSE\tGLY\n",
            "43\tTRUE\tFALSE\tASP\n",
            "44\tTRUE\tFALSE\tTYR\n",
            "45\tTRUE\tFALSE\tALA\n",
            "46\tTRUE\tFALSE\tASN:CtermProteinFull\n",
            "\n"
          ]
        }
      ],
      "source": [
        "# The task factory accepts all the task operations\n",
        "tf = pyrosetta.rosetta.core.pack.task.TaskFactory()\n",
        "\n",
        "# These are pretty standard\n",
        "tf.push_back(pyrosetta.rosetta.core.pack.task.operation.InitializeFromCommandline())\n",
        "tf.push_back(pyrosetta.rosetta.core.pack.task.operation.IncludeCurrent())\n",
        "tf.push_back(pyrosetta.rosetta.core.pack.task.operation.NoRepackDisulfides())\n",
        "\n",
        "\n",
        "# Disable design (i.e. repack only) on not_chain_A_cys_res\n",
        "tf.push_back(pyrosetta.rosetta.core.pack.task.operation.OperateOnResidueSubset(\n",
        "    pyrosetta.rosetta.core.pack.task.operation.RestrictToRepackingRLT(), not_chain_A_cys_res))\n",
        "\n",
        "# Enable design on chain_A_cys_res\n",
        "aa_to_design = pyrosetta.rosetta.core.pack.task.operation.RestrictAbsentCanonicalAASRLT()\n",
        "aa_to_design.aas_to_keep(\"ADEFGHIKLMNPQRSTVWY\")\n",
        "tf.push_back(pyrosetta.rosetta.core.pack.task.operation.OperateOnResidueSubset(\n",
        "    aa_to_design, chain_A_cys_res))\n",
        "\n",
        "# Convert the task factory into a PackerTask\n",
        "packer_task = tf.create_task_and_apply_taskoperations(pose)\n",
        "# View the PackerTask\n",
        "print(packer_task)"
      ]
    },
    {
      "cell_type": "markdown",
      "metadata": {
        "id": "Zb8-cCKjFMwZ"
      },
      "source": [
        " This time we will set up a `MoveMap` to establish which torsions are free to minimize"
      ]
    },
    {
      "cell_type": "code",
      "execution_count": 12,
      "metadata": {
        "id": "CsHiOJJfFMwZ"
      },
      "outputs": [],
      "source": [
        "mm = pyrosetta.rosetta.core.kinematics.MoveMap()\n",
        "mm.set_bb(True)\n",
        "mm.set_chi(True)\n",
        "mm.set_jump(True)"
      ]
    },
    {
      "cell_type": "markdown",
      "metadata": {
        "id": "zSruQ9W5FMwa"
      },
      "source": [
        "Set up `FastDesign`"
      ]
    },
    {
      "cell_type": "code",
      "execution_count": 13,
      "metadata": {
        "colab": {
          "base_uri": "https://localhost:8080/"
        },
        "id": "CY2j3mfJFMwa",
        "outputId": "814a1597-a317-48d1-d38b-3187b01c7c79"
      },
      "outputs": [
        {
          "output_type": "stream",
          "name": "stdout",
          "text": [
            "protocols.relax.RelaxScriptManager: Reading relax scripts list from database.\n",
            "protocols.relax.RelaxScriptManager: Looking for MonomerDesign2019.txt\n",
            "protocols.relax.RelaxScriptManager: ================== Reading script file: /usr/local/lib/python3.10/dist-packages/pyrosetta/database/sampling/relax_scripts/MonomerDesign2019.txt ==================\n",
            "protocols.relax.RelaxScriptManager: repeat %%nrepeats%%\n",
            "protocols.relax.RelaxScriptManager: coord_cst_weight 1.0\n",
            "protocols.relax.RelaxScriptManager: scale:fa_rep 0.059\n",
            "protocols.relax.RelaxScriptManager: repack\n",
            "protocols.relax.RelaxScriptManager: scale:fa_rep 0.092\n",
            "protocols.relax.RelaxScriptManager: min 0.01\n",
            "protocols.relax.RelaxScriptManager: coord_cst_weight 0.5\n",
            "protocols.relax.RelaxScriptManager: scale:fa_rep 0.280\n",
            "protocols.relax.RelaxScriptManager: repack\n",
            "protocols.relax.RelaxScriptManager: scale:fa_rep 0.323\n",
            "protocols.relax.RelaxScriptManager: min 0.01\n",
            "protocols.relax.RelaxScriptManager: coord_cst_weight 0.0\n",
            "protocols.relax.RelaxScriptManager: scale:fa_rep 0.568\n",
            "protocols.relax.RelaxScriptManager: repack\n",
            "protocols.relax.RelaxScriptManager: scale:fa_rep 0.633\n",
            "protocols.relax.RelaxScriptManager: min 0.01\n",
            "protocols.relax.RelaxScriptManager: coord_cst_weight 0.0\n",
            "protocols.relax.RelaxScriptManager: scale:fa_rep 1\n",
            "protocols.relax.RelaxScriptManager: repack\n",
            "protocols.relax.RelaxScriptManager: min 0.00001\n",
            "protocols.relax.RelaxScriptManager: accept_to_best\n",
            "protocols.relax.RelaxScriptManager: endrepeat\n"
          ]
        }
      ],
      "source": [
        "rel_design = pyrosetta.rosetta.protocols.relax.FastRelax(scorefxn_in=scorefxn, standard_repeats=1, script_file=\"MonomerDesign2019\")\n",
        "rel_design.cartesian(True)\n",
        "rel_design.set_task_factory(tf)\n",
        "rel_design.set_movemap(mm)\n",
        "rel_design.minimize_bond_angles(True)\n",
        "rel_design.minimize_bond_lengths(True)"
      ]
    },
    {
      "cell_type": "markdown",
      "metadata": {
        "id": "zCitbEEFFMwb"
      },
      "source": [
        " Run the `FastDesign` mover. Note: this takes ~39.6 s"
      ]
    },
    {
      "cell_type": "code",
      "execution_count": 14,
      "metadata": {
        "nbgrader": {
          "grade": true,
          "grade_id": "cell-0276fa644308dd5b",
          "locked": false,
          "points": 0,
          "schema_version": 3,
          "solution": true
        },
        "colab": {
          "base_uri": "https://localhost:8080/"
        },
        "id": "pQT-ipw5FMwc",
        "outputId": "c5fc3938-5f02-4bfe-9328-9d5dacb84e19"
      },
      "outputs": [
        {
          "output_type": "stream",
          "name": "stdout",
          "text": [
            "core.energy_methods.CartesianBondedEnergy: Creating new peptide-bonded energy container (46)\n",
            "basic.io.database: Database file opened: scoring/score_functions/elec_cp_reps.dat\n",
            "core.scoring.elec.util: Read 40 countpair representative atoms\n",
            "core.pack.dunbrack.RotamerLibrary: shapovalov_lib_fixes_enable option is true.\n",
            "core.pack.dunbrack.RotamerLibrary: shapovalov_lib::shap_dun10_smooth_level of 1( aka lowest_smooth ) got activated.\n",
            "core.pack.dunbrack.RotamerLibrary: Binary rotamer library selected: /usr/local/lib/python3.10/dist-packages/pyrosetta/database/rotamer/shapovalov/StpDwn_0-0-0/Dunbrack10.lib.bin\n",
            "core.pack.dunbrack.RotamerLibrary: Using Dunbrack library binary file '/usr/local/lib/python3.10/dist-packages/pyrosetta/database/rotamer/shapovalov/StpDwn_0-0-0/Dunbrack10.lib.bin'.\n",
            "core.pack.dunbrack.RotamerLibrary: Dunbrack 2010 library took 0.434456 seconds to load from binary\n",
            "protocols.relax.FastRelax: CMD: repeat  2280.6  0  0  0.55\n",
            "protocols.relax.FastRelax: CMD: coord_cst_weight  2280.6  0  0  0.55\n",
            "protocols.relax.FastRelax: CMD: scale:fa_rep  1429.21  0  0  0.03245\n",
            "core.pack.task: Packer task: initialize from command line()\n",
            "core.pack.pack_rotamers: built 5220 rotamers at 46 positions.\n",
            "core.pack.interaction_graph.interaction_graph_factory: Instantiating PDInteractionGraph\n",
            "protocols.relax.FastRelax: CMD: repack  80.6356  0  0  0.03245\n",
            "protocols.relax.FastRelax: CMD: scale:fa_rep  87.2606  0  0  0.0506\n",
            "protocols.relax.FastRelax: CMD: min  -164.892  1.20128  1.20128  0.0506\n",
            "protocols.relax.FastRelax: CMD: coord_cst_weight  -164.892  1.20128  1.20128  0.0506\n",
            "protocols.relax.FastRelax: CMD: scale:fa_rep  -116.873  1.20128  1.20128  0.154\n",
            "core.pack.task: Packer task: initialize from command line()\n",
            "core.pack.pack_rotamers: built 884 rotamers at 46 positions.\n",
            "core.pack.interaction_graph.interaction_graph_factory: Instantiating DensePDInteractionGraph\n",
            "protocols.relax.FastRelax: CMD: repack  -117.638  1.20128  1.20128  0.154\n",
            "protocols.relax.FastRelax: CMD: scale:fa_rep  -106.841  1.20128  1.20128  0.17765\n",
            "protocols.relax.FastRelax: CMD: min  -136.142  1.03803  1.03803  0.17765\n",
            "protocols.relax.FastRelax: CMD: coord_cst_weight  -136.142  1.03803  1.03803  0.17765\n",
            "protocols.relax.FastRelax: CMD: scale:fa_rep  -116.796  1.03803  1.03803  0.3124\n",
            "core.pack.task: Packer task: initialize from command line()\n",
            "core.pack.pack_rotamers: built 814 rotamers at 46 positions.\n",
            "core.pack.interaction_graph.interaction_graph_factory: Instantiating DensePDInteractionGraph\n",
            "protocols.relax.FastRelax: CMD: repack  -116.962  1.03803  1.03803  0.3124\n",
            "protocols.relax.FastRelax: CMD: scale:fa_rep  -111.882  1.03803  1.03803  0.34815\n",
            "protocols.relax.FastRelax: CMD: min  -119.89  0.961673  0.961673  0.34815\n",
            "protocols.relax.FastRelax: CMD: coord_cst_weight  -119.89  0.961673  0.961673  0.34815\n",
            "protocols.relax.FastRelax: CMD: scale:fa_rep  -103.913  0.961673  0.961673  0.55\n",
            "core.pack.task: Packer task: initialize from command line()\n",
            "core.pack.pack_rotamers: built 799 rotamers at 46 positions.\n",
            "core.pack.interaction_graph.interaction_graph_factory: Instantiating DensePDInteractionGraph\n",
            "protocols.relax.FastRelax: CMD: repack  -103.913  0.961673  0.961673  0.55\n",
            "protocols.relax.FastRelax: CMD: min  -107.235  0.857481  0.857481  0.55\n",
            "protocols.relax.FastRelax: MRP: 0  -107.235  -107.235  0.857481  0.857481\n",
            "protocols.relax.FastRelax: CMD: accept_to_best  -107.235  0.857481  0.857481  0.55\n",
            "protocols.relax.FastRelax: CMD: endrepeat  -107.235  0.857481  0.857481  0.55\n",
            "protocols::checkpoint: Deleting checkpoints of FastRelax\n",
            "CPU times: user 1min 5s, sys: 973 ms, total: 1min 6s\n",
            "Wall time: 1min 7s\n"
          ]
        }
      ],
      "source": [
        "### BEGIN SOLUTION\n",
        "%time rel_design.apply(pose)\n",
        "### END SOLUTION"
      ]
    },
    {
      "cell_type": "markdown",
      "metadata": {
        "id": "IK3Hno04FMwd"
      },
      "source": [
        " Inspect the resulting design!"
      ]
    },
    {
      "cell_type": "markdown",
      "metadata": {
        "id": "ZuNh_ZQFFMwd"
      },
      "source": [
        "## *Design Challenge*:\n",
        "\n",
        "### Copy and modify this script to:\n",
        " - Repack all residues and allow all degrees of freedom to minimize (i.e. FastRelax) `start_pose` prior to downstream design. Use the resulting `start_pose` for analysis.\n",
        " - Re-design the cysteine residues in `start_pose` to allow only hydrophobic residues excluding glycine and proline\n",
        " - Only re-pack residues within a 6 Angstroms radius around the neighborhood of each cysteine residue (Cα-Cα distance)\n",
        "   - Note this will require using:\n",
        "   - The NeighborhoodResidueSelector: `pyrosetta.rosetta.core.select.residue_selector.NeighborhoodResidueSelector(selector, distance, include_focus_in_subset)`\n",
        "   - The prevent repacking residue level task operation: `pyrosetta.rosetta.core.pack.task.operation.PreventRepackingRLT()`\n",
        " - Minimize only the side-chains (chi degrees of freedom) being re-packed or designed\n",
        " - Allow the backbone torsions to minimize, except for the first, last and any proline phi/psi angles\n",
        "\n",
        "## *Extra Challenge!*\n",
        "\n",
        " Instead of using `pyrosetta.rosetta.core.pack.task.operation.OperateOnResidueSubset` TaskOperations, use `pyrosetta.rosetta.protocols.task_operations.ResfileCommandOperation` TaskOperations by applying resfile-style commands to ResidueSelectors. Example:\n",
        " > repack_only_task_operation = pyrosetta.rosetta.protocols.task_operations.ResfileCommandOperation()   \n",
        " > repack_only_task_operation.set_command(\"POLAR EMPTY NC R2 NC T6 NC OP5\")   \n",
        " > repack_only_task_operation.set_residue_selector(selector)   \n",
        " > tf.push_back(repack_only_task_operation)"
      ]
    },
    {
      "cell_type": "markdown",
      "metadata": {
        "id": "xLKwxzD7FMwe"
      },
      "source": [
        " By how many Angstroms RMSD did the backbone Cα atoms move?"
      ]
    },
    {
      "cell_type": "code",
      "execution_count": 23,
      "metadata": {
        "colab": {
          "base_uri": "https://localhost:8080/"
        },
        "id": "m1HKkr4nFMwf",
        "outputId": "05c5ae12-6d5e-49c8-bc05-c53ef4d5288d"
      },
      "outputs": [
        {
          "output_type": "stream",
          "name": "stdout",
          "text": [
            "PyRosetta-4 2023 [Rosetta PyRosetta4.MinSizeRel.python310.ubuntu 2024.01+release.00b79147e63be743438188f93a3f069ca75106d6 2023-12-25T16:35:48] retrieved from: http://www.pyrosetta.org\n",
            "(C) Copyright Rosetta Commons Member Institutions. Created in JHU by Sergey Lyskov and PyRosetta Team.\n",
            "core.init: Checking for fconfig files in pwd and ./rosetta/flags\n",
            "core.init: Rosetta version: PyRosetta4.MinSizeRel.python310.ubuntu r366 2024.01+release.00b79147e63 00b79147e63be743438188f93a3f069ca75106d6 http://www.pyrosetta.org 2023-12-25T16:35:48\n",
            "core.init: command: PyRosetta -ex1 -ex2aro -database /usr/local/lib/python3.10/dist-packages/pyrosetta/database\n",
            "basic.random.init_random_generator: 'RNG device' seed mode, using '/dev/urandom', seed=77678179 seed_offset=0 real_seed=77678179\n",
            "basic.random.init_random_generator: RandomGenerator:init: Normal mode, seed=77678179 RG_type=mt19937\n",
            "core.import_pose.import_pose: File '1AB1.pdb' automatically determined to be of type PDB\n",
            "core.io.pose_from_sfr.PoseFromSFRBuilder: [ WARNING ] discarding 3 atoms at position 1 in file 1AB1.pdb. Best match rsd_type:  THR:NtermProteinFull\n",
            "core.conformation.Conformation: Found disulfide between residues 3 40\n",
            "core.conformation.Conformation: Found disulfide between residues 4 32\n",
            "core.conformation.Conformation: Found disulfide between residues 16 26\n",
            "core.scoring.ScoreFunctionFactory: SCOREFUNCTION: ref2015\n",
            "core.energy_methods.CartesianBondedEnergy: Creating new peptide-bonded energy container (47)\n",
            "protocols.relax.FastRelax: CMD: repeat  1406.37  0  0  0.55\n",
            "protocols.relax.FastRelax: CMD: coord_cst_weight  1406.37  0  0  0.55\n",
            "protocols.relax.FastRelax: CMD: scale:fa_rep  1388.82  0  0  0.022\n",
            "core.pack.task: Packer task: initialize from command line()\n",
            "core.pack.rotamer_set.RotamerSet_: Using simple Rotamer generation logic for pdb_EOH\n",
            "core.pack.pack_rotamers: built 932 rotamers at 47 positions.\n",
            "core.pack.interaction_graph.interaction_graph_factory: Instantiating DensePDInteractionGraph\n",
            "protocols.relax.FastRelax: CMD: repack  108.427  0  0  0.022\n",
            "protocols.relax.FastRelax: CMD: scale:fa_rep  108.912  0  0  0.02805\n",
            "protocols.relax.FastRelax: CMD: min  60.4557  0.639615  0.639615  0.02805\n",
            "protocols.relax.FastRelax: CMD: coord_cst_weight  60.4557  0.639615  0.639615  0.02805\n",
            "protocols.relax.FastRelax: CMD: scale:fa_rep  104.948  0.639615  0.639615  0.14575\n",
            "core.pack.task: Packer task: initialize from command line()\n",
            "core.pack.rotamer_set.RotamerSet_: Using simple Rotamer generation logic for pdb_EOH\n",
            "core.pack.pack_rotamers: built 1039 rotamers at 47 positions.\n",
            "core.pack.interaction_graph.interaction_graph_factory: Instantiating DensePDInteractionGraph\n",
            "protocols.relax.FastRelax: CMD: repack  99.8881  0.639615  0.639615  0.14575\n",
            "protocols.relax.FastRelax: CMD: scale:fa_rep  102.476  0.639615  0.639615  0.154\n",
            "protocols.relax.FastRelax: CMD: min  80.533  0.493811  0.493811  0.154\n",
            "protocols.relax.FastRelax: CMD: coord_cst_weight  80.533  0.493811  0.493811  0.154\n",
            "protocols.relax.FastRelax: CMD: scale:fa_rep  96.5066  0.493811  0.493811  0.30745\n",
            "core.pack.task: Packer task: initialize from command line()\n",
            "core.pack.rotamer_set.RotamerSet_: Using simple Rotamer generation logic for pdb_EOH\n",
            "core.pack.pack_rotamers: built 807 rotamers at 47 positions.\n",
            "core.pack.interaction_graph.interaction_graph_factory: Instantiating DensePDInteractionGraph\n",
            "protocols.relax.FastRelax: CMD: repack  95.8535  0.493811  0.493811  0.30745\n",
            "protocols.relax.FastRelax: CMD: scale:fa_rep  97.1282  0.493811  0.493811  0.31955\n",
            "protocols.relax.FastRelax: CMD: min  92.9413  0.431797  0.431797  0.31955\n",
            "protocols.relax.FastRelax: CMD: coord_cst_weight  92.9413  0.431797  0.431797  0.31955\n",
            "protocols.relax.FastRelax: CMD: scale:fa_rep  109.901  0.431797  0.431797  0.55\n",
            "core.pack.task: Packer task: initialize from command line()\n",
            "core.pack.rotamer_set.RotamerSet_: Using simple Rotamer generation logic for pdb_EOH\n",
            "core.pack.pack_rotamers: built 799 rotamers at 47 positions.\n",
            "core.pack.interaction_graph.interaction_graph_factory: Instantiating DensePDInteractionGraph\n",
            "protocols.relax.FastRelax: CMD: repack  109.795  0.431797  0.431797  0.55\n",
            "protocols.relax.FastRelax: CMD: min  98.6226  0.424417  0.424417  0.55\n",
            "protocols.relax.FastRelax: MRP: 0  98.6226  98.6226  0.424417  0.424417\n",
            "protocols.relax.FastRelax: CMD: accept_to_best  98.6226  0.424417  0.424417  0.55\n",
            "protocols.relax.FastRelax: CMD: endrepeat  98.6226  0.424417  0.424417  0.55\n",
            "protocols.relax.FastRelax: CMD: coord_cst_weight  98.6226  0.424417  0.424417  0.55\n",
            "protocols.relax.FastRelax: CMD: scale:fa_rep  74.9211  0.424417  0.424417  0.022\n",
            "core.pack.task: Packer task: initialize from command line()\n",
            "core.pack.rotamer_set.RotamerSet_: Using simple Rotamer generation logic for pdb_EOH\n",
            "core.pack.pack_rotamers: built 976 rotamers at 47 positions.\n",
            "core.pack.interaction_graph.interaction_graph_factory: Instantiating DensePDInteractionGraph\n",
            "protocols.relax.FastRelax: CMD: repack  73.2141  0.424417  0.424417  0.022\n",
            "protocols.relax.FastRelax: CMD: scale:fa_rep  73.6157  0.424417  0.424417  0.02805\n",
            "protocols.relax.FastRelax: CMD: min  57.8482  0.600353  0.600353  0.02805\n",
            "protocols.relax.FastRelax: CMD: coord_cst_weight  57.8482  0.600353  0.600353  0.02805\n",
            "protocols.relax.FastRelax: CMD: scale:fa_rep  92.6821  0.600353  0.600353  0.14575\n",
            "core.pack.task: Packer task: initialize from command line()\n",
            "core.pack.rotamer_set.RotamerSet_: Using simple Rotamer generation logic for pdb_EOH\n",
            "core.pack.pack_rotamers: built 875 rotamers at 47 positions.\n",
            "core.pack.interaction_graph.interaction_graph_factory: Instantiating DensePDInteractionGraph\n",
            "protocols.relax.FastRelax: CMD: repack  89.1879  0.600353  0.600353  0.14575\n",
            "protocols.relax.FastRelax: CMD: scale:fa_rep  91.3448  0.600353  0.600353  0.154\n",
            "protocols.relax.FastRelax: CMD: min  75.645  0.484376  0.484376  0.154\n",
            "protocols.relax.FastRelax: CMD: coord_cst_weight  75.645  0.484376  0.484376  0.154\n",
            "protocols.relax.FastRelax: CMD: scale:fa_rep  91.0076  0.484376  0.484376  0.30745\n",
            "core.pack.task: Packer task: initialize from command line()\n",
            "core.pack.rotamer_set.RotamerSet_: Using simple Rotamer generation logic for pdb_EOH\n",
            "core.pack.pack_rotamers: built 792 rotamers at 47 positions.\n",
            "core.pack.interaction_graph.interaction_graph_factory: Instantiating DensePDInteractionGraph\n",
            "protocols.relax.FastRelax: CMD: repack  90.8861  0.484376  0.484376  0.30745\n",
            "protocols.relax.FastRelax: CMD: scale:fa_rep  92.09  0.484376  0.484376  0.31955\n",
            "protocols.relax.FastRelax: CMD: min  87.4034  0.434129  0.434129  0.31955\n",
            "protocols.relax.FastRelax: CMD: coord_cst_weight  87.4034  0.434129  0.434129  0.31955\n",
            "protocols.relax.FastRelax: CMD: scale:fa_rep  102.941  0.434129  0.434129  0.55\n",
            "core.pack.task: Packer task: initialize from command line()\n",
            "core.pack.rotamer_set.RotamerSet_: Using simple Rotamer generation logic for pdb_EOH\n",
            "core.pack.pack_rotamers: built 782 rotamers at 47 positions.\n",
            "core.pack.interaction_graph.interaction_graph_factory: Instantiating DensePDInteractionGraph\n",
            "protocols.relax.FastRelax: CMD: repack  102.939  0.434129  0.434129  0.55\n",
            "protocols.relax.FastRelax: CMD: min  97.8049  0.439772  0.439772  0.55\n",
            "protocols.relax.FastRelax: MRP: 1  97.8049  97.8049  0.439772  0.439772\n",
            "protocols.relax.FastRelax: CMD: accept_to_best  97.8049  0.439772  0.439772  0.55\n",
            "protocols.relax.FastRelax: CMD: endrepeat  97.8049  0.439772  0.439772  0.55\n",
            "protocols.relax.FastRelax: CMD: coord_cst_weight  97.8049  0.439772  0.439772  0.55\n",
            "protocols.relax.FastRelax: CMD: scale:fa_rep  74.1105  0.439772  0.439772  0.022\n",
            "core.pack.task: Packer task: initialize from command line()\n",
            "core.pack.rotamer_set.RotamerSet_: Using simple Rotamer generation logic for pdb_EOH\n",
            "core.pack.pack_rotamers: built 971 rotamers at 47 positions.\n",
            "core.pack.interaction_graph.interaction_graph_factory: Instantiating DensePDInteractionGraph\n",
            "protocols.relax.FastRelax: CMD: repack  72.9632  0.439772  0.439772  0.022\n",
            "protocols.relax.FastRelax: CMD: scale:fa_rep  73.4413  0.439772  0.439772  0.02805\n",
            "protocols.relax.FastRelax: CMD: min  51.3161  0.668502  0.668502  0.02805\n",
            "protocols.relax.FastRelax: CMD: coord_cst_weight  51.3161  0.668502  0.668502  0.02805\n",
            "protocols.relax.FastRelax: CMD: scale:fa_rep  96.0096  0.668502  0.668502  0.14575\n",
            "core.pack.task: Packer task: initialize from command line()\n",
            "core.pack.rotamer_set.RotamerSet_: Using simple Rotamer generation logic for pdb_EOH\n",
            "core.pack.pack_rotamers: built 908 rotamers at 47 positions.\n",
            "core.pack.interaction_graph.interaction_graph_factory: Instantiating DensePDInteractionGraph\n",
            "protocols.relax.FastRelax: CMD: repack  94.5763  0.668502  0.668502  0.14575\n",
            "protocols.relax.FastRelax: CMD: scale:fa_rep  97.2445  0.668502  0.668502  0.154\n",
            "protocols.relax.FastRelax: CMD: min  76.9162  0.477706  0.477706  0.154\n",
            "protocols.relax.FastRelax: CMD: coord_cst_weight  76.9162  0.477706  0.477706  0.154\n",
            "protocols.relax.FastRelax: CMD: scale:fa_rep  93.3454  0.477706  0.477706  0.30745\n",
            "core.pack.task: Packer task: initialize from command line()\n",
            "core.pack.rotamer_set.RotamerSet_: Using simple Rotamer generation logic for pdb_EOH\n",
            "core.pack.pack_rotamers: built 814 rotamers at 47 positions.\n",
            "core.pack.interaction_graph.interaction_graph_factory: Instantiating DensePDInteractionGraph\n",
            "protocols.relax.FastRelax: CMD: repack  92.9873  0.477706  0.477706  0.30745\n",
            "protocols.relax.FastRelax: CMD: scale:fa_rep  94.2693  0.477706  0.477706  0.31955\n",
            "protocols.relax.FastRelax: CMD: min  91.1011  0.436645  0.436645  0.31955\n",
            "protocols.relax.FastRelax: CMD: coord_cst_weight  91.1011  0.436645  0.436645  0.31955\n",
            "protocols.relax.FastRelax: CMD: scale:fa_rep  108.685  0.436645  0.436645  0.55\n",
            "core.pack.task: Packer task: initialize from command line()\n",
            "core.pack.rotamer_set.RotamerSet_: Using simple Rotamer generation logic for pdb_EOH\n",
            "core.pack.pack_rotamers: built 805 rotamers at 47 positions.\n",
            "core.pack.interaction_graph.interaction_graph_factory: Instantiating DensePDInteractionGraph\n",
            "protocols.relax.FastRelax: CMD: repack  108.017  0.436645  0.436645  0.55\n",
            "protocols.relax.FastRelax: CMD: min  97.8366  0.498038  0.498038  0.55\n",
            "protocols.relax.FastRelax: MRP: 2  97.8366  97.8049  0.439772  0.439772\n",
            "protocols.relax.FastRelax: CMD: accept_to_best  97.8366  0.498038  0.498038  0.55\n",
            "protocols.relax.FastRelax: CMD: endrepeat  97.8366  0.498038  0.498038  0.55\n",
            "protocols.relax.FastRelax: CMD: coord_cst_weight  97.8366  0.498038  0.498038  0.55\n",
            "protocols.relax.FastRelax: CMD: scale:fa_rep  74.2804  0.498038  0.498038  0.022\n",
            "core.pack.task: Packer task: initialize from command line()\n",
            "core.pack.rotamer_set.RotamerSet_: Using simple Rotamer generation logic for pdb_EOH\n",
            "core.pack.pack_rotamers: built 1055 rotamers at 47 positions.\n",
            "core.pack.interaction_graph.interaction_graph_factory: Instantiating DensePDInteractionGraph\n",
            "protocols.relax.FastRelax: CMD: repack  71.5541  0.498038  0.498038  0.022\n",
            "protocols.relax.FastRelax: CMD: scale:fa_rep  72.3741  0.498038  0.498038  0.02805\n",
            "protocols.relax.FastRelax: CMD: min  59.0483  0.715043  0.715043  0.02805\n",
            "protocols.relax.FastRelax: CMD: coord_cst_weight  59.0483  0.715043  0.715043  0.02805\n",
            "protocols.relax.FastRelax: CMD: scale:fa_rep  100.513  0.715043  0.715043  0.14575\n",
            "core.pack.task: Packer task: initialize from command line()\n",
            "core.pack.rotamer_set.RotamerSet_: Using simple Rotamer generation logic for pdb_EOH\n",
            "core.pack.pack_rotamers: built 878 rotamers at 47 positions.\n",
            "core.pack.interaction_graph.interaction_graph_factory: Instantiating DensePDInteractionGraph\n",
            "protocols.relax.FastRelax: CMD: repack  91.5027  0.715043  0.715043  0.14575\n",
            "protocols.relax.FastRelax: CMD: scale:fa_rep  93.8534  0.715043  0.715043  0.154\n",
            "protocols.relax.FastRelax: CMD: min  74.6218  0.539472  0.539472  0.154\n",
            "protocols.relax.FastRelax: CMD: coord_cst_weight  74.6218  0.539472  0.539472  0.154\n",
            "protocols.relax.FastRelax: CMD: scale:fa_rep  90.114  0.539472  0.539472  0.30745\n",
            "core.pack.task: Packer task: initialize from command line()\n",
            "core.pack.rotamer_set.RotamerSet_: Using simple Rotamer generation logic for pdb_EOH\n",
            "core.pack.pack_rotamers: built 788 rotamers at 47 positions.\n",
            "core.pack.interaction_graph.interaction_graph_factory: Instantiating DensePDInteractionGraph\n",
            "protocols.relax.FastRelax: CMD: repack  90.114  0.539472  0.539472  0.30745\n",
            "protocols.relax.FastRelax: CMD: scale:fa_rep  91.3357  0.539472  0.539472  0.31955\n",
            "protocols.relax.FastRelax: CMD: min  89.2681  0.488815  0.488815  0.31955\n",
            "protocols.relax.FastRelax: CMD: coord_cst_weight  89.2681  0.488815  0.488815  0.31955\n",
            "protocols.relax.FastRelax: CMD: scale:fa_rep  107.539  0.488815  0.488815  0.55\n",
            "core.pack.task: Packer task: initialize from command line()\n",
            "core.pack.rotamer_set.RotamerSet_: Using simple Rotamer generation logic for pdb_EOH\n",
            "core.pack.pack_rotamers: built 784 rotamers at 47 positions.\n",
            "core.pack.interaction_graph.interaction_graph_factory: Instantiating DensePDInteractionGraph\n",
            "protocols.relax.FastRelax: CMD: repack  107.26  0.488815  0.488815  0.55\n",
            "protocols.relax.FastRelax: CMD: min  96.6863  0.49338  0.49338  0.55\n",
            "protocols.relax.FastRelax: MRP: 3  96.6863  96.6863  0.49338  0.49338\n",
            "protocols.relax.FastRelax: CMD: accept_to_best  96.6863  0.49338  0.49338  0.55\n",
            "protocols.relax.FastRelax: CMD: endrepeat  96.6863  0.49338  0.49338  0.55\n",
            "protocols.relax.FastRelax: CMD: coord_cst_weight  96.6863  0.49338  0.49338  0.55\n",
            "protocols.relax.FastRelax: CMD: scale:fa_rep  72.9796  0.49338  0.49338  0.022\n",
            "core.pack.task: Packer task: initialize from command line()\n",
            "core.pack.rotamer_set.RotamerSet_: Using simple Rotamer generation logic for pdb_EOH\n",
            "core.pack.pack_rotamers: built 955 rotamers at 47 positions.\n",
            "core.pack.interaction_graph.interaction_graph_factory: Instantiating DensePDInteractionGraph\n",
            "protocols.relax.FastRelax: CMD: repack  72.0559  0.49338  0.49338  0.022\n",
            "protocols.relax.FastRelax: CMD: scale:fa_rep  72.3879  0.49338  0.49338  0.02805\n",
            "protocols.relax.FastRelax: CMD: min  53.0524  0.67586  0.67586  0.02805\n",
            "protocols.relax.FastRelax: CMD: coord_cst_weight  53.0524  0.67586  0.67586  0.02805\n",
            "protocols.relax.FastRelax: CMD: scale:fa_rep  94.3787  0.67586  0.67586  0.14575\n",
            "core.pack.task: Packer task: initialize from command line()\n",
            "core.pack.rotamer_set.RotamerSet_: Using simple Rotamer generation logic for pdb_EOH\n",
            "core.pack.pack_rotamers: built 880 rotamers at 47 positions.\n",
            "core.pack.interaction_graph.interaction_graph_factory: Instantiating DensePDInteractionGraph\n",
            "protocols.relax.FastRelax: CMD: repack  92.8928  0.67586  0.67586  0.14575\n",
            "protocols.relax.FastRelax: CMD: scale:fa_rep  95.6245  0.67586  0.67586  0.154\n",
            "protocols.relax.FastRelax: CMD: min  73.9016  0.546417  0.546417  0.154\n",
            "protocols.relax.FastRelax: CMD: coord_cst_weight  73.9016  0.546417  0.546417  0.154\n",
            "protocols.relax.FastRelax: CMD: scale:fa_rep  91.248  0.546417  0.546417  0.30745\n",
            "core.pack.task: Packer task: initialize from command line()\n",
            "core.pack.rotamer_set.RotamerSet_: Using simple Rotamer generation logic for pdb_EOH\n",
            "core.pack.pack_rotamers: built 842 rotamers at 47 positions.\n",
            "core.pack.interaction_graph.interaction_graph_factory: Instantiating DensePDInteractionGraph\n",
            "protocols.relax.FastRelax: CMD: repack  91.0528  0.546417  0.546417  0.30745\n",
            "protocols.relax.FastRelax: CMD: scale:fa_rep  92.4036  0.546417  0.546417  0.31955\n",
            "protocols.relax.FastRelax: CMD: min  87.7217  0.49351  0.49351  0.31955\n",
            "protocols.relax.FastRelax: CMD: coord_cst_weight  87.7217  0.49351  0.49351  0.31955\n",
            "protocols.relax.FastRelax: CMD: scale:fa_rep  104.368  0.49351  0.49351  0.55\n",
            "core.pack.task: Packer task: initialize from command line()\n",
            "core.pack.rotamer_set.RotamerSet_: Using simple Rotamer generation logic for pdb_EOH\n",
            "core.pack.pack_rotamers: built 785 rotamers at 47 positions.\n",
            "core.pack.interaction_graph.interaction_graph_factory: Instantiating DensePDInteractionGraph\n",
            "protocols.relax.FastRelax: CMD: repack  104.266  0.49351  0.49351  0.55\n",
            "protocols.relax.FastRelax: CMD: min  96.6825  0.501487  0.501487  0.55\n",
            "protocols.relax.FastRelax: MRP: 4  96.6825  96.6825  0.501487  0.501487\n",
            "protocols.relax.FastRelax: CMD: accept_to_best  96.6825  0.501487  0.501487  0.55\n",
            "protocols.relax.FastRelax: CMD: endrepeat  96.6825  0.501487  0.501487  0.55\n",
            "protocols::checkpoint: Deleting checkpoints of FastRelax\n"
          ]
        }
      ],
      "source": [
        "from pyrosetta import init, pose_from_pdb, create_score_function\n",
        "from pyrosetta.rosetta.core.pack.task import TaskFactory\n",
        "from pyrosetta.rosetta.core.select.residue_selector import NeighborhoodResidueSelector, ChainSelector\n",
        "from pyrosetta.rosetta.protocols.minimization_packing import MinMover\n",
        "from pyrosetta.rosetta.protocols.relax import FastRelax\n",
        "from pyrosetta.rosetta.protocols.task_operations import ResfileCommandOperation\n",
        "\n",
        "# Initialize PyRosetta\n",
        "init()\n",
        "\n",
        "# Load start_pose\n",
        "start_pose = pose_from_pdb(\"1AB1.pdb\")\n",
        "\n",
        "# Repack all residues and minimize using FastRelax\n",
        "fast_relax = FastRelax()\n",
        "scorefxn = create_score_function(\"ref2015_cart.wts\")\n",
        "fast_relax.set_scorefxn(scorefxn)\n",
        "fast_relax.max_iter(200)\n",
        "fast_relax.apply(start_pose)\n",
        "\n",
        "# Create a NeighborhoodResidueSelector for each cysteine residue\n",
        "cysteine_selector = ChainSelector(1)  # Replace '1' with the chain ID of your CDRs\n",
        "\n",
        "# Create a TaskFactory to control design/repacking\n",
        "tf = TaskFactory()\n",
        "\n",
        "# Set up a design task operation for hydrophobic residues excluding Glycine and Proline\n",
        "design_task_operation = ResfileCommandOperation(cysteine_selector, \"NATRO\")# Use NATRO instead of HYDROPHOBIC\n",
        "design_task_operation = ResfileCommandOperation()  # Set the command\n",
        "design_task_operation.set_residue_selector(cysteine_selector)\n",
        "\n"
      ]
    },
    {
      "cell_type": "markdown",
      "metadata": {
        "id": "6QdnkMiOFMwx"
      },
      "source": [
        "<!--NAVIGATION-->\n",
        "< [Protein Design with a Resfile and FastRelax](http://nbviewer.jupyter.org/github/RosettaCommons/PyRosetta.notebooks/blob/master/notebooks/06.03-Design-with-a-resfile-and-relax.ipynb) | [Contents](toc.ipynb) | [Index](index.ipynb) | [HBNet Before Design](http://nbviewer.jupyter.org/github/RosettaCommons/PyRosetta.notebooks/blob/master/notebooks/06.05-HBNet-Before-Design.ipynb) ><p><a href=\"https://colab.research.google.com/github/RosettaCommons/PyRosetta.notebooks/blob/master/notebooks/06.04-Protein-Design-2.ipynb\"><img align=\"left\" src=\"https://colab.research.google.com/assets/colab-badge.svg\" alt=\"Open in Colab\" title=\"Open in Google Colaboratory\"></a>"
      ]
    }
  ],
  "metadata": {
    "celltoolbar": "Create Assignment",
    "kernelspec": {
      "display_name": "Python 3",
      "language": "python",
      "name": "python3"
    },
    "language_info": {
      "codemirror_mode": {
        "name": "ipython",
        "version": 3
      },
      "file_extension": ".py",
      "mimetype": "text/x-python",
      "name": "python",
      "nbconvert_exporter": "python",
      "pygments_lexer": "ipython3",
      "version": "3.6.1"
    },
    "toc": {
      "base_numbering": 1,
      "nav_menu": {},
      "number_sections": true,
      "sideBar": true,
      "skip_h1_title": false,
      "title_cell": "Table of Contents",
      "title_sidebar": "Contents",
      "toc_cell": false,
      "toc_position": {},
      "toc_section_display": true,
      "toc_window_display": false
    },
    "colab": {
      "provenance": [],
      "include_colab_link": true
    }
  },
  "nbformat": 4,
  "nbformat_minor": 0
}