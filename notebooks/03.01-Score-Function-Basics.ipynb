{
  "cells": [
    {
      "cell_type": "markdown",
      "metadata": {
        "id": "view-in-github",
        "colab_type": "text"
      },
      "source": [
        "<a href=\"https://colab.research.google.com/github/azamatarmanuly99/docs/blob/main/notebooks/03.01-Score-Function-Basics.ipynb\" target=\"_parent\"><img src=\"https://colab.research.google.com/assets/colab-badge.svg\" alt=\"Open In Colab\"/></a>"
      ]
    },
    {
      "cell_type": "markdown",
      "metadata": {
        "id": "3u7Yjq14fuGo"
      },
      "source": [
        "<!--NOTEBOOK_HEADER-->\n",
        "*This notebook contains material from [PyRosetta](https://RosettaCommons.github.io/PyRosetta.notebooks);\n",
        "content is available [on Github](https://github.com/RosettaCommons/PyRosetta.notebooks.git).*"
      ]
    },
    {
      "cell_type": "markdown",
      "metadata": {
        "id": "pFnGzzf3fuGs"
      },
      "source": [
        "<!--NAVIGATION-->\n",
        "< [Rosetta Energy Score Functions](http://nbviewer.jupyter.org/github/RosettaCommons/PyRosetta.notebooks/blob/master/notebooks/03.00-Rosetta-Energy-Score-Functions.ipynb) | [Contents](toc.ipynb) | [Index](index.ipynb) | [Practice: Analyzing energy between residues](http://nbviewer.jupyter.org/github/RosettaCommons/PyRosetta.notebooks/blob/master/notebooks/03.02-Analyzing-energy-between-residues.ipynb) ><p><a href=\"https://colab.research.google.com/github/RosettaCommons/PyRosetta.notebooks/blob/master/notebooks/03.01-Score-Function-Basics.ipynb\"><img align=\"left\" src=\"https://colab.research.google.com/assets/colab-badge.svg\" alt=\"Open in Colab\" title=\"Open in Google Colaboratory\"></a>"
      ]
    },
    {
      "cell_type": "markdown",
      "metadata": {
        "nbgrader": {
          "grade": false,
          "grade_id": "cell-eeaeae18e9d996eb",
          "locked": true,
          "schema_version": 3,
          "solution": false
        },
        "id": "f-68hq9KfuGt"
      },
      "source": [
        "# Score Function Basics\n",
        "Keywords: score function, ScoreFunction(), get_score_function(), set_weight(), show(), etable_atom_pair_energies(), Atom objects, get_hbonds(), nhbonds(), residue_hbonds()"
      ]
    },
    {
      "cell_type": "code",
      "execution_count": 1,
      "metadata": {
        "id": "JI666uGAfuGu",
        "outputId": "3441f83c-63f1-4c1f-b7a3-2f85187bacf1",
        "colab": {
          "base_uri": "https://localhost:8080/"
        }
      },
      "outputs": [
        {
          "output_type": "stream",
          "name": "stdout",
          "text": [
            "Collecting pyrosettacolabsetup\n",
            "  Downloading pyrosettacolabsetup-1.0.7-py3-none-any.whl (4.8 kB)\n",
            "Installing collected packages: pyrosettacolabsetup\n",
            "Successfully installed pyrosettacolabsetup-1.0.7\n",
            "Mounted at /content/google_drive\n",
            "Looking for compatible PyRosetta wheel file at google-drive/PyRosetta/colab.bin//wheels...\n",
            "Found compatible wheel: /content/google_drive/MyDrive/PyRosetta/colab.bin/wheels//content/google_drive/MyDrive/PyRosetta/colab.bin/wheels/pyrosetta-2024.1+release.00b79147e63-cp310-cp310-linux_x86_64.whl\n",
            "\n",
            "\n",
            "PyRosetta-4 2023 [Rosetta PyRosetta4.MinSizeRel.python310.ubuntu 2024.01+release.00b79147e63be743438188f93a3f069ca75106d6 2023-12-25T16:35:48] retrieved from: http://www.pyrosetta.org\n",
            "(C) Copyright Rosetta Commons Member Institutions. Created in JHU by Sergey Lyskov and PyRosetta Team.\n",
            "core.init: Checking for fconfig files in pwd and ./rosetta/flags\n",
            "core.init: Rosetta version: PyRosetta4.MinSizeRel.python310.ubuntu r366 2024.01+release.00b79147e63 00b79147e63be743438188f93a3f069ca75106d6 http://www.pyrosetta.org 2023-12-25T16:35:48\n",
            "core.init: command: PyRosetta -ex1 -ex2aro -database /usr/local/lib/python3.10/dist-packages/pyrosetta/database\n",
            "basic.random.init_random_generator: 'RNG device' seed mode, using '/dev/urandom', seed=1379505959 seed_offset=0 real_seed=1379505959\n",
            "basic.random.init_random_generator: RandomGenerator:init: Normal mode, seed=1379505959 RG_type=mt19937\n",
            "PyRosetta-4 2023 [Rosetta PyRosetta4.MinSizeRel.python310.ubuntu 2024.01+release.00b79147e63be743438188f93a3f069ca75106d6 2023-12-25T16:35:48] retrieved from: http://www.pyrosetta.org\n",
            "(C) Copyright Rosetta Commons Member Institutions. Created in JHU by Sergey Lyskov and PyRosetta Team.\n",
            "core.init: Checking for fconfig files in pwd and ./rosetta/flags\n",
            "core.init: Rosetta version: PyRosetta4.MinSizeRel.python310.ubuntu r366 2024.01+release.00b79147e63 00b79147e63be743438188f93a3f069ca75106d6 http://www.pyrosetta.org 2023-12-25T16:35:48\n",
            "core.init: command: PyRosetta -ex1 -ex2aro -database /usr/local/lib/python3.10/dist-packages/pyrosetta/database\n",
            "basic.random.init_random_generator: 'RNG device' seed mode, using '/dev/urandom', seed=734505480 seed_offset=0 real_seed=734505480\n",
            "basic.random.init_random_generator: RandomGenerator:init: Normal mode, seed=734505480 RG_type=mt19937\n"
          ]
        }
      ],
      "source": [
        "!pip install pyrosettacolabsetup\n",
        "import pyrosettacolabsetup; pyrosettacolabsetup.install_pyrosetta()\n",
        "import pyrosetta; pyrosetta.init()\n",
        "import pyrosetta\n",
        "pyrosetta.init()"
      ]
    },
    {
      "cell_type": "markdown",
      "metadata": {
        "id": "iWFLZGUEfuGv"
      },
      "source": [
        "**Make sure you are in the directory with the pdb files:**\n",
        "\n",
        "`cd google_drive/My\\ Drive/student-notebooks/`"
      ]
    },
    {
      "cell_type": "markdown",
      "metadata": {
        "id": "V3eyia11fuGv"
      },
      "source": [
        "In this module, we will explore the PyRosetta score function interface. You will learn to inspect energies of a biomolecule at the whole protein, per-residue, and per-atom level. Finally, you will gain practice applying the energies to answering biological questions involving proteins. For these exercises, we will use the protein Ras (PDB 6q21). Either make sure you have the PDB file \"6Q21_A.pdb\" in your current directory, or if you have an Internet connection, load the pdb into a pose called `ras` with the pyrosetta.pose_from_pdb method."
      ]
    },
    {
      "cell_type": "code",
      "execution_count": 4,
      "metadata": {
        "nbgrader": {
          "grade": true,
          "grade_id": "cell-be26a363af7b009c",
          "locked": false,
          "points": 0,
          "schema_version": 3,
          "solution": true
        },
        "id": "XRGTszilfuGv",
        "outputId": "b6e153ba-f74f-4aab-931f-c09aa21c9654",
        "colab": {
          "base_uri": "https://localhost:8080/"
        }
      },
      "outputs": [
        {
          "output_type": "stream",
          "name": "stdout",
          "text": [
            "core.import_pose.import_pose: File '6q21.pdb' automatically determined to be of type PDB\n",
            "core.chemical.GlobalResidueTypeSet: Loading (but possibly not actually using) 'GCP' from the PDB components dictionary for residue type 'pdb_GCP'\n"
          ]
        }
      ],
      "source": [
        "### BEGIN SOLUTION\n",
        "ras = pyrosetta.pose_from_pdb(\"6q21.pdb\")\n",
        "### END SOLUTION"
      ]
    },
    {
      "cell_type": "markdown",
      "metadata": {
        "nbgrader": {
          "grade": false,
          "grade_id": "cell-ed57c5745ba69a27",
          "locked": true,
          "schema_version": 3,
          "solution": false
        },
        "id": "l4i7ZbALfuGw"
      },
      "source": [
        "To score a protein, you will begin by defining a score function using the `get_score_function(is_fullatom: bool)` method in the `pyrosetta.teaching` namespace. Specifying `True` will return the default `ref2015` all-atom energy function, while `False` will specify the default centroid score function.\n",
        "\n",
        "Create a PyRosetta score function using:\n",
        "```\n",
        "sfxn = get_score_function(True)\n",
        "```"
      ]
    },
    {
      "cell_type": "code",
      "execution_count": 5,
      "metadata": {
        "nbgrader": {
          "grade": true,
          "grade_id": "cell-a8401defb7b4a814",
          "locked": false,
          "points": 0,
          "schema_version": 3,
          "solution": true
        },
        "id": "B9SldGoafuGx",
        "outputId": "b8add966-e60d-4705-d970-6ee4202462ca",
        "colab": {
          "base_uri": "https://localhost:8080/"
        }
      },
      "outputs": [
        {
          "output_type": "stream",
          "name": "stdout",
          "text": [
            "core.scoring.ScoreFunctionFactory: SCOREFUNCTION: ref2015\n",
            "core.scoring.etable: Starting energy table calculation\n",
            "core.scoring.etable: smooth_etable: changing atr/rep split to bottom of energy well\n",
            "core.scoring.etable: smooth_etable: spline smoothing lj etables (maxdis = 6)\n",
            "core.scoring.etable: smooth_etable: spline smoothing solvation etables (max_dis = 6)\n",
            "core.scoring.etable: Finished calculating energy tables.\n",
            "basic.io.database: Database file opened: scoring/score_functions/hbonds/ref2015_params/HBPoly1D.csv\n",
            "basic.io.database: Database file opened: scoring/score_functions/hbonds/ref2015_params/HBFadeIntervals.csv\n",
            "basic.io.database: Database file opened: scoring/score_functions/hbonds/ref2015_params/HBEval.csv\n",
            "basic.io.database: Database file opened: scoring/score_functions/hbonds/ref2015_params/DonStrength.csv\n",
            "basic.io.database: Database file opened: scoring/score_functions/hbonds/ref2015_params/AccStrength.csv\n",
            "basic.io.database: Database file opened: scoring/score_functions/rama/fd/all.ramaProb\n",
            "basic.io.database: Database file opened: scoring/score_functions/rama/fd/prepro.ramaProb\n",
            "basic.io.database: Database file opened: scoring/score_functions/omega/omega_ppdep.all.txt\n",
            "basic.io.database: Database file opened: scoring/score_functions/omega/omega_ppdep.gly.txt\n",
            "basic.io.database: Database file opened: scoring/score_functions/omega/omega_ppdep.pro.txt\n",
            "basic.io.database: Database file opened: scoring/score_functions/omega/omega_ppdep.valile.txt\n",
            "basic.io.database: Database file opened: scoring/score_functions/P_AA_pp/P_AA\n",
            "basic.io.database: Database file opened: scoring/score_functions/P_AA_pp/P_AA_n\n",
            "core.scoring.P_AA: shapovalov_lib::shap_p_aa_pp_smooth_level of 1( aka low_smooth ) got activated.\n",
            "basic.io.database: Database file opened: scoring/score_functions/P_AA_pp/shapovalov/10deg/kappa131/a20.prop\n"
          ]
        }
      ],
      "source": [
        "from pyrosetta.teaching import *\n",
        "\n",
        "### BEGIN SOLUTION\n",
        "sfxn = get_score_function(True)\n",
        "### END SOLUTION"
      ]
    },
    {
      "cell_type": "markdown",
      "metadata": {
        "nbgrader": {
          "grade": false,
          "grade_id": "cell-67b6769efaa385af",
          "locked": true,
          "schema_version": 3,
          "solution": false
        },
        "id": "drxopWC2fuGx"
      },
      "source": [
        "You can see the terms, weights, and energy method options by printing the score function:\n",
        "\n",
        "```\n",
        "print(sfxn)\n",
        "```"
      ]
    },
    {
      "cell_type": "code",
      "execution_count": 6,
      "metadata": {
        "nbgrader": {
          "grade": true,
          "grade_id": "cell-d9875a1b051c6971",
          "locked": false,
          "points": 0,
          "schema_version": 3,
          "solution": true
        },
        "id": "fwy6njRjfuGy",
        "outputId": "9b1ead19-acbc-41fe-a3d0-47c5e7a0383f",
        "colab": {
          "base_uri": "https://localhost:8080/"
        }
      },
      "outputs": [
        {
          "output_type": "stream",
          "name": "stdout",
          "text": [
            "ScoreFunction::show():\n",
            "weights: (fa_atr 1) (fa_rep 0.55) (fa_sol 1) (fa_intra_rep 0.005) (fa_intra_sol_xover4 1) (lk_ball_wtd 1) (fa_elec 1) (pro_close 1.25) (hbond_sr_bb 1) (hbond_lr_bb 1) (hbond_bb_sc 1) (hbond_sc 1) (dslf_fa13 1.25) (omega 0.4) (fa_dun 0.7) (p_aa_pp 0.6) (yhh_planarity 0.625) (ref 1) (rama_prepro 0.45)\n",
            "energy_method_options: EnergyMethodOptions::show: aa_composition_setup_files: \n",
            "EnergyMethodOptions::show: mhc_epitope_setup_files: \n",
            "EnergyMethodOptions::show: netcharge_setup_files: \n",
            "EnergyMethodOptions::show: aspartimide_penalty_value: 25\n",
            "EnergyMethodOptions::show: etable_type: FA_STANDARD_DEFAULT\n",
            "analytic_etable_evaluation: 1\n",
            "EnergyMethodOptions::show: method_weights: ref 1.32468 3.25479 -2.14574 -2.72453 1.21829 0.79816 -0.30065 2.30374 -0.71458 1.66147 1.65735 -1.34026 -1.64321 -1.45095 -0.09474 -0.28969 1.15175 2.64269 2.26099 0.58223\n",
            "EnergyMethodOptions::show: method_weights: free_res\n",
            "EnergyMethodOptions::show: unfolded_energies_type: UNFOLDED_SCORE12\n",
            "EnergyMethodOptions::show: split_unfolded_label_type: SPLIT_UNFOLDED_MM\n",
            "EnergyMethodOptions::show: split_unfolded_value_type: SPLIT_UNFOLDED_BOLTZ\n",
            "EnergyMethodOptions::show: atom_vdw_atom_type_set_name: centroid\n",
            "EnergyMethodOptions::show: covalent_labeling_input: \n",
            "EnergyMethodOptions::show: covalent_labeling_fa_input: \n",
            "EnergyMethodOptions::show: hrf_dynamics_input: \n",
            "EnergyMethodOptions::show: depc_ms_input: \n",
            "EnergyMethodOptions::show: exclude_protein_protein_fa_elec: false\n",
            "EnergyMethodOptions::show: exclude_RNA_RNA_fa_elec: false\n",
            "EnergyMethodOptions::show: exclude_RNA_protein_fa_elec: false\n",
            "EnergyMethodOptions::show: exclude_monomer_fa_elec: false\n",
            "EnergyMethodOptions::show: elec_max_dis: 5.5\n",
            "EnergyMethodOptions::show: elec_min_dis: 1.6\n",
            "EnergyMethodOptions::show: elec_die: 10\n",
            "EnergyMethodOptions::show: elec_no_dis_dep_die: false\n",
            "EnergyMethodOptions::show: elec_sigmoidal_die: true\n",
            "EnergyMethodOptions::show: elec_sigmoidal_D: 80\n",
            "EnergyMethodOptions::show: elec_sigmoidal_D0: 6\n",
            "EnergyMethodOptions::show: elec_sigmoidal_S: 0.4\n",
            "EnergyMethodOptions::show: smooth_fa_elec: true\n",
            "EnergyMethodOptions::show: grpelec_fade_type: false\n",
            "EnergyMethodOptions::show: grpelec_fade_param1: 1\n",
            "EnergyMethodOptions::show: grpelec_fade_param2: 1\n",
            "EnergyMethodOptions::show: grpelec_fade_hbond: 0\n",
            "EnergyMethodOptions::show: grp_cpfxn: 1\n",
            "EnergyMethodOptions::show: elec_group_file: /scoring/score_functions/elec_group_def.dat\n",
            "EnergyMethodOptions::show: grpelec_context_dependent: 0\n",
            "EnergyMethodOptions::show: use_polarization: true\n",
            "EnergyMethodOptions::show: use_gen_kirkwood: true\n",
            "EnergyMethodOptions::show: protein_dielectric: 1\n",
            "EnergyMethodOptions::show: water_dielectric: 78.3\n",
            "EnergyMethodOptions::show: exclude_DNA_DNA: false\n",
            "EnergyMethodOptions::show: exclude_intra_res_protein: false\n",
            "EnergyMethodOptions::show: count_pair_hybrid: false\n",
            "EnergyMethodOptions::show: count_pair_full: false\n",
            "EnergyMethodOptions::show: put_intra_into_total: false\n",
            "EnergyMethodOptions::show: geom_sol_interres_path_distance_cutoff: false\n",
            "EnergyMethodOptions::show: geom_sol_intrares_path_distance_cutoff: true\n",
            "EnergyMethodOptions::show: eval_intrares_elec_ST_only: false\n",
            "EnergyMethodOptions::show: envsmooth_zero_negatives: false\n",
            "EnergyMethodOptions::show: cst_max_seq_sep: 18446744073709551615\n",
            "EnergyMethodOptions::show: pb_bound_tag: bound\n",
            "EnergyMethodOptions::show: pb_unbound_tag: unbound\n",
            "EnergyMethodOptions::show: arg_cation_pi_his_can_be_pi: 1\n",
            "EnergyMethodOptions::show: ordered_wat_penalty: 1.221\n",
            "EnergyMethodOptions::show: ordered_pt_wat_penalty: 2.709\n",
            "EnergyMethodOptions::show: nmer_ref_seq_length_: 9\n",
            "EnergyMethodOptions::show: nmer_svm_term_length_: 3\n",
            "EnergyMethodOptions::show: nmer_svm_pssm_feat_: 1\n",
            "EnergyMethodOptions::show: nmer_svm_scorecut_defined_: 0\n",
            "EnergyMethodOptions::show: nmer_svm_scorecut_: 0\n",
            "EnergyMethodOptions::show: nmer_svm_avg_rank_as_energy_: 0\n",
            "EnergyMethodOptions::show: nmer_svm_aa_matrix_defined_: 0\n",
            "EnergyMethodOptions::show: nmer_svm_aa_matrix_: \n",
            "EnergyMethodOptions::show: nmer_svm_list_defined_: 0\n",
            "EnergyMethodOptions::show: nmer_svm_list_: \n",
            "EnergyMethodOptions::show: nmer_svm_defined_: 0\n",
            "EnergyMethodOptions::show: nmer_svm_: \n",
            "EnergyMethodOptions::show: nmer_svm_rank_list_defined_: 0\n",
            "EnergyMethodOptions::show: nmer_svm_rank_list_: \n",
            "EnergyMethodOptions::show: nmer_svm_rank_defined_: 0\n",
            "EnergyMethodOptions::show: nmer_svm_rank_: \n",
            "EnergyMethodOptions::show: voids_penalty_energy_containing_cones_cutoff_:6\n",
            "EnergyMethodOptions::show: voids_penalty_energy_cone_distance_cutoff_: 8\n",
            "EnergyMethodOptions::show: voids_penalty_energy_cone_dotproduct_cutoff_: 0.1\n",
            "EnergyMethodOptions::show: voids_penalty_energy_voxel_grid_padding_: 1\n",
            "EnergyMethodOptions::show: voids_penalty_energy_voxel_size_: 0.5\n",
            "EnergyMethodOptions::show: voids_penalty_energy_disabled_except_during_packing_: TRUE\n",
            "EnergyMethodOptions::show: hbnet_bonus_ramping_function_: \"quadratic\"\n",
            "EnergyMethodOptions::show: hbnet_max_network_size_: 0\n",
            "EnergyMethodOptions::show: approximate_buried_unsat_penalty_hbond_energy_threshold_: -0.25\n",
            "EnergyMethodOptions::show: approximate_buried_unsat_penalty_burial_atomic_depth_: 4.5\n",
            "EnergyMethodOptions::show: approximate_buried_unsat_penalty_burial_probe_radius_: 2.3\n",
            "EnergyMethodOptions::show: approximate_buried_unsat_penalty_burial_resolution_: 0.5\n",
            "EnergyMethodOptions::show: approximate_buried_unsat_penalty_oversat_penalty_: 1\n",
            "EnergyMethodOptions::show: approximate_buried_unsat_penalty_assume_const_backbone_:1\n",
            "EnergyMethodOptions::show: approximate_buried_unsat_penalty_natural_corrections1_:0\n",
            "EnergyMethodOptions::show: approximate_buried_unsat_penalty_hbond_bonus_cross_chain_:0\n",
            "EnergyMethodOptions::show: approximate_buried_unsat_penalty_hbond_bonus_ser_to_helix_bb_:0\n",
            "EnergyMethodOptions::show: approximate_buried_unsat_penalty_lys_ok_with_1_:0\n",
            "EnergyMethodOptions::show: target_clash_pdb_:\n",
            "EnergyMethodOptions::show: dump_trajectory_prefix_: traj\n",
            "EnergyMethodOptions::show: dump_trajectory_gz_: FALSE\n",
            "EnergyMethodOptions::show: dump_trajectory_stride_: 1\n",
            "EnergyMethodOptions::show: bond_angle_central_atoms_to_score:\n",
            "EnergyMethodOptions::show: bond_angle_residue_type_param_set: none\n",
            "HBondOptions::show: hb_max_energy: 0\n",
            "HBondOptions::show: exclude_DNA_DNA: false\n",
            "HBondOptions::show: exclude_intra_res_protein_: false\n",
            "HBondOptions::show: exclude_intra_res_RNA_: false\n",
            "HBondOptions::show: put_intra_into_total_: false\n",
            "HBondOptions::show: exclude_self_hbonds: true\n",
            "HBondOptions::show: use_hb_env_dep: false\n",
            "HBondOptions::show: use_hb_env_dep_DNA: true\n",
            "HBondOptions::show: smooth_hb_env_dep: true\n",
            "HBondOptions::show: bb_donor_acceptor_check: true\n",
            "HBondOptions::show: decompose_bb_hb_into_pair_energies: false\n",
            "HBondOptions::show: params_database_tag_: ref2015_params\n",
            "HBondOptions::show: use_sp2_chi_penalty_: true\n",
            "HBondOptions::show: sp2_BAH180_rise_: 0.75\n",
            "HBondOptions::show: sp2_outer_width_: 0.357\n",
            "HBondOptions::show: measure_sp3acc_BAH_from_hvy_: true\n",
            "HBondOptions::show: fade_energy_: 1\n",
            "HBondOptions::show: exclude_ether_oxygens_: 0\n",
            "HBondOptions::show: Mbhbond: false \n",
            "HbondOptions::show: mphbond: false\n",
            "HBondOptions::show: hbond_energy_shift: 0\n",
            "HBondOptions::show: water_hybrid_sf: false\n",
            "RNA_EnergyMethodOptions::show: syn_G_potential_bonus: 0\n",
            "RNA_EnergyMethodOptions::show: torsion_potential: ps_04282011\n",
            "RNA_EnergyMethodOptions::show: suiteness_bonus: Richardson\n",
            "RNA_EnergyMethodOptions::show: rna_base_pair_xy_filename: scoring/rna/rna_base_pair_xy.dat\n",
            "FreeDOF_Options::show: free_suite_bonus: -1\n",
            "FreeDOF_Options::show: free_2HOprime_bonus: -0.5\n",
            "FreeDOF_Options::show: free_sugar_bonus: -1\n",
            "FreeDOF_Options::show: pack_phosphate_penalty: 0.25\n",
            "FreeDOF_Options::show: free_side_chain_bonus: -0.5\n",
            "\n",
            "\n"
          ]
        }
      ],
      "source": [
        "### BEGIN SOLUTION\n",
        "print(sfxn)\n",
        "### END SOLUTION"
      ]
    },
    {
      "cell_type": "markdown",
      "metadata": {
        "nbgrader": {
          "grade": false,
          "grade_id": "cell-5714b7bc994c3fe3",
          "locked": true,
          "schema_version": 3,
          "solution": false
        },
        "id": "kp_Hejl4fuGy"
      },
      "source": [
        "## Practice: List the terms in the energy function and their relative weights\n",
        "\n",
        "**Hint:** look at the top line that starts with 'weights'"
      ]
    },
    {
      "cell_type": "code",
      "execution_count": 7,
      "metadata": {
        "nbgrader": {
          "grade": true,
          "grade_id": "cell-22ba33466d6eb287",
          "locked": false,
          "points": 0,
          "schema_version": 3,
          "solution": true
        },
        "id": "pQGXFm_VfuGy"
      },
      "outputs": [],
      "source": [
        "## Your Response Here\n",
        "\n",
        "### BEGIN SOLUTION\n",
        "\n",
        "# (fa_atr 1) (fa_rep 0.55) (fa_sol 1) (fa_intra_rep 0.005)\n",
        "# (fa_intra_sol_xover4 1) (lk_ball_wtd 1) (fa_elec 1)\n",
        "# (pro_close 1.25) (hbond_sr_bb 1) (hbond_lr_bb 1)\n",
        "# (hbond_bb_sc 1) (hbond_sc 1) (dslf_fa13 1.25) (omega 0.4)\n",
        "# (fa_dun 0.7) (p_aa_pp 0.6) (yhh_planarity 0.625) (ref 1)\n",
        "# (rama_prepro 0.45)\n",
        "\n",
        "### END SOLUTION"
      ]
    },
    {
      "cell_type": "markdown",
      "metadata": {
        "id": "BJ91Tk21fuGy"
      },
      "source": [
        "## Custom energy functions"
      ]
    },
    {
      "cell_type": "markdown",
      "metadata": {
        "nbgrader": {
          "grade": false,
          "grade_id": "cell-9c06a7c877210a94",
          "locked": true,
          "schema_version": 3,
          "solution": false
        },
        "id": "4uaMctBbfuGy"
      },
      "source": [
        "You can also create a custom energy function that includes select terms. Typically, creating a whole new score function is unneccesary because the current one works well in most cases. However, tweaking the current enrgy function by reassigning weights and adding certain energy terms can be useful.\n",
        "\n",
        "Here, we will make an example energy function with only the van der Waals attractive and repulsive terms, both with weights of 1. We need to use the `set_weight()`. Make a new `ScoreFunction` and set the weights accordingly. This is how we set the full-atom attractive (`fa_atr`) and the full-atom repulsive (`fa_rep`) terms.\n",
        "\n",
        "```\n",
        "sfxn2 = ScoreFunction()\n",
        "sfxn2.set_weight(fa_atr, 1.0)\n",
        "sfxn2.set_weight(fa_rep, 1.0)\n",
        "```"
      ]
    },
    {
      "cell_type": "code",
      "execution_count": 8,
      "metadata": {
        "nbgrader": {
          "grade": true,
          "grade_id": "cell-c4c5c8d7de03487d",
          "locked": false,
          "points": 0,
          "schema_version": 3,
          "solution": true
        },
        "id": "VawK7XfZfuGy"
      },
      "outputs": [],
      "source": [
        "### BEGIN SOLUTION\n",
        "sfxn2 = ScoreFunction()\n",
        "sfxn2.set_weight(fa_atr, 1.0)\n",
        "sfxn2.set_weight(fa_rep, 1.0)\n",
        "### END SOLUTION"
      ]
    },
    {
      "cell_type": "markdown",
      "metadata": {
        "nbgrader": {
          "grade": false,
          "grade_id": "cell-951446e04ce45937",
          "locked": true,
          "schema_version": 3,
          "solution": false
        },
        "id": "UIpj0M-7fuGz"
      },
      "source": [
        "Lets compare the score of `ras` using the full-atom `ScoreFunction` versus the `ScoreFunction` we made above using only the attractive and repulsive terms.\n",
        "\n",
        "First, print the total energy of `ras` using `print(sfxn(ras))`\n",
        "Then, print the attractive and repulsive energy only of `ras` using `print(sfxn2(ras))`"
      ]
    },
    {
      "cell_type": "code",
      "execution_count": 9,
      "metadata": {
        "nbgrader": {
          "grade": true,
          "grade_id": "cell-7013e0c60ab37e65",
          "locked": false,
          "points": 0,
          "schema_version": 3,
          "solution": true
        },
        "id": "x55tZ9G4fuGz",
        "outputId": "f4026bbf-323b-4cb4-dd62-94cfece88527",
        "colab": {
          "base_uri": "https://localhost:8080/"
        }
      },
      "outputs": [
        {
          "output_type": "stream",
          "name": "stdout",
          "text": [
            "basic.io.database: Database file opened: scoring/score_functions/elec_cp_reps.dat\n",
            "core.scoring.elec.util: Read 40 countpair representative atoms\n",
            "core.pack.dunbrack.RotamerLibrary: shapovalov_lib_fixes_enable option is true.\n",
            "core.pack.dunbrack.RotamerLibrary: shapovalov_lib::shap_dun10_smooth_level of 1( aka lowest_smooth ) got activated.\n",
            "core.pack.dunbrack.RotamerLibrary: Binary rotamer library selected: /usr/local/lib/python3.10/dist-packages/pyrosetta/database/rotamer/shapovalov/StpDwn_0-0-0/Dunbrack10.lib.bin\n",
            "core.pack.dunbrack.RotamerLibrary: Using Dunbrack library binary file '/usr/local/lib/python3.10/dist-packages/pyrosetta/database/rotamer/shapovalov/StpDwn_0-0-0/Dunbrack10.lib.bin'.\n",
            "core.pack.dunbrack.RotamerLibrary: Dunbrack 2010 library took 0.659062 seconds to load from binary\n",
            "3856.1279316620544\n",
            "65.88066458854428\n"
          ]
        }
      ],
      "source": [
        "# print total energy of ras\n",
        "### BEGIN SOLUTION\n",
        "print(sfxn(ras))\n",
        "### END SOLUTION\n",
        "\n",
        "# print the attractive and repulsive energy of ras\n",
        "### BEGIN SOLUTION\n",
        "print(sfxn2(ras))\n",
        "### END SOLUTION"
      ]
    },
    {
      "cell_type": "markdown",
      "metadata": {
        "id": "2fCQ0o_ofuGz"
      },
      "source": [
        "## Energy Breakdown"
      ]
    },
    {
      "cell_type": "markdown",
      "metadata": {
        "nbgrader": {
          "grade": false,
          "grade_id": "cell-952b996905b5bfc0",
          "locked": true,
          "schema_version": 3,
          "solution": false
        },
        "id": "JM9kdWIIfuGz"
      },
      "source": [
        "Using the full-atom `ScoreFunction` `sfxn`, break the energy of `ras` down into its individual pieces with the `sfxn.show(ras)` method. Which are the three most dominant contributions, and what are their values? Is this what you would have expected? Why? Note which terms are positive and negative"
      ]
    },
    {
      "cell_type": "code",
      "execution_count": 10,
      "metadata": {
        "nbgrader": {
          "grade": true,
          "grade_id": "cell-1985d733350b2c83",
          "locked": false,
          "points": 0,
          "schema_version": 3,
          "solution": true
        },
        "id": "8mjNl68NfuGz",
        "outputId": "a4c684ba-d5e5-4d3f-b857-dac1b5720ac9",
        "colab": {
          "base_uri": "https://localhost:8080/"
        }
      },
      "outputs": [
        {
          "output_type": "stream",
          "name": "stdout",
          "text": [
            "core.scoring.ScoreFunction: \n",
            "------------------------------------------------------------\n",
            " Scores                       Weight   Raw Score Wghtd.Score\n",
            "------------------------------------------------------------\n",
            " fa_atr                       1.000   -4465.653   -4465.653\n",
            " fa_rep                       0.550    4531.534    2492.343\n",
            " fa_sol                       1.000    3153.321    3153.321\n",
            " fa_intra_rep                 0.005    3064.638      15.323\n",
            " fa_intra_sol_xover4          1.000     200.904     200.904\n",
            " lk_ball_wtd                  1.000     -54.711     -54.711\n",
            " fa_elec                      1.000   -1083.192   -1083.192\n",
            " pro_close                    1.250     270.565     338.206\n",
            " hbond_sr_bb                  1.000    -181.224    -181.224\n",
            " hbond_lr_bb                  1.000    -130.586    -130.586\n",
            " hbond_bb_sc                  1.000     -73.431     -73.431\n",
            " hbond_sc                     1.000     -53.769     -53.769\n",
            " dslf_fa13                    1.250       0.000       0.000\n",
            " omega                        0.400     149.145      59.658\n",
            " fa_dun                       0.700    4635.733    3245.013\n",
            " p_aa_pp                      0.600    -101.427     -60.856\n",
            " yhh_planarity                0.625       0.000       0.000\n",
            " ref                          1.000     188.455     188.455\n",
            " rama_prepro                  0.450     591.830     266.324\n",
            "---------------------------------------------------\n",
            " Total weighted score:                     3856.128\n"
          ]
        }
      ],
      "source": [
        "# use the sfxn.show() method\n",
        "### BEGIN SOLUTION\n",
        "sfxn.show(ras)\n",
        "### END SOLUTION"
      ]
    },
    {
      "cell_type": "code",
      "execution_count": null,
      "metadata": {
        "code_folding": [],
        "nbgrader": {
          "grade": false,
          "grade_id": "cell-4ad3a4c661b9a763",
          "locked": true,
          "schema_version": 3,
          "solution": false
        },
        "id": "6RYDd877fuGz"
      },
      "outputs": [],
      "source": [
        "# Your response here: what are the three most dominant contributions?"
      ]
    },
    {
      "cell_type": "markdown",
      "metadata": {
        "nbgrader": {
          "grade": false,
          "grade_id": "cell-dfa8632eb3d02079",
          "locked": true,
          "schema_version": 3,
          "solution": false
        },
        "id": "oGz2y7XqfuG0"
      },
      "source": [
        "Unweighted, individual component energies of each residue in a structure are stored in the `Pose` object and can be accessed by the `energies()` method. For example, to break down the energy into each residue's contribution, we use:\n",
        "```\n",
        "print(ras.energies().show(<n>))\n",
        "```\n",
        "Where `<n>` is the residue number.\n",
        "\n",
        "What are the total van der Waals, solvation, and hydrogen-bonding contributions of residue 24?\n",
        "\n",
        "Note: The _backbone_ hydrogen-bonding terms for each residue are not available from the `Energies` object. You can get them by using EnergyMethodOptions. See http://www.pyrosetta.org/documentation#TOC-Hydrogen-Bonds-and-Hydrogen-Bond-Scoring."
      ]
    },
    {
      "cell_type": "code",
      "execution_count": 12,
      "metadata": {
        "nbgrader": {
          "grade": true,
          "grade_id": "cell-cd5175f1ed3fd0ad",
          "locked": false,
          "points": 0,
          "schema_version": 3,
          "solution": true
        },
        "id": "nxyElUIcfuG0",
        "outputId": "a92a450d-cac3-4797-af04-5d487a6e8318",
        "colab": {
          "base_uri": "https://localhost:8080/"
        }
      },
      "outputs": [
        {
          "output_type": "stream",
          "name": "stdout",
          "text": [
            "core.scoring.Energies: E               fa_atr        fa_rep        fa_sol  fa_intra_repfa_intra_sol_x   lk_ball_wtd       fa_elec     pro_close   hbond_sr_bb   hbond_lr_bb   hbond_bb_sc      hbond_sc     dslf_fa13         omega        fa_dun       p_aa_pp yhh_planarity           ref   rama_prepro\n",
            "core.scoring.Energies: E(i)  24         -7.40         19.03          2.94          8.76          0.09         -0.11         -0.56          0.00          0.00          0.00          0.00          0.00          0.00          0.12          2.68          0.06          0.00          2.30          3.58\n",
            "None\n"
          ]
        }
      ],
      "source": [
        "### BEGIN SOLUTION\n",
        "print(ras.energies().show(24))\n",
        "### END SOLUTION"
      ]
    },
    {
      "cell_type": "code",
      "execution_count": null,
      "metadata": {
        "nbgrader": {
          "grade": false,
          "grade_id": "cell-910b1116d1d0becf",
          "locked": true,
          "schema_version": 3,
          "solution": false
        },
        "id": "vrUdR3KTfuG0"
      },
      "outputs": [],
      "source": [
        "# your response here"
      ]
    },
    {
      "cell_type": "markdown",
      "metadata": {
        "nbgrader": {
          "grade": false,
          "grade_id": "cell-4832aeb37f36c0c6",
          "locked": true,
          "schema_version": 3,
          "solution": false
        },
        "id": "mxGUiiLqfuG0"
      },
      "source": [
        "The van der Waals, solvation, and electrostatic terms are atom-atom pairwise energies calculated from a pre-tabulated lookup table, dependent upon the distance between the two atoms and their types. You can access this lookup table, called the `etable` directly to check these energy calculations on an atom-by-atom basis. Use the `etable_atom_pair_energies` function which returns a triplet of energies for attractive, repulsive and solvation scores.\n",
        "\n",
        "(Note that the `etable_atom_pair_energies()` function requires `Atom` objects, not the `AtomID` objects we saw in Workshop #2. For more info, look at the [documentation](https://graylab.jhu.edu/PyRosetta.documentation/pyrosetta.toolbox.atom_pair_energy.html?highlight=etable_atom_pair_energies#pyrosetta.toolbox.atom_pair_energy.etable_atom_pair_energies).)\n",
        "\n",
        "**Practice:** What are the attractive, repulsive, solvation, and electrostatic components between the nitrogen of residue 24 and the oxygen of residue 20?\n"
      ]
    },
    {
      "cell_type": "code",
      "execution_count": 13,
      "metadata": {
        "nbgrader": {
          "grade": true,
          "grade_id": "cell-7ce1bc99f2fd0b00",
          "locked": false,
          "points": 0,
          "schema_version": 3,
          "solution": true
        },
        "id": "7mS3yaR1fuG0",
        "outputId": "883b143a-8847-4657-8d05-32528773c4c5",
        "colab": {
          "base_uri": "https://localhost:8080/"
        }
      },
      "outputs": [
        {
          "output_type": "execute_result",
          "data": {
            "text/plain": [
              "(-0.1505855046001568, 0.0, 0.5903452111877214, 2.173111777247698)"
            ]
          },
          "metadata": {},
          "execution_count": 13
        }
      ],
      "source": [
        "### BEGIN SOLUTION\n",
        "res24 = ras.residue(24)\n",
        "res20 = ras.residue(20)\n",
        "res24_atomN = res24.atom_index(\"N\")\n",
        "res20_atomO = res20.atom_index(\"O\")\n",
        "pyrosetta.etable_atom_pair_energies(res24, res24_atomN, res20, res20_atomO, sfxn)\n",
        "### END SOLUTION"
      ]
    },
    {
      "cell_type": "markdown",
      "metadata": {
        "id": "6xwJY2gsfuG1"
      },
      "source": [
        "<!--NAVIGATION-->\n",
        "< [Rosetta Energy Score Functions](http://nbviewer.jupyter.org/github/RosettaCommons/PyRosetta.notebooks/blob/master/notebooks/03.00-Rosetta-Energy-Score-Functions.ipynb) | [Contents](toc.ipynb) | [Index](index.ipynb) | [Practice: Analyzing energy between residues](http://nbviewer.jupyter.org/github/RosettaCommons/PyRosetta.notebooks/blob/master/notebooks/03.02-Analyzing-energy-between-residues.ipynb) ><p><a href=\"https://colab.research.google.com/github/RosettaCommons/PyRosetta.notebooks/blob/master/notebooks/03.01-Score-Function-Basics.ipynb\"><img align=\"left\" src=\"https://colab.research.google.com/assets/colab-badge.svg\" alt=\"Open in Colab\" title=\"Open in Google Colaboratory\"></a>"
      ]
    }
  ],
  "metadata": {
    "celltoolbar": "Create Assignment",
    "kernelspec": {
      "display_name": "Python 3",
      "language": "python",
      "name": "python3"
    },
    "language_info": {
      "codemirror_mode": {
        "name": "ipython",
        "version": 3
      },
      "file_extension": ".py",
      "mimetype": "text/x-python",
      "name": "python",
      "nbconvert_exporter": "python",
      "pygments_lexer": "ipython3",
      "version": "3.6.0"
    },
    "toc": {
      "base_numbering": 1,
      "nav_menu": {},
      "number_sections": true,
      "sideBar": true,
      "skip_h1_title": false,
      "title_cell": "Table of Contents",
      "title_sidebar": "Contents",
      "toc_cell": false,
      "toc_position": {
        "height": "503.333px",
        "left": "207px",
        "top": "151.722px",
        "width": "254.167px"
      },
      "toc_section_display": true,
      "toc_window_display": true
    },
    "colab": {
      "provenance": [],
      "include_colab_link": true
    }
  },
  "nbformat": 4,
  "nbformat_minor": 0
}