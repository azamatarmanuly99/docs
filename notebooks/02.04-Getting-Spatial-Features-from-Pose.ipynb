{
  "cells": [
    {
      "cell_type": "markdown",
      "metadata": {
        "id": "view-in-github",
        "colab_type": "text"
      },
      "source": [
        "<a href=\"https://colab.research.google.com/github/azamatarmanuly99/docs/blob/main/notebooks/02.04-Getting-Spatial-Features-from-Pose.ipynb\" target=\"_parent\"><img src=\"https://colab.research.google.com/assets/colab-badge.svg\" alt=\"Open In Colab\"/></a>"
      ]
    },
    {
      "cell_type": "markdown",
      "metadata": {
        "id": "8-9uqvJ1qjDs"
      },
      "source": [
        "<!--NOTEBOOK_HEADER-->\n",
        "*This notebook contains material from [PyRosetta](https://RosettaCommons.github.io/PyRosetta.notebooks);\n",
        "content is available [on Github](https://github.com/RosettaCommons/PyRosetta.notebooks.git).*"
      ]
    },
    {
      "cell_type": "markdown",
      "metadata": {
        "id": "Kdbh-nAOqjDw"
      },
      "source": [
        "<!--NAVIGATION-->\n",
        "< [Accessing PyRosetta Documentation](http://nbviewer.jupyter.org/github/RosettaCommons/PyRosetta.notebooks/blob/master/notebooks/02.03-Accessing-PyRosetta-Documentation.ipynb) | [Contents](toc.ipynb) | [Index](index.ipynb) | [Protein Geometry](http://nbviewer.jupyter.org/github/RosettaCommons/PyRosetta.notebooks/blob/master/notebooks/02.05-Protein-Geometry.ipynb) ><p><a href=\"https://colab.research.google.com/github/RosettaCommons/PyRosetta.notebooks/blob/master/notebooks/02.04-Getting-Spatial-Features-from-Pose.ipynb\"><img align=\"left\" src=\"https://colab.research.google.com/assets/colab-badge.svg\" alt=\"Open in Colab\" title=\"Open in Google Colaboratory\"></a>"
      ]
    },
    {
      "cell_type": "markdown",
      "metadata": {
        "id": "yFpcPrHdqjDx"
      },
      "source": [
        "# Getting spatial features from a Pose\n",
        "Keywords: conformation(), bond_length(), AtomID, atom_index()"
      ]
    },
    {
      "cell_type": "code",
      "execution_count": 1,
      "metadata": {
        "id": "2TjqWYvXqjDy",
        "outputId": "c5246219-3a6d-426c-bd75-094f5fdd5a6f",
        "colab": {
          "base_uri": "https://localhost:8080/"
        }
      },
      "outputs": [
        {
          "output_type": "stream",
          "name": "stdout",
          "text": [
            "Collecting pyrosettacolabsetup\n",
            "  Downloading pyrosettacolabsetup-1.0.7-py3-none-any.whl (4.8 kB)\n",
            "Installing collected packages: pyrosettacolabsetup\n",
            "Successfully installed pyrosettacolabsetup-1.0.7\n",
            "Mounted at /content/google_drive\n",
            "Looking for compatible PyRosetta wheel file at google-drive/PyRosetta/colab.bin//wheels...\n",
            "Found compatible wheel: /content/google_drive/MyDrive/PyRosetta/colab.bin/wheels//content/google_drive/MyDrive/PyRosetta/colab.bin/wheels/pyrosetta-2024.1+release.00b79147e63-cp310-cp310-linux_x86_64.whl\n",
            "\n",
            "\n",
            "PyRosetta-4 2023 [Rosetta PyRosetta4.MinSizeRel.python310.ubuntu 2024.01+release.00b79147e63be743438188f93a3f069ca75106d6 2023-12-25T16:35:48] retrieved from: http://www.pyrosetta.org\n",
            "(C) Copyright Rosetta Commons Member Institutions. Created in JHU by Sergey Lyskov and PyRosetta Team.\n",
            "core.init: Checking for fconfig files in pwd and ./rosetta/flags\n",
            "core.init: Rosetta version: PyRosetta4.MinSizeRel.python310.ubuntu r366 2024.01+release.00b79147e63 00b79147e63be743438188f93a3f069ca75106d6 http://www.pyrosetta.org 2023-12-25T16:35:48\n",
            "core.init: command: PyRosetta -ex1 -ex2aro -database /usr/local/lib/python3.10/dist-packages/pyrosetta/database\n",
            "basic.random.init_random_generator: 'RNG device' seed mode, using '/dev/urandom', seed=-1711074928 seed_offset=0 real_seed=-1711074928\n",
            "basic.random.init_random_generator: RandomGenerator:init: Normal mode, seed=-1711074928 RG_type=mt19937\n"
          ]
        }
      ],
      "source": [
        "!pip install pyrosettacolabsetup\n",
        "import pyrosettacolabsetup; pyrosettacolabsetup.install_pyrosetta()\n",
        "import pyrosetta; pyrosetta.init()\n"
      ]
    },
    {
      "cell_type": "code",
      "execution_count": 2,
      "metadata": {
        "id": "g70vk3IXqjDz",
        "outputId": "f42a932a-bee3-497b-9c24-c12254a0812e",
        "colab": {
          "base_uri": "https://localhost:8080/"
        }
      },
      "outputs": [
        {
          "output_type": "stream",
          "name": "stdout",
          "text": [
            "PyRosetta-4 2023 [Rosetta PyRosetta4.MinSizeRel.python310.ubuntu 2024.01+release.00b79147e63be743438188f93a3f069ca75106d6 2023-12-25T16:35:48] retrieved from: http://www.pyrosetta.org\n",
            "(C) Copyright Rosetta Commons Member Institutions. Created in JHU by Sergey Lyskov and PyRosetta Team.\n",
            "core.init: Checking for fconfig files in pwd and ./rosetta/flags\n",
            "core.init: Rosetta version: PyRosetta4.MinSizeRel.python310.ubuntu r366 2024.01+release.00b79147e63 00b79147e63be743438188f93a3f069ca75106d6 http://www.pyrosetta.org 2023-12-25T16:35:48\n",
            "core.init: command: PyRosetta -ex1 -ex2aro -database /usr/local/lib/python3.10/dist-packages/pyrosetta/database\n",
            "basic.random.init_random_generator: 'RNG device' seed mode, using '/dev/urandom', seed=-901827418 seed_offset=0 real_seed=-901827418\n",
            "basic.random.init_random_generator: RandomGenerator:init: Normal mode, seed=-901827418 RG_type=mt19937\n"
          ]
        }
      ],
      "source": [
        "from pyrosetta import *\n",
        "init()"
      ]
    },
    {
      "cell_type": "markdown",
      "metadata": {
        "id": "vgCgTc0KqjDz"
      },
      "source": [
        "**From previous section:**\n",
        "Make sure you are in the directory with the pdb files:\n",
        "\n",
        "`cd google_drive/My\\ Drive/student-notebooks/`"
      ]
    },
    {
      "cell_type": "code",
      "execution_count": 4,
      "metadata": {
        "id": "yMXQjvMTqjD0",
        "outputId": "81180ad3-07ee-45e2-864d-2784b7d8fa8f",
        "colab": {
          "base_uri": "https://localhost:8080/"
        }
      },
      "outputs": [
        {
          "output_type": "stream",
          "name": "stdout",
          "text": [
            "core.import_pose.import_pose: File '5tj3.pdb' automatically determined to be of type PDB\n",
            "core.conformation.Conformation: [ WARNING ] missing heavyatom:  CG  on residue LYS 233\n",
            "core.conformation.Conformation: [ WARNING ] missing heavyatom:  CD  on residue LYS 233\n",
            "core.conformation.Conformation: [ WARNING ] missing heavyatom:  CE  on residue LYS 233\n",
            "core.conformation.Conformation: [ WARNING ] missing heavyatom:  NZ  on residue LYS 233\n",
            "core.conformation.Conformation: [ WARNING ] missing heavyatom:  CG  on residue ASP 350\n",
            "core.conformation.Conformation: [ WARNING ] missing heavyatom:  OD1 on residue ASP 350\n",
            "core.conformation.Conformation: [ WARNING ] missing heavyatom:  OD2 on residue ASP 350\n",
            "core.conformation.Conformation: [ WARNING ] missing heavyatom:  CG  on residue LYS 353\n",
            "core.conformation.Conformation: [ WARNING ] missing heavyatom:  CD  on residue LYS 353\n",
            "core.conformation.Conformation: [ WARNING ] missing heavyatom:  CE  on residue LYS 353\n",
            "core.conformation.Conformation: [ WARNING ] missing heavyatom:  NZ  on residue LYS 353\n",
            "core.conformation.Conformation: [ WARNING ] missing heavyatom:  CG  on residue GLU 354\n",
            "core.conformation.Conformation: [ WARNING ] missing heavyatom:  CD  on residue GLU 354\n",
            "core.conformation.Conformation: [ WARNING ] missing heavyatom:  OE1 on residue GLU 354\n",
            "core.conformation.Conformation: [ WARNING ] missing heavyatom:  OE2 on residue GLU 354\n",
            "core.conformation.Conformation: [ WARNING ] missing heavyatom:  CG  on residue LYS 382\n",
            "core.conformation.Conformation: [ WARNING ] missing heavyatom:  CD  on residue LYS 382\n",
            "core.conformation.Conformation: [ WARNING ] missing heavyatom:  CE  on residue LYS 382\n",
            "core.conformation.Conformation: [ WARNING ] missing heavyatom:  NZ  on residue LYS 382\n",
            "core.conformation.Conformation: [ WARNING ] missing heavyatom:  CG  on residue TYR 454\n",
            "core.conformation.Conformation: [ WARNING ] missing heavyatom:  CD1 on residue TYR 454\n",
            "core.conformation.Conformation: [ WARNING ] missing heavyatom:  CD2 on residue TYR 454\n",
            "core.conformation.Conformation: [ WARNING ] missing heavyatom:  CE1 on residue TYR 454\n",
            "core.conformation.Conformation: [ WARNING ] missing heavyatom:  CE2 on residue TYR 454\n",
            "core.conformation.Conformation: [ WARNING ] missing heavyatom:  CZ  on residue TYR 454\n",
            "core.conformation.Conformation: [ WARNING ] missing heavyatom:  OH  on residue TYR 454\n",
            "core.conformation.Conformation: [ WARNING ] missing heavyatom:  OXT on residue GLY:CtermProteinFull 520\n",
            "core.pack.pack_missing_sidechains: packing residue number 233 because of missing atom number 6 atom name  CG\n",
            "core.pack.pack_missing_sidechains: packing residue number 350 because of missing atom number 6 atom name  CG\n",
            "core.pack.pack_missing_sidechains: packing residue number 353 because of missing atom number 6 atom name  CG\n",
            "core.pack.pack_missing_sidechains: packing residue number 354 because of missing atom number 6 atom name  CG\n",
            "core.pack.pack_missing_sidechains: packing residue number 382 because of missing atom number 6 atom name  CG\n",
            "core.pack.pack_missing_sidechains: packing residue number 454 because of missing atom number 6 atom name  CG\n",
            "core.pack.task: Packer task: initialize from command line()\n",
            "core.scoring.ScoreFunctionFactory: SCOREFUNCTION: ref2015\n",
            "core.scoring.etable: Starting energy table calculation\n",
            "core.scoring.etable: smooth_etable: changing atr/rep split to bottom of energy well\n",
            "core.scoring.etable: smooth_etable: spline smoothing lj etables (maxdis = 6)\n",
            "core.scoring.etable: smooth_etable: spline smoothing solvation etables (max_dis = 6)\n",
            "core.scoring.etable: Finished calculating energy tables.\n",
            "basic.io.database: Database file opened: scoring/score_functions/hbonds/ref2015_params/HBPoly1D.csv\n",
            "basic.io.database: Database file opened: scoring/score_functions/hbonds/ref2015_params/HBFadeIntervals.csv\n",
            "basic.io.database: Database file opened: scoring/score_functions/hbonds/ref2015_params/HBEval.csv\n",
            "basic.io.database: Database file opened: scoring/score_functions/hbonds/ref2015_params/DonStrength.csv\n",
            "basic.io.database: Database file opened: scoring/score_functions/hbonds/ref2015_params/AccStrength.csv\n",
            "basic.io.database: Database file opened: scoring/score_functions/rama/fd/all.ramaProb\n",
            "basic.io.database: Database file opened: scoring/score_functions/rama/fd/prepro.ramaProb\n",
            "basic.io.database: Database file opened: scoring/score_functions/omega/omega_ppdep.all.txt\n",
            "basic.io.database: Database file opened: scoring/score_functions/omega/omega_ppdep.gly.txt\n",
            "basic.io.database: Database file opened: scoring/score_functions/omega/omega_ppdep.pro.txt\n",
            "basic.io.database: Database file opened: scoring/score_functions/omega/omega_ppdep.valile.txt\n",
            "basic.io.database: Database file opened: scoring/score_functions/P_AA_pp/P_AA\n",
            "basic.io.database: Database file opened: scoring/score_functions/P_AA_pp/P_AA_n\n",
            "core.scoring.P_AA: shapovalov_lib::shap_p_aa_pp_smooth_level of 1( aka low_smooth ) got activated.\n",
            "basic.io.database: Database file opened: scoring/score_functions/P_AA_pp/shapovalov/10deg/kappa131/a20.prop\n",
            "basic.io.database: Database file opened: scoring/score_functions/elec_cp_reps.dat\n",
            "core.scoring.elec.util: Read 40 countpair representative atoms\n",
            "core.pack.dunbrack.RotamerLibrary: shapovalov_lib_fixes_enable option is true.\n",
            "core.pack.dunbrack.RotamerLibrary: shapovalov_lib::shap_dun10_smooth_level of 1( aka lowest_smooth ) got activated.\n",
            "core.pack.dunbrack.RotamerLibrary: Binary rotamer library selected: /usr/local/lib/python3.10/dist-packages/pyrosetta/database/rotamer/shapovalov/StpDwn_0-0-0/Dunbrack10.lib.bin\n",
            "core.pack.dunbrack.RotamerLibrary: Using Dunbrack library binary file '/usr/local/lib/python3.10/dist-packages/pyrosetta/database/rotamer/shapovalov/StpDwn_0-0-0/Dunbrack10.lib.bin'.\n",
            "core.pack.dunbrack.RotamerLibrary: Dunbrack 2010 library took 0.325548 seconds to load from binary\n",
            "core.pack.pack_rotamers: built 90 rotamers at 6 positions.\n",
            "core.pack.interaction_graph.interaction_graph_factory: Instantiating DensePDInteractionGraph\n"
          ]
        }
      ],
      "source": [
        "pose = pose_from_pdb(\"5tj3.pdb\")"
      ]
    },
    {
      "cell_type": "markdown",
      "metadata": {
        "id": "-wYTNv72qjD1"
      },
      "source": [
        "`Pose` objects make it easy to access angles, distances, and torsions for analysis. Lets take a look at how to get backbone torsions first."
      ]
    },
    {
      "cell_type": "code",
      "execution_count": 6,
      "metadata": {
        "code_folding": [],
        "nbgrader": {
          "grade": true,
          "grade_id": "cell-515a9a625374ff39",
          "locked": false,
          "points": 0,
          "schema_version": 3,
          "solution": true
        },
        "id": "Mzwg53nrqjD2"
      },
      "outputs": [],
      "source": [
        "#resid = \"get the pose residue number for chain A:res 28 using the pdb2pose function\"\n",
        "### BEGIN SOLUTION\n",
        "resid = pose.pdb_info().pdb2pose('A', 28)\n",
        "### END SOLUTION"
      ]
    },
    {
      "cell_type": "code",
      "execution_count": 7,
      "metadata": {
        "id": "qwxmcBtHqjD2",
        "outputId": "7be8c872-b1dc-40d4-b7ac-3021227eab32",
        "colab": {
          "base_uri": "https://localhost:8080/"
        }
      },
      "outputs": [
        {
          "output_type": "stream",
          "name": "stdout",
          "text": [
            "phi: -149.17513487055064\n",
            "psi: 151.30037995499168\n",
            "chi1: -82.85078566898203\n"
          ]
        }
      ],
      "source": [
        "print(\"phi:\", pose.phi(resid))\n",
        "print(\"psi:\", pose.psi(resid))\n",
        "print(\"chi1:\", pose.chi(1, resid))"
      ]
    },
    {
      "cell_type": "markdown",
      "metadata": {
        "id": "oa3eRmJwqjD3"
      },
      "source": [
        "Say we want to find the length of the $N$-$C_\\alpha$ and $C_\\alpha$-$C$ bonds for residue A:28 from the PDB file. We can use a couple approaches. The first involves using the bond length in the `Conformation` class, which stores some info on protein geometry. Take a look at some of the methods in the `Conformation` class using tab completion."
      ]
    },
    {
      "cell_type": "code",
      "execution_count": 8,
      "metadata": {
        "id": "0n6V6_Y3qjD3"
      },
      "outputs": [],
      "source": [
        "conformation = pose.conformation()\n",
        "# do some tab completion here to explore the Conformation class methods\n",
        "#conformation."
      ]
    },
    {
      "cell_type": "markdown",
      "metadata": {
        "id": "sVTc9LrBqjD3"
      },
      "source": [
        "Look at the documentation for the method `conformation.bond_length` below. Remember using the `?`"
      ]
    },
    {
      "cell_type": "code",
      "execution_count": 9,
      "metadata": {
        "nbgrader": {
          "grade": true,
          "grade_id": "cell-24f6696e51608ed9",
          "locked": false,
          "points": 0,
          "schema_version": 3,
          "solution": true
        },
        "id": "NSNmit_wqjD3"
      },
      "outputs": [],
      "source": [
        "### BEGIN SOLUTION\n",
        "# ?conformation.bond_length\n",
        "### END SOLUTION"
      ]
    },
    {
      "cell_type": "markdown",
      "metadata": {
        "id": "uNe2RHTiqjD3"
      },
      "source": [
        "To use the bond_length method in the `Conformation` class, it looks like we'll need to make `AtomID` objects. We can do this using an atom index and residue ID as follows:"
      ]
    },
    {
      "cell_type": "code",
      "execution_count": 10,
      "metadata": {
        "id": "x07ElvOpqjD4"
      },
      "outputs": [],
      "source": [
        "# Double Check: does resid contain the Pose numbering or PDB numbering?\n",
        "res_28 = pose.residue(resid)\n",
        "N28 = AtomID(res_28.atom_index(\"N\"), resid)\n",
        "CA28 = AtomID(res_28.atom_index(\"CA\"), resid)\n",
        "C28 = AtomID(res_28.atom_index(\"C\"), resid)\n",
        "\n",
        "# try printing out an AtomID object!"
      ]
    },
    {
      "cell_type": "code",
      "execution_count": 11,
      "metadata": {
        "nbgrader": {
          "grade": true,
          "grade_id": "cell-173ad95e5970743d",
          "locked": false,
          "points": 0,
          "schema_version": 3,
          "solution": true
        },
        "id": "wFcZgmirqjD4",
        "outputId": "0eb07614-86fc-4aff-e84f-ed3099bcdcee",
        "colab": {
          "base_uri": "https://localhost:8080/"
        }
      },
      "outputs": [
        {
          "output_type": "stream",
          "name": "stdout",
          "text": [
            " atomno= 1 rsd= 5 \n"
          ]
        }
      ],
      "source": [
        "### BEGIN SOLUTION\n",
        "print(N28)\n",
        "### END SOLUTION"
      ]
    },
    {
      "cell_type": "markdown",
      "metadata": {
        "id": "br22sdU7qjD4"
      },
      "source": [
        "As usual, if you did not know how to construct an `AtomID`, you could check the documentation using `?AtomID`.\n",
        "\n",
        "Now we can compute the bond lengths:"
      ]
    },
    {
      "cell_type": "code",
      "execution_count": 12,
      "metadata": {
        "id": "ZwlI89mnqjD4",
        "outputId": "d790f24e-64d7-48bd-8056-9ed4eac33adc",
        "colab": {
          "base_uri": "https://localhost:8080/"
        }
      },
      "outputs": [
        {
          "output_type": "stream",
          "name": "stdout",
          "text": [
            "1.456100614655453\n",
            "1.5184027792387658\n"
          ]
        }
      ],
      "source": [
        "print(pose.conformation().bond_length(N28, CA28))\n",
        "print(pose.conformation().bond_length(CA28, C28))"
      ]
    },
    {
      "cell_type": "markdown",
      "metadata": {
        "id": "hcailhtHqjD4"
      },
      "source": [
        "Alternatively, we can compute bond lengths ourselves starting from the xyz coordinates of the atoms.\n",
        "\n",
        "The method `xyz` of `Residue` returns a `Vector` class. The `Vector` class has various useful builtin methods including computing dot products, cross products, and norms. Through operator overloading in the `Vector` class, you can just subtract and add vector objects and they will manipulate the corresponding vectors appropriately."
      ]
    },
    {
      "cell_type": "code",
      "execution_count": 13,
      "metadata": {
        "id": "CYodsfp1qjD4",
        "outputId": "48312882-aa81-4ddc-cfb3-428e91b50468",
        "colab": {
          "base_uri": "https://localhost:8080/"
        }
      },
      "outputs": [
        {
          "output_type": "stream",
          "name": "stdout",
          "text": [
            "1.456100614655453\n",
            "1.5184027792387658\n"
          ]
        }
      ],
      "source": [
        "N_xyz = res_28.xyz(\"N\")\n",
        "CA_xyz = res_28.xyz(\"CA\")\n",
        "C_xyz = res_28.xyz(\"C\")\n",
        "N_CA_vector = CA_xyz - N_xyz\n",
        "CA_C_vector = CA_xyz - C_xyz\n",
        "print(N_CA_vector.norm())\n",
        "print(CA_C_vector.norm())"
      ]
    },
    {
      "cell_type": "markdown",
      "metadata": {
        "id": "yARvxLTgqjD5"
      },
      "source": [
        "Thankfully, the two approaches for computing distances check out!\n",
        "\n",
        "**Note**: Not all bond lengths, angles, and torsions will be accessible using the `Conformation` object. That is because the `Conformation` object stores only the subset it needs to generate xyz locations for the atoms in the pose. The most stable way to get this information is to compute it using the xyz Cartesian coordinate vectors as a starting point."
      ]
    },
    {
      "cell_type": "code",
      "execution_count": null,
      "metadata": {
        "id": "dE0Wv2BuqjD5"
      },
      "outputs": [],
      "source": []
    },
    {
      "cell_type": "markdown",
      "metadata": {
        "id": "AJej1-p7qjD5"
      },
      "source": [
        "## References\n",
        "This notebook includes some concepts and exercises from:\n",
        "\n",
        "\"Workshop #2: PyRosetta\" in the PyRosetta workbook: https://graylab.jhu.edu/pyrosetta/downloads/documentation/pyrosetta4_online_format/PyRosetta4_Workshop2_PyRosetta.pdf\n",
        "\n",
        "\"Workshop #4.1: PyMOL_Mover\" in the PyRosetta workbook:\n",
        "http://www.pyrosetta.org/pymol_mover-tutorial"
      ]
    },
    {
      "cell_type": "code",
      "execution_count": null,
      "metadata": {
        "id": "naWsar2VqjD5"
      },
      "outputs": [],
      "source": []
    },
    {
      "cell_type": "markdown",
      "metadata": {
        "id": "XIFsMSdDqjD5"
      },
      "source": [
        "<!--NAVIGATION-->\n",
        "< [Accessing PyRosetta Documentation](http://nbviewer.jupyter.org/github/RosettaCommons/PyRosetta.notebooks/blob/master/notebooks/02.03-Accessing-PyRosetta-Documentation.ipynb) | [Contents](toc.ipynb) | [Index](index.ipynb) | [Protein Geometry](http://nbviewer.jupyter.org/github/RosettaCommons/PyRosetta.notebooks/blob/master/notebooks/02.05-Protein-Geometry.ipynb) ><p><a href=\"https://colab.research.google.com/github/RosettaCommons/PyRosetta.notebooks/blob/master/notebooks/02.04-Getting-Spatial-Features-from-Pose.ipynb\"><img align=\"left\" src=\"https://colab.research.google.com/assets/colab-badge.svg\" alt=\"Open in Colab\" title=\"Open in Google Colaboratory\"></a>"
      ]
    }
  ],
  "metadata": {
    "kernelspec": {
      "display_name": "Python 3",
      "language": "python",
      "name": "python3"
    },
    "language_info": {
      "codemirror_mode": {
        "name": "ipython",
        "version": 3
      },
      "file_extension": ".py",
      "mimetype": "text/x-python",
      "name": "python",
      "nbconvert_exporter": "python",
      "pygments_lexer": "ipython3",
      "version": "3.6.0"
    },
    "toc": {
      "base_numbering": 1,
      "nav_menu": {},
      "number_sections": true,
      "sideBar": true,
      "skip_h1_title": false,
      "title_cell": "Table of Contents",
      "title_sidebar": "Contents",
      "toc_cell": false,
      "toc_position": {},
      "toc_section_display": true,
      "toc_window_display": false
    },
    "colab": {
      "provenance": [],
      "include_colab_link": true
    }
  },
  "nbformat": 4,
  "nbformat_minor": 0
}