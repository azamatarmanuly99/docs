{
  "cells": [
    {
      "cell_type": "markdown",
      "metadata": {
        "id": "view-in-github",
        "colab_type": "text"
      },
      "source": [
        "<a href=\"https://colab.research.google.com/github/azamatarmanuly99/docs/blob/main/notebooks/11.00-Working-With-Density.ipynb\" target=\"_parent\"><img src=\"https://colab.research.google.com/assets/colab-badge.svg\" alt=\"Open In Colab\"/></a>"
      ]
    },
    {
      "cell_type": "markdown",
      "metadata": {
        "id": "UYwSPm26jt97"
      },
      "source": [
        "<!--NOTEBOOK_HEADER-->\n",
        "*This notebook contains material from [PyRosetta](https://RosettaCommons.github.io/PyRosetta.notebooks);\n",
        "content is available [on Github](https://github.com/RosettaCommons/PyRosetta.notebooks.git).*"
      ]
    },
    {
      "cell_type": "markdown",
      "metadata": {
        "id": "25pIRs-2jt-B"
      },
      "source": [
        "<!--NAVIGATION-->\n",
        "< [Working With Symmetry](http://nbviewer.jupyter.org/github/RosettaCommons/PyRosetta.notebooks/blob/master/notebooks/10.00-Working-With-Symmetry.ipynb) | [Contents](toc.ipynb) | [Index](index.ipynb) | [Working With Antibodies](http://nbviewer.jupyter.org/github/RosettaCommons/PyRosetta.notebooks/blob/master/notebooks/12.00-Working-With-Antibodies.ipynb) ><p><a href=\"https://colab.research.google.com/github/RosettaCommons/PyRosetta.notebooks/blob/master/notebooks/11.00-Working-With-Density.ipynb\"><img align=\"left\" src=\"https://colab.research.google.com/assets/colab-badge.svg\" alt=\"Open in Colab\" title=\"Open in Google Colaboratory\"></a>"
      ]
    },
    {
      "cell_type": "markdown",
      "metadata": {
        "id": "eFqGnabjjt-C"
      },
      "source": [
        "# Working With Density\n",
        "Keywords: crystal, density, refinement, LoadDensityMapMover, map, EM, X-ray\n",
        "\n",
        "## Overview\n",
        "\n",
        "Density can be a useful tool in Rosetta and can be used to refine a PDB structure, test Rosetta structure prediction methods, and build de-novo models guided by density of different resolutions. It can also be used as an experimentally-determined guide/constraint for custom methods.\n",
        "\n",
        "Rosetta understands X-ray or electron density through scoring.  In this tutorial, we will first walk through how to create a density file that Rosetta understands, and then load it, score it, and refine a structure using it. We will also cover some common tools used while working with density.\n",
        "\n",
        "More complicated protocols exist through the use of `RosettaScripts` in PyRosetta, and even more protocols through applications built using main Rosetta.  We will not cover these in this introductory tutorial, but please refer to the original references listed below (such as De novo protein structure determination...) for how to run these applications.     \n",
        "\n",
        "Note that symmetry and density can be used together!\n",
        "\n",
        "## Documentation\n",
        "More information on Density Scoring and relavent applications can be found here:\n",
        "\n",
        "- https://www.rosettacommons.org/docs/latest/application_documentation/analysis/density-map-scoring\n",
        "- https://www.rosettacommons.org/docs/latest/application_documentation/structure_prediction/mr-protocols\n",
        "\n",
        "\n",
        "## References\n",
        "\n",
        "- _Atomic-accuracy models from 4.5-Å cryo-electron microscopy data with density-guided iterative local refinement._\n",
        " - https://www.ncbi.nlm.nih.gov/pubmed/25707030\n",
        "\n",
        "\n",
        "- _De novo protein structure determination from near-atomic-resolution cryo-EM maps._\n",
        " - https://www.ncbi.nlm.nih.gov/pubmed/25707029\n",
        "\n",
        "\n",
        "- _Tools for Model Building and Optimization into Near-Atomic Resolution Electron Cryo-Microscopy Density Maps._\n",
        " - https://www.ncbi.nlm.nih.gov/pubmed/27572730\n",
        "\n",
        "\n",
        "- _Automated structure refinement of macromolecular assemblies from cryo-EM maps using Rosetta._\n",
        " - https://www.ncbi.nlm.nih.gov/pubmed/27669148\n",
        "\n",
        "\n",
        "- _Rosetta Structure Prediction as a Tool for Solving Difficult Molecular Replacement Problems._\n",
        " - https://www.ncbi.nlm.nih.gov/pubmed/28573585\n",
        "\n",
        "\n",
        "- _RosettaES: a sampling strategy enabling automated interpretation of difficult cryo-EM maps._\n",
        " - https://www.ncbi.nlm.nih.gov/pubmed/28628127\n",
        "\n",
        "\n",
        "- _Automatically Fixing Errors in Glycoprotein Structures with Rosetta_\n",
        " - https://www.ncbi.nlm.nih.gov/pubmed/30344107\n",
        "\n"
      ]
    },
    {
      "cell_type": "code",
      "execution_count": 1,
      "metadata": {
        "id": "gZEH-L38jt-D",
        "outputId": "917c393b-8511-4d9c-c026-05cd33d7a3aa",
        "colab": {
          "base_uri": "https://localhost:8080/"
        }
      },
      "outputs": [
        {
          "output_type": "stream",
          "name": "stdout",
          "text": [
            "Collecting pyrosettacolabsetup\n",
            "  Downloading pyrosettacolabsetup-1.0.7-py3-none-any.whl (4.8 kB)\n",
            "Installing collected packages: pyrosettacolabsetup\n",
            "Successfully installed pyrosettacolabsetup-1.0.7\n",
            "Mounted at /content/google_drive\n",
            "Looking for compatible PyRosetta wheel file at google-drive/PyRosetta/colab.bin//wheels...\n",
            "Found compatible wheel: /content/google_drive/MyDrive/PyRosetta/colab.bin/wheels//content/google_drive/MyDrive/PyRosetta/colab.bin/wheels/pyrosetta-2024.1+release.00b79147e63-cp310-cp310-linux_x86_64.whl\n",
            "\n",
            "\n",
            "PyRosetta-4 2023 [Rosetta PyRosetta4.MinSizeRel.python310.ubuntu 2024.01+release.00b79147e63be743438188f93a3f069ca75106d6 2023-12-25T16:35:48] retrieved from: http://www.pyrosetta.org\n",
            "(C) Copyright Rosetta Commons Member Institutions. Created in JHU by Sergey Lyskov and PyRosetta Team.\n",
            "core.init: Checking for fconfig files in pwd and ./rosetta/flags\n",
            "core.init: Rosetta version: PyRosetta4.MinSizeRel.python310.ubuntu r366 2024.01+release.00b79147e63 00b79147e63be743438188f93a3f069ca75106d6 http://www.pyrosetta.org 2023-12-25T16:35:48\n",
            "core.init: command: PyRosetta -ex1 -ex2aro -database /usr/local/lib/python3.10/dist-packages/pyrosetta/database\n",
            "basic.random.init_random_generator: 'RNG device' seed mode, using '/dev/urandom', seed=1455412507 seed_offset=0 real_seed=1455412507\n",
            "basic.random.init_random_generator: RandomGenerator:init: Normal mode, seed=1455412507 RG_type=mt19937\n"
          ]
        }
      ],
      "source": [
        "!pip install pyrosettacolabsetup\n",
        "import pyrosettacolabsetup; pyrosettacolabsetup.install_pyrosetta()\n",
        "import pyrosetta; pyrosetta.init()\n"
      ]
    },
    {
      "cell_type": "markdown",
      "metadata": {
        "id": "GJOAdcKLjt-F"
      },
      "source": [
        "## Creating a Density Map\n",
        "\n",
        "We won't actually do this in the tutorial as it requires a third-party application, but the (.ccp4) density map you will be using was created this way.\n",
        "\n",
        "1) Download and install phenix.maps: https://www.phenix-online.org/documentation/reference/maps.html\n",
        "\n",
        " - Make sure phenix.maps is in your path.\n",
        "\n",
        "2) Download the CIF file from the Protein Data Bank for the structure you are interested in.\n",
        "\n",
        "3) Use this command to create a map: `phenix.maps pdb_path cif_path`\n",
        "\n",
        " - Note that depending on the cif file and structure, you may need to rarely edit the defaults to get it work properly, especially for glycan structures.  Please refer to the phenix documentation for this."
      ]
    },
    {
      "cell_type": "markdown",
      "metadata": {
        "id": "A7V9TwRXjt-G"
      },
      "source": [
        "## Setup for Density Scoring\n",
        "\n",
        "Here, we will make a scorefunction and set `fast_elec_dens` to a proper value and use the `LoadDensityMapMover` to actually load the density map.  Note that (currently) the density map is GLOBAL data within Rosetta - so only a single structure can be modeled/refined at a time.\n",
        "\n",
        "### From the docs:\n",
        "\n",
        "Several scoring functions have been added to Rosetta which describe how well a structure agrees to experimental density data. Density map data is read in CCP4/MRC format (the density has to minimally cover the asymmetric unit).  The various scoring functions trade off speed versus accuracy, and their use should be primarily determined by the resolution of the density map data:\n",
        "\n",
        "-   **elec\\_dens\\_fast** is recommended for most cases.\n",
        "\n",
        "Additionally, a slower but more precise scoring function is available.  This is only recommended if **elec\\_dens\\_fast** performs poorly (for example, if map quality varies significantly throughout the map):\n",
        "-   **elec\\_dens\\_window** - Uses the sum of correlations of a sliding window of residues versus the experimental data; structure density only uses all heavy atoms.\n",
        "\n",
        "The weights to use vary depending on resolution of data but the following give reasonable ranges:\n",
        "\n",
        "- **elec\\_dens\\_fast**: ~25 is generally good, higher for high-resolution (<3Å) and lower for low-resolution (>6Å)\n",
        "- **elec\\_dens\\_window**: ~0.2 is generally good, higher for high-resolution (<3Å) and lower for low-resolution (>6Å)\n",
        "\n",
        "\n"
      ]
    },
    {
      "cell_type": "code",
      "execution_count": 2,
      "metadata": {
        "id": "uZb7bASqjt-H",
        "outputId": "36cf53fe-304f-44ed-85f9-807f486dc31d",
        "colab": {
          "base_uri": "https://localhost:8080/"
        }
      },
      "outputs": [
        {
          "output_type": "stream",
          "name": "stdout",
          "text": [
            "PyRosetta-4 2023 [Rosetta PyRosetta4.MinSizeRel.python310.ubuntu 2024.01+release.00b79147e63be743438188f93a3f069ca75106d6 2023-12-25T16:35:48] retrieved from: http://www.pyrosetta.org\n",
            "(C) Copyright Rosetta Commons Member Institutions. Created in JHU by Sergey Lyskov and PyRosetta Team.\n",
            "core.init: Checking for fconfig files in pwd and ./rosetta/flags\n",
            "core.init: Rosetta version: PyRosetta4.MinSizeRel.python310.ubuntu r366 2024.01+release.00b79147e63 00b79147e63be743438188f93a3f069ca75106d6 http://www.pyrosetta.org 2023-12-25T16:35:48\n",
            "core.init: command: PyRosetta -ignore_unrecognized_res -load_PDB_components false -ignore_zero_occupancy false @glycan_flags.txt -database /usr/local/lib/python3.10/dist-packages/pyrosetta/database\n",
            "basic.random.init_random_generator: 'RNG device' seed mode, using '/dev/urandom', seed=-1528330096 seed_offset=0 real_seed=-1528330096\n",
            "basic.random.init_random_generator: RandomGenerator:init: Normal mode, seed=-1528330096 RG_type=mt19937\n"
          ]
        }
      ],
      "source": [
        "from pyrosetta import *\n",
        "from pyrosetta.rosetta import *\n",
        "from pyrosetta.teaching import *\n",
        "import os\n",
        "\n",
        "init('-ignore_unrecognized_res -load_PDB_components false -ignore_zero_occupancy false @glycan_flags.txt')"
      ]
    },
    {
      "cell_type": "code",
      "execution_count": 9,
      "metadata": {
        "id": "8iq-Dt8jjt-I",
        "outputId": "6df7fec3-5295-4a9b-92ca-22051a3933ed",
        "colab": {
          "base_uri": "https://localhost:8080/"
        }
      },
      "outputs": [
        {
          "output_type": "stream",
          "name": "stdout",
          "text": [
            "core.import_pose.import_pose: File '1jnd.pdb' automatically determined to be of type PDB\n",
            "core.io.util: Found 4 glycan linkages in the structure based on atomic distances\n",
            "core.io.util: Automatic glycan connection is activated.\n",
            "core.io.util: Start reordering residues.\n",
            "core.io.util: Corrected glycan residue order (internal numbering): [401, 402, 403, 404]\n",
            "core.io.util:\n",
            "core.io.pose_from_sfr.PoseFromSFRBuilder: Setting chain termination for 404\n",
            "core.io.util: Found 4 glycan linkages in the structure based on atomic distances\n",
            "core.io.pose_from_sfr.PoseFromSFRBuilder: [ WARNING ] Glc401 has an unfavorable ring conformation; the coordinates for this input structure may have been poorly assigned.\n",
            "core.io.pose_from_sfr.PoseFromSFRBuilder: [ WARNING ] Glc402 has an unfavorable ring conformation; the coordinates for this input structure may have been poorly assigned.\n",
            "core.io.pose_from_sfr.PoseFromSFRBuilder: [ WARNING ] Man403 has an unfavorable ring conformation; the coordinates for this input structure may have been poorly assigned.\n",
            "core.io.pose_from_sfr.PoseFromSFRBuilder: [ WARNING ] Man404 has an unfavorable ring conformation; the coordinates for this input structure may have been poorly assigned.\n",
            "core.chemical.AtomICoor: [ WARNING ] IcoorAtomID::atom_id(): Cannot get atom_id for POLYMER_LOWER of residue ->4)-beta-D-Glcp:2-AcNH 401.  Returning BOGUS ID instead.\n",
            "core.conformation.Residue: [ WARNING ] missing an atom: 401  H1  that depends on a nonexistent polymer connection!\n",
            "core.conformation.Residue: [ WARNING ]  --> generating it using idealized coordinates.\n",
            "core.chemical.AtomICoor: [ WARNING ] IcoorAtomID::atom_id(): Cannot get atom_id for POLYMER_LOWER of residue ->4)-beta-D-Glcp:2-AcNH 401.  Returning BOGUS ID instead.\n",
            "core.conformation.Conformation: Found disulfide between residues 5 32\n",
            "core.conformation.Conformation: Found disulfide between residues 302 385\n",
            "core.conformation.carbohydrates.GlycanTreeSet: Setting up Glycan Trees\n",
            "core.conformation.carbohydrates.GlycanTreeSet: Found 1 glycan trees.\n",
            "protocols.rosetta_scripts.RosettaScriptsParser: Validating input script...\n",
            "protocols.rosetta_scripts.RosettaScriptsParser: ...done\n",
            "protocols.rosetta_scripts.RosettaScriptsParser: Parsed script:\n",
            "<ROSETTASCRIPTS>\n",
            "\t<MOVERS>\n",
            "\t\t<LoadDensityMap mapfile=\"1jnd_2mFo-DFc_map.ccp4\" name=\"loaddens\"/>\n",
            "\t</MOVERS>\n",
            "\t<PROTOCOLS/>\n",
            "</ROSETTASCRIPTS>\n",
            "core.scoring.ScoreFunctionFactory: SCOREFUNCTION: ref2015\n",
            "core.scoring.ScoreFunctionFactory: The -include_sugars flag was used with no sugar_bb weight set in the weights file.  Setting sugar_bb weight to 0.5 by default.\n",
            "core.scoring.ScoreFunctionFactory:  The -include_sugars flag was used without fa_intra_rep_xover4 term in the scorefunction. Setting this term's weight to 0.55. It is generally recommended to use the -beta scorefunction (Rosetta-ICO) with sugars, which includes this and other desired terms such as those bridging waters\n",
            "protocols.rosetta_scripts.RosettaScriptsParser: Defined mover named \"loaddens\" of type LoadDensityMap\n",
            "protocols.rosetta_scripts.ParsedProtocol: ParsedProtocol mover with the following settings\n",
            "core.scoring.electron_density.ElectronDensity: Loading Density Map\n",
            "core.scoring.electron_density.ElectronDensity: Loading density map1jnd_2mFo-DFc_map.ccp4\n",
            "core.scoring.electron_density.ElectronDensity:  Setting resolution to AUTO\n",
            "core.scoring.electron_density.ElectronDensity:           atom mask to 3.2A\n",
            "core.scoring.electron_density.ElectronDensity:             CA mask to 6A\n",
            "core.scoring.electron_density.ElectronDensity:  Read density map'1jnd_2mFo-DFc_map.ccp4'\n",
            "core.scoring.electron_density.ElectronDensity:      extent: 218 x 229 x 265\n",
            "core.scoring.electron_density.ElectronDensity:      origin: -66 x 82 x 209\n",
            "core.scoring.electron_density.ElectronDensity:   altorigin: 0 x 0 x 0\n",
            "core.scoring.electron_density.ElectronDensity:        grid: 360 x 360 x 288\n",
            "core.scoring.electron_density.ElectronDensity:     celldim: 106.345 x 106.345 x 89.987\n",
            "core.scoring.electron_density.ElectronDensity:  cellangles: 90 x 90 x 120\n",
            "core.scoring.electron_density.ElectronDensity:  voxel vol.: 0.0236128\n",
            "core.scoring.electron_density.ElectronDensity: Effective resolution = 0.937365\n"
          ]
        }
      ],
      "source": [
        "from rosetta.protocols.cryst import *\n",
        "from rosetta.protocols.rosetta_scripts import *\n",
        "\n",
        "p = pose_from_pdb('1jnd.pdb')\n",
        "\n",
        "original = p.clone()\n",
        "\n",
        "#The LoadDensityMapMover unfortunately does not have getters and setters yet.\n",
        "# This has been updated in the Rosetta C++ code, but for now, we have to use the XML interface.\n",
        "\n",
        "#setup_dens = LoadDensityMapMover(\"inputs/1jnd_2mFo-DFc_map.ccp4\")\n",
        "setup_dens = XmlObjects.static_get_mover('<LoadDensityMap name=\"loaddens\" mapfile=\"1jnd_2mFo-DFc_map.ccp4\"/>')\n",
        "setup_dens.apply(p)"
      ]
    },
    {
      "cell_type": "markdown",
      "metadata": {
        "id": "clETK4jOjt-J"
      },
      "source": [
        "Now, we need to set the pose up for density scoring.  The `SetupForDensityScoring` mover sets a specific foldtree to the pose to allow scoring properly. We will then load a scorefunction with our density scoreterm, and load a pre-refined pose that was refined into the density using the pareto-optimal protocol with density."
      ]
    },
    {
      "cell_type": "code",
      "execution_count": 10,
      "metadata": {
        "id": "_7HgLLYHjt-K",
        "outputId": "17e77af8-06e8-4d89-a42e-518e92aba0df",
        "colab": {
          "base_uri": "https://localhost:8080/"
        }
      },
      "outputs": [
        {
          "output_type": "stream",
          "name": "stdout",
          "text": [
            "core.import_pose.import_pose: File '1jnd_refined.pdb.gz' automatically determined to be of type PDB\n",
            "core.io.util: Found 4 glycan linkages in the structure based on atomic distances\n",
            "core.io.util: Automatic glycan connection is activated.\n",
            "core.io.util: Start reordering residues.\n",
            "core.io.util: Corrected glycan residue order (internal numbering): [401, 402, 403, 404]\n",
            "core.io.util:\n",
            "core.io.util: Found 4 glycan linkages in the structure based on atomic distances\n",
            "core.io.pose_from_sfr.PoseFromSFRBuilder: [ WARNING ] Glc401 has an unfavorable ring conformation; the coordinates for this input structure may have been poorly assigned.\n",
            "core.io.pose_from_sfr.PoseFromSFRBuilder: [ WARNING ] Glc402 has an unfavorable ring conformation; the coordinates for this input structure may have been poorly assigned.\n",
            "core.io.pose_from_sfr.PoseFromSFRBuilder: [ WARNING ] Man403 has an unfavorable ring conformation; the coordinates for this input structure may have been poorly assigned.\n",
            "core.io.pose_from_sfr.PoseFromSFRBuilder: [ WARNING ] Man404 has an unfavorable ring conformation; the coordinates for this input structure may have been poorly assigned.\n",
            "core.chemical.AtomICoor: [ WARNING ] IcoorAtomID::atom_id(): Cannot get atom_id for POLYMER_LOWER of residue ->4)-beta-D-Glcp:2-AcNH 401.  Returning BOGUS ID instead.\n",
            "core.conformation.Conformation: Found disulfide between residues 5 32\n",
            "core.conformation.Conformation: Found disulfide between residues 302 385\n",
            "core.conformation.carbohydrates.GlycanTreeSet: Setting up Glycan Trees\n",
            "core.conformation.carbohydrates.GlycanTreeSet: Found 1 glycan trees.\n",
            "core.scoring.ScoreFunctionFactory: SCOREFUNCTION: ref2015\n",
            "core.scoring.ScoreFunctionFactory: The -include_sugars flag was used with no sugar_bb weight set in the weights file.  Setting sugar_bb weight to 0.5 by default.\n",
            "core.scoring.ScoreFunctionFactory:  The -include_sugars flag was used without fa_intra_rep_xover4 term in the scorefunction. Setting this term's weight to 0.55. It is generally recommended to use the -beta scorefunction (Rosetta-ICO) with sugars, which includes this and other desired terms such as those bridging waters\n",
            "core.scoring.ScoreFunctionFactory: SCOREFUNCTION: ref2015\n",
            "core.scoring.ScoreFunctionFactory: The -include_sugars flag was used with no sugar_bb weight set in the weights file.  Setting sugar_bb weight to 0.5 by default.\n",
            "core.scoring.ScoreFunctionFactory:  The -include_sugars flag was used without fa_intra_rep_xover4 term in the scorefunction. Setting this term's weight to 0.55. It is generally recommended to use the -beta scorefunction (Rosetta-ICO) with sugars, which includes this and other desired terms such as those bridging waters\n",
            "basic.io.database: Database file opened: scoring/score_functions/elec_cp_reps.dat\n",
            "core.scoring.elec.util: Read 40 countpair representative atoms\n",
            "core.scoring.electron_density.ElectronDensity: Setting [kmin_,kmax_] to [0.0637226,3.25267]\n",
            "core.scoring.electron_density.ElectronDensity: Bin 1:  B(C/N/O/S)=0 / 0 / 0 / 8.60156  sum=(0,0)\n",
            "core.pack.dunbrack.RotamerLibrary: shapovalov_lib_fixes_enable option is true.\n",
            "core.pack.dunbrack.RotamerLibrary: shapovalov_lib::shap_dun10_smooth_level of 1( aka lowest_smooth ) got activated.\n",
            "core.pack.dunbrack.RotamerLibrary: Binary rotamer library selected: /usr/local/lib/python3.10/dist-packages/pyrosetta/database/rotamer/shapovalov/StpDwn_0-0-0/Dunbrack10.lib.bin\n",
            "core.pack.dunbrack.RotamerLibrary: Using Dunbrack library binary file '/usr/local/lib/python3.10/dist-packages/pyrosetta/database/rotamer/shapovalov/StpDwn_0-0-0/Dunbrack10.lib.bin'.\n",
            "core.pack.dunbrack.RotamerLibrary: Dunbrack 2010 library took 0.316055 seconds to load from binary\n",
            "crystal -6859.729625680972\n",
            "refined -7693.83296948134\n"
          ]
        }
      ],
      "source": [
        "setup_dens_pose = rosetta.protocols.electron_density.SetupForDensityScoringMover()\n",
        "\n",
        "ref = pose_from_pdb('1jnd_refined.pdb.gz')\n",
        "\n",
        "setup_dens_pose.apply(p)\n",
        "setup_dens_pose.apply(ref)\n",
        "\n",
        "score = get_score_function()\n",
        "score_dens = get_score_function()\n",
        "score_dens.set_weight(rosetta.core.scoring.elec_dens_fast, 25)\n",
        "\n",
        "print(\"crystal\", score_dens(p))\n",
        "print(\"refined\", score_dens(ref))"
      ]
    },
    {
      "cell_type": "markdown",
      "metadata": {
        "id": "jrirkwGIjt-K"
      },
      "source": [
        "Now lets minimize our pose."
      ]
    },
    {
      "cell_type": "code",
      "execution_count": 11,
      "metadata": {
        "id": "YtoLljQfjt-L",
        "outputId": "3c43d8a8-1657-46c1-80e5-305a5f3d5184",
        "colab": {
          "base_uri": "https://localhost:8080/"
        }
      },
      "outputs": [
        {
          "output_type": "stream",
          "name": "stdout",
          "text": [
            "core.scoring.ScoreFunctionFactory: SCOREFUNCTION: ref2015\n",
            "core.scoring.ScoreFunctionFactory: The -include_sugars flag was used with no sugar_bb weight set in the weights file.  Setting sugar_bb weight to 0.5 by default.\n",
            "core.scoring.ScoreFunctionFactory:  The -include_sugars flag was used without fa_intra_rep_xover4 term in the scorefunction. Setting this term's weight to 0.55. It is generally recommended to use the -beta scorefunction (Rosetta-ICO) with sugars, which includes this and other desired terms such as those bridging waters\n",
            "-3755.20477221741\n"
          ]
        }
      ],
      "source": [
        "minmover = MinMover()\n",
        "mm = MoveMap()\n",
        "mm.set_bb(True)\n",
        "mm.set_chi(True)\n",
        "minmover.set_movemap(mm)\n",
        "\n",
        "if not os.getenv(\"DEBUG\"):\n",
        "    for i in range(1, 5):\n",
        "        minmover.apply(p)\n",
        "\n",
        "print(score_dens.score(p))"
      ]
    },
    {
      "cell_type": "markdown",
      "metadata": {
        "id": "vtRSsWcbjt-L"
      },
      "source": [
        "Why has the score gotten worse here??  Because we are minimizing in dihedral space instead of cartesian space - so we make certain energies better, but crystal refinement works best in cartesian space.  Lets now minimize in cartesian and see what happens."
      ]
    },
    {
      "cell_type": "code",
      "execution_count": 12,
      "metadata": {
        "id": "C10Sms5Qjt-M",
        "outputId": "c2bd1309-7c50-44c9-dc8a-b1205b98a571",
        "colab": {
          "base_uri": "https://localhost:8080/"
        }
      },
      "outputs": [
        {
          "output_type": "stream",
          "name": "stdout",
          "text": [
            "core.energy_methods.CartesianBondedEnergy: Initializing IdealParametersDatabase with default Ks=300 , 80 , 80 , 10 , 80\n",
            "basic.io.database: Database file opened: scoring/score_functions/bondlength_bondangle/default-lengths.txt\n",
            "core.energy_methods.CartesianBondedEnergy: Read 759 bb-independent lengths.\n",
            "basic.io.database: Database file opened: scoring/score_functions/bondlength_bondangle/default-angles.txt\n",
            "core.energy_methods.CartesianBondedEnergy: Read 1434 bb-independent angles.\n",
            "basic.io.database: Database file opened: scoring/score_functions/bondlength_bondangle/default-torsions.txt\n",
            "core.energy_methods.CartesianBondedEnergy: Read 1 bb-independent torsions.\n",
            "basic.io.database: Database file opened: scoring/score_functions/bondlength_bondangle/default-improper.txt\n",
            "core.energy_methods.CartesianBondedEnergy: Read 529 bb-independent improper tors.\n",
            "core.energy_methods.CartesianBondedEnergy: Creating new peptide-bonded energy container (405)\n",
            "core.energy_methods.CartesianBondedEnergy: Adding undefined angle Glc: C2,C1,O5 to DB with theta0 = 1.90983 , Ktheta = 80\n",
            "core.energy_methods.CartesianBondedEnergy: Adding undefined angle Glc: C2,C1,VO5 to DB with theta0 = 1.91986 , Ktheta = 80\n",
            "core.energy_methods.CartesianBondedEnergy: Adding undefined angle Glc: C2,C1,O1 to DB with theta0 = 1.91114 , Ktheta = 80\n",
            "core.energy_methods.CartesianBondedEnergy: Adding undefined angle Glc: C2,C1,H1 to DB with theta0 = 1.91449 , Ktheta = 80\n",
            "core.energy_methods.CartesianBondedEnergy: Adding undefined angle Glc: O5,C1,VO5 to DB with theta0 = 0.0143051 , Ktheta = 80\n",
            "core.energy_methods.CartesianBondedEnergy: Adding undefined angle Glc: O5,C1,O1 to DB with theta0 = 1.91962 , Ktheta = 80\n",
            "core.energy_methods.CartesianBondedEnergy: Adding undefined angle Glc: O5,C1,H1 to DB with theta0 = 1.90631 , Ktheta = 80\n",
            "core.energy_methods.CartesianBondedEnergy: Adding undefined angle Glc: VO5,C1,O1 to DB with theta0 = 1.90575 , Ktheta = 80\n",
            "core.energy_methods.CartesianBondedEnergy: Adding undefined angle Glc: VO5,C1,H1 to DB with theta0 = 1.91005 , Ktheta = 80\n",
            "core.energy_methods.CartesianBondedEnergy: Adding undefined angle Glc: O1,C1,H1 to DB with theta0 = 1.90241 , Ktheta = 80\n",
            "core.energy_methods.CartesianBondedEnergy: Adding undefined angle Glc: C1,C2,C3 to DB with theta0 = 1.90241 , Ktheta = 80\n",
            "core.energy_methods.CartesianBondedEnergy: Adding undefined angle Glc: C1,C2,O2 to DB with theta0 = 1.91114 , Ktheta = 80\n",
            "core.energy_methods.CartesianBondedEnergy: Adding undefined angle Glc: C1,C2,N2 to DB with theta0 = 1.90185 , Ktheta = 80\n",
            "core.energy_methods.CartesianBondedEnergy: Adding undefined angle Glc: C1,C2,H2 to DB with theta0 = 1.90241 , Ktheta = 80\n",
            "core.energy_methods.CartesianBondedEnergy: Adding undefined angle Glc: C3,C2,O2 to DB with theta0 = 1.91449 , Ktheta = 80\n",
            "core.energy_methods.CartesianBondedEnergy: Adding undefined angle Glc: C3,C2,N2 to DB with theta0 = 1.90484 , Ktheta = 80\n",
            "core.energy_methods.CartesianBondedEnergy: Adding undefined angle Glc: C3,C2,H2 to DB with theta0 = 1.91879 , Ktheta = 80\n",
            "core.energy_methods.CartesianBondedEnergy: Adding undefined angle Glc: O2,C2,N2 to DB with theta0 = 0.0187254 , Ktheta = 80\n",
            "core.energy_methods.CartesianBondedEnergy: Adding undefined angle Glc: O2,C2,H2 to DB with theta0 = 1.91449 , Ktheta = 80\n",
            "core.energy_methods.CartesianBondedEnergy: Adding undefined angle Glc: N2,C2,H2 to DB with theta0 = 1.93321 , Ktheta = 80\n",
            "core.energy_methods.CartesianBondedEnergy: Adding undefined angle Glc: C2,C3,C4 to DB with theta0 = 1.87623 , Ktheta = 80\n",
            "core.energy_methods.CartesianBondedEnergy: Adding undefined angle Glc: C2,C3,O3 to DB with theta0 = 1.91986 , Ktheta = 80\n",
            "core.energy_methods.CartesianBondedEnergy: Adding undefined angle Glc: C2,C3,H3 to DB with theta0 = 1.90241 , Ktheta = 80\n",
            "core.energy_methods.CartesianBondedEnergy: Adding undefined angle Glc: C4,C3,O3 to DB with theta0 = 1.9233 , Ktheta = 80\n",
            "core.energy_methods.CartesianBondedEnergy: Adding undefined angle Glc: C4,C3,H3 to DB with theta0 = 1.93155 , Ktheta = 80\n",
            "core.energy_methods.CartesianBondedEnergy: Adding undefined angle Glc: O3,C3,H3 to DB with theta0 = 1.91017 , Ktheta = 80\n",
            "core.energy_methods.CartesianBondedEnergy: Adding undefined angle Glc: C3,C4,O4 to DB with theta0 = 1.91114 , Ktheta = 80\n",
            "core.energy_methods.CartesianBondedEnergy: Adding undefined angle Glc: C3,C4,C5 to DB with theta0 = 1.88496 , Ktheta = 80\n",
            "core.energy_methods.CartesianBondedEnergy: Adding undefined angle Glc: C3,C4,H4 to DB with theta0 = 1.90241 , Ktheta = 80\n",
            "core.energy_methods.CartesianBondedEnergy: Adding undefined angle Glc: O4,C4,C5 to DB with theta0 = 1.92314 , Ktheta = 80\n",
            "core.energy_methods.CartesianBondedEnergy: Adding undefined angle Glc: O4,C4,H4 to DB with theta0 = 1.91449 , Ktheta = 80\n",
            "core.energy_methods.CartesianBondedEnergy: Adding undefined angle Glc: C5,C4,H4 to DB with theta0 = 1.92732 , Ktheta = 80\n",
            "core.energy_methods.CartesianBondedEnergy: Adding undefined angle Glc: C4,O4,HO4 to DB with theta0 = 1.91114 , Ktheta = 80\n",
            "core.energy_methods.CartesianBondedEnergy: Adding undefined angle Glc: C4,C5,O5 to DB with theta0 = 1.92859 , Ktheta = 80\n",
            "core.energy_methods.CartesianBondedEnergy: Adding undefined angle Glc: C4,C5,C6 to DB with theta0 = 1.92859 , Ktheta = 80\n",
            "core.energy_methods.CartesianBondedEnergy: Adding undefined angle Glc: C4,C5,H5 to DB with theta0 = 1.90241 , Ktheta = 80\n",
            "core.energy_methods.CartesianBondedEnergy: Adding undefined angle Glc: O5,C5,C6 to DB with theta0 = 1.89234 , Ktheta = 80\n",
            "core.energy_methods.CartesianBondedEnergy: Adding undefined angle Glc: O5,C5,H5 to DB with theta0 = 1.90583 , Ktheta = 80\n",
            "core.energy_methods.CartesianBondedEnergy: Adding undefined angle Glc: C6,C5,H5 to DB with theta0 = 1.90583 , Ktheta = 80\n",
            "core.energy_methods.CartesianBondedEnergy: Adding undefined angle Glc: C1,O5,C5 to DB with theta0 = 1.96249 , Ktheta = 80\n",
            "core.energy_methods.CartesianBondedEnergy: Adding undefined angle Glc: C1,O5,VC1 to DB with theta0 = 0.0217746 , Ktheta = 80\n",
            "core.energy_methods.CartesianBondedEnergy: Adding undefined angle Glc: C5,O5,VC1 to DB with theta0 = 1.94604 , Ktheta = 80\n",
            "core.energy_methods.CartesianBondedEnergy: Adding undefined angle Glc: C1,O1,HO1 to DB with theta0 = 1.91114 , Ktheta = 80\n",
            "core.energy_methods.CartesianBondedEnergy: Adding undefined angle Glc: C2,O2,HO2 to DB with theta0 = 1.91114 , Ktheta = 80\n",
            "core.energy_methods.CartesianBondedEnergy: Adding undefined angle Glc: C3,O3,HO3 to DB with theta0 = 1.91114 , Ktheta = 80\n",
            "core.energy_methods.CartesianBondedEnergy: Adding undefined angle Glc: C5,C6,O6 to DB with theta0 = 1.93732 , Ktheta = 80\n",
            "core.energy_methods.CartesianBondedEnergy: Adding undefined angle Glc: C5,C6,1H6 to DB with theta0 = 1.90241 , Ktheta = 80\n",
            "core.energy_methods.CartesianBondedEnergy: Adding undefined angle Glc: C5,C6,2H6 to DB with theta0 = 1.90241 , Ktheta = 80\n",
            "core.energy_methods.CartesianBondedEnergy: Adding undefined angle Glc: O6,C6,1H6 to DB with theta0 = 1.90148 , Ktheta = 80\n",
            "core.energy_methods.CartesianBondedEnergy: Adding undefined angle Glc: O6,C6,2H6 to DB with theta0 = 1.90148 , Ktheta = 80\n",
            "core.energy_methods.CartesianBondedEnergy: Adding undefined angle Glc: 1H6,C6,2H6 to DB with theta0 = 1.91879 , Ktheta = 80\n",
            "core.energy_methods.CartesianBondedEnergy: Adding undefined angle Glc: C6,O6,HO6 to DB with theta0 = 1.91114 , Ktheta = 80\n",
            "core.energy_methods.CartesianBondedEnergy: Adding undefined angle Glc: C2,N2,CN2 to DB with theta0 = 2.04664 , Ktheta = 80\n",
            "core.energy_methods.CartesianBondedEnergy: Adding undefined angle Glc: C2,N2,HN2 to DB with theta0 = 2.11421 , Ktheta = 80\n",
            "core.energy_methods.CartesianBondedEnergy: Adding undefined angle Glc: CN2,N2,HN2 to DB with theta0 = 2.12232 , Ktheta = 80\n",
            "core.energy_methods.CartesianBondedEnergy: Adding undefined angle Glc: N2,CN2,CAN2 to DB with theta0 = 2.1126 , Ktheta = 80\n",
            "core.energy_methods.CartesianBondedEnergy: Adding undefined angle Glc: N2,CN2,OCN2 to DB with theta0 = 2.069 , Ktheta = 80\n",
            "core.energy_methods.CartesianBondedEnergy: Adding undefined angle Glc: CAN2,CN2,OCN2 to DB with theta0 = 2.10143 , Ktheta = 80\n",
            "core.energy_methods.CartesianBondedEnergy: Adding undefined angle Glc: CN2,CAN2,1HC2 to DB with theta0 = 1.9115 , Ktheta = 80\n",
            "core.energy_methods.CartesianBondedEnergy: Adding undefined angle Glc: CN2,CAN2,2HC2 to DB with theta0 = 1.9115 , Ktheta = 80\n",
            "core.energy_methods.CartesianBondedEnergy: Adding undefined angle Glc: CN2,CAN2,3HC2 to DB with theta0 = 1.9115 , Ktheta = 80\n",
            "core.energy_methods.CartesianBondedEnergy: Adding undefined angle Glc: 1HC2,CAN2,2HC2 to DB with theta0 = 1.87065 , Ktheta = 80\n",
            "core.energy_methods.CartesianBondedEnergy: Adding undefined angle Glc: 1HC2,CAN2,3HC2 to DB with theta0 = 1.968 , Ktheta = 80\n",
            "core.energy_methods.CartesianBondedEnergy: Adding undefined angle Glc: 2HC2,CAN2,3HC2 to DB with theta0 = 1.88966 , Ktheta = 80\n",
            "core.energy_methods.CartesianBondedEnergy: Adding undefined length Glc: C1,C2, to DB with d0 = 1.55 , Kd = 300\n",
            "core.energy_methods.CartesianBondedEnergy: Adding undefined length Glc: C1,O5, to DB with d0 = 1.42846 , Kd = 300\n",
            "core.energy_methods.CartesianBondedEnergy: Adding undefined length Glc: C1,VO5, to DB with d0 = 1.44 , Kd = 300\n",
            "core.energy_methods.CartesianBondedEnergy: Adding undefined length Glc: C1,O1, to DB with d0 = 1.48 , Kd = 300\n",
            "core.energy_methods.CartesianBondedEnergy: Adding undefined length Glc: C1,H1, to DB with d0 = 1.1 , Kd = 300\n",
            "core.energy_methods.CartesianBondedEnergy: Adding undefined length Glc: C2,C3, to DB with d0 = 1.53 , Kd = 300\n",
            "core.energy_methods.CartesianBondedEnergy: Adding undefined length Glc: C2,O2, to DB with d0 = 1.42 , Kd = 300\n",
            "core.energy_methods.CartesianBondedEnergy: Adding undefined length Glc: C2,N2, to DB with d0 = 1.45 , Kd = 300\n",
            "core.energy_methods.CartesianBondedEnergy: Adding undefined length Glc: C2,H2, to DB with d0 = 1.1 , Kd = 300\n",
            "core.energy_methods.CartesianBondedEnergy: Adding undefined length Glc: C3,C4, to DB with d0 = 1.53 , Kd = 300\n",
            "core.energy_methods.CartesianBondedEnergy: Adding undefined length Glc: C3,O3, to DB with d0 = 1.43 , Kd = 300\n",
            "core.energy_methods.CartesianBondedEnergy: Adding undefined length Glc: C3,H3, to DB with d0 = 1.1 , Kd = 300\n",
            "core.energy_methods.CartesianBondedEnergy: Adding undefined length Glc: C4,O4, to DB with d0 = 1.42 , Kd = 300\n",
            "core.energy_methods.CartesianBondedEnergy: Adding undefined length Glc: C4,C5, to DB with d0 = 1.53 , Kd = 300\n",
            "core.energy_methods.CartesianBondedEnergy: Adding undefined length Glc: C4,H4, to DB with d0 = 1.1 , Kd = 300\n",
            "core.energy_methods.CartesianBondedEnergy: Adding undefined length Glc: O4,HO4, to DB with d0 = 0.98 , Kd = 300\n",
            "core.energy_methods.CartesianBondedEnergy: Adding undefined length Glc: C5,O5, to DB with d0 = 1.45 , Kd = 300\n",
            "core.energy_methods.CartesianBondedEnergy: Adding undefined length Glc: C5,C6, to DB with d0 = 1.51 , Kd = 300\n",
            "core.energy_methods.CartesianBondedEnergy: Adding undefined length Glc: C5,H5, to DB with d0 = 1.1 , Kd = 300\n",
            "core.energy_methods.CartesianBondedEnergy: Adding undefined length Glc: O5,VC1, to DB with d0 = 1.44 , Kd = 300\n",
            "core.energy_methods.CartesianBondedEnergy: Adding undefined length Glc: O1,HO1, to DB with d0 = 0.98 , Kd = 300\n",
            "core.energy_methods.CartesianBondedEnergy: Adding undefined length Glc: O2,HO2, to DB with d0 = 0.98 , Kd = 300\n",
            "core.energy_methods.CartesianBondedEnergy: Adding undefined length Glc: O3,HO3, to DB with d0 = 0.98 , Kd = 300\n",
            "core.energy_methods.CartesianBondedEnergy: Adding undefined length Glc: C6,O6, to DB with d0 = 1.42 , Kd = 300\n",
            "core.energy_methods.CartesianBondedEnergy: Adding undefined length Glc: C6,1H6, to DB with d0 = 1.1 , Kd = 300\n",
            "core.energy_methods.CartesianBondedEnergy: Adding undefined length Glc: C6,2H6, to DB with d0 = 1.1 , Kd = 300\n",
            "core.energy_methods.CartesianBondedEnergy: Adding undefined length Glc: O6,HO6, to DB with d0 = 0.98 , Kd = 300\n",
            "core.energy_methods.CartesianBondedEnergy: Adding undefined length Glc: N2,CN2, to DB with d0 = 1.312 , Kd = 300\n",
            "core.energy_methods.CartesianBondedEnergy: Adding undefined length Glc: N2,HN2, to DB with d0 = 0.99 , Kd = 300\n",
            "core.energy_methods.CartesianBondedEnergy: Adding undefined length Glc: CN2,CAN2, to DB with d0 = 1.496 , Kd = 300\n",
            "core.energy_methods.CartesianBondedEnergy: Adding undefined length Glc: CN2,OCN2, to DB with d0 = 1.234 , Kd = 300\n",
            "core.energy_methods.CartesianBondedEnergy: Adding undefined length Glc: CAN2,1HC2, to DB with d0 = 1.099 , Kd = 300\n",
            "core.energy_methods.CartesianBondedEnergy: Adding undefined length Glc: CAN2,2HC2, to DB with d0 = 1.099 , Kd = 300\n",
            "core.energy_methods.CartesianBondedEnergy: Adding undefined length Glc: CAN2,3HC2, to DB with d0 = 1.099 , Kd = 300\n",
            "core.energy_methods.CartesianBondedEnergy: Adding undefined angle Glc: C4,O4,N to DB with theta0 = 1.91114 , Ktheta = 80\n",
            "core.energy_methods.CartesianBondedEnergy: Adding undefined angle Glc: HO4,O4,N to DB with theta0 = 0 , Ktheta = 80\n",
            "core.energy_methods.CartesianBondedEnergy: Adding undefined angle Glc: C2,C1,C to DB with theta0 = 1.91114 , Ktheta = 80\n",
            "core.energy_methods.CartesianBondedEnergy: Adding undefined angle Glc: O5,C1,C to DB with theta0 = 1.91962 , Ktheta = 80\n",
            "core.energy_methods.CartesianBondedEnergy: Adding undefined angle Glc: VO5,C1,C to DB with theta0 = 1.90575 , Ktheta = 80\n",
            "core.energy_methods.CartesianBondedEnergy: Adding undefined angle Glc: O1,C1,C to DB with theta0 = 0 , Ktheta = 80\n",
            "core.energy_methods.CartesianBondedEnergy: Adding undefined angle Glc: H1,C1,C to DB with theta0 = 1.90241 , Ktheta = 80\n",
            "core.energy_methods.CartesianBondedEnergy: Adding undefined angle ASN: CG,ND2,C1 to DB with theta0 = 2.09464 , Ktheta = 80\n",
            "core.energy_methods.CartesianBondedEnergy: Adding undefined angle ASN: 1HD2,ND2,C1 to DB with theta0 = 0.000390403 , Ktheta = 80\n",
            "core.energy_methods.CartesianBondedEnergy: Adding undefined angle ASN: 2HD2,ND2,C1 to DB with theta0 = 2.09415 , Ktheta = 80\n",
            "core.energy_methods.CartesianBondedEnergy: Adding undefined angle Glc: C2,C1,ND2 to DB with theta0 = 1.91114 , Ktheta = 80\n",
            "core.energy_methods.CartesianBondedEnergy: Adding undefined angle Glc: O5,C1,ND2 to DB with theta0 = 1.91962 , Ktheta = 80\n",
            "core.energy_methods.CartesianBondedEnergy: Adding undefined angle Glc: VO5,C1,ND2 to DB with theta0 = 1.90575 , Ktheta = 80\n",
            "core.energy_methods.CartesianBondedEnergy: Adding undefined angle Glc: O1,C1,ND2 to DB with theta0 = 0 , Ktheta = 80\n",
            "core.energy_methods.CartesianBondedEnergy: Adding undefined angle Glc: H1,C1,ND2 to DB with theta0 = 1.90241 , Ktheta = 80\n",
            "core.energy_methods.CartesianBondedEnergy: Adding undefined length Glc: C1,ND2, to DB with d0 = 1.48 , Kd = 300\n",
            "core.energy_methods.CartesianBondedEnergy: Adding undefined angle Glc: C4,O4,C1 to DB with theta0 = 1.91114 , Ktheta = 80\n",
            "core.energy_methods.CartesianBondedEnergy: Adding undefined angle Glc: HO4,O4,C1 to DB with theta0 = 0 , Ktheta = 80\n",
            "core.energy_methods.CartesianBondedEnergy: Adding undefined angle Glc: C2,C1,O4 to DB with theta0 = 1.91114 , Ktheta = 80\n",
            "core.energy_methods.CartesianBondedEnergy: Adding undefined angle Glc: O5,C1,O4 to DB with theta0 = 1.91962 , Ktheta = 80\n",
            "core.energy_methods.CartesianBondedEnergy: Adding undefined angle Glc: VO5,C1,O4 to DB with theta0 = 1.90575 , Ktheta = 80\n",
            "core.energy_methods.CartesianBondedEnergy: Adding undefined angle Glc: O1,C1,O4 to DB with theta0 = 0 , Ktheta = 80\n",
            "core.energy_methods.CartesianBondedEnergy: Adding undefined angle Glc: H1,C1,O4 to DB with theta0 = 1.90241 , Ktheta = 80\n",
            "core.energy_methods.CartesianBondedEnergy: Adding undefined length Glc: C1,O4, to DB with d0 = 1.48 , Kd = 300\n",
            "core.energy_methods.CartesianBondedEnergy: Adding undefined angle Man: C2,C1,O5 to DB with theta0 = 1.90983 , Ktheta = 80\n",
            "core.energy_methods.CartesianBondedEnergy: Adding undefined angle Man: C2,C1,VO5 to DB with theta0 = 1.91986 , Ktheta = 80\n",
            "core.energy_methods.CartesianBondedEnergy: Adding undefined angle Man: C2,C1,O1 to DB with theta0 = 1.91114 , Ktheta = 80\n",
            "core.energy_methods.CartesianBondedEnergy: Adding undefined angle Man: C2,C1,H1 to DB with theta0 = 1.91449 , Ktheta = 80\n",
            "core.energy_methods.CartesianBondedEnergy: Adding undefined angle Man: O5,C1,VO5 to DB with theta0 = 0.0143051 , Ktheta = 80\n",
            "core.energy_methods.CartesianBondedEnergy: Adding undefined angle Man: O5,C1,O1 to DB with theta0 = 1.91962 , Ktheta = 80\n",
            "core.energy_methods.CartesianBondedEnergy: Adding undefined angle Man: O5,C1,H1 to DB with theta0 = 1.90631 , Ktheta = 80\n",
            "core.energy_methods.CartesianBondedEnergy: Adding undefined angle Man: VO5,C1,O1 to DB with theta0 = 1.90575 , Ktheta = 80\n",
            "core.energy_methods.CartesianBondedEnergy: Adding undefined angle Man: VO5,C1,H1 to DB with theta0 = 1.91005 , Ktheta = 80\n",
            "core.energy_methods.CartesianBondedEnergy: Adding undefined angle Man: O1,C1,H1 to DB with theta0 = 1.90241 , Ktheta = 80\n",
            "core.energy_methods.CartesianBondedEnergy: Adding undefined angle Man: C1,C2,C3 to DB with theta0 = 1.90241 , Ktheta = 80\n",
            "core.energy_methods.CartesianBondedEnergy: Adding undefined angle Man: C1,C2,O2 to DB with theta0 = 1.91114 , Ktheta = 80\n",
            "core.energy_methods.CartesianBondedEnergy: Adding undefined angle Man: C1,C2,H2 to DB with theta0 = 1.90241 , Ktheta = 80\n",
            "core.energy_methods.CartesianBondedEnergy: Adding undefined angle Man: C3,C2,O2 to DB with theta0 = 1.91449 , Ktheta = 80\n",
            "core.energy_methods.CartesianBondedEnergy: Adding undefined angle Man: C3,C2,H2 to DB with theta0 = 1.91879 , Ktheta = 80\n",
            "core.energy_methods.CartesianBondedEnergy: Adding undefined angle Man: O2,C2,H2 to DB with theta0 = 1.91449 , Ktheta = 80\n",
            "core.energy_methods.CartesianBondedEnergy: Adding undefined angle Man: C2,C3,O3 to DB with theta0 = 1.91986 , Ktheta = 80\n",
            "core.energy_methods.CartesianBondedEnergy: Adding undefined angle Man: C2,C3,C4 to DB with theta0 = 1.87623 , Ktheta = 80\n",
            "core.energy_methods.CartesianBondedEnergy: Adding undefined angle Man: C2,C3,H3 to DB with theta0 = 1.90241 , Ktheta = 80\n",
            "core.energy_methods.CartesianBondedEnergy: Adding undefined angle Man: O3,C3,C4 to DB with theta0 = 1.9233 , Ktheta = 80\n",
            "core.energy_methods.CartesianBondedEnergy: Adding undefined angle Man: O3,C3,H3 to DB with theta0 = 1.91017 , Ktheta = 80\n",
            "core.energy_methods.CartesianBondedEnergy: Adding undefined angle Man: C4,C3,H3 to DB with theta0 = 1.93155 , Ktheta = 80\n",
            "core.energy_methods.CartesianBondedEnergy: Adding undefined angle Man: C3,O3,HO3 to DB with theta0 = 1.91114 , Ktheta = 80\n",
            "core.energy_methods.CartesianBondedEnergy: Adding undefined angle Man: C3,C4,C5 to DB with theta0 = 1.88496 , Ktheta = 80\n",
            "core.energy_methods.CartesianBondedEnergy: Adding undefined angle Man: C3,C4,O4 to DB with theta0 = 1.91114 , Ktheta = 80\n",
            "core.energy_methods.CartesianBondedEnergy: Adding undefined angle Man: C3,C4,H4 to DB with theta0 = 1.90241 , Ktheta = 80\n",
            "core.energy_methods.CartesianBondedEnergy: Adding undefined angle Man: C5,C4,O4 to DB with theta0 = 1.92314 , Ktheta = 80\n",
            "core.energy_methods.CartesianBondedEnergy: Adding undefined angle Man: C5,C4,H4 to DB with theta0 = 1.92732 , Ktheta = 80\n",
            "core.energy_methods.CartesianBondedEnergy: Adding undefined angle Man: O4,C4,H4 to DB with theta0 = 1.91449 , Ktheta = 80\n",
            "core.energy_methods.CartesianBondedEnergy: Adding undefined angle Man: C4,C5,O5 to DB with theta0 = 1.92859 , Ktheta = 80\n",
            "core.energy_methods.CartesianBondedEnergy: Adding undefined angle Man: C4,C5,C6 to DB with theta0 = 1.92859 , Ktheta = 80\n",
            "core.energy_methods.CartesianBondedEnergy: Adding undefined angle Man: C4,C5,H5 to DB with theta0 = 1.90241 , Ktheta = 80\n",
            "core.energy_methods.CartesianBondedEnergy: Adding undefined angle Man: O5,C5,C6 to DB with theta0 = 1.89234 , Ktheta = 80\n",
            "core.energy_methods.CartesianBondedEnergy: Adding undefined angle Man: O5,C5,H5 to DB with theta0 = 1.90583 , Ktheta = 80\n",
            "core.energy_methods.CartesianBondedEnergy: Adding undefined angle Man: C6,C5,H5 to DB with theta0 = 1.90583 , Ktheta = 80\n",
            "core.energy_methods.CartesianBondedEnergy: Adding undefined angle Man: C1,O5,C5 to DB with theta0 = 1.96249 , Ktheta = 80\n",
            "core.energy_methods.CartesianBondedEnergy: Adding undefined angle Man: C1,O5,VC1 to DB with theta0 = 0.0217746 , Ktheta = 80\n",
            "core.energy_methods.CartesianBondedEnergy: Adding undefined angle Man: C5,O5,VC1 to DB with theta0 = 1.94604 , Ktheta = 80\n",
            "core.energy_methods.CartesianBondedEnergy: Adding undefined angle Man: C1,O1,HO1 to DB with theta0 = 1.91114 , Ktheta = 80\n",
            "core.energy_methods.CartesianBondedEnergy: Adding undefined angle Man: C2,O2,HO2 to DB with theta0 = 1.91114 , Ktheta = 80\n",
            "core.energy_methods.CartesianBondedEnergy: Adding undefined angle Man: C4,O4,HO4 to DB with theta0 = 1.91114 , Ktheta = 80\n",
            "core.energy_methods.CartesianBondedEnergy: Adding undefined angle Man: C5,C6,O6 to DB with theta0 = 1.93732 , Ktheta = 80\n",
            "core.energy_methods.CartesianBondedEnergy: Adding undefined angle Man: C5,C6,1H6 to DB with theta0 = 1.90241 , Ktheta = 80\n",
            "core.energy_methods.CartesianBondedEnergy: Adding undefined angle Man: C5,C6,2H6 to DB with theta0 = 1.90241 , Ktheta = 80\n",
            "core.energy_methods.CartesianBondedEnergy: Adding undefined angle Man: O6,C6,1H6 to DB with theta0 = 1.90148 , Ktheta = 80\n",
            "core.energy_methods.CartesianBondedEnergy: Adding undefined angle Man: O6,C6,2H6 to DB with theta0 = 1.90148 , Ktheta = 80\n",
            "core.energy_methods.CartesianBondedEnergy: Adding undefined angle Man: 1H6,C6,2H6 to DB with theta0 = 1.91879 , Ktheta = 80\n",
            "core.energy_methods.CartesianBondedEnergy: Adding undefined angle Man: C6,O6,HO6 to DB with theta0 = 1.91114 , Ktheta = 80\n",
            "core.energy_methods.CartesianBondedEnergy: Adding undefined length Man: C1,C2, to DB with d0 = 1.55 , Kd = 300\n",
            "core.energy_methods.CartesianBondedEnergy: Adding undefined length Man: C1,O5, to DB with d0 = 1.42846 , Kd = 300\n",
            "core.energy_methods.CartesianBondedEnergy: Adding undefined length Man: C1,VO5, to DB with d0 = 1.44 , Kd = 300\n",
            "core.energy_methods.CartesianBondedEnergy: Adding undefined length Man: C1,O1, to DB with d0 = 1.48 , Kd = 300\n",
            "core.energy_methods.CartesianBondedEnergy: Adding undefined length Man: C1,H1, to DB with d0 = 1.1 , Kd = 300\n",
            "core.energy_methods.CartesianBondedEnergy: Adding undefined length Man: C2,C3, to DB with d0 = 1.53 , Kd = 300\n",
            "core.energy_methods.CartesianBondedEnergy: Adding undefined length Man: C2,O2, to DB with d0 = 1.42 , Kd = 300\n",
            "core.energy_methods.CartesianBondedEnergy: Adding undefined length Man: C2,H2, to DB with d0 = 1.1 , Kd = 300\n",
            "core.energy_methods.CartesianBondedEnergy: Adding undefined length Man: C3,O3, to DB with d0 = 1.43 , Kd = 300\n",
            "core.energy_methods.CartesianBondedEnergy: Adding undefined length Man: C3,C4, to DB with d0 = 1.53 , Kd = 300\n",
            "core.energy_methods.CartesianBondedEnergy: Adding undefined length Man: C3,H3, to DB with d0 = 1.1 , Kd = 300\n",
            "core.energy_methods.CartesianBondedEnergy: Adding undefined length Man: O3,HO3, to DB with d0 = 0.98 , Kd = 300\n",
            "core.energy_methods.CartesianBondedEnergy: Adding undefined length Man: C4,C5, to DB with d0 = 1.53 , Kd = 300\n",
            "core.energy_methods.CartesianBondedEnergy: Adding undefined length Man: C4,O4, to DB with d0 = 1.42 , Kd = 300\n",
            "core.energy_methods.CartesianBondedEnergy: Adding undefined length Man: C4,H4, to DB with d0 = 1.1 , Kd = 300\n",
            "core.energy_methods.CartesianBondedEnergy: Adding undefined length Man: C5,O5, to DB with d0 = 1.45 , Kd = 300\n",
            "core.energy_methods.CartesianBondedEnergy: Adding undefined length Man: C5,C6, to DB with d0 = 1.51 , Kd = 300\n",
            "core.energy_methods.CartesianBondedEnergy: Adding undefined length Man: C5,H5, to DB with d0 = 1.1 , Kd = 300\n",
            "core.energy_methods.CartesianBondedEnergy: Adding undefined length Man: O5,VC1, to DB with d0 = 1.44 , Kd = 300\n",
            "core.energy_methods.CartesianBondedEnergy: Adding undefined length Man: O1,HO1, to DB with d0 = 0.98 , Kd = 300\n",
            "core.energy_methods.CartesianBondedEnergy: Adding undefined length Man: O2,HO2, to DB with d0 = 0.98 , Kd = 300\n",
            "core.energy_methods.CartesianBondedEnergy: Adding undefined length Man: O4,HO4, to DB with d0 = 0.98 , Kd = 300\n",
            "core.energy_methods.CartesianBondedEnergy: Adding undefined length Man: C6,O6, to DB with d0 = 1.42 , Kd = 300\n",
            "core.energy_methods.CartesianBondedEnergy: Adding undefined length Man: C6,1H6, to DB with d0 = 1.1 , Kd = 300\n",
            "core.energy_methods.CartesianBondedEnergy: Adding undefined length Man: C6,2H6, to DB with d0 = 1.1 , Kd = 300\n",
            "core.energy_methods.CartesianBondedEnergy: Adding undefined length Man: O6,HO6, to DB with d0 = 0.98 , Kd = 300\n",
            "core.energy_methods.CartesianBondedEnergy: Adding undefined angle Man: C3,O3,N to DB with theta0 = 1.91114 , Ktheta = 80\n",
            "core.energy_methods.CartesianBondedEnergy: Adding undefined angle Man: HO3,O3,N to DB with theta0 = 1.49012e-08 , Ktheta = 80\n",
            "core.energy_methods.CartesianBondedEnergy: Adding undefined angle Man: C2,C1,C to DB with theta0 = 1.91114 , Ktheta = 80\n",
            "core.energy_methods.CartesianBondedEnergy: Adding undefined angle Man: O5,C1,C to DB with theta0 = 1.91962 , Ktheta = 80\n",
            "core.energy_methods.CartesianBondedEnergy: Adding undefined angle Man: VO5,C1,C to DB with theta0 = 1.90575 , Ktheta = 80\n",
            "core.energy_methods.CartesianBondedEnergy: Adding undefined angle Man: O1,C1,C to DB with theta0 = 0 , Ktheta = 80\n",
            "core.energy_methods.CartesianBondedEnergy: Adding undefined angle Man: H1,C1,C to DB with theta0 = 1.90241 , Ktheta = 80\n",
            "core.energy_methods.CartesianBondedEnergy: Adding undefined angle Man: C2,C1,O4 to DB with theta0 = 1.91114 , Ktheta = 80\n",
            "core.energy_methods.CartesianBondedEnergy: Adding undefined angle Man: O5,C1,O4 to DB with theta0 = 1.91962 , Ktheta = 80\n",
            "core.energy_methods.CartesianBondedEnergy: Adding undefined angle Man: VO5,C1,O4 to DB with theta0 = 1.90575 , Ktheta = 80\n",
            "core.energy_methods.CartesianBondedEnergy: Adding undefined angle Man: O1,C1,O4 to DB with theta0 = 0 , Ktheta = 80\n",
            "core.energy_methods.CartesianBondedEnergy: Adding undefined angle Man: H1,C1,O4 to DB with theta0 = 1.90241 , Ktheta = 80\n",
            "core.energy_methods.CartesianBondedEnergy: Adding undefined length Man: C1,O4, to DB with d0 = 1.48 , Kd = 300\n",
            "core.energy_methods.CartesianBondedEnergy: Adding undefined angle Man: C3,O3,C1 to DB with theta0 = 1.91114 , Ktheta = 80\n",
            "core.energy_methods.CartesianBondedEnergy: Adding undefined angle Man: HO3,O3,C1 to DB with theta0 = 1.49012e-08 , Ktheta = 80\n",
            "core.energy_methods.CartesianBondedEnergy: Adding undefined angle Man: C2,C1,O3 to DB with theta0 = 1.91114 , Ktheta = 80\n",
            "core.energy_methods.CartesianBondedEnergy: Adding undefined angle Man: O5,C1,O3 to DB with theta0 = 1.90192 , Ktheta = 80\n",
            "core.energy_methods.CartesianBondedEnergy: Adding undefined angle Man: VO5,C1,O3 to DB with theta0 = 1.90575 , Ktheta = 80\n",
            "core.energy_methods.CartesianBondedEnergy: Adding undefined angle Man: O1,C1,O3 to DB with theta0 = 2.10734e-08 , Ktheta = 80\n",
            "core.energy_methods.CartesianBondedEnergy: Adding undefined angle Man: H1,C1,O3 to DB with theta0 = 1.90241 , Ktheta = 80\n",
            "core.energy_methods.CartesianBondedEnergy: Adding undefined length Man: C1,O3, to DB with d0 = 1.48 , Kd = 300\n",
            "core.energy_methods.CartesianBondedEnergy: Adding undefined angle VRT: X,ORIG,Y to DB with theta0 = 1.5708 , Ktheta = 80\n",
            "core.energy_methods.CartesianBondedEnergy: Adding undefined length VRT: ORIG,X, to DB with d0 = 1 , Kd = 300\n",
            "core.energy_methods.CartesianBondedEnergy: Adding undefined length VRT: ORIG,Y, to DB with d0 = 1 , Kd = 300\n",
            "core.pose.util: [ WARNING ] Unable to find atom_tree atom for this Rosetta branch connection angle: residue 5 BRANCH 1\n",
            "core.pose.util: [ WARNING ] Unable to find atom_tree atom for this Rosetta branch connection angle: residue 32 BRANCH 1\n",
            "core.pose.util: [ WARNING ] Unable to find atom_tree atom for this Rosetta branch connection angle: residue 302 BRANCH 1\n",
            "core.pose.util: [ WARNING ] Unable to find atom_tree atom for this Rosetta branch connection angle: residue 385 BRANCH 1\n",
            "core.pose.util: [ WARNING ] Unable to find atom_tree atom for this Rosetta branch connection angle: residue 5 BRANCH 1\n",
            "core.pose.util: [ WARNING ] Unable to find atom_tree atom for this Rosetta branch connection angle: residue 32 BRANCH 1\n",
            "core.pose.util: [ WARNING ] Unable to find atom_tree atom for this Rosetta branch connection angle: residue 302 BRANCH 1\n",
            "core.pose.util: [ WARNING ] Unable to find atom_tree atom for this Rosetta branch connection angle: residue 385 BRANCH 1\n",
            "core.pose.util: [ WARNING ] Unable to find atom_tree atom for this Rosetta branch connection angle: residue 5 BRANCH 1\n",
            "core.pose.util: [ WARNING ] Unable to find atom_tree atom for this Rosetta branch connection angle: residue 32 BRANCH 1\n",
            "core.pose.util: [ WARNING ] Unable to find atom_tree atom for this Rosetta branch connection angle: residue 302 BRANCH 1\n",
            "core.pose.util: [ WARNING ] Unable to find atom_tree atom for this Rosetta branch connection angle: residue 385 BRANCH 1\n",
            "core.pose.util: [ WARNING ] Unable to find atom_tree atom for this Rosetta branch connection angle: residue 5 BRANCH 1\n",
            "core.pose.util: [ WARNING ] Unable to find atom_tree atom for this Rosetta branch connection angle: residue 32 BRANCH 1\n",
            "core.pose.util: [ WARNING ] Unable to find atom_tree atom for this Rosetta branch connection angle: residue 302 BRANCH 1\n",
            "core.pose.util: [ WARNING ] Unable to find atom_tree atom for this Rosetta branch connection angle: residue 385 BRANCH 1\n",
            "-7490.997000826663\n"
          ]
        }
      ],
      "source": [
        "p = original.clone()\n",
        "setup_dens_pose.apply(p)\n",
        "\n",
        "score_dens_cart = create_score_function(\"ref2015_cart\")\n",
        "score_dens_cart.set_weight(rosetta.core.scoring.elec_dens_fast, 25)\n",
        "\n",
        "#Set Bondlengths and angles to true. This is easier and more straightforward to do if using a MoveMapFactory.\n",
        "mm.set(rosetta.core.id.THETA, True)\n",
        "\n",
        "minmover.cartesian(True)\n",
        "minmover.score_function(score_dens_cart)\n",
        "minmover.set_movemap(mm)\n",
        "\n",
        "if not os.getenv(\"DEBUG\"):\n",
        "    for i in range(1, 5):\n",
        "        minmover.apply(p)\n",
        "\n",
        "(print(score_dens.score(p)))\n"
      ]
    },
    {
      "cell_type": "markdown",
      "metadata": {
        "id": "DKpQEZVZjt-M"
      },
      "source": [
        "Is this closer to the pre-refined model (which was pre-refined in Relax)?  Do they fit the density better?  Are they much more within the density?  How does the glycan density compare to the full protein density?"
      ]
    },
    {
      "cell_type": "markdown",
      "metadata": {
        "id": "_AV0Sd3Njt-N"
      },
      "source": [
        "## Conclusion\n",
        "\n",
        "That should get you started using density with typical Rosetta modeling tasks! See the references for more complex protocols."
      ]
    },
    {
      "cell_type": "code",
      "execution_count": null,
      "metadata": {
        "id": "zXojcd_Gjt-N"
      },
      "outputs": [],
      "source": []
    },
    {
      "cell_type": "markdown",
      "metadata": {
        "id": "8u200G9ujt-N"
      },
      "source": [
        "**Chapter contributors:**\n",
        "\n",
        "- Jared Adolf-Bryfogle (Scripps; Institute for Protein Innovation)"
      ]
    },
    {
      "cell_type": "markdown",
      "metadata": {
        "id": "3gYfNw3_jt-N"
      },
      "source": [
        "<!--NAVIGATION-->\n",
        "< [Working With Symmetry](http://nbviewer.jupyter.org/github/RosettaCommons/PyRosetta.notebooks/blob/master/notebooks/10.00-Working-With-Symmetry.ipynb) | [Contents](toc.ipynb) | [Index](index.ipynb) | [Working With Antibodies](http://nbviewer.jupyter.org/github/RosettaCommons/PyRosetta.notebooks/blob/master/notebooks/12.00-Working-With-Antibodies.ipynb) ><p><a href=\"https://colab.research.google.com/github/RosettaCommons/PyRosetta.notebooks/blob/master/notebooks/11.00-Working-With-Density.ipynb\"><img align=\"left\" src=\"https://colab.research.google.com/assets/colab-badge.svg\" alt=\"Open in Colab\" title=\"Open in Google Colaboratory\"></a>"
      ]
    }
  ],
  "metadata": {
    "kernelspec": {
      "display_name": "Python 3",
      "language": "python",
      "name": "python3"
    },
    "language_info": {
      "codemirror_mode": {
        "name": "ipython",
        "version": 3
      },
      "file_extension": ".py",
      "mimetype": "text/x-python",
      "name": "python",
      "nbconvert_exporter": "python",
      "pygments_lexer": "ipython3",
      "version": "3.6.1"
    },
    "toc": {
      "base_numbering": 1,
      "nav_menu": {},
      "number_sections": true,
      "sideBar": true,
      "skip_h1_title": false,
      "title_cell": "Table of Contents",
      "title_sidebar": "Contents",
      "toc_cell": false,
      "toc_position": {},
      "toc_section_display": true,
      "toc_window_display": false
    },
    "colab": {
      "provenance": [],
      "include_colab_link": true
    }
  },
  "nbformat": 4,
  "nbformat_minor": 0
}