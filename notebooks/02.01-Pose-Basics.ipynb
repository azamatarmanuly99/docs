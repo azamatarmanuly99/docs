{
  "cells": [
    {
      "cell_type": "markdown",
      "metadata": {
        "id": "view-in-github",
        "colab_type": "text"
      },
      "source": [
        "<a href=\"https://colab.research.google.com/github/azamatarmanuly99/docs/blob/main/notebooks/02.01-Pose-Basics.ipynb\" target=\"_parent\"><img src=\"https://colab.research.google.com/assets/colab-badge.svg\" alt=\"Open In Colab\"/></a>"
      ]
    },
    {
      "cell_type": "markdown",
      "metadata": {
        "id": "YqZLT66MpdRz"
      },
      "source": [
        "<!--NOTEBOOK_HEADER-->\n",
        "*This notebook contains material from [PyRosetta](https://RosettaCommons.github.io/PyRosetta.notebooks);\n",
        "content is available [on Github](https://github.com/RosettaCommons/PyRosetta.notebooks.git).*"
      ]
    },
    {
      "cell_type": "markdown",
      "metadata": {
        "id": "nE0_xutXpdR3"
      },
      "source": [
        "<!--NAVIGATION-->\n",
        "< [Introduction to PyRosetta](http://nbviewer.jupyter.org/github/RosettaCommons/PyRosetta.notebooks/blob/master/notebooks/02.00-Introduction-to-PyRosetta.ipynb) | [Contents](toc.ipynb) | [Index](index.ipynb) | [Working with Pose residues](http://nbviewer.jupyter.org/github/RosettaCommons/PyRosetta.notebooks/blob/master/notebooks/02.02-Working-with-Pose-Residues.ipynb) ><p><a href=\"https://colab.research.google.com/github/RosettaCommons/PyRosetta.notebooks/blob/master/notebooks/02.01-Pose-Basics.ipynb\"><img align=\"left\" src=\"https://colab.research.google.com/assets/colab-badge.svg\" alt=\"Open in Colab\" title=\"Open in Google Colaboratory\"></a>"
      ]
    },
    {
      "cell_type": "markdown",
      "metadata": {
        "id": "B6rvLcVYpdR4"
      },
      "source": [
        "# Pose Basics\n",
        "Keywords: pose_from_pdb(), sequence(), cleanATOM, annotated_sequence()"
      ]
    },
    {
      "cell_type": "markdown",
      "metadata": {
        "id": "RiwjvhhupdR5"
      },
      "source": [
        "In this lab, we will get practice working with the `Pose` class in PyRosetta. We will load in a protein from a PDB files, use the `Pose` class to learn about the geometry of the protein, make changes to this geometry, and visualize the changes easily with `PyMOL` and PyRosetta's `PyMOLMover`.\n",
        "\n",
        "On the corresponding `Pose` lab found on the PyRosetta website, you will find various useful commands to interrogate poses; these may come in handy for the exercises.\n",
        "\n",
        "**PyRosetta Installation:**\n",
        "The following two lines will load in the PyRosetta library and load in database files. If this does not work, please notify the professor or the TA."
      ]
    },
    {
      "cell_type": "code",
      "execution_count": 3,
      "metadata": {
        "id": "TzatL8PcpdR6",
        "outputId": "6265e499-3416-4134-81a5-6c2c00df5f6b",
        "colab": {
          "base_uri": "https://localhost:8080/"
        }
      },
      "outputs": [
        {
          "output_type": "stream",
          "name": "stdout",
          "text": [
            "Requirement already satisfied: pyrosettacolabsetup in /usr/local/lib/python3.10/dist-packages (1.0.7)\n",
            "Drive already mounted at /content/google_drive; to attempt to forcibly remount, call drive.mount(\"/content/google_drive\", force_remount=True).\n",
            "Looking for compatible PyRosetta wheel file at google-drive/PyRosetta/colab.bin//wheels...\n",
            "To obtain PyRosetta license please visit https://www.rosettacommons.org/software/license-and-download\n",
            "Please enter you RC license login:levinthal\n",
            "Please enter you RC license password:paradox\n",
            "Downloading PyRosetta package...\n",
            "--2024-01-09 10:31:14--  https://west.rosettacommons.org/pyrosetta/release/release/PyRosetta4.MinSizeRel.python310.ubuntu.wheel/.latest\n",
            "Resolving west.rosettacommons.org (west.rosettacommons.org)... 128.95.160.153\n",
            "\n",
            "HTTP request sent, awaiting response... 401 Unauthorized\n",
            "Authentication selected: Basic realm=\"Rosetta Repo\"\n",
            "\n",
            "HTTP request sent, awaiting response... 302 Found\n",
            "Location: https://west.rosettacommons.org/pyrosetta/release/release/PyRosetta4.MinSizeRel.python310.ubuntu.wheel/pyrosetta-2024.1+release.00b79147e63-cp310-cp310-linux_x86_64.whl [following]\n",
            "--2024-01-09 10:31:15--  https://west.rosettacommons.org/pyrosetta/release/release/PyRosetta4.MinSizeRel.python310.ubuntu.wheel/pyrosetta-2024.1+release.00b79147e63-cp310-cp310-linux_x86_64.whl\n",
            "\n",
            "HTTP request sent, awaiting response... 200 OK\n",
            "Length: 1609840220 (1.5G)\n",
            "--2024-01-09 10:31:15--  https://west.rosettacommons.org/pyrosetta/release/release/PyRosetta4.MinSizeRel.python310.ubuntu.wheel/pyrosetta-2024.1+release.00b79147e63-cp310-cp310-linux_x86_64.whl\n",
            "Reusing existing connection to west.rosettacommons.org:443.\n",
            "HTTP request sent, awaiting response... 200 OK\n",
            "Length: 1609840220 (1.5G)\n",
            "Saving to: ‘/content/google_drive/MyDrive/PyRosetta/colab.bin/tmpec9l17op/pyrosetta-2024.1+release.00b79147e63-cp310-cp310-linux_x86_64.whl’\n",
            "\n",
            "pyrosetta-2024.1+re 100%[===================>]   1.50G  32.8MB/s    in 50s     \n",
            "\n",
            "2024-01-09 10:32:06 (30.7 MB/s) - ‘/content/google_drive/MyDrive/PyRosetta/colab.bin/tmpec9l17op/pyrosetta-2024.1+release.00b79147e63-cp310-cp310-linux_x86_64.whl’ saved [1609840220/1609840220]\n",
            "Moving wheel file pyrosetta-2024.1+release.00b79147e63-cp310-cp310-linux_x86_64.whl to target dir /content/google_drive/MyDrive/PyRosetta/colab.bin/wheels...\n",
            "Installing PyRosetta wheel '/content/google_drive/MyDrive/PyRosetta/colab.bin/wheels/pyrosetta-2024.1+release.00b79147e63-cp310-cp310-linux_x86_64.whl'...\n",
            "\n",
            "\n",
            "PyRosetta-4 2023 [Rosetta PyRosetta4.MinSizeRel.python310.ubuntu 2024.01+release.00b79147e63be743438188f93a3f069ca75106d6 2023-12-25T16:35:48] retrieved from: http://www.pyrosetta.org\n",
            "(C) Copyright Rosetta Commons Member Institutions. Created in JHU by Sergey Lyskov and PyRosetta Team.\n",
            "core.init: Checking for fconfig files in pwd and ./rosetta/flags\n",
            "core.init: Rosetta version: PyRosetta4.MinSizeRel.python310.ubuntu r366 2024.01+release.00b79147e63 00b79147e63be743438188f93a3f069ca75106d6 http://www.pyrosetta.org 2023-12-25T16:35:48\n",
            "core.init: command: PyRosetta -ex1 -ex2aro -database /usr/local/lib/python3.10/dist-packages/pyrosetta/database\n",
            "basic.random.init_random_generator: 'RNG device' seed mode, using '/dev/urandom', seed=564787524 seed_offset=0 real_seed=564787524\n",
            "basic.random.init_random_generator: RandomGenerator:init: Normal mode, seed=564787524 RG_type=mt19937\n"
          ]
        }
      ],
      "source": [
        "!pip install pyrosettacolabsetup\n",
        "import pyrosettacolabsetup; pyrosettacolabsetup.install_pyrosetta()\n",
        "import pyrosetta; pyrosetta.init()\n"
      ]
    },
    {
      "cell_type": "code",
      "execution_count": 4,
      "metadata": {
        "scrolled": true,
        "id": "nMi5T4rmpdR-",
        "outputId": "065cbdcd-f849-45e1-ca9a-6bc8bbcc9f88",
        "colab": {
          "base_uri": "https://localhost:8080/"
        }
      },
      "outputs": [
        {
          "output_type": "stream",
          "name": "stdout",
          "text": [
            "PyRosetta-4 2023 [Rosetta PyRosetta4.MinSizeRel.python310.ubuntu 2024.01+release.00b79147e63be743438188f93a3f069ca75106d6 2023-12-25T16:35:48] retrieved from: http://www.pyrosetta.org\n",
            "(C) Copyright Rosetta Commons Member Institutions. Created in JHU by Sergey Lyskov and PyRosetta Team.\n",
            "core.init: Checking for fconfig files in pwd and ./rosetta/flags\n",
            "core.init: Rosetta version: PyRosetta4.MinSizeRel.python310.ubuntu r366 2024.01+release.00b79147e63 00b79147e63be743438188f93a3f069ca75106d6 http://www.pyrosetta.org 2023-12-25T16:35:48\n",
            "core.init: command: PyRosetta -ex1 -ex2aro -database /usr/local/lib/python3.10/dist-packages/pyrosetta/database\n",
            "basic.random.init_random_generator: 'RNG device' seed mode, using '/dev/urandom', seed=295974018 seed_offset=0 real_seed=295974018\n",
            "basic.random.init_random_generator: RandomGenerator:init: Normal mode, seed=295974018 RG_type=mt19937\n"
          ]
        }
      ],
      "source": [
        "from pyrosetta import *\n",
        "init()"
      ]
    },
    {
      "cell_type": "markdown",
      "metadata": {
        "id": "1pq72haEpdSB"
      },
      "source": [
        "## Loading in a PDB File ##"
      ]
    },
    {
      "cell_type": "markdown",
      "metadata": {
        "id": "aVv28D20pdSD"
      },
      "source": [
        "Protein Data Bank (PDB) is a text file format for describing 3D molecular structures and other information. Rosetta can read in PDB files and can output them as well. In addition to PDB, mmTF and mmCIF are a couple other file formats that are used with Rosetta.\n",
        "\n",
        "We will spend some time today looking at the crystal structure for the protein **PafA** (PDB ID: 5tj3) using Pyrosetta. PafA is an alkaline phosphatase, which removes a phosphate group from a phosphate monoester. In this structure, a modified amino acid, phosphothreonine, is used to mimic the substrate in the active site. Let's load in this structure with PyRosetta (make sure that you have the PDB file located in your current directory):"
      ]
    },
    {
      "cell_type": "markdown",
      "metadata": {
        "id": "0B3Qx37NpdSF"
      },
      "source": [
        "`cd google_drive/My\\ Drive/student-notebooks/`\n",
        "\n",
        "\n",
        "`pose = pose_from_pdb(\"5tj3.pdb\")`\n",
        "\n",
        "\n",
        "\n",
        "Here we are inputting the PDB file using the `pose_from_pdb` method. However, we can also load this structure from the internet with `pose_from_rcsb(\"5TJ3\")`."
      ]
    },
    {
      "cell_type": "code",
      "execution_count": 8,
      "metadata": {
        "nbgrader": {
          "grade": true,
          "grade_id": "cell-690a147764ad96d7",
          "locked": false,
          "points": 0,
          "schema_version": 3,
          "solution": true
        },
        "scrolled": true,
        "id": "T77t8ziopdSG",
        "outputId": "3493446f-e839-4511-9659-14ef89f83474",
        "colab": {
          "base_uri": "https://localhost:8080/"
        }
      },
      "outputs": [
        {
          "output_type": "stream",
          "name": "stdout",
          "text": [
            "core.import_pose.import_pose: File '5tj3.pdb' automatically determined to be of type PDB\n",
            "core.conformation.Conformation: [ WARNING ] missing heavyatom:  CG  on residue LYS 233\n",
            "core.conformation.Conformation: [ WARNING ] missing heavyatom:  CD  on residue LYS 233\n",
            "core.conformation.Conformation: [ WARNING ] missing heavyatom:  CE  on residue LYS 233\n",
            "core.conformation.Conformation: [ WARNING ] missing heavyatom:  NZ  on residue LYS 233\n",
            "core.conformation.Conformation: [ WARNING ] missing heavyatom:  CG  on residue ASP 350\n",
            "core.conformation.Conformation: [ WARNING ] missing heavyatom:  OD1 on residue ASP 350\n",
            "core.conformation.Conformation: [ WARNING ] missing heavyatom:  OD2 on residue ASP 350\n",
            "core.conformation.Conformation: [ WARNING ] missing heavyatom:  CG  on residue LYS 353\n",
            "core.conformation.Conformation: [ WARNING ] missing heavyatom:  CD  on residue LYS 353\n",
            "core.conformation.Conformation: [ WARNING ] missing heavyatom:  CE  on residue LYS 353\n",
            "core.conformation.Conformation: [ WARNING ] missing heavyatom:  NZ  on residue LYS 353\n",
            "core.conformation.Conformation: [ WARNING ] missing heavyatom:  CG  on residue GLU 354\n",
            "core.conformation.Conformation: [ WARNING ] missing heavyatom:  CD  on residue GLU 354\n",
            "core.conformation.Conformation: [ WARNING ] missing heavyatom:  OE1 on residue GLU 354\n",
            "core.conformation.Conformation: [ WARNING ] missing heavyatom:  OE2 on residue GLU 354\n",
            "core.conformation.Conformation: [ WARNING ] missing heavyatom:  CG  on residue LYS 382\n",
            "core.conformation.Conformation: [ WARNING ] missing heavyatom:  CD  on residue LYS 382\n",
            "core.conformation.Conformation: [ WARNING ] missing heavyatom:  CE  on residue LYS 382\n",
            "core.conformation.Conformation: [ WARNING ] missing heavyatom:  NZ  on residue LYS 382\n",
            "core.conformation.Conformation: [ WARNING ] missing heavyatom:  CG  on residue TYR 454\n",
            "core.conformation.Conformation: [ WARNING ] missing heavyatom:  CD1 on residue TYR 454\n",
            "core.conformation.Conformation: [ WARNING ] missing heavyatom:  CD2 on residue TYR 454\n",
            "core.conformation.Conformation: [ WARNING ] missing heavyatom:  CE1 on residue TYR 454\n",
            "core.conformation.Conformation: [ WARNING ] missing heavyatom:  CE2 on residue TYR 454\n",
            "core.conformation.Conformation: [ WARNING ] missing heavyatom:  CZ  on residue TYR 454\n",
            "core.conformation.Conformation: [ WARNING ] missing heavyatom:  OH  on residue TYR 454\n",
            "core.conformation.Conformation: [ WARNING ] missing heavyatom:  OXT on residue GLY:CtermProteinFull 520\n",
            "core.pack.pack_missing_sidechains: packing residue number 233 because of missing atom number 6 atom name  CG\n",
            "core.pack.pack_missing_sidechains: packing residue number 350 because of missing atom number 6 atom name  CG\n",
            "core.pack.pack_missing_sidechains: packing residue number 353 because of missing atom number 6 atom name  CG\n",
            "core.pack.pack_missing_sidechains: packing residue number 354 because of missing atom number 6 atom name  CG\n",
            "core.pack.pack_missing_sidechains: packing residue number 382 because of missing atom number 6 atom name  CG\n",
            "core.pack.pack_missing_sidechains: packing residue number 454 because of missing atom number 6 atom name  CG\n",
            "core.pack.task: Packer task: initialize from command line()\n",
            "core.scoring.ScoreFunctionFactory: SCOREFUNCTION: ref2015\n",
            "core.scoring.etable: Starting energy table calculation\n",
            "core.scoring.etable: smooth_etable: changing atr/rep split to bottom of energy well\n",
            "core.scoring.etable: smooth_etable: spline smoothing lj etables (maxdis = 6)\n",
            "core.scoring.etable: smooth_etable: spline smoothing solvation etables (max_dis = 6)\n",
            "core.scoring.etable: Finished calculating energy tables.\n",
            "basic.io.database: Database file opened: scoring/score_functions/hbonds/ref2015_params/HBPoly1D.csv\n",
            "basic.io.database: Database file opened: scoring/score_functions/hbonds/ref2015_params/HBFadeIntervals.csv\n",
            "basic.io.database: Database file opened: scoring/score_functions/hbonds/ref2015_params/HBEval.csv\n",
            "basic.io.database: Database file opened: scoring/score_functions/hbonds/ref2015_params/DonStrength.csv\n",
            "basic.io.database: Database file opened: scoring/score_functions/hbonds/ref2015_params/AccStrength.csv\n",
            "basic.io.database: Database file opened: scoring/score_functions/rama/fd/all.ramaProb\n",
            "basic.io.database: Database file opened: scoring/score_functions/rama/fd/prepro.ramaProb\n",
            "basic.io.database: Database file opened: scoring/score_functions/omega/omega_ppdep.all.txt\n",
            "basic.io.database: Database file opened: scoring/score_functions/omega/omega_ppdep.gly.txt\n",
            "basic.io.database: Database file opened: scoring/score_functions/omega/omega_ppdep.pro.txt\n",
            "basic.io.database: Database file opened: scoring/score_functions/omega/omega_ppdep.valile.txt\n",
            "basic.io.database: Database file opened: scoring/score_functions/P_AA_pp/P_AA\n",
            "basic.io.database: Database file opened: scoring/score_functions/P_AA_pp/P_AA_n\n",
            "core.scoring.P_AA: shapovalov_lib::shap_p_aa_pp_smooth_level of 1( aka low_smooth ) got activated.\n",
            "basic.io.database: Database file opened: scoring/score_functions/P_AA_pp/shapovalov/10deg/kappa131/a20.prop\n",
            "basic.io.database: Database file opened: scoring/score_functions/elec_cp_reps.dat\n",
            "core.scoring.elec.util: Read 40 countpair representative atoms\n",
            "core.pack.dunbrack.RotamerLibrary: shapovalov_lib_fixes_enable option is true.\n",
            "core.pack.dunbrack.RotamerLibrary: shapovalov_lib::shap_dun10_smooth_level of 1( aka lowest_smooth ) got activated.\n",
            "core.pack.dunbrack.RotamerLibrary: Binary rotamer library selected: /usr/local/lib/python3.10/dist-packages/pyrosetta/database/rotamer/shapovalov/StpDwn_0-0-0/Dunbrack10.lib.bin\n",
            "core.pack.dunbrack.RotamerLibrary: Using Dunbrack library binary file '/usr/local/lib/python3.10/dist-packages/pyrosetta/database/rotamer/shapovalov/StpDwn_0-0-0/Dunbrack10.lib.bin'.\n",
            "core.pack.dunbrack.RotamerLibrary: Dunbrack 2010 library took 0.419904 seconds to load from binary\n",
            "core.pack.pack_rotamers: built 90 rotamers at 6 positions.\n",
            "core.pack.interaction_graph.interaction_graph_factory: Instantiating DensePDInteractionGraph\n"
          ]
        }
      ],
      "source": [
        "### BEGIN SOLUTION\n",
        "pose = pose_from_pdb(\"5tj3.pdb\")\n",
        "### END SOLUTION"
      ]
    },
    {
      "cell_type": "markdown",
      "metadata": {
        "id": "od1Nyb0RpdSH"
      },
      "source": [
        "## What is a Pose?"
      ]
    },
    {
      "cell_type": "markdown",
      "metadata": {
        "id": "ysNBY2OtpdSI"
      },
      "source": [
        "The Pose class includes various types of information that describe a structure. Some of the core components include the Energies, PDBInfo, and Conformation. See the Rosetta3 paper to learn more: https://www.sciencedirect.com/science/article/pii/B9780123812704000196\n",
        "\n",
        "As an example, let's use our pose to look at the sequence of 5TJ3:\n",
        "`pose.sequence()`"
      ]
    },
    {
      "cell_type": "code",
      "execution_count": 9,
      "metadata": {
        "nbgrader": {
          "grade": true,
          "grade_id": "cell-61e3c7efb8ae6b94",
          "locked": false,
          "points": 0,
          "schema_version": 3,
          "solution": true
        },
        "scrolled": true,
        "id": "BvT_XKz-pdSJ",
        "outputId": "f8f11896-d173-48fb-9519-05d7f1fdbf57",
        "colab": {
          "base_uri": "https://localhost:8080/",
          "height": 70
        }
      },
      "outputs": [
        {
          "output_type": "execute_result",
          "data": {
            "text/plain": [
              "'NAVPRPKLVVGLVVDQMRWDYLYRYYSKYGEGGFKRMLNTGYSLNNVHIDYVPTVTAIGHTSIFTGSVPSIHGIAGNDWYDKELGKSVYCTSDETVQPVGTTSNSVGQHSPRNLWSTTVTDQLGLATNFTSKVVGVSLKDRASILPAGHNPTGAFWFDDTTGKFITSTYYTKELPKWVNDFNNKNVPAQLVANGWNTLLPINQYTESSEDNVEWEGLLGSKKTPTFPYTDLAKDYEAKKGLIRTTPFGNTLTLQMADAAIDGNQMGVDDITDFLTVNLASTDYVGHNFGPNSIEVEDTYLRLDRDLADFFNNLDKKVGKGNYLVFLSADHGAAHSVGFMQAHKMPTGFFDMKKEMNAKLKQKFGADNIIAAAMNYQVYFDRKVLADSKLELDDVRDYVMTELKKEPSVLYVLSTDEIWESSIPEPIKSRVINGYNWKRSGDIQIISKDGYLSAYSKKGTTHSVWNSYDSHIPLLFMGWGIKQGESNQPYHMTDIAPTVSSLLKIQFPSGAVGKPITEVIGZZZZ'"
            ],
            "application/vnd.google.colaboratory.intrinsic+json": {
              "type": "string"
            }
          },
          "metadata": {},
          "execution_count": 9
        }
      ],
      "source": [
        "# print out the sequence of the pose\n",
        "### BEGIN SOLUTION\n",
        "pose.sequence()\n",
        "### END SOLUTION"
      ]
    },
    {
      "cell_type": "markdown",
      "metadata": {
        "id": "d1f-XzFRpdSK"
      },
      "source": [
        "Sometimes PDB files do not conform to standards and need to be cleaned to be loaded successfully with PyRosetta. One way to make sure the file is loaded successfully is to only include the ATOM lines from the PDB file. Alternatively, you could use the cleanATOM function in pyrosetta.toolbox to achieve the same:"
      ]
    },
    {
      "cell_type": "code",
      "execution_count": 10,
      "metadata": {
        "id": "40JjE5phpdSK"
      },
      "outputs": [],
      "source": [
        "from pyrosetta.toolbox import cleanATOM\n",
        "cleanATOM(\"5tj3.pdb\")"
      ]
    },
    {
      "cell_type": "markdown",
      "metadata": {
        "id": "3fkxZ8hepdSL"
      },
      "source": [
        "This method will create a cleaned 5tj3.clean.pdb file for you. Lets load this into PyRosetta as well:"
      ]
    },
    {
      "cell_type": "code",
      "execution_count": 13,
      "metadata": {
        "id": "J-T646gwpdSL",
        "outputId": "207a65b9-f58d-4b6f-e6b2-5878904cb125",
        "colab": {
          "base_uri": "https://localhost:8080/"
        }
      },
      "outputs": [
        {
          "output_type": "stream",
          "name": "stdout",
          "text": [
            "core.import_pose.import_pose: File '5tj3.clean.pdb' automatically determined to be of type PDB\n",
            "core.conformation.Conformation: [ WARNING ] missing heavyatom:  CG  on residue LYS 232\n",
            "core.conformation.Conformation: [ WARNING ] missing heavyatom:  CD  on residue LYS 232\n",
            "core.conformation.Conformation: [ WARNING ] missing heavyatom:  CE  on residue LYS 232\n",
            "core.conformation.Conformation: [ WARNING ] missing heavyatom:  NZ  on residue LYS 232\n",
            "core.conformation.Conformation: [ WARNING ] missing heavyatom:  CG  on residue ASP 349\n",
            "core.conformation.Conformation: [ WARNING ] missing heavyatom:  OD1 on residue ASP 349\n",
            "core.conformation.Conformation: [ WARNING ] missing heavyatom:  OD2 on residue ASP 349\n",
            "core.conformation.Conformation: [ WARNING ] missing heavyatom:  CG  on residue LYS 352\n",
            "core.conformation.Conformation: [ WARNING ] missing heavyatom:  CD  on residue LYS 352\n",
            "core.conformation.Conformation: [ WARNING ] missing heavyatom:  CE  on residue LYS 352\n",
            "core.conformation.Conformation: [ WARNING ] missing heavyatom:  NZ  on residue LYS 352\n",
            "core.conformation.Conformation: [ WARNING ] missing heavyatom:  CG  on residue GLU 353\n",
            "core.conformation.Conformation: [ WARNING ] missing heavyatom:  CD  on residue GLU 353\n",
            "core.conformation.Conformation: [ WARNING ] missing heavyatom:  OE1 on residue GLU 353\n",
            "core.conformation.Conformation: [ WARNING ] missing heavyatom:  OE2 on residue GLU 353\n",
            "core.conformation.Conformation: [ WARNING ] missing heavyatom:  CG  on residue LYS 381\n",
            "core.conformation.Conformation: [ WARNING ] missing heavyatom:  CD  on residue LYS 381\n",
            "core.conformation.Conformation: [ WARNING ] missing heavyatom:  CE  on residue LYS 381\n",
            "core.conformation.Conformation: [ WARNING ] missing heavyatom:  NZ  on residue LYS 381\n",
            "core.conformation.Conformation: [ WARNING ] missing heavyatom:  CG  on residue TYR 453\n",
            "core.conformation.Conformation: [ WARNING ] missing heavyatom:  CD1 on residue TYR 453\n",
            "core.conformation.Conformation: [ WARNING ] missing heavyatom:  CD2 on residue TYR 453\n",
            "core.conformation.Conformation: [ WARNING ] missing heavyatom:  CE1 on residue TYR 453\n",
            "core.conformation.Conformation: [ WARNING ] missing heavyatom:  CE2 on residue TYR 453\n",
            "core.conformation.Conformation: [ WARNING ] missing heavyatom:  CZ  on residue TYR 453\n",
            "core.conformation.Conformation: [ WARNING ] missing heavyatom:  OH  on residue TYR 453\n",
            "core.conformation.Conformation: [ WARNING ] missing heavyatom:  OXT on residue GLY:CtermProteinFull 519\n",
            "core.pack.pack_missing_sidechains: packing residue number 232 because of missing atom number 6 atom name  CG\n",
            "core.pack.pack_missing_sidechains: packing residue number 349 because of missing atom number 6 atom name  CG\n",
            "core.pack.pack_missing_sidechains: packing residue number 352 because of missing atom number 6 atom name  CG\n",
            "core.pack.pack_missing_sidechains: packing residue number 353 because of missing atom number 6 atom name  CG\n",
            "core.pack.pack_missing_sidechains: packing residue number 381 because of missing atom number 6 atom name  CG\n",
            "core.pack.pack_missing_sidechains: packing residue number 453 because of missing atom number 6 atom name  CG\n",
            "core.pack.task: Packer task: initialize from command line()\n",
            "core.scoring.ScoreFunctionFactory: SCOREFUNCTION: ref2015\n",
            "core.pack.pack_rotamers: built 90 rotamers at 6 positions.\n",
            "core.pack.interaction_graph.interaction_graph_factory: Instantiating DensePDInteractionGraph\n"
          ]
        }
      ],
      "source": [
        "pose_clean = pose_from_pdb(\"5tj3.clean.pdb\")"
      ]
    },
    {
      "cell_type": "markdown",
      "metadata": {
        "id": "Q7bNGhafpdSL"
      },
      "source": [
        "In our case, we could load in the PDB file for 5tj3 without cleaning it. In fact, we've lost some residues when cleaning the PDB file with cleanATOM. What is the difference in the `sequence` of the `pose_clean` now, compared to before?"
      ]
    },
    {
      "cell_type": "code",
      "execution_count": 14,
      "metadata": {
        "nbgrader": {
          "grade": true,
          "grade_id": "cell-57e06ba64f052592",
          "locked": false,
          "points": 0,
          "schema_version": 3,
          "solution": true
        },
        "id": "kTx8G-bjpdSM",
        "outputId": "f5e8b9b7-5ad3-402f-be6e-20cd632158f3",
        "colab": {
          "base_uri": "https://localhost:8080/",
          "height": 70
        }
      },
      "outputs": [
        {
          "output_type": "execute_result",
          "data": {
            "text/plain": [
              "'NAVPRPKLVVGLVVDQMRWDYLYRYYSKYGEGGFKRMLNTGYSLNNVHIDYVPTVAIGHTSIFTGSVPSIHGIAGNDWYDKELGKSVYCTSDETVQPVGTTSNSVGQHSPRNLWSTTVTDQLGLATNFTSKVVGVSLKDRASILPAGHNPTGAFWFDDTTGKFITSTYYTKELPKWVNDFNNKNVPAQLVANGWNTLLPINQYTESSEDNVEWEGLLGSKKTPTFPYTDLAKDYEAKKGLIRTTPFGNTLTLQMADAAIDGNQMGVDDITDFLTVNLASTDYVGHNFGPNSIEVEDTYLRLDRDLADFFNNLDKKVGKGNYLVFLSADHGAAHSVGFMQAHKMPTGFFDMKKEMNAKLKQKFGADNIIAAAMNYQVYFDRKVLADSKLELDDVRDYVMTELKKEPSVLYVLSTDEIWESSIPEPIKSRVINGYNWKRSGDIQIISKDGYLSAYSKKGTTHSVWNSYDSHIPLLFMGWGIKQGESNQPYHMTDIAPTVSSLLKIQFPSGAVGKPITEVIG'"
            ],
            "application/vnd.google.colaboratory.intrinsic+json": {
              "type": "string"
            }
          },
          "metadata": {},
          "execution_count": 14
        }
      ],
      "source": [
        "# print out the sequence of the pose_clean\n",
        "### BEGIN SOLUTION\n",
        "pose_clean.sequence()\n",
        "### END SOLUTION"
      ]
    },
    {
      "cell_type": "markdown",
      "metadata": {
        "id": "uRh2DXuxpdSN"
      },
      "source": [
        "With the function `annotated_sequence` below, we can start to see in more detail what the differences are. Note that non-canonical amino acids and hetatms are spelled out more explicitly now."
      ]
    },
    {
      "cell_type": "code",
      "execution_count": 15,
      "metadata": {
        "id": "rtElwgo2pdSN",
        "outputId": "e24a1dbe-3394-4bd2-e06e-f46600700bdc",
        "colab": {
          "base_uri": "https://localhost:8080/",
          "height": 87
        }
      },
      "outputs": [
        {
          "output_type": "execute_result",
          "data": {
            "text/plain": [
              "'N[ASN:NtermProteinFull]AVPRPKLVVGLVVDQMRWDYLYRYYSKYGEGGFKRMLNTGYSLNNVHIDYVPTVT[THR:phosphorylated]AIGHTSIFTGSVPSIHGIAGNDWYDKELGKSVYCTSDETVQPVGTTSNSVGQHSPRNLWSTTVTDQLGLATNFTSKVVGVSLKDRASILPAGHNPTGAFWFDDTTGKFITSTYYTKELPKWVNDFNNKNVPAQLVANGWNTLLPINQYTESSEDNVEWEGLLGSKKTPTFPYTDLAKDYEAKKGLIRTTPFGNTLTLQMADAAIDGNQMGVDDITDFLTVNLASTDYVGHNFGPNSIEVEDTYLRLDRDLADFFNNLDKKVGKGNYLVFLSADHGAAHSVGFMQAHKMPTGFFDMKKEMNAKLKQKFGADNIIAAAMNYQVYFDRKVLADSKLELDDVRDYVMTELKKEPSVLYVLSTDEIWESSIPEPIKSRVINGYNWKRSGDIQIISKDGYLSAYSKKGTTHSVWNSYDSHIPLLFMGWGIKQGESNQPYHMTDIAPTVSSLLKIQFPSGAVGKPITEVIG[GLY:CtermProteinFull]Z[ZN]Z[ZN]Z[ZN]Z[ZN]'"
            ],
            "application/vnd.google.colaboratory.intrinsic+json": {
              "type": "string"
            }
          },
          "metadata": {},
          "execution_count": 15
        }
      ],
      "source": [
        "pose.annotated_sequence()"
      ]
    },
    {
      "cell_type": "code",
      "execution_count": 16,
      "metadata": {
        "scrolled": true,
        "id": "kzKWT95opdSO",
        "outputId": "0161e9f2-dae8-41af-9511-dfb483950bf2",
        "colab": {
          "base_uri": "https://localhost:8080/",
          "height": 70
        }
      },
      "outputs": [
        {
          "output_type": "execute_result",
          "data": {
            "text/plain": [
              "'N[ASN:NtermProteinFull]AVPRPKLVVGLVVDQMRWDYLYRYYSKYGEGGFKRMLNTGYSLNNVHIDYVPTVAIGHTSIFTGSVPSIHGIAGNDWYDKELGKSVYCTSDETVQPVGTTSNSVGQHSPRNLWSTTVTDQLGLATNFTSKVVGVSLKDRASILPAGHNPTGAFWFDDTTGKFITSTYYTKELPKWVNDFNNKNVPAQLVANGWNTLLPINQYTESSEDNVEWEGLLGSKKTPTFPYTDLAKDYEAKKGLIRTTPFGNTLTLQMADAAIDGNQMGVDDITDFLTVNLASTDYVGHNFGPNSIEVEDTYLRLDRDLADFFNNLDKKVGKGNYLVFLSADHGAAHSVGFMQAHKMPTGFFDMKKEMNAKLKQKFGADNIIAAAMNYQVYFDRKVLADSKLELDDVRDYVMTELKKEPSVLYVLSTDEIWESSIPEPIKSRVINGYNWKRSGDIQIISKDGYLSAYSKKGTTHSVWNSYDSHIPLLFMGWGIKQGESNQPYHMTDIAPTVSSLLKIQFPSGAVGKPITEVIG[GLY:CtermProteinFull]'"
            ],
            "application/vnd.google.colaboratory.intrinsic+json": {
              "type": "string"
            }
          },
          "metadata": {},
          "execution_count": 16
        }
      ],
      "source": [
        "pose_clean.annotated_sequence()"
      ]
    },
    {
      "cell_type": "markdown",
      "metadata": {
        "id": "xZA5azt1pdSP"
      },
      "source": [
        "### Exercise 1: Inspecting pose sequences\n",
        "\n",
        "Visually inspect the sequences to find the difference(s) between the `pose_clean.sequence()` and `pose.sequence()`. Were residues removed? Which ones?"
      ]
    },
    {
      "cell_type": "code",
      "execution_count": null,
      "metadata": {
        "id": "gMYyETejpdSP"
      },
      "outputs": [],
      "source": []
    },
    {
      "cell_type": "markdown",
      "metadata": {
        "id": "Lt12WTjepdSQ"
      },
      "source": [
        "### Bonus Exercise 1: Identifying differences in sequences\n",
        "\n",
        "(Optional) Write a program to automatically find the differences between these two sequences"
      ]
    },
    {
      "cell_type": "code",
      "execution_count": 17,
      "metadata": {
        "id": "5X2CZ_G0pdSQ",
        "outputId": "530c69b1-944e-40ed-abe5-3797e9f324cb",
        "colab": {
          "base_uri": "https://localhost:8080/"
        }
      },
      "outputs": [
        {
          "output_type": "stream",
          "name": "stdout",
          "text": [
            "56 A T\n",
            "57 I A\n",
            "58 G I\n",
            "59 H G\n",
            "60 T H\n",
            "61 S T\n",
            "62 I S\n",
            "63 F I\n",
            "64 T F\n",
            "65 G T\n",
            "66 S G\n",
            "67 V S\n",
            "68 P V\n",
            "69 S P\n",
            "70 I S\n",
            "71 H I\n",
            "72 G H\n",
            "73 I G\n",
            "74 A I\n",
            "75 G A\n",
            "76 N G\n",
            "77 D N\n",
            "78 W D\n",
            "79 Y W\n",
            "80 D Y\n",
            "81 K D\n",
            "82 E K\n",
            "83 L E\n",
            "84 G L\n",
            "85 K G\n",
            "86 S K\n",
            "87 V S\n",
            "88 Y V\n",
            "89 C Y\n",
            "90 T C\n",
            "91 S T\n",
            "92 D S\n",
            "93 E D\n",
            "94 T E\n",
            "95 V T\n",
            "96 Q V\n",
            "97 P Q\n",
            "98 V P\n",
            "99 G V\n",
            "100 T G\n",
            "102 S T\n",
            "103 N S\n",
            "104 S N\n",
            "105 V S\n",
            "106 G V\n",
            "107 Q G\n",
            "108 H Q\n",
            "109 S H\n",
            "110 P S\n",
            "111 R P\n",
            "112 N R\n",
            "113 L N\n",
            "114 W L\n",
            "115 S W\n",
            "116 T S\n",
            "118 V T\n",
            "119 T V\n",
            "120 D T\n",
            "121 Q D\n",
            "122 L Q\n",
            "123 G L\n",
            "124 L G\n",
            "125 A L\n",
            "126 T A\n",
            "127 N T\n",
            "128 F N\n",
            "129 T F\n",
            "130 S T\n",
            "131 K S\n",
            "132 V K\n",
            "134 G V\n",
            "135 V G\n",
            "136 S V\n",
            "137 L S\n",
            "138 K L\n",
            "139 D K\n",
            "140 R D\n",
            "141 A R\n",
            "142 S A\n",
            "143 I S\n",
            "144 L I\n",
            "145 P L\n",
            "146 A P\n",
            "147 G A\n",
            "148 H G\n",
            "149 N H\n",
            "150 P N\n",
            "151 T P\n",
            "152 G T\n",
            "153 A G\n",
            "154 F A\n",
            "155 W F\n",
            "156 F W\n",
            "157 D F\n",
            "159 T D\n",
            "161 G T\n",
            "162 K G\n",
            "163 F K\n",
            "164 I F\n",
            "165 T I\n",
            "166 S T\n",
            "167 T S\n",
            "168 Y T\n",
            "170 T Y\n",
            "171 K T\n",
            "172 E K\n",
            "173 L E\n",
            "174 P L\n",
            "175 K P\n",
            "176 W K\n",
            "177 V W\n",
            "178 N V\n",
            "179 D N\n",
            "180 F D\n",
            "181 N F\n",
            "183 K N\n",
            "184 N K\n",
            "185 V N\n",
            "186 P V\n",
            "187 A P\n",
            "188 Q A\n",
            "189 L Q\n",
            "190 V L\n",
            "191 A V\n",
            "192 N A\n",
            "193 G N\n",
            "194 W G\n",
            "195 N W\n",
            "196 T N\n",
            "197 L T\n",
            "199 P L\n",
            "200 I P\n",
            "201 N I\n",
            "202 Q N\n",
            "203 Y Q\n",
            "204 T Y\n",
            "205 E T\n",
            "206 S E\n",
            "208 E S\n",
            "209 D E\n",
            "210 N D\n",
            "211 V N\n",
            "212 E V\n",
            "213 W E\n",
            "214 E W\n",
            "215 G E\n",
            "216 L G\n",
            "218 G L\n",
            "219 S G\n",
            "220 K S\n",
            "222 T K\n",
            "223 P T\n",
            "224 T P\n",
            "225 F T\n",
            "226 P F\n",
            "227 Y P\n",
            "228 T Y\n",
            "229 D T\n",
            "230 L D\n",
            "231 A L\n",
            "232 K A\n",
            "233 D K\n",
            "234 Y D\n",
            "235 E Y\n",
            "236 A E\n",
            "237 K A\n",
            "239 G K\n",
            "240 L G\n",
            "241 I L\n",
            "242 R I\n",
            "243 T R\n",
            "245 P T\n",
            "246 F P\n",
            "247 G F\n",
            "248 N G\n",
            "249 T N\n",
            "250 L T\n",
            "251 T L\n",
            "252 L T\n",
            "253 Q L\n",
            "254 M Q\n",
            "255 A M\n",
            "256 D A\n",
            "257 A D\n",
            "259 I A\n",
            "260 D I\n",
            "261 G D\n",
            "262 N G\n",
            "263 Q N\n",
            "264 M Q\n",
            "265 G M\n",
            "266 V G\n",
            "267 D V\n",
            "269 I D\n",
            "270 T I\n",
            "271 D T\n",
            "272 F D\n",
            "273 L F\n",
            "274 T L\n",
            "275 V T\n",
            "276 N V\n",
            "277 L N\n",
            "278 A L\n",
            "279 S A\n",
            "280 T S\n",
            "281 D T\n",
            "282 Y D\n",
            "283 V Y\n",
            "284 G V\n",
            "285 H G\n",
            "286 N H\n",
            "287 F N\n",
            "288 G F\n",
            "289 P G\n",
            "290 N P\n",
            "291 S N\n",
            "292 I S\n",
            "293 E I\n",
            "294 V E\n",
            "295 E V\n",
            "296 D E\n",
            "297 T D\n",
            "298 Y T\n",
            "299 L Y\n",
            "300 R L\n",
            "301 L R\n",
            "302 D L\n",
            "303 R D\n",
            "304 D R\n",
            "305 L D\n",
            "306 A L\n",
            "307 D A\n",
            "308 F D\n",
            "310 N F\n",
            "312 L N\n",
            "313 D L\n",
            "314 K D\n",
            "316 V K\n",
            "317 G V\n",
            "318 K G\n",
            "319 G K\n",
            "320 N G\n",
            "321 Y N\n",
            "322 L Y\n",
            "323 V L\n",
            "324 F V\n",
            "325 L F\n",
            "326 S L\n",
            "327 A S\n",
            "328 D A\n",
            "329 H D\n",
            "330 G H\n",
            "331 A G\n",
            "333 H A\n",
            "334 S H\n",
            "335 V S\n",
            "336 G V\n",
            "337 F G\n",
            "338 M F\n",
            "339 Q M\n",
            "340 A Q\n",
            "341 H A\n",
            "342 K H\n",
            "343 M K\n",
            "344 P M\n",
            "345 T P\n",
            "346 G T\n",
            "347 F G\n",
            "349 D F\n",
            "350 M D\n",
            "351 K M\n",
            "353 E K\n",
            "354 M E\n",
            "355 N M\n",
            "356 A N\n",
            "357 K A\n",
            "358 L K\n",
            "359 K L\n",
            "360 Q K\n",
            "361 K Q\n",
            "362 F K\n",
            "363 G F\n",
            "364 A G\n",
            "365 D A\n",
            "366 N D\n",
            "367 I N\n",
            "369 A I\n",
            "372 M A\n",
            "373 N M\n",
            "374 Y N\n",
            "375 Q Y\n",
            "376 V Q\n",
            "377 Y V\n",
            "378 F Y\n",
            "379 D F\n",
            "380 R D\n",
            "381 K R\n",
            "382 V K\n",
            "383 L V\n",
            "384 A L\n",
            "385 D A\n",
            "386 S D\n",
            "387 K S\n",
            "388 L K\n",
            "389 E L\n",
            "390 L E\n",
            "391 D L\n",
            "393 V D\n",
            "394 R V\n",
            "395 D R\n",
            "396 Y D\n",
            "397 V Y\n",
            "398 M V\n",
            "399 T M\n",
            "400 E T\n",
            "401 L E\n",
            "402 K L\n",
            "404 E K\n",
            "405 P E\n",
            "406 S P\n",
            "407 V S\n",
            "408 L V\n",
            "409 Y L\n",
            "410 V Y\n",
            "411 L V\n",
            "412 S L\n",
            "413 T S\n",
            "414 D T\n",
            "415 E D\n",
            "416 I E\n",
            "417 W I\n",
            "418 E W\n",
            "419 S E\n",
            "421 I S\n",
            "422 P I\n",
            "423 E P\n",
            "424 P E\n",
            "425 I P\n",
            "426 K I\n",
            "427 S K\n",
            "428 R S\n",
            "429 V R\n",
            "430 I V\n",
            "431 N I\n",
            "432 G N\n",
            "433 Y G\n",
            "434 N Y\n",
            "435 W N\n",
            "436 K W\n",
            "437 R K\n",
            "438 S R\n",
            "439 G S\n",
            "440 D G\n",
            "441 I D\n",
            "442 Q I\n",
            "443 I Q\n",
            "445 S I\n",
            "446 K S\n",
            "447 D K\n",
            "448 G D\n",
            "449 Y G\n",
            "450 L Y\n",
            "451 S L\n",
            "452 A S\n",
            "453 Y A\n",
            "454 S Y\n",
            "455 K S\n",
            "457 G K\n",
            "458 T G\n",
            "460 H T\n",
            "461 S H\n",
            "462 V S\n",
            "463 W V\n",
            "464 N W\n",
            "465 S N\n",
            "466 Y S\n",
            "467 D Y\n",
            "468 S D\n",
            "469 H S\n",
            "470 I H\n",
            "471 P I\n",
            "472 L P\n",
            "474 F L\n",
            "475 M F\n",
            "476 G M\n",
            "477 W G\n",
            "478 G W\n",
            "479 I G\n",
            "480 K I\n",
            "481 Q K\n",
            "482 G Q\n",
            "483 E G\n",
            "484 S E\n",
            "485 N S\n",
            "486 Q N\n",
            "487 P Q\n",
            "488 Y P\n",
            "489 H Y\n",
            "490 M H\n",
            "491 T M\n",
            "492 D T\n",
            "493 I D\n",
            "494 A I\n",
            "495 P A\n",
            "496 T P\n",
            "497 V T\n",
            "498 S V\n",
            "500 L S\n",
            "502 K L\n",
            "503 I K\n",
            "504 Q I\n",
            "505 F Q\n",
            "506 P F\n",
            "507 S P\n",
            "508 G S\n",
            "509 A G\n",
            "510 V A\n",
            "511 G V\n",
            "512 K G\n",
            "513 P K\n",
            "514 I P\n",
            "515 T I\n",
            "516 E T\n",
            "517 V E\n",
            "518 I V\n",
            "519 G I\n"
          ]
        }
      ],
      "source": [
        "# prompt: Write a program to automatically find the differences between the sequences of pose_clean.sequence() and pose.sequence()\n",
        "\n",
        "for i, (res1, res2) in enumerate(zip(pose_clean.sequence(), pose.sequence())):\n",
        "  if res1 != res2:\n",
        "    print(f\"{i+1} {res1} {res2}\")\n"
      ]
    },
    {
      "cell_type": "markdown",
      "metadata": {
        "id": "sMZalNO_pdSQ"
      },
      "source": [
        "<!--NAVIGATION-->\n",
        "< [Introduction to PyRosetta](http://nbviewer.jupyter.org/github/RosettaCommons/PyRosetta.notebooks/blob/master/notebooks/02.00-Introduction-to-PyRosetta.ipynb) | [Contents](toc.ipynb) | [Index](index.ipynb) | [Working with Pose residues](http://nbviewer.jupyter.org/github/RosettaCommons/PyRosetta.notebooks/blob/master/notebooks/02.02-Working-with-Pose-Residues.ipynb) ><p><a href=\"https://colab.research.google.com/github/RosettaCommons/PyRosetta.notebooks/blob/master/notebooks/02.01-Pose-Basics.ipynb\"><img align=\"left\" src=\"https://colab.research.google.com/assets/colab-badge.svg\" alt=\"Open in Colab\" title=\"Open in Google Colaboratory\"></a>"
      ]
    }
  ],
  "metadata": {
    "celltoolbar": "Create Assignment",
    "kernelspec": {
      "display_name": "Python 3",
      "language": "python",
      "name": "python3"
    },
    "language_info": {
      "codemirror_mode": {
        "name": "ipython",
        "version": 3
      },
      "file_extension": ".py",
      "mimetype": "text/x-python",
      "name": "python",
      "nbconvert_exporter": "python",
      "pygments_lexer": "ipython3",
      "version": "3.6.0"
    },
    "toc": {
      "base_numbering": 1,
      "nav_menu": {},
      "number_sections": true,
      "sideBar": true,
      "skip_h1_title": false,
      "title_cell": "Table of Contents",
      "title_sidebar": "Contents",
      "toc_cell": false,
      "toc_position": {
        "height": "470px",
        "left": "48px",
        "top": "110px",
        "width": "267.984px"
      },
      "toc_section_display": true,
      "toc_window_display": true
    },
    "colab": {
      "provenance": [],
      "include_colab_link": true
    }
  },
  "nbformat": 4,
  "nbformat_minor": 0
}