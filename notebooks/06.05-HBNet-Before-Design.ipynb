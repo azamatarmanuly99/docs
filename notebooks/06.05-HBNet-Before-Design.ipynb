{
  "cells": [
    {
      "cell_type": "markdown",
      "metadata": {
        "id": "view-in-github",
        "colab_type": "text"
      },
      "source": [
        "<a href=\"https://colab.research.google.com/github/azamatarmanuly99/docs/blob/main/notebooks/06.05-HBNet-Before-Design.ipynb\" target=\"_parent\"><img src=\"https://colab.research.google.com/assets/colab-badge.svg\" alt=\"Open In Colab\"/></a>"
      ]
    },
    {
      "cell_type": "markdown",
      "metadata": {
        "id": "ehM8wBOf27dE"
      },
      "source": [
        "<!--NOTEBOOK_HEADER-->\n",
        "*This notebook contains material from [PyRosetta](https://RosettaCommons.github.io/PyRosetta.notebooks);\n",
        "content is available [on Github](https://github.com/RosettaCommons/PyRosetta.notebooks.git).*"
      ]
    },
    {
      "cell_type": "markdown",
      "metadata": {
        "id": "fNtPTge327dK"
      },
      "source": [
        "<!--NAVIGATION-->\n",
        "< [Protein Design 2](http://nbviewer.jupyter.org/github/RosettaCommons/PyRosetta.notebooks/blob/master/notebooks/06.04-Protein-Design-2.ipynb) | [Contents](toc.ipynb) | [Index](index.ipynb) | [*De Novo* Parametric Backbone Design](http://nbviewer.jupyter.org/github/RosettaCommons/PyRosetta.notebooks/blob/master/notebooks/06.06-Introduction-to-Parametric-backbone-design.ipynb) ><p><a href=\"https://colab.research.google.com/github/RosettaCommons/PyRosetta.notebooks/blob/master/notebooks/06.05-HBNet-Before-Design.ipynb\"><img align=\"left\" src=\"https://colab.research.google.com/assets/colab-badge.svg\" alt=\"Open in Colab\" title=\"Open in Google Colaboratory\"></a>"
      ]
    },
    {
      "cell_type": "markdown",
      "metadata": {
        "id": "6N0Rnym-27dL"
      },
      "source": [
        "# HBNet Before Design\n",
        "\n",
        "Keywords: HBNet, OperateOnResidueSubset, getPoseExtraScore, InterGroupInterfaceByVectorSelector, ChainSelector, PreventRepackingRLT, RestrictToRepackingRLT, OperateOnResidueSubset, ResiduePDBInfoHasLabelSelector, PackRotamersMover"
      ]
    },
    {
      "cell_type": "markdown",
      "metadata": {
        "id": "oyhp0uLa27dM"
      },
      "source": [
        "Sometimes in Rosetta we want to run implicit multistage design. That is, we want to optimize one conformation while implicitly modeling another (either negatively or positively). There are many ways to accomplish this depending on your interests. In this section we will look at HBNet, a tool for explicitly designing hydrogen bond networks.\n",
        "\n",
        "One negative-design approach is to implicitly model binding specificity. Designing a complicated network of hydrogen bonds at one interface will implicitly destabilize other interfaces. Hydrogen bonds are so sensitive to geometry that competing interfaces are unlikely to be able to \"satisfy\" the network well enough to remain competetive.\n",
        "\n",
        "The previous example can also be viewed through the implicit positive-design lens as well. We often find that Rosetta designs very hydrophobic interfaces (especially with newer score functions). Running HBNet before the traditional design protocols can boost the polar residue concentration of your interface in exchange for a small cost packing quality. In other words, we can implicitly stabilize the unbound state by running HBNet, but it might mildly destabilize the bound state.\n",
        "\n",
        "Our experience shows that it is useful to run both with and without HBNet, depending on your design case. It is possible that the default design protocol handles your implicits states well enough. When that fails, though, there is not much to do to fix it other than to run pre-design protocols like HBNet. An added benefit of HBNet is that it can provide \"seeds\" for packing, which can influence design diversity if nothing else."
      ]
    },
    {
      "cell_type": "code",
      "execution_count": 1,
      "metadata": {
        "collapsed": true,
        "id": "03nmeJr-27dM",
        "outputId": "d3231d49-8cb0-437c-83a2-8a2206fd1694",
        "colab": {
          "base_uri": "https://localhost:8080/"
        }
      },
      "outputs": [
        {
          "output_type": "stream",
          "name": "stdout",
          "text": [
            "Collecting pyrosettacolabsetup\n",
            "  Downloading pyrosettacolabsetup-1.0.7-py3-none-any.whl (4.8 kB)\n",
            "Installing collected packages: pyrosettacolabsetup\n",
            "Successfully installed pyrosettacolabsetup-1.0.7\n",
            "Mounted at /content/google_drive\n",
            "Looking for compatible PyRosetta wheel file at google-drive/PyRosetta/colab.bin//wheels...\n",
            "Found compatible wheel: /content/google_drive/MyDrive/PyRosetta/colab.bin/wheels//content/google_drive/MyDrive/PyRosetta/colab.bin/wheels/pyrosetta-2024.1+release.00b79147e63-cp310-cp310-linux_x86_64.whl\n",
            "\n",
            "\n",
            "PyRosetta-4 2023 [Rosetta PyRosetta4.MinSizeRel.python310.ubuntu 2024.01+release.00b79147e63be743438188f93a3f069ca75106d6 2023-12-25T16:35:48] retrieved from: http://www.pyrosetta.org\n",
            "(C) Copyright Rosetta Commons Member Institutions. Created in JHU by Sergey Lyskov and PyRosetta Team.\n",
            "core.init: Checking for fconfig files in pwd and ./rosetta/flags\n",
            "core.init: Rosetta version: PyRosetta4.MinSizeRel.python310.ubuntu r366 2024.01+release.00b79147e63 00b79147e63be743438188f93a3f069ca75106d6 http://www.pyrosetta.org 2023-12-25T16:35:48\n",
            "core.init: command: PyRosetta -ex1 -ex2aro -database /usr/local/lib/python3.10/dist-packages/pyrosetta/database\n",
            "basic.random.init_random_generator: 'RNG device' seed mode, using '/dev/urandom', seed=-2013132244 seed_offset=0 real_seed=-2013132244\n",
            "basic.random.init_random_generator: RandomGenerator:init: Normal mode, seed=-2013132244 RG_type=mt19937\n"
          ]
        }
      ],
      "source": [
        "!pip install pyrosettacolabsetup\n",
        "import pyrosettacolabsetup; pyrosettacolabsetup.install_pyrosetta()\n",
        "import pyrosetta; pyrosetta.init()\n"
      ]
    },
    {
      "cell_type": "markdown",
      "metadata": {
        "id": "4M0IU-Zn27dO"
      },
      "source": [
        "**Make sure you are in the directory with the pdb files:**\n",
        "\n",
        "`cd google_drive/My\\ Drive/student-notebooks/`"
      ]
    },
    {
      "cell_type": "code",
      "execution_count": 2,
      "metadata": {
        "id": "Ri_mOq4I27dP",
        "outputId": "3db64c66-9436-4b13-c95a-d317a7b1f4ea",
        "colab": {
          "base_uri": "https://localhost:8080/"
        }
      },
      "outputs": [
        {
          "output_type": "stream",
          "name": "stdout",
          "text": [
            "PyRosetta-4 2023 [Rosetta PyRosetta4.MinSizeRel.python310.ubuntu 2024.01+release.00b79147e63be743438188f93a3f069ca75106d6 2023-12-25T16:35:48] retrieved from: http://www.pyrosetta.org\n",
            "(C) Copyright Rosetta Commons Member Institutions. Created in JHU by Sergey Lyskov and PyRosetta Team.\n",
            "core.init: Checking for fconfig files in pwd and ./rosetta/flags\n",
            "core.init: Rosetta version: PyRosetta4.MinSizeRel.python310.ubuntu r366 2024.01+release.00b79147e63 00b79147e63be743438188f93a3f069ca75106d6 http://www.pyrosetta.org 2023-12-25T16:35:48\n",
            "core.init: command: PyRosetta -mute core -mute basic -database /usr/local/lib/python3.10/dist-packages/pyrosetta/database\n",
            "basic.random.init_random_generator: 'RNG device' seed mode, using '/dev/urandom', seed=-2098196134 seed_offset=0 real_seed=-2098196134\n",
            "basic.random.init_random_generator: RandomGenerator:init: Normal mode, seed=-2098196134 RG_type=mt19937\n",
            "init complete\n"
          ]
        }
      ],
      "source": [
        "# From previous section:\n",
        "from pyrosetta import *\n",
        "from pyrosetta.teaching import *\n",
        "pyrosetta.init(\"-mute core -mute basic\")\n",
        "print( \"init complete\" )"
      ]
    },
    {
      "cell_type": "markdown",
      "metadata": {
        "id": "k3YLoPcY27dR"
      },
      "source": [
        "We prepare for HBNet the same way that we prepare for packing. We setup the pose and score function as before..."
      ]
    },
    {
      "cell_type": "code",
      "execution_count": 4,
      "metadata": {
        "nbgrader": {
          "grade": true,
          "grade_id": "cell-c34d0bd1a81b4a7d",
          "locked": false,
          "points": 0,
          "schema_version": 3,
          "solution": true
        },
        "id": "rHuKrTMW27dR",
        "outputId": "6ffef835-decf-4739-d069-ef1cba1d1ad0",
        "colab": {
          "base_uri": "https://localhost:8080/"
        }
      },
      "outputs": [
        {
          "output_type": "stream",
          "name": "stdout",
          "text": [
            "setup complete\n"
          ]
        }
      ],
      "source": [
        "pose = pose_from_pdb(\"hbnet_example.pdb\")\n",
        "start_pose = Pose()\n",
        "start_pose.assign(pose)\n",
        "scorefxn = get_fa_scorefxn()\n",
        "print( \"setup complete\" )"
      ]
    },
    {
      "cell_type": "markdown",
      "metadata": {
        "id": "16YfByan27dS"
      },
      "source": [
        "Just like before, you can edit the resfile to your own personal specifications. Alternatively, you can use task operations to automate the process. Let's use task operations to fix all residues not at the interface."
      ]
    },
    {
      "cell_type": "markdown",
      "metadata": {
        "id": "A2MAmPXK27dS"
      },
      "source": [
        "## Setting Designable Residues:\n",
        "\n",
        "Create a new task for design\n"
      ]
    },
    {
      "cell_type": "code",
      "execution_count": 5,
      "metadata": {
        "nbgrader": {
          "grade": true,
          "grade_id": "cell-1754b479780ad2e4",
          "locked": false,
          "points": 0,
          "schema_version": 3,
          "solution": true
        },
        "id": "LZRwhHwC27dS",
        "outputId": "ca603e16-2135-4f25-9147-4c883d94096b",
        "colab": {
          "base_uri": "https://localhost:8080/"
        }
      },
      "outputs": [
        {
          "output_type": "stream",
          "name": "stdout",
          "text": [
            "Num residues:  454\n",
            "Num packable residues:  116\n",
            "Num designable residues:  53\n"
          ]
        }
      ],
      "source": [
        "from pyrosetta.rosetta.core.select.residue_selector import InterGroupInterfaceByVectorSelector, ChainSelector, NotResidueSelector\n",
        "\n",
        "chain1 = ChainSelector( \"1\" ) #selects the first chain\n",
        "chain2 = ChainSelector( \"2\" ) #selects the second chain\n",
        "\n",
        "interface_selector = InterGroupInterfaceByVectorSelector( chain1, chain2 );#selects residues at the interface\n",
        "not_interface_selector = NotResidueSelector( interface_selector ); #selects residues not at the interface\n",
        "\n",
        "from pyrosetta.rosetta.core.pack.task.operation import PreventRepackingRLT, RestrictToRepackingRLT, OperateOnResidueSubset\n",
        "\n",
        "#prevent non interface residues from repacking/designing\n",
        "fix_non_interface = OperateOnResidueSubset( PreventRepackingRLT(), not_interface_selector )\n",
        "\n",
        "#perhaps we are performing one-sided design and do not want to make mutations on chain 2:\n",
        "no_mutation_chain2 = OperateOnResidueSubset( RestrictToRepackingRLT(), chain2 )\n",
        "\n",
        "from pyrosetta.rosetta.core.pack.task import TaskFactory\n",
        "task_factory = TaskFactory()\n",
        "task_factory.push_back( fix_non_interface )\n",
        "task_factory.push_back( no_mutation_chain2 )\n",
        "\n",
        "task_design = task_factory.create_task_and_apply_taskoperations( pose )\n",
        "print( \"Num residues: \", pose.size() )\n",
        "print( \"Num packable residues: \", task_design.num_to_be_packed() ) # this includes the ones being designed\n",
        "\n",
        "num_designable = 0\n",
        "for i in range( 1, pose.size() + 1 ):\n",
        "    if( task_design.design_residue( i ) ):\n",
        "        num_designable += 1;\n",
        "print( \"Num designable residues: \", num_designable )"
      ]
    },
    {
      "cell_type": "markdown",
      "metadata": {
        "id": "i9V0FFMu27dT"
      },
      "source": [
        "## Running HBNet\n",
        "\n",
        "This is an interface case so we will use HBNetStapleInterface.  We will use both the code-level interface, and the XML interface as an introduction to this functionality.  The XML interface to PyRosetta will be covered more in later workshops.  "
      ]
    },
    {
      "cell_type": "code",
      "execution_count": 6,
      "metadata": {
        "nbgrader": {
          "grade": true,
          "grade_id": "cell-9e50dd452de9681a",
          "locked": false,
          "points": 0,
          "schema_version": 3,
          "solution": true
        },
        "id": "mWrmWIlS27dT",
        "outputId": "63043c72-37f4-44b5-b6ef-a81b3bffd4b7",
        "colab": {
          "base_uri": "https://localhost:8080/"
        }
      },
      "outputs": [
        {
          "output_type": "stream",
          "name": "stdout",
          "text": [
            "protocols.rosetta_scripts.RosettaScriptsParser: Validating input script...\n",
            "protocols.rosetta_scripts.RosettaScriptsSchemaValidator: Generating XML Schema for rosetta_scripts...\n",
            "protocols.rosetta_scripts.RosettaScriptsSchemaValidator: ...done\n",
            "protocols.rosetta_scripts.RosettaScriptsSchemaValidator: Initializing schema validator...\n",
            "protocols.rosetta_scripts.RosettaScriptsSchemaValidator: ...done\n",
            "protocols.rosetta_scripts.RosettaScriptsParser: ...done\n",
            "protocols.rosetta_scripts.RosettaScriptsParser: Parsed script:\n",
            "<ROSETTASCRIPTS>\n",
            "\t<MOVERS>\n",
            "\t\t<HBNetStapleInterface monte_carlo=\"true\" name=\"hbnet\" store_network_scores_in_pose=\"true\"/>\n",
            "\t</MOVERS>\n",
            "\t<PROTOCOLS/>\n",
            "</ROSETTASCRIPTS>\n",
            "protocols.rosetta_scripts.RosettaScriptsParser: Defined mover named \"hbnet\" of type HBNetStapleInterface\n",
            "protocols.rosetta_scripts.ParsedProtocol: ParsedProtocol mover with the following settings\n",
            "protocols.hbnet.HBNet:  Creating packer task based on specified task operations...\n",
            "protocols.hbnet.HBNet:  Creating packer task based on specified task operations...\n",
            "protocols.hbnet.HBNet:  built 9732 rotamers at 84 positions.\n",
            "protocols.hbnet.HBNet:  IG: 1544332 bytes\n",
            "protocols.hbnet.HBNet:  ==================================================================\n",
            "protocols.hbnet.HBNet:  ============     PERFORMING H-BOND NETWORK DESIGN     ============\n",
            "protocols.hbnet.HBNet:  ==================================================================\n",
            "protocols.hbnet.HBNet: starting monte carlo branching protocol\n",
            "protocols.hbnet.HBNet: \t10% done with branching\n",
            "protocols.hbnet.HBNet: \t20% done with branching\n",
            "protocols.hbnet.HBNet: \t30% done with branching\n",
            "protocols.hbnet.HBNet: \t40% done with branching\n",
            "protocols.hbnet.HBNet: \t50% done with branching\n",
            "protocols.hbnet.HBNet: \t60% done with branching\n",
            "protocols.hbnet.HBNet: \t70% done with branching\n",
            "protocols.hbnet.HBNet: \t80% done with branching\n",
            "protocols.hbnet.HBNet: \t90% done with branching\n",
            "protocols.hbnet.HBNet: \t100% done with branching\n",
            "protocols.hbnet.HBNet: Monte carlo branching protocol found 227 networks.\n",
            "protocols.hbnet.HBNet:  NUMBER OF H-BOND NETWORKS AFTER BRANCH: 156\n",
            "protocols.hbnet.HBNet:  NUMBER OF NETWORKS AFTER REMOVE REPLICATES = 156\n",
            "protocols.hbnet.HBNet:  NUMBER OF NETWORKS AFTER SELECTION = 12\n",
            "protocols.hbnet.HBNet:  NUMBER OF NETWORKS AFTER REMOVE_REP = 12\n",
            "protocols.hbnet.HBNet:  Designed these new networks that meet your criteria:\n",
            "protocols.hbnet.HBNet: \t#HBNet_rank \t residues \t size \t score \t num_hbonds \t percent_hbond_capacity \t num_unsat_Hpol \tinterf_hbs\n",
            "protocols.hbnet.HBNet: \t#network_1\tD_Y_155,D_R_180,D_E_185,D_R_187,E_R_207,backbone\t5\t-0.650077\t8\t0.714286\t0\t3\n",
            "protocols.hbnet.HBNet: \t#network_2\tD_Y_155,D_E_185,D_R_187,E_R_207,backbone\t4\t-1.07079\t6\t0.6875\t0\t3\n",
            "protocols.hbnet.HBNet: \t#network_3\tD_S_154,D_S_189,E_R_207\t3\t2.25159\t3\t0.666667\t0\t2\n",
            "protocols.hbnet.HBNet: \t#network_4\tD_Y_155,D_R_180,D_E_185,E_R_207\t4\t-0.746147\t5\t0.625\t0\t3\n",
            "protocols.hbnet.HBNet: \t#network_5\tD_R_33,D_E_40,D_R_42,D_E_44,D_D_55,D_Q_103,D_D_116,E_Q_44\t8\t-0.89306\t11\t0.617647\t0\t2\n",
            "protocols.hbnet.HBNet: \t#network_6\tD_R_33,D_E_40,D_R_42,D_E_44,D_D_55,D_Q_103,D_D_107,D_D_116,E_Q_44\t9\t-0.0332774\t12\t0.605263\t0\t2\n",
            "protocols.hbnet.HBNet: \t#network_7\tD_Y_155,D_E_185,E_R_207\t3\t-1.32639\t3\t0.545455\t0\t3\n",
            "protocols.hbnet.HBNet: \t#network_8\tD_R_33,D_E_40,D_R_42,D_Q_103,D_D_116,E_Q_44\t6\t-1.76748\t7\t0.538462\t0\t1\n",
            "protocols.hbnet.HBNet: \t#network_9\tD_R_33,D_E_40,D_R_42,D_E_44,D_Q_103,D_D_116,E_Q_44\t7\t-1.67908\t8\t0.533333\t0\t2\n",
            "protocols.hbnet.HBNet: \t#network_10\tD_E_40,D_H_42,D_H_116,E_S_40,E_R_107\t5\t3.49518\t4\t0.533333\t0\t1\n",
            "protocols.hbnet.HBNet: \t#network_11\tD_E_40,D_R_42,D_E_44,D_Q_52,D_N_55,D_Q_103,D_D_116,E_Q_44\t8\t-1.10652\t9\t0.515152\t0\t3\n",
            "protocols.hbnet.HBNet: \t#network_12\tD_W_155,D_Q_187,E_K_152\t3\t-1.09106\t2\t0.5\t0\t1\n",
            "protocols.evaluation.ChiWellRmsdEvaluatorCreator: Evaluation Creator active ...\n",
            "protocols.hbnet.HBNet:\n",
            "Change in score 1209.278206562266\n"
          ]
        }
      ],
      "source": [
        "from pyrosetta.rosetta.protocols.hbnet import HBNetStapleInterface\n",
        "\n",
        "#This is similar to the clone operation,\n",
        "# but instead of copying the original pose, we copy the dtat of start pose INTO the pose\n",
        "\n",
        "pose.assign(start_pose)\n",
        "\n",
        "# There are two ways to setup a mover:\n",
        "#   (1) by creating a blank instance of that mover and individually setting any non-default features\n",
        "#   (2) by passing an XML string, similar to rosetta_scripts\n",
        "# We will be using option 2 because it provides a more consistent interface to the movers\n",
        "# Plus, the store_network_scores_in_pose feature is only available using option 2 for versions of PyRosetta older than September-ish 2019\n",
        "setup_using_string = True #Option 2\n",
        "\n",
        "if setup_using_string:\n",
        "    hbnet = pyrosetta.rosetta.protocols.rosetta_scripts.XmlObjects.create_from_string(\"\"\"\n",
        "    <MOVERS>\n",
        "    <HBNetStapleInterface name=\"hbnet\" monte_carlo=\"true\" store_network_scores_in_pose=\"true\"/>\n",
        "    </MOVERS>\n",
        "    \"\"\").get_mover(\"hbnet\")\n",
        "\n",
        "    #monte_carlo=\"true\" is highly recommended, especially for large systems like asymmetric interfaces\n",
        "    #see PMID: 29652499\n",
        "else:\n",
        "    hbnet = HBNetStapleInterface()\n",
        "\n",
        "    #This is highly recommended, especially for large systems like asymmetric interfaces\n",
        "    #see PMID: 29652499\n",
        "    hbnet.set_monte_carlo_branch( True )\n",
        "\n",
        "    #set_monte_carlo_seed_must_be_buried does two things:\n",
        "    #(1) speeds us up by decreasing the sample space\n",
        "    #(2) ensures that our final hbond network will be at least partially buried\n",
        "    #hbnet.set_monte_carlo_seed_must_be_buried( True )\n",
        "    #commenting this out just to give us more results\n",
        "\n",
        "#You can toggle the verbosity here if you are interested\n",
        "#hbnet.verbose( True )\n",
        "\n",
        "#We can normallly leave this as the default\n",
        "#making it smaller now to let it run faster\n",
        "hbnet.set_total_num_mc_runs( 1000 )\n",
        "#Could have been done with\n",
        "#<HBNetStapleInterface name=\"hbnet\" monte_carlo=\"true\" total_num_mc_runs=\"1000\" store_network_scores_in_pose=\"true\"/>\n",
        "\n",
        "hbnet.task_factory( task_factory )\n",
        "#alternatively:\n",
        "#hbnet.set_task( task_design )\n",
        "\n",
        "hbnet.set_score_function( scorefxn )\n",
        "hbnet.apply(pose)\n",
        "\n",
        "print( \"Change in score\", scorefxn(pose) - scorefxn(start_pose) )\n"
      ]
    },
    {
      "cell_type": "markdown",
      "metadata": {
        "id": "f5g1LK7I27dT"
      },
      "source": [
        "Wait, my score is terrible.\n",
        "\n",
        "__Question:__ Why?"
      ]
    },
    {
      "cell_type": "code",
      "execution_count": null,
      "metadata": {
        "collapsed": true,
        "id": "JBPm5yEl27dU"
      },
      "outputs": [],
      "source": []
    },
    {
      "cell_type": "markdown",
      "metadata": {
        "id": "hh_544su27dU"
      },
      "source": [
        "## Finishing Design:\n",
        "\n",
        "Well of course the score is terrible, the pose is dense with clashes. We had 116 packable residues and only assigned states to 5 of them. The other 111 residues are still in their input conformations and likely clash with the 5 we just assigned."
      ]
    },
    {
      "cell_type": "markdown",
      "metadata": {
        "id": "LkvRGef427dU"
      },
      "source": [
        "We need to run the packer (either using PackRotamersMover or FastDesign) but we don't want to overwrite the residues we just assigned with HBNet. The trick here is to select the residues with \"HBNet\" labels and fix them."
      ]
    },
    {
      "cell_type": "code",
      "execution_count": 7,
      "metadata": {
        "nbgrader": {
          "grade": true,
          "grade_id": "cell-ecdd3a3881511698",
          "locked": false,
          "points": 0,
          "schema_version": 3,
          "solution": true
        },
        "id": "5HYzFAv-27dU",
        "outputId": "5601b827-fc82-4b79-a9bb-e6630b23a684",
        "colab": {
          "base_uri": "https://localhost:8080/"
        }
      },
      "outputs": [
        {
          "output_type": "stream",
          "name": "stdout",
          "text": [
            "Num HBNet Residues 5\n",
            "Change in score 155.33631041085738\n"
          ]
        }
      ],
      "source": [
        "from pyrosetta.rosetta.core.select.residue_selector import ResiduePDBInfoHasLabelSelector\n",
        "\n",
        "#prevent hbnet residues from repacking/designing\n",
        "hbnet_selector = ResiduePDBInfoHasLabelSelector( \"HBNet\" )\n",
        "fix_hbnet = OperateOnResidueSubset( PreventRepackingRLT(), hbnet_selector )\n",
        "task_factory.push_back( fix_hbnet ) #recycling the same factory as before, just adding a new operation\n",
        "task_design2 = task_factory.create_task_and_apply_taskoperations( pose )\n",
        "\n",
        "#sanity check\n",
        "num_hbnet_residues = 0\n",
        "for x in hbnet_selector.apply( pose ):\n",
        "    if x:\n",
        "        num_hbnet_residues += 1\n",
        "print( \"Num HBNet Residues\", num_hbnet_residues )\n",
        "\n",
        "#this is unrelated to the narrative but I highly recommend using the linear memory interaction graph whenever performing design. It's a huge speedup\n",
        "#it does not seem to matter for the scope here, but it will when you start using extra chi sampling (-ex1, -ex2)\n",
        "task_design2.or_linmem_ig( True )\n",
        "\n",
        "from pyrosetta.rosetta.protocols.minimization_packing import PackRotamersMover\n",
        "pack_mover = PackRotamersMover( scorefxn, task_design2 )\n",
        "pack_mover.apply( pose )\n",
        "print( \"Change in score\", scorefxn(pose) - scorefxn(start_pose) )"
      ]
    },
    {
      "cell_type": "markdown",
      "metadata": {
        "id": "s_d0yM4O27dV"
      },
      "source": [
        "## We made it...?\n",
        "\n",
        "The change in score is a better, but still positive. One great thing about HBNet is that it can return multiple poses. Each one is slightly worse than the previous by HBNet's standards but might design into something better. Let's try a few to see if they help."
      ]
    },
    {
      "cell_type": "code",
      "execution_count": 8,
      "metadata": {
        "id": "oJiVUlB527dV",
        "outputId": "ec8015af-b2af-4005-8817-2b2dbb8ca0d5",
        "colab": {
          "base_uri": "https://localhost:8080/"
        }
      },
      "outputs": [
        {
          "output_type": "stream",
          "name": "stdout",
          "text": [
            "protocols.hbnet.HBNet:\n",
            "Change in score 204.12981467009385\n",
            "protocols.hbnet.HBNet:\n",
            "Change in score -54.57160065769892\n",
            "protocols.hbnet.HBNet:\n",
            "Change in score 115.0835289127067\n",
            "protocols.hbnet.HBNet:\n",
            "Change in score -52.42071954463\n",
            "protocols.hbnet.HBNet:\n",
            "Change in score -37.04076832772233\n"
          ]
        }
      ],
      "source": [
        "#there were 10 (or so) networks total, but let's just try the next 5\n",
        "#this might take a few minutes...\n",
        "if not os.getenv('DEBUG'): #Adding this line to decrease runtime on the testing server\n",
        "    for x in range(0,5):\n",
        "        extra_pose = hbnet.get_additional_output()\n",
        "        if extra_pose is None:\n",
        "            break\n",
        "        task_design3 = task_factory.create_task_and_apply_taskoperations( extra_pose )\n",
        "        task_design3.or_linmem_ig( True )\n",
        "        pack_mover = PackRotamersMover( scorefxn, task_design3 )\n",
        "        pack_mover.apply( extra_pose )\n",
        "        print( \"Change in score\", scorefxn(extra_pose) - scorefxn(start_pose) )"
      ]
    },
    {
      "cell_type": "markdown",
      "metadata": {
        "id": "sB-1JFpS27dV"
      },
      "source": [
        "## But wait, there's more??\n",
        "\n",
        "Great! We found a few results that designed to me more stable than the input pose (-60, -45, and -31 REU)!\n",
        "\n",
        "The main score function is not the only way to evaluate these networks. HBNet also adds its own score terms. These are useful for sorting/filtering decoys before running expensive packing calculations."
      ]
    },
    {
      "cell_type": "code",
      "execution_count": 9,
      "metadata": {
        "id": "93rVCTAk27dW",
        "outputId": "8c5080a8-5851-4526-c0b3-0161bb0d7931",
        "colab": {
          "base_uri": "https://localhost:8080/"
        }
      },
      "outputs": [
        {
          "output_type": "stream",
          "name": "stdout",
          "text": [
            "HBNet_NumUnsatHpol 0.0\n",
            "HBNet_Saturation 0.7142857313156128\n",
            "HBNet_Score -0.6500769853591919\n"
          ]
        }
      ],
      "source": [
        "from pyrosetta.rosetta.core.pose import hasPoseExtraScore, getPoseExtraScore\n",
        "\n",
        "if hasPoseExtraScore( pose, \"HBNet_NumUnsatHpol\" ):\n",
        "    #All 3 of these metrics are explained in more detail in Maguire, Boyken, et al. (see second reference below)\n",
        "\n",
        "    #NumUnsatHpol is HBNet's primary sorting metric, it counts the number of polar hydrogen atoms that are unsatisfied (buried and not forming hbonds). We know that there are no heavy (non-hydrogen) unsatisfied atoms because HBNet filters those out by default. Lower is better\n",
        "    print( \"HBNet_NumUnsatHpol\", getPoseExtraScore( pose, \"HBNet_NumUnsatHpol\" ) )\n",
        "\n",
        "    #HBNet's secondary sorting metric. 1.0 if every polar atom in the network is forming the maximum number of hbonds. Higher is better\n",
        "    print( \"HBNet_Saturation\", getPoseExtraScore( pose, \"HBNet_Saturation\" ) )\n",
        "\n",
        "    #HBNet's tertiary sorting metric. A little complicated but lower is better.\n",
        "    print( \"HBNet_Score\", getPoseExtraScore( pose, \"HBNet_Score\" ) )\n",
        "else:\n",
        "    print( \"Somebody go bug a developer to enable this feature for PyRosetta\" )"
      ]
    },
    {
      "cell_type": "markdown",
      "metadata": {
        "id": "lMt2WQKX27dW"
      },
      "source": [
        "## Advice for using this in the wild\n",
        "\n",
        "#### ex1 ex2\n",
        "\n",
        "HBonds are very sensitive to sidechain sampling resolution. I highly recommend using -ex1 and -ex2. You can do this by adding:\n",
        "```py\n",
        "ex1ex2 = ExtraRotamersGeneric()\n",
        "ex1ex2.ex1( True )\n",
        "ex1ex2.ex2( True )\n",
        "task_factory.push_back( ex1ex2 )\n",
        "```\n",
        "\n",
        "#### get_additional_output\n",
        "\n",
        "As we saw in the exercise, the first result out of HBNet does not always wind up being the best. Try designing with a few results from `hbnet.get_additional_output()` to get more coverage of the design space. For the commandline users reading this, this functionality can also be accessed via `multistage_rosetta_scripts` or the `MultiplePoseMover` in `rosetta_scripts`. See the `rosetta_scripts_scripts` repository for examples.\n",
        "\n",
        "#### set_monte_carlo_seed_must_be_buried\n",
        "\n",
        "I highly recommend playing with the `set_monte_carlo_seed_must_be_buried` mentioned above. Without it, HBNet tends to just design many surface networks that nobody really cares about."
      ]
    },
    {
      "cell_type": "markdown",
      "metadata": {
        "id": "8KxYDWPC27dW"
      },
      "source": [
        "## Thought Question\n",
        "\n",
        "The energy of HBNet+Design is often less favorable that the energy after an equivalent design run without HBNet. Why do people still use HBNet?\n",
        "\n",
        "\n",
        "## References\n",
        "\n",
        "\n",
        "- Boyken SE, Chen Z, Groves B, et al. De novo design of protein homo-oligomers with modular hydrogen-bond network-mediated specificity. Science. 2016;352(6286):680–687. doi:10.1126/science.aad8865\n",
        "\n",
        "\n",
        "- Maguire JB, Boyken SE, Baker D, Kuhlman B. Rapid Sampling of Hydrogen Bond Networks for Computational Protein Design. J Chem Theory Comput. 2018;14(5):2751–2760. doi:10.1021/acs.jctc.8b00033"
      ]
    },
    {
      "cell_type": "code",
      "execution_count": null,
      "metadata": {
        "collapsed": true,
        "id": "jU84LY9i27dW"
      },
      "outputs": [],
      "source": []
    },
    {
      "cell_type": "markdown",
      "metadata": {
        "id": "knf7gcIV27dW"
      },
      "source": [
        "<!--NAVIGATION-->\n",
        "< [Protein Design 2](http://nbviewer.jupyter.org/github/RosettaCommons/PyRosetta.notebooks/blob/master/notebooks/06.04-Protein-Design-2.ipynb) | [Contents](toc.ipynb) | [Index](index.ipynb) | [*De Novo* Parametric Backbone Design](http://nbviewer.jupyter.org/github/RosettaCommons/PyRosetta.notebooks/blob/master/notebooks/06.06-Introduction-to-Parametric-backbone-design.ipynb) ><p><a href=\"https://colab.research.google.com/github/RosettaCommons/PyRosetta.notebooks/blob/master/notebooks/06.05-HBNet-Before-Design.ipynb\"><img align=\"left\" src=\"https://colab.research.google.com/assets/colab-badge.svg\" alt=\"Open in Colab\" title=\"Open in Google Colaboratory\"></a>"
      ]
    }
  ],
  "metadata": {
    "celltoolbar": "Create Assignment",
    "kernelspec": {
      "display_name": "Python 3",
      "language": "python",
      "name": "python3"
    },
    "language_info": {
      "codemirror_mode": {
        "name": "ipython",
        "version": 3
      },
      "file_extension": ".py",
      "mimetype": "text/x-python",
      "name": "python",
      "nbconvert_exporter": "python",
      "pygments_lexer": "ipython3",
      "version": "3.6.0"
    },
    "toc": {
      "base_numbering": 1,
      "nav_menu": {},
      "number_sections": true,
      "sideBar": true,
      "skip_h1_title": false,
      "title_cell": "Table of Contents",
      "title_sidebar": "Contents",
      "toc_cell": false,
      "toc_position": {
        "height": "calc(100% - 180px)",
        "left": "10px",
        "top": "150px",
        "width": "284.444px"
      },
      "toc_section_display": true,
      "toc_window_display": true
    },
    "colab": {
      "provenance": [],
      "include_colab_link": true
    }
  },
  "nbformat": 4,
  "nbformat_minor": 0
}