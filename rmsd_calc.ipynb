{
  "nbformat": 4,
  "nbformat_minor": 0,
  "metadata": {
    "colab": {
      "provenance": [],
      "authorship_tag": "ABX9TyMQ0Ouf2zMvJwMQTlLHVbPA",
      "include_colab_link": true
    },
    "kernelspec": {
      "name": "python3",
      "display_name": "Python 3"
    },
    "language_info": {
      "name": "python"
    }
  },
  "cells": [
    {
      "cell_type": "markdown",
      "metadata": {
        "id": "view-in-github",
        "colab_type": "text"
      },
      "source": [
        "<a href=\"https://colab.research.google.com/github/azamatarmanuly99/docs/blob/main/rmsd_calc.ipynb\" target=\"_parent\"><img src=\"https://colab.research.google.com/assets/colab-badge.svg\" alt=\"Open In Colab\"/></a>"
      ]
    },
    {
      "cell_type": "code",
      "execution_count": 17,
      "metadata": {
        "colab": {
          "base_uri": "https://localhost:8080/"
        },
        "id": "4P9HPMiGw48v",
        "outputId": "0b8ddf7d-7e92-4690-bb54-78c2b3e1e3e7"
      },
      "outputs": [
        {
          "output_type": "stream",
          "name": "stdout",
          "text": [
            "RMSD between structure1 and structure2: 0.44\n",
            "RMSD between structure1 and structure3: 0.98\n",
            "RMSD between structure1 and structure4: 0.52\n",
            "RMSD between structure1 and structure5: 0.76\n",
            "RMSD between structure1 and structure6: 1.26\n",
            "RMSD between structure1 and structure7: 1.33\n",
            "RMSD between structure1 and structure8: 1.33\n",
            "RMSD between structure1 and structure9: 1.27\n",
            "RMSD between structure1 and structure10: 1.38\n",
            "RMSD between structure1 and structure11: 0.60\n",
            "RMSD between structure1 and structure12: 0.72\n",
            "RMSD between structure1 and structure13: 0.61\n",
            "RMSD between structure1 and structure14: 0.89\n",
            "RMSD between structure1 and structure15: 0.40\n",
            "RMSD between structure1 and structure16: 0.36\n",
            "RMSD between structure1 and structure17: 0.83\n",
            "RMSD between structure1 and structure18: 1.15\n",
            "RMSD between structure1 and structure19: 0.46\n",
            "RMSD between structure1 and structure20: 0.56\n",
            "RMSD between structure1 and structure21: 1.17\n",
            "RMSD between structure1 and structure22: 0.67\n",
            "RMSD between structure1 and structure23: 0.40\n",
            "RMSD between structure1 and structure24: 1.07\n",
            "RMSD between structure1 and structure25: 1.21\n",
            "RMSD between structure1 and structure26: 0.99\n",
            "RMSD between structure1 and structure27: 1.32\n",
            "RMSD between structure1 and structure28: 0.87\n",
            "RMSD between structure1 and structure29: 1.02\n",
            "Average RMSD: 0.88\n"
          ]
        }
      ],
      "source": [
        "import numpy as np\n",
        "import os\n",
        "from Bio.PDB import PDBParser, Superimposer\n",
        "\n",
        "# Constants\n",
        "INPUT_FOLDER = 'data'\n",
        "STRUCTURE_FILENAMES = [f'design_{i+1}.pdb' for i in range(29)]\n",
        "LOOP_RESIDUES = (141, 146)  # Define the start and end residue numbers of the loop\n",
        "\n",
        "def parse_structure(file_name):\n",
        "    \"\"\"\n",
        "    Parse the structure from a PDB file.\n",
        "    \"\"\"\n",
        "    parser = PDBParser(QUIET=True)\n",
        "    structure = parser.get_structure(file_name, os.path.join(INPUT_FOLDER, file_name))\n",
        "    return structure\n",
        "\n",
        "def get_loop_coordinates(structure):\n",
        "    \"\"\"\n",
        "    Extract the coordinates of the loop from the structure.\n",
        "    \"\"\"\n",
        "    atoms = []\n",
        "    for model in structure:\n",
        "        for chain in model:\n",
        "            for residue in chain:\n",
        "                if LOOP_RESIDUES[0] <= residue.get_id()[1] <= LOOP_RESIDUES[1]:\n",
        "                    for atom in residue:\n",
        "                        if atom.get_id() == 'CA':  # Considering only alpha carbons for RMSD calculation\n",
        "                            atoms.append(atom)  # Append the atom itself, not the vector\n",
        "    return atoms\n",
        "\n",
        "def calculate_rmsd(structures):\n",
        "    \"\"\"\n",
        "    Calculate the RMSD of the loop across the given structures.\n",
        "    \"\"\"\n",
        "    si = Superimposer()\n",
        "    ref_coords = get_loop_coordinates(structures[0])\n",
        "    rmsds = []\n",
        "\n",
        "    for structure in structures[1:]:\n",
        "        coords = get_loop_coordinates(structure)\n",
        "        si.set_atoms(ref_coords, coords)\n",
        "        si.apply(coords)\n",
        "        rmsds.append(si.rms)\n",
        "\n",
        "    return rmsds\n",
        "\n",
        "def main():\n",
        "    structures = [parse_structure(file_name) for file_name in STRUCTURE_FILENAMES]\n",
        "    rmsd_values = calculate_rmsd(structures)\n",
        "    for i, rmsd in enumerate(rmsd_values, 1):\n",
        "        print(f'RMSD between structure1 and structure{i+1}: {rmsd:.2f}')\n",
        "    total_rmsd = 0\n",
        "    for i, rmsd in enumerate(rmsd_values, 1):\n",
        "        total_rmsd += rmsd  # Add current RMSD to total\n",
        "    average_rmsd = total_rmsd / len(rmsd_values)  # Calculate average RMSD\n",
        "    print(f'Average RMSD: {average_rmsd:.2f}')\n",
        "\n",
        "#def main():\n",
        "    #structures = [parse_structure(file_name) for file_name in STRUCTURE_FILENAMES]\n",
        "    #rmsd_values = calculate_rmsd(structures)\n",
        "\n",
        "    # Calculate the number of atoms in the loop (assuming the loop is the same in all structures)\n",
        "    #num_atoms_in_loop = len(get_loop_coordinates(structures[0]))\n",
        "    #normalization_factor = np.sqrt(num_atoms_in_loop)\n",
        "\n",
        "    #for i, rmsd in enumerate(rmsd_values, 1):\n",
        "        #normalized_rmsd = rmsd / normalization_factor\n",
        "        #print(f'RMSD between structure1 and structure{i+1}: {rmsd:.2f}')\n",
        "        #print(f'Normalized RMSD between structure1 and structure{i+1}: {normalized_rmsd:.2f}')\n",
        "\n",
        "\n",
        "if __name__ == '__main__':\n",
        "    main()"
      ]
    },
    {
      "cell_type": "markdown",
      "source": [],
      "metadata": {
        "id": "VoHOra20yxS1"
      }
    },
    {
      "cell_type": "code",
      "source": [
        "!pip install biopython"
      ],
      "metadata": {
        "colab": {
          "base_uri": "https://localhost:8080/"
        },
        "id": "miF8r_0axLMQ",
        "outputId": "b041ef72-e44a-42fc-ec32-f439275bd2e6"
      },
      "execution_count": 1,
      "outputs": [
        {
          "output_type": "stream",
          "name": "stdout",
          "text": [
            "Collecting biopython\n",
            "  Downloading biopython-1.83-cp310-cp310-manylinux_2_17_x86_64.manylinux2014_x86_64.whl (3.1 MB)\n",
            "\u001b[2K     \u001b[90m━━━━━━━━━━━━━━━━━━━━━━━━━━━━━━━━━━━━━━━━\u001b[0m \u001b[32m3.1/3.1 MB\u001b[0m \u001b[31m9.8 MB/s\u001b[0m eta \u001b[36m0:00:00\u001b[0m\n",
            "\u001b[?25hRequirement already satisfied: numpy in /usr/local/lib/python3.10/dist-packages (from biopython) (1.23.5)\n",
            "Installing collected packages: biopython\n",
            "Successfully installed biopython-1.83\n"
          ]
        }
      ]
    }
  ]
}